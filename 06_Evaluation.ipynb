{
  "nbformat": 4,
  "nbformat_minor": 0,
  "metadata": {
    "colab": {
      "name": "06 Evaluation.ipynb",
      "provenance": [],
      "include_colab_link": true
    },
    "kernelspec": {
      "name": "python3",
      "display_name": "Python 3"
    }
  },
  "cells": [
    {
      "cell_type": "markdown",
      "metadata": {
        "id": "view-in-github",
        "colab_type": "text"
      },
      "source": [
        "<a href=\"https://colab.research.google.com/github/dominikklepl/Neural-Networks-Intracranial-hemorrhage-detection/blob/master/06_Evaluation.ipynb\" target=\"_parent\"><img src=\"https://colab.research.google.com/assets/colab-badge.svg\" alt=\"Open In Colab\"/></a>"
      ]
    },
    {
      "cell_type": "markdown",
      "metadata": {
        "id": "NGCteP3ecZ2a",
        "colab_type": "text"
      },
      "source": [
        "# Evaluation of models\n",
        "In this notebook, we'll look at the performance of trained models on the testing data. Several performance metrics will be used: accuracy, precision, recall, f1 score. Furthermore we'll plot ROC curves of all models to allow for easy comparison. Finally we'll calculate the area under the ROC curve.\n",
        "All these metrics wil be calculated for each label +average performance will be computed."
      ]
    },
    {
      "cell_type": "markdown",
      "metadata": {
        "id": "tijlFLj6dC1O",
        "colab_type": "text"
      },
      "source": [
        "## Import"
      ]
    },
    {
      "cell_type": "code",
      "metadata": {
        "id": "7OANJLgWcVs6",
        "colab_type": "code",
        "colab": {}
      },
      "source": [
        "import pandas as pd\n",
        "import numpy as np\n",
        "from google.colab import drive\n",
        "from sklearn.metrics import accuracy_score, precision_score, recall_score, f1_score, roc_curve, roc_auc_score\n",
        "import matplotlib.pyplot as plt\n",
        "import seaborn as sns"
      ],
      "execution_count": 0,
      "outputs": []
    },
    {
      "cell_type": "markdown",
      "metadata": {
        "id": "kslNsEW2rFJK",
        "colab_type": "text"
      },
      "source": [
        "Connect Google Drive"
      ]
    },
    {
      "cell_type": "code",
      "metadata": {
        "id": "KXX9W0RNrHOV",
        "colab_type": "code",
        "colab": {
          "base_uri": "https://localhost:8080/",
          "height": 122
        },
        "outputId": "1993e417-1956-4b0a-c2f8-96b40938b27b"
      },
      "source": [
        "drive.mount('/gdrive')"
      ],
      "execution_count": 2,
      "outputs": [
        {
          "output_type": "stream",
          "text": [
            "Go to this URL in a browser: https://accounts.google.com/o/oauth2/auth?client_id=947318989803-6bn6qk8qdgf4n4g3pfee6491hc0brc4i.apps.googleusercontent.com&redirect_uri=urn%3Aietf%3Awg%3Aoauth%3A2.0%3Aoob&scope=email%20https%3A%2F%2Fwww.googleapis.com%2Fauth%2Fdocs.test%20https%3A%2F%2Fwww.googleapis.com%2Fauth%2Fdrive%20https%3A%2F%2Fwww.googleapis.com%2Fauth%2Fdrive.photos.readonly%20https%3A%2F%2Fwww.googleapis.com%2Fauth%2Fpeopleapi.readonly&response_type=code\n",
            "\n",
            "Enter your authorization code:\n",
            "··········\n",
            "Mounted at /gdrive\n"
          ],
          "name": "stdout"
        }
      ]
    },
    {
      "cell_type": "markdown",
      "metadata": {
        "id": "YXW4nFnzrQSB",
        "colab_type": "text"
      },
      "source": [
        "## Load files"
      ]
    },
    {
      "cell_type": "code",
      "metadata": {
        "id": "19JnObGdrn_X",
        "colab_type": "code",
        "colab": {}
      },
      "source": [
        "PATH = \"/gdrive/My Drive/results/\""
      ],
      "execution_count": 0,
      "outputs": []
    },
    {
      "cell_type": "markdown",
      "metadata": {
        "id": "6BZLeVfqDmCT",
        "colab_type": "text"
      },
      "source": [
        "#### Load predictions"
      ]
    },
    {
      "cell_type": "code",
      "metadata": {
        "id": "XtR_UocP7j2C",
        "colab_type": "code",
        "colab": {}
      },
      "source": [
        "y_true = pd.read_csv(\"/gdrive/My Drive/testing.csv\",mangle_dupe_cols=True).drop(['ID.1'],axis=1)\n",
        "y_true2 = pd.read_csv(\"/gdrive/My Drive/labels.csv\")\n",
        "y_true2 = y_true2.loc[y_true2.set==\"test\",:].drop([\"set\"],axis=1)\n",
        "CNN_ch = pd.read_csv(PATH + 'CNN_channels_preds.csv', index_col='Unnamed: 0')\n",
        "CNN_ch.drop(CNN_ch.tail(2).index,inplace=True)\n",
        "CNN_f = pd.read_csv(PATH + 'CNN_full_preds.csv', index_col='Unnamed: 0')\n",
        "CNN_f.drop(CNN_f.tail(2).index,inplace=True)\n",
        "TS_ch = pd.read_csv(PATH + 'transfer_channels_preds.csv', index_col='Unnamed: 0')\n",
        "TS_ch.drop(TS_ch.tail(12).index,inplace=True)\n",
        "TS_f = pd.read_csv(PATH + 'transfer_full_preds.csv', index_col='Unnamed: 0')\n",
        "TS_f.drop(TS_f.tail(2).index,inplace=True)\n",
        "MLP_ch = pd.read_csv(PATH + 'MLP_channels_preds.csv',index_col='Unnamed: 0')\n",
        "MLP_f = pd.read_csv(PATH + 'MLP_full_preds.csv',index_col='Unnamed: 0')"
      ],
      "execution_count": 0,
      "outputs": []
    },
    {
      "cell_type": "markdown",
      "metadata": {
        "id": "uDdsJ5fgLCwJ",
        "colab_type": "text"
      },
      "source": [
        "## Calculate all performance metrics\n",
        "Return them as dataframes"
      ]
    },
    {
      "cell_type": "code",
      "metadata": {
        "id": "NNZXgfO14wC3",
        "colab_type": "code",
        "colab": {}
      },
      "source": [
        "#print metrics and save as txt\n",
        "def score_lab(y, y_pred, label):\n",
        "  acc = accuracy_score(y[label], np.round(y_pred[label]))*100\n",
        "  prec = precision_score(y[label], np.round(y_pred[label]))*100\n",
        "  rec = recall_score(y[label], np.round(y_pred[label]))*100\n",
        "  auc = roc_auc_score(y[label], y_pred[label])\n",
        "\n",
        "  print(\"\\nLabel: {}\" .format(label))\n",
        "  print(\"Accuracy: %8.3f %%\" %(acc))\n",
        "  print(\"Precision: %8.3f %%\" %(prec))\n",
        "  print(\"Recall: %8.3f %%\" %(rec))\n",
        "  print(\"Area under ROC curve: %8.3f\" %(auc))\n",
        "\n",
        "  return [acc, prec, rec, auc]\n",
        "MLP=False\n",
        "def get_score(y_pred):\n",
        "  labels = [\"any\", \"epidural\", \"intraparenchymal\", \"intraventricular\", \"subarachnoid\", \"subdural\"]\n",
        "  result = np.empty((6,4))\n",
        "  for lab, i in zip(labels,range(6)):\n",
        "    if MLP: result[i,:] = score_lab(y_true2, y_pred, lab)\n",
        "    else: result[i,:] = score_lab(y_true, y_pred, lab)\n",
        "  result = pd.DataFrame(data=result, index=labels, columns=['Accuracy', \"Precision\", 'Recall', 'AUC'])\n",
        "  return result"
      ],
      "execution_count": 0,
      "outputs": []
    },
    {
      "cell_type": "code",
      "metadata": {
        "id": "4peXbMQ0LP_V",
        "colab_type": "code",
        "colab": {
          "base_uri": "https://localhost:8080/",
          "height": 1000
        },
        "outputId": "6ae16304-2b1c-4c0b-b166-75703c3d45e9"
      },
      "source": [
        "MLP=False\n",
        "print(\"Convolutional neural networks\")\n",
        "print(\"\\nCNN - Human optimization:\")\n",
        "score_CNN_ch = get_score(CNN_ch)\n",
        "print(\"\\nCNN - Computer optimization:\")\n",
        "score_CNN_f = get_score(CNN_f)\n",
        "print(\"\\nTransfer learning\")\n",
        "print(\"\\nTS - Human optimization\")\n",
        "score_TS_ch = get_score(TS_ch)\n",
        "print(\"\\nTS - Computer optimization\")\n",
        "score_TS_f = get_score(TS_f)\n",
        "print(\"\\nMultilayer perceptron\")\n",
        "print(\"\\nMLP - Human optimization\")\n",
        "MLP = True\n",
        "score_MLP_ch = get_score(MLP_ch)\n",
        "print(\"\\nMLP - Computer optimization\")\n",
        "score_MLP_f = get_score(MLP_f)"
      ],
      "execution_count": 195,
      "outputs": [
        {
          "output_type": "stream",
          "text": [
            "Convolutional neural networks\n",
            "\n",
            "CNN - Human optimization:\n",
            "\n",
            "Label: any\n",
            "Accuracy:   67.575 %\n",
            "Precision:   63.790 %\n",
            "Recall:   83.087 %\n",
            "Area under ROC curve:    0.705\n",
            "\n",
            "Label: epidural\n",
            "Accuracy:   98.671 %\n",
            "Precision:    0.000 %\n",
            "Recall:    0.000 %\n",
            "Area under ROC curve:    0.343\n",
            "\n",
            "Label: intraparenchymal\n",
            "Accuracy:   83.002 %\n",
            "Precision:    0.000 %\n",
            "Recall:    0.000 %\n",
            "Area under ROC curve:    0.696\n",
            "\n",
            "Label: intraventricular\n",
            "Accuracy:   86.825 %\n",
            "Precision:    0.000 %\n",
            "Recall:    0.000 %\n",
            "Area under ROC curve:    0.622\n",
            "\n",
            "Label: subarachnoid\n",
            "Accuracy:   84.790 %\n",
            "Precision:    0.000 %\n",
            "Recall:    0.000 %\n",
            "Area under ROC curve:    0.633\n",
            "\n",
            "Label: subdural\n",
            "Accuracy:   77.865 %\n",
            "Precision:    0.000 %\n",
            "Recall:    0.000 %\n",
            "Area under ROC curve:    0.666\n",
            "\n",
            "CNN - Computer optimization:\n"
          ],
          "name": "stdout"
        },
        {
          "output_type": "stream",
          "text": [
            "/usr/local/lib/python3.6/dist-packages/sklearn/metrics/classification.py:1437: UndefinedMetricWarning: Precision is ill-defined and being set to 0.0 due to no predicted samples.\n",
            "  'precision', 'predicted', average, warn_for)\n",
            "/usr/local/lib/python3.6/dist-packages/sklearn/metrics/classification.py:1437: UndefinedMetricWarning: Precision is ill-defined and being set to 0.0 due to no predicted samples.\n",
            "  'precision', 'predicted', average, warn_for)\n",
            "/usr/local/lib/python3.6/dist-packages/sklearn/metrics/classification.py:1437: UndefinedMetricWarning: Precision is ill-defined and being set to 0.0 due to no predicted samples.\n",
            "  'precision', 'predicted', average, warn_for)\n",
            "/usr/local/lib/python3.6/dist-packages/sklearn/metrics/classification.py:1437: UndefinedMetricWarning: Precision is ill-defined and being set to 0.0 due to no predicted samples.\n",
            "  'precision', 'predicted', average, warn_for)\n",
            "/usr/local/lib/python3.6/dist-packages/sklearn/metrics/classification.py:1437: UndefinedMetricWarning: Precision is ill-defined and being set to 0.0 due to no predicted samples.\n",
            "  'precision', 'predicted', average, warn_for)\n",
            "/usr/local/lib/python3.6/dist-packages/sklearn/metrics/classification.py:1437: UndefinedMetricWarning: Precision is ill-defined and being set to 0.0 due to no predicted samples.\n",
            "  'precision', 'predicted', average, warn_for)\n",
            "/usr/local/lib/python3.6/dist-packages/sklearn/metrics/classification.py:1437: UndefinedMetricWarning: Precision is ill-defined and being set to 0.0 due to no predicted samples.\n",
            "  'precision', 'predicted', average, warn_for)\n",
            "/usr/local/lib/python3.6/dist-packages/sklearn/metrics/classification.py:1437: UndefinedMetricWarning: Precision is ill-defined and being set to 0.0 due to no predicted samples.\n",
            "  'precision', 'predicted', average, warn_for)\n"
          ],
          "name": "stderr"
        },
        {
          "output_type": "stream",
          "text": [
            "\n",
            "Label: any\n",
            "Accuracy:   49.397 %\n",
            "Precision:    0.000 %\n",
            "Recall:    0.000 %\n",
            "Area under ROC curve:    0.608\n",
            "\n",
            "Label: epidural\n",
            "Accuracy:   98.671 %\n",
            "Precision:    0.000 %\n",
            "Recall:    0.000 %\n",
            "Area under ROC curve:    0.658\n",
            "\n",
            "Label: intraparenchymal\n",
            "Accuracy:   83.002 %\n",
            "Precision:    0.000 %\n",
            "Recall:    0.000 %\n",
            "Area under ROC curve:    0.617\n",
            "\n",
            "Label: intraventricular\n",
            "Accuracy:   86.825 %\n",
            "Precision:    0.000 %\n",
            "Recall:    0.000 %\n",
            "Area under ROC curve:    0.659\n",
            "\n",
            "Label: subarachnoid\n",
            "Accuracy:   84.790 %\n",
            "Precision:    0.000 %\n",
            "Recall:    0.000 %\n",
            "Area under ROC curve:    0.524\n",
            "\n",
            "Label: subdural\n",
            "Accuracy:   77.865 %\n",
            "Precision:    0.000 %\n",
            "Recall:    0.000 %\n",
            "Area under ROC curve:    0.546\n",
            "\n",
            "Transfer learning\n",
            "\n",
            "TS - Human optimization\n",
            "\n",
            "Label: any\n",
            "Accuracy:   81.461 %\n",
            "Precision:   84.949 %\n",
            "Recall:   77.008 %\n",
            "Area under ROC curve:    0.897\n",
            "\n",
            "Label: epidural\n",
            "Accuracy:   98.671 %\n",
            "Precision:    0.000 %\n",
            "Recall:    0.000 %\n",
            "Area under ROC curve:    0.694\n"
          ],
          "name": "stdout"
        },
        {
          "output_type": "stream",
          "text": [
            "/usr/local/lib/python3.6/dist-packages/sklearn/metrics/classification.py:1437: UndefinedMetricWarning: Precision is ill-defined and being set to 0.0 due to no predicted samples.\n",
            "  'precision', 'predicted', average, warn_for)\n",
            "/usr/local/lib/python3.6/dist-packages/sklearn/metrics/classification.py:1437: UndefinedMetricWarning: Precision is ill-defined and being set to 0.0 due to no predicted samples.\n",
            "  'precision', 'predicted', average, warn_for)\n",
            "/usr/local/lib/python3.6/dist-packages/sklearn/metrics/classification.py:1437: UndefinedMetricWarning: Precision is ill-defined and being set to 0.0 due to no predicted samples.\n",
            "  'precision', 'predicted', average, warn_for)\n",
            "/usr/local/lib/python3.6/dist-packages/sklearn/metrics/classification.py:1437: UndefinedMetricWarning: Precision is ill-defined and being set to 0.0 due to no predicted samples.\n",
            "  'precision', 'predicted', average, warn_for)\n",
            "/usr/local/lib/python3.6/dist-packages/sklearn/metrics/classification.py:1437: UndefinedMetricWarning: Precision is ill-defined and being set to 0.0 due to no predicted samples.\n",
            "  'precision', 'predicted', average, warn_for)\n"
          ],
          "name": "stderr"
        },
        {
          "output_type": "stream",
          "text": [
            "\n",
            "Label: intraparenchymal\n",
            "Accuracy:   82.966 %\n",
            "Precision:   47.009 %\n",
            "Recall:    1.667 %\n",
            "Area under ROC curve:    0.818\n",
            "\n",
            "Label: intraventricular\n",
            "Accuracy:   86.938 %\n",
            "Precision:   92.308 %\n",
            "Recall:    0.939 %\n",
            "Area under ROC curve:    0.853\n",
            "\n",
            "Label: subarachnoid\n",
            "Accuracy:   84.790 %\n",
            "Precision:    0.000 %\n",
            "Recall:    0.000 %\n",
            "Area under ROC curve:    0.756\n",
            "\n",
            "Label: subdural\n",
            "Accuracy:   78.622 %\n",
            "Precision:   54.227 %\n",
            "Recall:   21.951 %\n",
            "Area under ROC curve:    0.762\n",
            "\n",
            "TS - Computer optimization\n",
            "\n",
            "Label: any\n",
            "Accuracy:   77.525 %\n",
            "Precision:   79.140 %\n",
            "Recall:   75.481 %\n",
            "Area under ROC curve:    0.859\n",
            "\n",
            "Label: epidural\n",
            "Accuracy:   98.671 %\n",
            "Precision:    0.000 %\n",
            "Recall:    0.000 %\n",
            "Area under ROC curve:    0.622\n",
            "\n",
            "Label: intraparenchymal\n",
            "Accuracy:   83.002 %\n",
            "Precision:    0.000 %\n",
            "Recall:    0.000 %\n",
            "Area under ROC curve:    0.791\n",
            "\n",
            "Label: intraventricular\n",
            "Accuracy:   87.418 %\n",
            "Precision:   82.857 %\n",
            "Recall:    5.671 %\n",
            "Area under ROC curve:    0.834\n"
          ],
          "name": "stdout"
        },
        {
          "output_type": "stream",
          "text": [
            "/usr/local/lib/python3.6/dist-packages/sklearn/metrics/classification.py:1437: UndefinedMetricWarning: Precision is ill-defined and being set to 0.0 due to no predicted samples.\n",
            "  'precision', 'predicted', average, warn_for)\n",
            "/usr/local/lib/python3.6/dist-packages/sklearn/metrics/classification.py:1437: UndefinedMetricWarning: Precision is ill-defined and being set to 0.0 due to no predicted samples.\n",
            "  'precision', 'predicted', average, warn_for)\n",
            "/usr/local/lib/python3.6/dist-packages/sklearn/metrics/classification.py:1437: UndefinedMetricWarning: Precision is ill-defined and being set to 0.0 due to no predicted samples.\n",
            "  'precision', 'predicted', average, warn_for)\n"
          ],
          "name": "stderr"
        },
        {
          "output_type": "stream",
          "text": [
            "\n",
            "Label: subarachnoid\n",
            "Accuracy:   84.790 %\n",
            "Precision:    0.000 %\n",
            "Recall:    0.000 %\n",
            "Area under ROC curve:    0.735\n",
            "\n",
            "Label: subdural\n",
            "Accuracy:   77.880 %\n",
            "Precision:   50.250 %\n",
            "Recall:    7.007 %\n",
            "Area under ROC curve:    0.738\n",
            "\n",
            "Multilayer perceptron\n",
            "\n",
            "MLP - Human optimization\n",
            "\n",
            "Label: any\n",
            "Accuracy:   66.598 %\n",
            "Precision:   61.845 %\n",
            "Recall:   67.506 %\n",
            "Area under ROC curve:    0.714\n",
            "\n",
            "Label: epidural\n",
            "Accuracy:   98.866 %\n",
            "Precision:    0.000 %\n",
            "Recall:    0.000 %\n",
            "Area under ROC curve:    0.680\n",
            "\n",
            "Label: intraparenchymal\n",
            "Accuracy:   83.093 %\n",
            "Precision:   31.429 %\n",
            "Recall:    7.285 %\n",
            "Area under ROC curve:    0.682\n",
            "\n",
            "Label: intraventricular\n",
            "Accuracy:   89.485 %\n",
            "Precision:   34.375 %\n",
            "Recall:   11.957 %\n",
            "Area under ROC curve:    0.725\n",
            "\n",
            "Label: subarachnoid\n",
            "Accuracy:   86.392 %\n",
            "Precision:   23.810 %\n",
            "Recall:    4.132 %\n",
            "Area under ROC curve:    0.667\n",
            "\n",
            "Label: subdural\n",
            "Accuracy:   74.948 %\n",
            "Precision:   36.735 %\n",
            "Recall:   16.590 %\n",
            "Area under ROC curve:    0.646\n",
            "\n",
            "MLP - Computer optimization\n",
            "\n",
            "Label: any\n",
            "Accuracy:   66.495 %\n",
            "Precision:   64.000 %\n",
            "Recall:   58.581 %\n",
            "Area under ROC curve:    0.741\n",
            "\n",
            "Label: epidural\n",
            "Accuracy:   98.660 %\n",
            "Precision:    0.000 %\n",
            "Recall:    0.000 %\n",
            "Area under ROC curve:    0.624\n",
            "\n",
            "Label: intraparenchymal\n",
            "Accuracy:   84.330 %\n",
            "Precision:   49.206 %\n",
            "Recall:   20.530 %\n",
            "Area under ROC curve:    0.705\n",
            "\n",
            "Label: intraventricular\n",
            "Accuracy:   90.000 %\n",
            "Precision:   41.379 %\n",
            "Recall:   13.043 %\n",
            "Area under ROC curve:    0.752\n",
            "\n",
            "Label: subarachnoid\n",
            "Accuracy:   86.289 %\n",
            "Precision:   20.000 %\n",
            "Recall:    3.306 %\n",
            "Area under ROC curve:    0.646\n",
            "\n",
            "Label: subdural\n",
            "Accuracy:   74.948 %\n",
            "Precision:   35.870 %\n",
            "Recall:   15.207 %\n",
            "Area under ROC curve:    0.659\n"
          ],
          "name": "stdout"
        }
      ]
    },
    {
      "cell_type": "markdown",
      "metadata": {
        "id": "jWOhNNUCVjN9",
        "colab_type": "text"
      },
      "source": [
        "Save to csv"
      ]
    },
    {
      "cell_type": "code",
      "metadata": {
        "id": "vndIXnhCVkzS",
        "colab_type": "code",
        "colab": {}
      },
      "source": [
        "!mkdir /gdrive/My\\ Drive/evaluation\n",
        "!mkdir /gdrive/My\\ Drive/evaluation/metrics\n",
        "METRICS_DIR = \"/gdrive/My Drive/evaluation/metrics/\""
      ],
      "execution_count": 0,
      "outputs": []
    },
    {
      "cell_type": "code",
      "metadata": {
        "id": "a65iJ4sTV_uX",
        "colab_type": "code",
        "colab": {}
      },
      "source": [
        "score_CNN_ch.to_csv(METRICS_DIR + \"CNN_ch.csv\")\n",
        "score_CNN_f.to_csv(METRICS_DIR + \"CNN_f.csv\")\n",
        "score_TS_ch.to_csv(METRICS_DIR + \"TS_ch.csv\")\n",
        "score_TS_f.to_csv(METRICS_DIR + \"TS_f.csv\")\n",
        "score_MLP_ch.to_csv(METRICS_DIR + \"MLP_ch.csv\")\n",
        "score_MLP_f.to_csv(METRICS_DIR + \"MLP_cg.csv\")"
      ],
      "execution_count": 0,
      "outputs": []
    },
    {
      "cell_type": "markdown",
      "metadata": {
        "id": "JxbLTLYA0Mvo",
        "colab_type": "text"
      },
      "source": [
        "## Plot losses"
      ]
    },
    {
      "cell_type": "markdown",
      "metadata": {
        "id": "m22XiZbbDbQi",
        "colab_type": "text"
      },
      "source": [
        "### CNN"
      ]
    },
    {
      "cell_type": "code",
      "metadata": {
        "id": "s-UkIY8T0RC1",
        "colab_type": "code",
        "colab": {}
      },
      "source": [
        "#plot loss\n",
        "plt.figure(num=1, figsize=(12,12))\n",
        "plt.ylabel('Loss')\n",
        "plt.xlabel('Epochs')\n",
        "plt.plot(history_CH.loss, label=\"Training\")\n",
        "plt.plot((history_CH.val_loss), label=\"Validation\")\n",
        "plt.legend(loc='best')\n",
        "plt.show()"
      ],
      "execution_count": 0,
      "outputs": []
    },
    {
      "cell_type": "code",
      "metadata": {
        "id": "0aMMWD7d49VJ",
        "colab_type": "code",
        "colab": {}
      },
      "source": [
        "#plot ROC\n",
        "fpr_any, tpr_any, _ = roc_curve(y_test['any'], y_pred[:,0])\n",
        "fpr_ep, tpr_ep, _ = roc_curve(y_test['epidural'], y_pred[:,1])\n",
        "fpr_ip, tpr_ip, _ = roc_curve(y_test['intraparenchymal'], y_pred[:,2])\n",
        "fpr_iv, tpr_iv, _ = roc_curve(y_test['intraventricular'], y_pred[:,3])\n",
        "fpr_sa, tpr_sa, _ = roc_curve(y_test['subarachnoid'], y_pred[:,4])\n",
        "fpr_sd, tpr_sd, _ = roc_curve(y_test['subdural'], y_pred[:,5])\n",
        "\n",
        "\n",
        "plt.figure(num=1, figsize=(12,12))\n",
        "plt.plot([0, 1], [0, 1], 'k--')\n",
        "plt.plot(fpr_any, tpr_any, label=\"Any\")\n",
        "plt.plot(fpr_ep, tpr_ep, label=\"Epidural\")\n",
        "plt.plot(fpr_ip, tpr_ip, label=\"Intraparenchymal\")\n",
        "plt.plot(fpr_iv, tpr_iv, label=\"Intraventricular\")\n",
        "plt.plot(fpr_sa, tpr_sa, label=\"Subarachnoid\")\n",
        "plt.plot(fpr_sd, tpr_sd, label=\"Subdural\")\n",
        "plt.xlabel('False positive rate')\n",
        "plt.ylabel('True positive rate')\n",
        "plt.title('ROC curve')\n",
        "plt.legend(loc='best')\n",
        "plt.show()"
      ],
      "execution_count": 0,
      "outputs": []
    }
  ]
}