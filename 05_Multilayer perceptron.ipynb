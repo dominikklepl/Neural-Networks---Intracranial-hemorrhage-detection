{
  "nbformat": 4,
  "nbformat_minor": 0,
  "metadata": {
    "colab": {
      "name": "05_MLP_with_PCA_and_t-SNE.ipynb",
      "provenance": [],
      "machine_shape": "hm",
      "include_colab_link": true
    },
    "kernelspec": {
      "name": "python3",
      "display_name": "Python 3"
    }
  },
  "cells": [
    {
      "cell_type": "markdown",
      "metadata": {
        "id": "view-in-github",
        "colab_type": "text"
      },
      "source": [
        "<a href=\"https://colab.research.google.com/github/dominikklepl/Neural-Networks-Intracranial-hemorrhage-detection/blob/master/05_Multilayer%20perceptron.ipynb\" target=\"_parent\"><img src=\"https://colab.research.google.com/assets/colab-badge.svg\" alt=\"Open In Colab\"/></a>"
      ]
    },
    {
      "cell_type": "markdown",
      "metadata": {
        "id": "bCqsoxkxP9zB",
        "colab_type": "text"
      },
      "source": [
        "# MLP with PCA and t-SNE\n",
        "This will be the last method that we apply in this project. Compared to the other methods it is extremely simply and therefore provide fast training and inference and might provide reasonably simple interpretability.\n",
        "\n",
        "We'll feed the pixel values to PCA to reduce the dimensionality to 50, normalize them to mean=0 and sd=1. Finally we'll train a multilinear perceptron using the PCA features as input."
      ]
    },
    {
      "cell_type": "code",
      "metadata": {
        "id": "wVc8B0wP_49g",
        "colab_type": "code",
        "colab": {}
      },
      "source": [
        "prototyping = False"
      ],
      "execution_count": 0,
      "outputs": []
    },
    {
      "cell_type": "markdown",
      "metadata": {
        "id": "Fc1NeHJZVUfI",
        "colab_type": "text"
      },
      "source": [
        "## Setup and paths to data"
      ]
    },
    {
      "cell_type": "markdown",
      "metadata": {
        "id": "K5ieuRPWhad7",
        "colab_type": "text"
      },
      "source": [
        "Install missing packages"
      ]
    },
    {
      "cell_type": "code",
      "metadata": {
        "id": "jgSMnAEchcQC",
        "colab_type": "code",
        "outputId": "53997b9a-8740-4da2-abd0-1f7c492de250",
        "colab": {
          "base_uri": "https://localhost:8080/",
          "height": 122
        }
      },
      "source": [
        "!pip install pydicom"
      ],
      "execution_count": 0,
      "outputs": [
        {
          "output_type": "stream",
          "text": [
            "Collecting pydicom\n",
            "\u001b[?25l  Downloading https://files.pythonhosted.org/packages/fc/d5/da1fdf3b967e324ee47a7ad9553c9b94c1193b6b98afd9eeda0efb76b9f7/pydicom-1.3.0-py2.py3-none-any.whl (7.1MB)\n",
            "\u001b[K     |████████████████████████████████| 7.1MB 5.5MB/s \n",
            "\u001b[?25hInstalling collected packages: pydicom\n",
            "Successfully installed pydicom-1.3.0\n"
          ],
          "name": "stdout"
        }
      ]
    },
    {
      "cell_type": "markdown",
      "metadata": {
        "id": "AHyl7ejJRHbp",
        "colab_type": "text"
      },
      "source": [
        "Import all required packages"
      ]
    },
    {
      "cell_type": "code",
      "metadata": {
        "id": "6iC6GizdRLOe",
        "colab_type": "code",
        "outputId": "ee0e0167-2569-4c50-ce23-98e794da88a4",
        "colab": {
          "base_uri": "https://localhost:8080/",
          "height": 51
        }
      },
      "source": [
        "#connect google drive\n",
        "from google.colab import drive\n",
        "\n",
        "#dealing with zip\n",
        "import zipfile\n",
        "\n",
        "#importing labels and working with dataframe\n",
        "import pandas as pd\n",
        "\n",
        "#manipulation with images\n",
        "#import pydicom\n",
        "import torch\n",
        "import numpy as np\n",
        "from math import ceil, floor, log\n",
        "import cv2\n",
        "\n",
        "#train-test\n",
        "from sklearn.model_selection import GroupKFold\n",
        "\n",
        "#models\n",
        "from sklearn.neural_network import MLPClassifier\n",
        "\n",
        "#plotting\n",
        "import matplotlib.pyplot as plt\n",
        "import seaborn as sns"
      ],
      "execution_count": 0,
      "outputs": [
        {
          "output_type": "stream",
          "text": [
            "Using TensorFlow backend.\n"
          ],
          "name": "stderr"
        },
        {
          "output_type": "stream",
          "text": [
            "1.15.0\n"
          ],
          "name": "stdout"
        }
      ]
    },
    {
      "cell_type": "code",
      "metadata": {
        "id": "WJ5jhXN5R4uc",
        "colab_type": "code",
        "colab": {}
      },
      "source": [
        "#ignore deprecation warnings\n",
        "import warnings\n",
        "warnings.filterwarnings(\"ignore\", category=DeprecationWarning)\n",
        "warnings.filterwarnings(\"ignore\", category=UserWarning)\n",
        "warnings.filterwarnings(\"ignore\", category=FutureWarning)"
      ],
      "execution_count": 0,
      "outputs": []
    },
    {
      "cell_type": "markdown",
      "metadata": {
        "id": "wneWaNJIxllY",
        "colab_type": "text"
      },
      "source": [
        "Check that GPU is available and that keras can use it."
      ]
    },
    {
      "cell_type": "code",
      "metadata": {
        "id": "DGOK4bYJxn6J",
        "colab_type": "code",
        "outputId": "71fd2c1d-e654-486e-d142-e82b36fc8227",
        "colab": {
          "base_uri": "https://localhost:8080/",
          "height": 190
        }
      },
      "source": [
        "from keras import backend as K\n",
        "K.tensorflow_backend._get_available_gpus()"
      ],
      "execution_count": 0,
      "outputs": [
        {
          "output_type": "stream",
          "text": [
            "WARNING:tensorflow:From /usr/local/lib/python3.6/dist-packages/keras/backend/tensorflow_backend.py:190: The name tf.get_default_session is deprecated. Please use tf.compat.v1.get_default_session instead.\n",
            "\n",
            "WARNING:tensorflow:From /usr/local/lib/python3.6/dist-packages/keras/backend/tensorflow_backend.py:197: The name tf.ConfigProto is deprecated. Please use tf.compat.v1.ConfigProto instead.\n",
            "\n",
            "WARNING:tensorflow:From /usr/local/lib/python3.6/dist-packages/keras/backend/tensorflow_backend.py:203: The name tf.Session is deprecated. Please use tf.compat.v1.Session instead.\n",
            "\n",
            "WARNING:tensorflow:From /usr/local/lib/python3.6/dist-packages/keras/backend/tensorflow_backend.py:207: The name tf.global_variables is deprecated. Please use tf.compat.v1.global_variables instead.\n",
            "\n"
          ],
          "name": "stdout"
        },
        {
          "output_type": "execute_result",
          "data": {
            "text/plain": [
              "['/job:localhost/replica:0/task:0/device:GPU:0']"
            ]
          },
          "metadata": {
            "tags": []
          },
          "execution_count": 4
        }
      ]
    },
    {
      "cell_type": "markdown",
      "metadata": {
        "id": "fNASn3sSluA-",
        "colab_type": "text"
      },
      "source": [
        "Set random seed for reproducibility"
      ]
    },
    {
      "cell_type": "code",
      "metadata": {
        "id": "VsH2A1Qhlxep",
        "colab_type": "code",
        "colab": {}
      },
      "source": [
        "np.random.seed(31415)"
      ],
      "execution_count": 0,
      "outputs": []
    },
    {
      "cell_type": "markdown",
      "metadata": {
        "id": "x_9xRxp2XYhR",
        "colab_type": "text"
      },
      "source": [
        "Connect Google Drive. That's where my data is stored."
      ]
    },
    {
      "cell_type": "code",
      "metadata": {
        "id": "AAqMR_oS_3De",
        "colab_type": "code",
        "outputId": "677e8cab-9dc1-43b8-ed1c-3f2ea49b0512",
        "colab": {
          "base_uri": "https://localhost:8080/",
          "height": 122
        }
      },
      "source": [
        "GDRIVE_PATH = \"/gdrive\"\n",
        "drive.mount(GDRIVE_PATH)"
      ],
      "execution_count": 0,
      "outputs": [
        {
          "output_type": "stream",
          "text": [
            "Go to this URL in a browser: https://accounts.google.com/o/oauth2/auth?client_id=947318989803-6bn6qk8qdgf4n4g3pfee6491hc0brc4i.apps.googleusercontent.com&redirect_uri=urn%3Aietf%3Awg%3Aoauth%3A2.0%3Aoob&scope=email%20https%3A%2F%2Fwww.googleapis.com%2Fauth%2Fdocs.test%20https%3A%2F%2Fwww.googleapis.com%2Fauth%2Fdrive%20https%3A%2F%2Fwww.googleapis.com%2Fauth%2Fdrive.photos.readonly%20https%3A%2F%2Fwww.googleapis.com%2Fauth%2Fpeopleapi.readonly&response_type=code\n",
            "\n",
            "Enter your authorization code:\n",
            "··········\n",
            "Mounted at /gdrive\n"
          ],
          "name": "stdout"
        }
      ]
    },
    {
      "cell_type": "markdown",
      "metadata": {
        "id": "4KyezdSiRqxy",
        "colab_type": "text"
      },
      "source": [
        "Set paths to all required data"
      ]
    },
    {
      "cell_type": "code",
      "metadata": {
        "id": "4mwN-s-7Rqeq",
        "colab_type": "code",
        "outputId": "8c1d2031-f686-408d-b7d1-7ec52ce5dd9c",
        "colab": {
          "base_uri": "https://localhost:8080/",
          "height": 68
        }
      },
      "source": [
        "WORK_DIR = \"/content/\"\n",
        "BASE_DIR = GDRIVE_PATH + \"/My Drive/\"\n",
        "ZIP_PATH = BASE_DIR + \"DICOMS/train_images.zip\"\n",
        "DF_PATH = BASE_DIR + \"train_balanced.csv\"\n",
        "IMAGES_PATH = WORK_DIR + \"img\"\n",
        "FIG_PATH = BASE_DIR + \"plots\"\n",
        "\n",
        "#if the model and results aren't created already, create them\n",
        "!mkdir /gdrive/My\\ Drive/models\n",
        "!mkdir /gdrive/My\\ Drive/results\n",
        "!mkdir /gdrive/My\\ Drive/plots\n",
        "\n",
        "#also create temporary folder in working directory for unzipping images\n",
        "!mkdir /content/img"
      ],
      "execution_count": 0,
      "outputs": [
        {
          "output_type": "stream",
          "text": [
            "mkdir: cannot create directory ‘/gdrive/My Drive/models’: File exists\n",
            "mkdir: cannot create directory ‘/gdrive/My Drive/results’: File exists\n",
            "mkdir: cannot create directory ‘/content/img’: File exists\n"
          ],
          "name": "stdout"
        }
      ]
    },
    {
      "cell_type": "code",
      "metadata": {
        "id": "Y2wpHxQE7Yta",
        "colab_type": "code",
        "outputId": "c52dddc8-26d6-4d11-8bda-0ce7f0c6b297",
        "colab": {
          "base_uri": "https://localhost:8080/",
          "height": 34
        }
      },
      "source": [
        "#get number of CPU cores\n",
        "import multiprocessing\n",
        "CORES = multiprocessing.cpu_count()\n",
        "print(CORES)"
      ],
      "execution_count": 0,
      "outputs": [
        {
          "output_type": "stream",
          "text": [
            "4\n"
          ],
          "name": "stdout"
        }
      ]
    },
    {
      "cell_type": "markdown",
      "metadata": {
        "id": "HUE6PFH6Va7f",
        "colab_type": "text"
      },
      "source": [
        "Images are saved in a zip file. For easier and faster manipulation, let's extract them to a folder in the working directory that we created before (\"/content/img\")"
      ]
    },
    {
      "cell_type": "code",
      "metadata": {
        "id": "aDrNJugxVZAI",
        "colab_type": "code",
        "outputId": "74041ad2-4e08-49ef-81d9-78837f46410e",
        "colab": {
          "base_uri": "https://localhost:8080/",
          "height": 51
        }
      },
      "source": [
        "img_archive = zipfile.ZipFile(ZIP_PATH)\n",
        "%time img_archive.extractall(path=IMAGES_PATH)"
      ],
      "execution_count": 0,
      "outputs": [
        {
          "output_type": "stream",
          "text": [
            "CPU times: user 13min 54s, sys: 2min 22s, total: 16min 16s\n",
            "Wall time: 19min 24s\n"
          ],
          "name": "stdout"
        }
      ]
    },
    {
      "cell_type": "markdown",
      "metadata": {
        "id": "9QwB9UwVXyyk",
        "colab_type": "text"
      },
      "source": [
        "### Load the csv with labels and metadata"
      ]
    },
    {
      "cell_type": "code",
      "metadata": {
        "id": "9UrkCTAJXyZZ",
        "colab_type": "code",
        "outputId": "bca3dd9b-467c-4a8a-c272-b922246c5456",
        "colab": {
          "base_uri": "https://localhost:8080/",
          "height": 332
        }
      },
      "source": [
        "train_df = pd.read_csv(DF_PATH)\n",
        "train_df.sample(3)"
      ],
      "execution_count": 0,
      "outputs": [
        {
          "output_type": "execute_result",
          "data": {
            "text/html": [
              "<div>\n",
              "<style scoped>\n",
              "    .dataframe tbody tr th:only-of-type {\n",
              "        vertical-align: middle;\n",
              "    }\n",
              "\n",
              "    .dataframe tbody tr th {\n",
              "        vertical-align: top;\n",
              "    }\n",
              "\n",
              "    .dataframe thead th {\n",
              "        text-align: right;\n",
              "    }\n",
              "</style>\n",
              "<table border=\"1\" class=\"dataframe\">\n",
              "  <thead>\n",
              "    <tr style=\"text-align: right;\">\n",
              "      <th></th>\n",
              "      <th>Unnamed: 0</th>\n",
              "      <th>Unnamed: 0.1</th>\n",
              "      <th>index</th>\n",
              "      <th>SOPInstanceUID</th>\n",
              "      <th>Modality</th>\n",
              "      <th>PatientID</th>\n",
              "      <th>StudyInstanceUID</th>\n",
              "      <th>SeriesInstanceUID</th>\n",
              "      <th>StudyID</th>\n",
              "      <th>ImagePositionPatient</th>\n",
              "      <th>ImageOrientationPatient</th>\n",
              "      <th>SamplesPerPixel</th>\n",
              "      <th>PhotometricInterpretation</th>\n",
              "      <th>Rows</th>\n",
              "      <th>Columns</th>\n",
              "      <th>PixelSpacing</th>\n",
              "      <th>BitsAllocated</th>\n",
              "      <th>BitsStored</th>\n",
              "      <th>HighBit</th>\n",
              "      <th>PixelRepresentation</th>\n",
              "      <th>WindowCenter</th>\n",
              "      <th>WindowWidth</th>\n",
              "      <th>RescaleIntercept</th>\n",
              "      <th>RescaleSlope</th>\n",
              "      <th>fname</th>\n",
              "      <th>MultiImagePositionPatient</th>\n",
              "      <th>ImagePositionPatient1</th>\n",
              "      <th>ImagePositionPatient2</th>\n",
              "      <th>MultiImageOrientationPatient</th>\n",
              "      <th>ImageOrientationPatient1</th>\n",
              "      <th>ImageOrientationPatient2</th>\n",
              "      <th>ImageOrientationPatient3</th>\n",
              "      <th>ImageOrientationPatient4</th>\n",
              "      <th>ImageOrientationPatient5</th>\n",
              "      <th>MultiPixelSpacing</th>\n",
              "      <th>PixelSpacing1</th>\n",
              "      <th>img_min</th>\n",
              "      <th>img_max</th>\n",
              "      <th>img_mean</th>\n",
              "      <th>img_std</th>\n",
              "      <th>img_pct_window</th>\n",
              "      <th>MultiWindowCenter</th>\n",
              "      <th>WindowCenter1</th>\n",
              "      <th>MultiWindowWidth</th>\n",
              "      <th>WindowWidth1</th>\n",
              "      <th>any</th>\n",
              "      <th>epidural</th>\n",
              "      <th>intraparenchymal</th>\n",
              "      <th>intraventricular</th>\n",
              "      <th>subarachnoid</th>\n",
              "      <th>subdural</th>\n",
              "      <th>pct_cut</th>\n",
              "      <th>split</th>\n",
              "    </tr>\n",
              "  </thead>\n",
              "  <tbody>\n",
              "    <tr>\n",
              "      <th>139665</th>\n",
              "      <td>139665</td>\n",
              "      <td>139665</td>\n",
              "      <td>312002</td>\n",
              "      <td>ID_779858c27</td>\n",
              "      <td>CT</td>\n",
              "      <td>ID_2ecaabfe</td>\n",
              "      <td>ID_7107642e03</td>\n",
              "      <td>ID_04b1318e8e</td>\n",
              "      <td>NaN</td>\n",
              "      <td>-125.0</td>\n",
              "      <td>1.0</td>\n",
              "      <td>1</td>\n",
              "      <td>MONOCHROME2</td>\n",
              "      <td>512</td>\n",
              "      <td>512</td>\n",
              "      <td>0.488281</td>\n",
              "      <td>16</td>\n",
              "      <td>16</td>\n",
              "      <td>15</td>\n",
              "      <td>1</td>\n",
              "      <td>30.0</td>\n",
              "      <td>80.0</td>\n",
              "      <td>-1024.0</td>\n",
              "      <td>1.0</td>\n",
              "      <td>../input/rsna-intracranial-hemorrhage-detectio...</td>\n",
              "      <td>1</td>\n",
              "      <td>-116.640732</td>\n",
              "      <td>156.931549</td>\n",
              "      <td>1</td>\n",
              "      <td>0.0</td>\n",
              "      <td>0.0</td>\n",
              "      <td>0.0</td>\n",
              "      <td>0.965926</td>\n",
              "      <td>-0.258819</td>\n",
              "      <td>1</td>\n",
              "      <td>0.488281</td>\n",
              "      <td>-2000</td>\n",
              "      <td>2806</td>\n",
              "      <td>-68.513100</td>\n",
              "      <td>1163.294980</td>\n",
              "      <td>0.125107</td>\n",
              "      <td>NaN</td>\n",
              "      <td>NaN</td>\n",
              "      <td>NaN</td>\n",
              "      <td>NaN</td>\n",
              "      <td>0</td>\n",
              "      <td>0</td>\n",
              "      <td>0</td>\n",
              "      <td>0</td>\n",
              "      <td>0</td>\n",
              "      <td>0</td>\n",
              "      <td>(0.1, 0.2]</td>\n",
              "      <td>14</td>\n",
              "    </tr>\n",
              "    <tr>\n",
              "      <th>148871</th>\n",
              "      <td>148871</td>\n",
              "      <td>148871</td>\n",
              "      <td>427720</td>\n",
              "      <td>ID_e96c9e3db</td>\n",
              "      <td>CT</td>\n",
              "      <td>ID_7173bbfa</td>\n",
              "      <td>ID_60d1f23a4a</td>\n",
              "      <td>ID_f8da691279</td>\n",
              "      <td>NaN</td>\n",
              "      <td>-125.0</td>\n",
              "      <td>1.0</td>\n",
              "      <td>1</td>\n",
              "      <td>MONOCHROME2</td>\n",
              "      <td>512</td>\n",
              "      <td>512</td>\n",
              "      <td>0.488281</td>\n",
              "      <td>16</td>\n",
              "      <td>16</td>\n",
              "      <td>15</td>\n",
              "      <td>1</td>\n",
              "      <td>30.0</td>\n",
              "      <td>80.0</td>\n",
              "      <td>-1024.0</td>\n",
              "      <td>1.0</td>\n",
              "      <td>../input/rsna-intracranial-hemorrhage-detectio...</td>\n",
              "      <td>1</td>\n",
              "      <td>-121.289818</td>\n",
              "      <td>132.876526</td>\n",
              "      <td>1</td>\n",
              "      <td>0.0</td>\n",
              "      <td>0.0</td>\n",
              "      <td>0.0</td>\n",
              "      <td>0.945519</td>\n",
              "      <td>-0.325568</td>\n",
              "      <td>1</td>\n",
              "      <td>0.488281</td>\n",
              "      <td>-2000</td>\n",
              "      <td>2815</td>\n",
              "      <td>69.768433</td>\n",
              "      <td>1220.667199</td>\n",
              "      <td>0.245369</td>\n",
              "      <td>NaN</td>\n",
              "      <td>NaN</td>\n",
              "      <td>NaN</td>\n",
              "      <td>NaN</td>\n",
              "      <td>0</td>\n",
              "      <td>0</td>\n",
              "      <td>0</td>\n",
              "      <td>0</td>\n",
              "      <td>0</td>\n",
              "      <td>0</td>\n",
              "      <td>(0.2, 0.3]</td>\n",
              "      <td>15</td>\n",
              "    </tr>\n",
              "    <tr>\n",
              "      <th>40455</th>\n",
              "      <td>40455</td>\n",
              "      <td>40455</td>\n",
              "      <td>281098</td>\n",
              "      <td>ID_194db803f</td>\n",
              "      <td>CT</td>\n",
              "      <td>ID_77de44ad</td>\n",
              "      <td>ID_d621130e3d</td>\n",
              "      <td>ID_b555440e84</td>\n",
              "      <td>NaN</td>\n",
              "      <td>-123.0</td>\n",
              "      <td>1.0</td>\n",
              "      <td>1</td>\n",
              "      <td>MONOCHROME2</td>\n",
              "      <td>512</td>\n",
              "      <td>512</td>\n",
              "      <td>0.488281</td>\n",
              "      <td>16</td>\n",
              "      <td>12</td>\n",
              "      <td>11</td>\n",
              "      <td>0</td>\n",
              "      <td>40.0</td>\n",
              "      <td>80.0</td>\n",
              "      <td>-1024.0</td>\n",
              "      <td>1.0</td>\n",
              "      <td>../input/rsna-intracranial-hemorrhage-detectio...</td>\n",
              "      <td>1</td>\n",
              "      <td>-50.001010</td>\n",
              "      <td>180.051520</td>\n",
              "      <td>1</td>\n",
              "      <td>0.0</td>\n",
              "      <td>0.0</td>\n",
              "      <td>0.0</td>\n",
              "      <td>0.978148</td>\n",
              "      <td>-0.207912</td>\n",
              "      <td>1</td>\n",
              "      <td>0.488281</td>\n",
              "      <td>0</td>\n",
              "      <td>2610</td>\n",
              "      <td>491.905163</td>\n",
              "      <td>580.444349</td>\n",
              "      <td>0.304535</td>\n",
              "      <td>1.0</td>\n",
              "      <td>40.0</td>\n",
              "      <td>1.0</td>\n",
              "      <td>80.0</td>\n",
              "      <td>1</td>\n",
              "      <td>0</td>\n",
              "      <td>0</td>\n",
              "      <td>0</td>\n",
              "      <td>0</td>\n",
              "      <td>1</td>\n",
              "      <td>(0.3, 1.0]</td>\n",
              "      <td>5</td>\n",
              "    </tr>\n",
              "  </tbody>\n",
              "</table>\n",
              "</div>"
            ],
            "text/plain": [
              "        Unnamed: 0  Unnamed: 0.1   index  ... subdural     pct_cut split\n",
              "139665      139665        139665  312002  ...        0  (0.1, 0.2]    14\n",
              "148871      148871        148871  427720  ...        0  (0.2, 0.3]    15\n",
              "40455        40455         40455  281098  ...        1  (0.3, 1.0]     5\n",
              "\n",
              "[3 rows x 53 columns]"
            ]
          },
          "metadata": {
            "tags": []
          },
          "execution_count": 10
        }
      ]
    },
    {
      "cell_type": "markdown",
      "metadata": {
        "id": "NYdHHbORadqN",
        "colab_type": "text"
      },
      "source": [
        "Some of the columns are useless at this point, let's keep just those that we actually need. Also some of the columns have too long name, yes SOPInstanceUID I'm talking about you so we'll rename them."
      ]
    },
    {
      "cell_type": "code",
      "metadata": {
        "id": "BqW9VJAoamXZ",
        "colab_type": "code",
        "colab": {}
      },
      "source": [
        "train = train_df[['SOPInstanceUID',\n",
        "                  'PatientID',\n",
        "                  'any',\n",
        "                  'epidural',\n",
        "                  'intraparenchymal',\n",
        "                  'intraventricular',\n",
        "                  'subarachnoid',\n",
        "                  'subdural']].copy()\n",
        "train.rename(columns={'SOPInstanceUID': 'ID',\n",
        "                      'PatientID': 'Patient'},\n",
        "              inplace=True)"
      ],
      "execution_count": 0,
      "outputs": []
    },
    {
      "cell_type": "code",
      "metadata": {
        "id": "sbkJiWhT_seU",
        "colab_type": "code",
        "colab": {}
      },
      "source": [
        "if prototyping:\n",
        "  train = train.sample(200)\n",
        "  train = train.reset_index(drop=True)"
      ],
      "execution_count": 0,
      "outputs": []
    },
    {
      "cell_type": "code",
      "metadata": {
        "id": "VFws-IEliua2",
        "colab_type": "code",
        "outputId": "c65251bb-9bc7-49c1-e93a-eee02627699b",
        "colab": {
          "base_uri": "https://localhost:8080/",
          "height": 204
        }
      },
      "source": [
        "train.head(5)"
      ],
      "execution_count": 0,
      "outputs": [
        {
          "output_type": "execute_result",
          "data": {
            "text/html": [
              "<div>\n",
              "<style scoped>\n",
              "    .dataframe tbody tr th:only-of-type {\n",
              "        vertical-align: middle;\n",
              "    }\n",
              "\n",
              "    .dataframe tbody tr th {\n",
              "        vertical-align: top;\n",
              "    }\n",
              "\n",
              "    .dataframe thead th {\n",
              "        text-align: right;\n",
              "    }\n",
              "</style>\n",
              "<table border=\"1\" class=\"dataframe\">\n",
              "  <thead>\n",
              "    <tr style=\"text-align: right;\">\n",
              "      <th></th>\n",
              "      <th>ID</th>\n",
              "      <th>Patient</th>\n",
              "      <th>any</th>\n",
              "      <th>epidural</th>\n",
              "      <th>intraparenchymal</th>\n",
              "      <th>intraventricular</th>\n",
              "      <th>subarachnoid</th>\n",
              "      <th>subdural</th>\n",
              "    </tr>\n",
              "  </thead>\n",
              "  <tbody>\n",
              "    <tr>\n",
              "      <th>3804</th>\n",
              "      <td>ID_071852ae9</td>\n",
              "      <td>ID_907b01cd</td>\n",
              "      <td>1</td>\n",
              "      <td>0</td>\n",
              "      <td>0</td>\n",
              "      <td>0</td>\n",
              "      <td>1</td>\n",
              "      <td>0</td>\n",
              "    </tr>\n",
              "    <tr>\n",
              "      <th>51053</th>\n",
              "      <td>ID_2ec274695</td>\n",
              "      <td>ID_33e26eaf</td>\n",
              "      <td>1</td>\n",
              "      <td>0</td>\n",
              "      <td>0</td>\n",
              "      <td>1</td>\n",
              "      <td>0</td>\n",
              "      <td>0</td>\n",
              "    </tr>\n",
              "    <tr>\n",
              "      <th>102426</th>\n",
              "      <td>ID_692f3dfb6</td>\n",
              "      <td>ID_f380901e</td>\n",
              "      <td>0</td>\n",
              "      <td>0</td>\n",
              "      <td>0</td>\n",
              "      <td>0</td>\n",
              "      <td>0</td>\n",
              "      <td>0</td>\n",
              "    </tr>\n",
              "    <tr>\n",
              "      <th>153411</th>\n",
              "      <td>ID_862a087e3</td>\n",
              "      <td>ID_acd4a315</td>\n",
              "      <td>0</td>\n",
              "      <td>0</td>\n",
              "      <td>0</td>\n",
              "      <td>0</td>\n",
              "      <td>0</td>\n",
              "      <td>0</td>\n",
              "    </tr>\n",
              "    <tr>\n",
              "      <th>167291</th>\n",
              "      <td>ID_2f642523e</td>\n",
              "      <td>ID_0df59147</td>\n",
              "      <td>0</td>\n",
              "      <td>0</td>\n",
              "      <td>0</td>\n",
              "      <td>0</td>\n",
              "      <td>0</td>\n",
              "      <td>0</td>\n",
              "    </tr>\n",
              "  </tbody>\n",
              "</table>\n",
              "</div>"
            ],
            "text/plain": [
              "                  ID      Patient  ...  subarachnoid  subdural\n",
              "3804    ID_071852ae9  ID_907b01cd  ...             1         0\n",
              "51053   ID_2ec274695  ID_33e26eaf  ...             0         0\n",
              "102426  ID_692f3dfb6  ID_f380901e  ...             0         0\n",
              "153411  ID_862a087e3  ID_acd4a315  ...             0         0\n",
              "167291  ID_2f642523e  ID_0df59147  ...             0         0\n",
              "\n",
              "[5 rows x 8 columns]"
            ]
          },
          "metadata": {
            "tags": []
          },
          "execution_count": 11
        }
      ]
    },
    {
      "cell_type": "code",
      "metadata": {
        "id": "7bQI_KDu_qfG",
        "colab_type": "code",
        "outputId": "a825b76b-562d-4212-d595-f005dff98b96",
        "colab": {
          "base_uri": "https://localhost:8080/",
          "height": 34
        }
      },
      "source": [
        "len(train)"
      ],
      "execution_count": 0,
      "outputs": [
        {
          "output_type": "execute_result",
          "data": {
            "text/plain": [
              "9704"
            ]
          },
          "metadata": {
            "tags": []
          },
          "execution_count": 67
        }
      ]
    },
    {
      "cell_type": "markdown",
      "metadata": {
        "id": "MSi-wdBbxWkr",
        "colab_type": "text"
      },
      "source": [
        "### Load bins for uniform transform"
      ]
    },
    {
      "cell_type": "code",
      "metadata": {
        "id": "pcHBPvr7xWDU",
        "colab_type": "code",
        "colab": {}
      },
      "source": [
        "bins = torch.load(BASE_DIR+\"bins.pt\").numpy()"
      ],
      "execution_count": 0,
      "outputs": []
    },
    {
      "cell_type": "markdown",
      "metadata": {
        "id": "ctj4nBrbThpT",
        "colab_type": "text"
      },
      "source": [
        "## Data processing functions\n",
        "Before we can start building awesome neural networks, we need a few helper functions for constructing data (i.e. images) in form that's acceptable for the models to learn from.\n",
        "\n",
        "First, functions for reading DICOM and applying intercept and slope."
      ]
    },
    {
      "cell_type": "code",
      "metadata": {
        "id": "qzN-9sVgeYny",
        "colab_type": "code",
        "colab": {}
      },
      "source": [
        "#correcting dcm with wrong meta-data (explained in preprocessing notebook)\n",
        "def correct_dcm(dcm):\n",
        "    x = dcm.pixel_array + 1000\n",
        "    px_mode = 4096\n",
        "    x[x>=px_mode] = x[x>=px_mode] - px_mode\n",
        "    dcm.PixelData = x.tobytes()\n",
        "    dcm.RescaleIntercept = -1000\n",
        "\n",
        "#transform dicom to HU by applying intercept and slope\n",
        "def rescale_dcm(dcm):\n",
        "  if (dcm.BitsStored == 12) and (dcm.PixelRepresentation == 0) and (int(dcm.RescaleIntercept) > -100):\n",
        "    correct_dcm(dcm)\n",
        "  return dcm.pixel_array * dcm.RescaleSlope + dcm.RescaleIntercept"
      ],
      "execution_count": 0,
      "outputs": []
    },
    {
      "cell_type": "markdown",
      "metadata": {
        "id": "5s6f3kDaw_At",
        "colab_type": "text"
      },
      "source": [
        "### Use full scale but apply uniform distribution"
      ]
    },
    {
      "cell_type": "code",
      "metadata": {
        "id": "d0FPSzjDqVbZ",
        "colab_type": "code",
        "colab": {}
      },
      "source": [
        "def to_full(dcm, bins):\n",
        "  ys = np.linspace(0., 1., len(bins))\n",
        "  x = dcm.flatten()\n",
        "  x = np.interp(x, bins, ys)\n",
        "  x = x.reshape(dcm.shape).clip(0.,1.) * 2**16\n",
        "  x = x.astype(np.uint16)\n",
        "  x[x<np.median(x)]=0\n",
        "  x = np.stack((x,)*3, axis=-1)\n",
        "  return x"
      ],
      "execution_count": 0,
      "outputs": []
    },
    {
      "cell_type": "code",
      "metadata": {
        "id": "MyrYCyH6t3HE",
        "colab_type": "code",
        "outputId": "18a80679-905e-4bb9-ba6c-dac4dc69a0d8",
        "colab": {
          "base_uri": "https://localhost:8080/",
          "height": 286
        }
      },
      "source": [
        "#test it\n",
        "dcm = pydicom.dcmread(IMAGES_PATH+\"/\"+train.ID[0]+\".dcm\")\n",
        "dcm = rescale_dcm(dcm)\n",
        "x = to_full(dcm, bins)\n",
        "plt.imshow(x[:,:,0], cmap=plt.cm.bone)"
      ],
      "execution_count": 0,
      "outputs": [
        {
          "output_type": "execute_result",
          "data": {
            "text/plain": [
              "<matplotlib.image.AxesImage at 0x7f07f2413e10>"
            ]
          },
          "metadata": {
            "tags": []
          },
          "execution_count": 18
        },
        {
          "output_type": "display_data",
          "data": {
            "image/png": "[encoded data removed]",
            "text/plain": [
              "<Figure size 432x288 with 1 Axes>"
            ]
          },
          "metadata": {
            "tags": []
          }
        }
      ]
    },
    {
      "cell_type": "markdown",
      "metadata": {
        "id": "24YQ6mt2gsRT",
        "colab_type": "text"
      },
      "source": [
        "### Getting channels and save them as color channels"
      ]
    },
    {
      "cell_type": "code",
      "metadata": {
        "id": "3ZsYW4pbgxb8",
        "colab_type": "code",
        "colab": {}
      },
      "source": [
        "def window_image(img, window_center, window_width, U=1.0, eps=(1.0 / 255.0)):\n",
        "    ue = np.log((U / eps) - 1.0)\n",
        "    W = (2 / window_width) * ue\n",
        "    b = ((-2 * window_center) / window_width) * ue\n",
        "    z = W * img + b\n",
        "    img = U / (1 + np.power(np.e, -1.0 * z))\n",
        "    img = (img - np.min(img)) / (np.max(img) - np.min(img))\n",
        "    return img\n",
        "\n",
        "def to_channels(dcm):\n",
        "    brain_img = window_image(dcm, 40, 80)\n",
        "    subdural_img = window_image(dcm, 80, 200)\n",
        "    soft_img = window_image(dcm, 40, 380)\n",
        "    bsb_img = np.array([brain_img, subdural_img, soft_img]).transpose(1,2,0)\n",
        "    return bsb_img"
      ],
      "execution_count": 0,
      "outputs": []
    },
    {
      "cell_type": "code",
      "metadata": {
        "id": "jgUSlI3hUCzq",
        "colab_type": "code",
        "colab": {}
      },
      "source": [
        "#Finally function for loading a single image and resizing it to the input size.\n",
        "def read_img(ID, resize, preprocess):\n",
        "    path = IMAGES_PATH+'/'+ID+'.dcm'\n",
        "    dcm = pydicom.dcmread(path)\n",
        "    dcm = rescale_dcm(dcm)\n",
        "\n",
        "    if preprocess is \"CH\":\n",
        "      try: img = to_channels(dcm)\n",
        "      except: img = np.zeros(resize)\n",
        "    if preprocess is \"F\":\n",
        "      try: img = to_full(dcm, bins)\n",
        "      except: img = np.zeros(resize)\n",
        "\n",
        "    img = cv2.resize(img, resize[:2], interpolation=cv2.INTER_CUBIC) #resize\n",
        "    img = (img - np.min(img))/(np.max(img)-np.min(img)) #min-max normalize\n",
        "    return img"
      ],
      "execution_count": 0,
      "outputs": []
    },
    {
      "cell_type": "code",
      "metadata": {
        "id": "leZ6duPAfTQC",
        "colab_type": "code",
        "outputId": "45c35c7c-3077-46f1-fbaa-a19df61d0b28",
        "colab": {
          "base_uri": "https://localhost:8080/",
          "height": 354
        }
      },
      "source": [
        "%time img_ch = read_img(train.ID[2], (250, 250, 3), preprocess=\"CH\")\n",
        "%time img_f = read_img(train.ID[2], (250, 250, 3), preprocess=\"F\")\n",
        "\n",
        "#some sanity checks\n",
        "plt.imshow(img_ch)\n",
        "print(img_ch.shape)"
      ],
      "execution_count": 0,
      "outputs": [
        {
          "output_type": "stream",
          "text": [
            "CPU times: user 79.1 ms, sys: 7.84 ms, total: 86.9 ms\n",
            "Wall time: 130 ms\n",
            "CPU times: user 15.3 ms, sys: 1.87 ms, total: 17.1 ms\n",
            "Wall time: 24.6 ms\n",
            "(250, 250, 3)\n"
          ],
          "name": "stdout"
        },
        {
          "output_type": "display_data",
          "data": {
            "image/png": "[encoded data removed]",
            "text/plain": [
              "<Figure size 432x288 with 1 Axes>"
            ]
          },
          "metadata": {
            "tags": []
          }
        }
      ]
    },
    {
      "cell_type": "code",
      "metadata": {
        "id": "VXSwicCIzbE6",
        "colab_type": "code",
        "outputId": "4479da4e-cb45-4188-d6ca-b3b06dc22d20",
        "colab": {
          "base_uri": "https://localhost:8080/",
          "height": 286
        }
      },
      "source": [
        "plt.imshow(img_f)"
      ],
      "execution_count": 0,
      "outputs": [
        {
          "output_type": "execute_result",
          "data": {
            "text/plain": [
              "<matplotlib.image.AxesImage at 0x7efccceddb38>"
            ]
          },
          "metadata": {
            "tags": []
          },
          "execution_count": 23
        },
        {
          "output_type": "display_data",
          "data": {
            "image/png": "[encoded data removed]",
            "text/plain": [
              "<Figure size 432x288 with 1 Axes>"
            ]
          },
          "metadata": {
            "tags": []
          }
        }
      ]
    },
    {
      "cell_type": "markdown",
      "metadata": {
        "id": "JRXDvpH0hUB0",
        "colab_type": "text"
      },
      "source": [
        "### Data generator\n",
        "This function prepares each batch for feeding to neural network. First, it gets random IDs and associated labels. Then shuffles them, to reduce bias. Finally, the images, using the IDs are loaded using the _read function defined above.\n",
        "\n",
        "The function is generalized for both training and testing data.\n",
        "\n",
        "It is derived from keras.sequence so it should be enabled for multiprocessing."
      ]
    },
    {
      "cell_type": "markdown",
      "metadata": {
        "id": "lazYV0FW5VDi",
        "colab_type": "text"
      },
      "source": [
        "#### Full-preprocessing DataGenerator"
      ]
    },
    {
      "cell_type": "code",
      "metadata": {
        "id": "gN15CiG35bEH",
        "colab_type": "code",
        "colab": {}
      },
      "source": [
        "class DataGenerator_Full(keras.utils.Sequence):\n",
        "\n",
        "    def __init__(self, IDs, labels=None, batch_size=30, img_size=(299, 299, 3), num_classes=5, *args, **kwargs):\n",
        "        self.IDs = IDs\n",
        "        self.labels = labels.loc[:, 'any':'subdural']\n",
        "        self.batch_size = batch_size\n",
        "        self.img_size = img_size\n",
        "        self.num_classes = num_classes\n",
        "        self.on_epoch_end()\n",
        "\n",
        "#define number of steps per epoch\n",
        "    def __len__(self):\n",
        "        return int(ceil(len(self.indices) / self.batch_size))\n",
        "\n",
        "    def __getitem__(self, index):\n",
        "        #indices = self.indices[index*self.batch_size:(index+1)*self.batch_size]\n",
        "        IDs_batch = self.IDs[index*self.batch_size:(index+1)*self.batch_size]\n",
        "        if self.labels is not None:\n",
        "          X, y_any, y_subtype = self.__data_generation(IDs_batch)\n",
        "          return X, [y_any, y_subtype]\n",
        "        else:\n",
        "            X = self.__data_generation(IDs_batch)\n",
        "            return X\n",
        "        \n",
        "    def on_epoch_end(self):\n",
        "      self.indices = np.arange(len(self.IDs))\n",
        "\n",
        "    def __data_generation(self, IDs_batch):\n",
        "        X = np.empty((self.batch_size, *self.img_size))\n",
        "        if self.labels is not None: # training\n",
        "          y_subtype = np.empty((self.batch_size, self.num_classes))\n",
        "          y_any = np.empty((self.batch_size, 1))\n",
        "          for i, ID in enumerate(IDs_batch):\n",
        "            X[i,] = read_img(ID, self.img_size, preprocess=\"F\")\n",
        "            y_any[i], y_subtype[i] = self.__get_target(ID)\n",
        "          return X, y_any, y_subtype\n",
        "        else: # testing\n",
        "            for i, ID in enumerate(IDs_batch):\n",
        "                X[i,] = read_img(ID, self.img_size, preprocess=\"F\")\n",
        "            return X\n",
        "\n",
        "    def __get_target(self, ID):\n",
        "        y_any = self.labels.loc[ID, \"any\"]\n",
        "        y_subtype = self.labels.drop(\"any\", axis=1).loc[ID].values\n",
        "        return y_any, y_subtype"
      ],
      "execution_count": 0,
      "outputs": []
    },
    {
      "cell_type": "markdown",
      "metadata": {
        "id": "8eVlpe8H5bqQ",
        "colab_type": "text"
      },
      "source": [
        "#### Channels-preprocessing DataGenerator"
      ]
    },
    {
      "cell_type": "code",
      "metadata": {
        "id": "6wEHR1byhydD",
        "colab_type": "code",
        "colab": {}
      },
      "source": [
        "class DataGenerator_Channels(keras.utils.Sequence):\n",
        "\n",
        "    def __init__(self, IDs, labels=None, batch_size=30, img_size=(299, 299, 3), num_classes=5, *args, **kwargs):\n",
        "        self.IDs = IDs\n",
        "        self.labels = labels.loc[:, 'any':'subdural']\n",
        "        self.batch_size = batch_size\n",
        "        self.img_size = img_size\n",
        "        self.num_classes = num_classes\n",
        "        self.on_epoch_end()\n",
        "\n",
        "#define number of steps per epoch\n",
        "    def __len__(self):\n",
        "        return int(ceil(len(self.indices) / self.batch_size))\n",
        "\n",
        "    def __getitem__(self, index):\n",
        "        IDs_batch = self.IDs[index*self.batch_size:(index+1)*self.batch_size]\n",
        "        if self.labels is not None:\n",
        "          X, y_any, y_subtype = self.__data_generation(IDs_batch)\n",
        "          return X, [y_any, y_subtype]\n",
        "        else:\n",
        "            X = self.__data_generation(IDs_batch)\n",
        "            return X\n",
        "        \n",
        "    def on_epoch_end(self):\n",
        "      self.indices = np.arange(len(self.IDs))\n",
        "\n",
        "    def __data_generation(self, IDs_batch):\n",
        "        X = np.empty((self.batch_size, *self.img_size))\n",
        "        if self.labels is not None: # training\n",
        "          y_subtype = np.empty((self.batch_size, self.num_classes))\n",
        "          y_any = np.empty((self.batch_size, 1))\n",
        "          for i, ID in enumerate(IDs_batch):\n",
        "            X[i,] = read_img(ID, self.img_size, preprocess=\"CH\")\n",
        "            y_any[i], y_subtype[i] = self.__get_target(ID)\n",
        "          return X, y_any, y_subtype\n",
        "        else: # testing\n",
        "          for i, ID in enumerate(IDs_batch):\n",
        "            X[i,] = read_img(ID, self.img_size, preprocess=\"CH\")\n",
        "          return X\n",
        "\n",
        "    def __get_target(self, ID):\n",
        "        y_any = self.labels.loc[ID, \"any\"]\n",
        "        y_subtype = self.labels.drop(\"any\", axis=1).loc[ID].values\n",
        "        return y_any, y_subtype"
      ],
      "execution_count": 0,
      "outputs": []
    },
    {
      "cell_type": "markdown",
      "metadata": {
        "id": "FKT-ULVD8BXS",
        "colab_type": "text"
      },
      "source": [
        "## Train-test split\n",
        "We'll save 10% of images for testing."
      ]
    },
    {
      "cell_type": "code",
      "metadata": {
        "id": "uvesRwH3esiE",
        "colab_type": "code",
        "outputId": "e6ef2820-b7f7-4319-ab1c-0fffd3d0828b",
        "colab": {
          "base_uri": "https://localhost:8080/",
          "height": 51
        }
      },
      "source": [
        "group_kfold = GroupKFold(n_splits=10)\n",
        "\n",
        "for tr, ts in group_kfold.split(train, groups=train.Patient):\n",
        "  training = train.iloc[tr]\n",
        "  testing = train.iloc[ts]\n",
        "\n",
        "testing = testing.set_index('ID', drop=False)\n",
        "print(training.shape)\n",
        "print(testing.shape)"
      ],
      "execution_count": 0,
      "outputs": [
        {
          "output_type": "stream",
          "text": [
            "(17468, 8)\n",
            "(1940, 8)\n"
          ],
          "name": "stdout"
        }
      ]
    },
    {
      "cell_type": "markdown",
      "metadata": {
        "id": "TnMyp7JLfY7A",
        "colab_type": "text"
      },
      "source": [
        "### Train-validation split"
      ]
    },
    {
      "cell_type": "code",
      "metadata": {
        "colab_type": "code",
        "outputId": "03c9f9de-da63-416e-9caf-65f88945caa9",
        "id": "L32-xl9Suf8z",
        "colab": {
          "base_uri": "https://localhost:8080/",
          "height": 51
        }
      },
      "source": [
        "tr_val_folds = GroupKFold(n_splits=20)\n",
        "\n",
        "for tr, ts in tr_val_folds.split(training, groups=training.Patient):\n",
        "  train_data = training.iloc[tr]\n",
        "  val_data = training.iloc[ts]\n",
        "\n",
        "train_data = train_data.set_index('ID', drop=False)\n",
        "val_data = val_data.set_index('ID', drop=False)\n",
        "print(train_data.shape)\n",
        "print(val_data.shape)"
      ],
      "execution_count": 0,
      "outputs": [
        {
          "output_type": "stream",
          "text": [
            "(16595, 8)\n",
            "(873, 8)\n"
          ],
          "name": "stdout"
        }
      ]
    },
    {
      "cell_type": "markdown",
      "metadata": {
        "id": "X7ZU9CYw9h1g",
        "colab_type": "text"
      },
      "source": [
        "### Data generators"
      ]
    },
    {
      "cell_type": "code",
      "metadata": {
        "id": "swizCnvL-59_",
        "colab_type": "code",
        "colab": {}
      },
      "source": [
        "train_dataloader_CH = DataGenerator_Channels(IDs=train_data.ID,\n",
        "                                 labels=train_data.loc[:,'any':'subdural'],\n",
        "                                 batch_size=len(train_data),\n",
        "                                 img_size=(135,135,3),\n",
        "                                 num_classes=5)\n",
        "val_dataloader_CH = DataGenerator_Channels(IDs=val_data.ID,\n",
        "                               labels=val_data.loc[:,'any':'subdural'],\n",
        "                               batch_size=len(val_data),\n",
        "                               img_size=(135,135,3),\n",
        "                               num_classes=5)\n",
        "test_dataloader_CH = DataGenerator_Channels(IDs=testing.ID,\n",
        "                               labels=testing.loc[:,'any':'subdural'],\n",
        "                               batch_size=len(testing),\n",
        "                               img_size=(135,135,3),\n",
        "                               num_classes=5)\n",
        "\n",
        "train_dataloader_F = DataGenerator_Full(IDs=train_data.ID,\n",
        "                                 labels=train_data.loc[:,'any':'subdural'],\n",
        "                                 batch_size=len(train_data),\n",
        "                                 img_size=(135,135,3),\n",
        "                                 num_classes=5)\n",
        "val_dataloader_F = DataGenerator_Full(IDs=val_data.ID,\n",
        "                               labels=val_data.loc[:,'any':'subdural'],\n",
        "                               batch_size=len(val_data),\n",
        "                               img_size=(135,135,3),\n",
        "                               num_classes=5)\n",
        "test_dataloader_F = DataGenerator_Full(IDs=testing.ID,\n",
        "                               labels=testing.loc[:,'any':'subdural'],\n",
        "                               batch_size=len(testing),\n",
        "                               img_size=(135,135,3),\n",
        "                               num_classes=5)"
      ],
      "execution_count": 0,
      "outputs": []
    },
    {
      "cell_type": "markdown",
      "metadata": {
        "id": "YustiE-hle6-",
        "colab_type": "text"
      },
      "source": [
        "## Channel feature extraction"
      ]
    },
    {
      "cell_type": "code",
      "metadata": {
        "id": "K3gZYtM-RClm",
        "colab_type": "code",
        "outputId": "d480c059-a95c-4fa4-9395-62369d47d121",
        "colab": {
          "base_uri": "https://localhost:8080/",
          "height": 51
        }
      },
      "source": [
        "#load all images and their labels\n",
        "X_tr_CH, [_, _] = train_dataloader_CH.__getitem__(0)\n",
        "X_v_CH, [y1_v_CH, y2_v_CH] = val_dataloader_CH.__getitem__(0)\n",
        "X_ts_CH, [y1_ts_CH, y2_ts_CH] = test_dataloader_CH.__getitem__(0)"
      ],
      "execution_count": 0,
      "outputs": [
        {
          "output_type": "stream",
          "text": [
            "/usr/local/lib/python3.6/dist-packages/ipykernel_launcher.py:6: RuntimeWarning: overflow encountered in power\n",
            "  \n"
          ],
          "name": "stderr"
        }
      ]
    },
    {
      "cell_type": "code",
      "metadata": {
        "id": "S6ek2caERIvN",
        "colab_type": "code",
        "outputId": "4fcfe955-aaa2-45c1-9111-6002116f137f",
        "colab": {
          "base_uri": "https://localhost:8080/",
          "height": 34
        }
      },
      "source": [
        "#sanity check\n",
        "print(X_tr_CH.shape)"
      ],
      "execution_count": 0,
      "outputs": [
        {
          "output_type": "stream",
          "text": [
            "(16595, 135, 135, 3)\n"
          ],
          "name": "stdout"
        }
      ]
    },
    {
      "cell_type": "markdown",
      "metadata": {
        "id": "lddPCKKM5L8D",
        "colab_type": "text"
      },
      "source": [
        "## Data normalization"
      ]
    },
    {
      "cell_type": "code",
      "metadata": {
        "id": "EvddfkNz5pSV",
        "colab_type": "code",
        "colab": {}
      },
      "source": [
        "#move these to the rest of imports later\n",
        "from sklearn.decomposition import PCA\n",
        "from sklearn.manifold import TSNE\n",
        "from sklearn.preprocessing import StandardScaler\n",
        "from sklearn.neural_network import MLPClassifier"
      ],
      "execution_count": 0,
      "outputs": []
    },
    {
      "cell_type": "code",
      "metadata": {
        "id": "VdRGsmCh6Chk",
        "colab_type": "code",
        "colab": {}
      },
      "source": [
        "scaler = StandardScaler()\n",
        "X_tr_CH = scaler.fit_transform([i.flatten() for i in X_tr_CH])\n",
        "X_v_CH = scaler.transform([i.flatten() for i in X_v_CH])\n",
        "X_ts_CH = scaler.transform([i.flatten() for i in X_ts_CH])"
      ],
      "execution_count": 0,
      "outputs": []
    },
    {
      "cell_type": "markdown",
      "metadata": {
        "id": "9XNcldFx6P9e",
        "colab_type": "text"
      },
      "source": [
        "## PCA feature extraction"
      ]
    },
    {
      "cell_type": "code",
      "metadata": {
        "id": "hsMVT9tf6TEB",
        "colab_type": "code",
        "colab": {}
      },
      "source": [
        "pca = PCA(n_components=50)\n",
        "X_tr_CH = pca.fit_transform(X_tr_CH)\n",
        "X_v_CH = pca.transform(X_v_CH)\n",
        "X_ts_CH = pca.transform(X_ts_CH)"
      ],
      "execution_count": 0,
      "outputs": []
    },
    {
      "cell_type": "markdown",
      "metadata": {
        "id": "bHi35EHt6ckp",
        "colab_type": "text"
      },
      "source": [
        "## t-SNE for visualisation\n",
        "t-SNE can project features from high-dimensional space (in this case our PCA components) to low dimensional space (2 or 3D) so that we can plot the results to inspect if the features form some clusters labels."
      ]
    },
    {
      "cell_type": "code",
      "metadata": {
        "id": "uZ1hsYkz66WQ",
        "colab_type": "code",
        "colab": {}
      },
      "source": [
        "tsne = TSNE(n_components=2, perplexity=40.0)\n",
        "tsne_tr_CH = tsne.fit_transform(X_tr_CH)\n",
        "tsne_v_CH = tsne.fit_transform(X_v_CH)\n",
        "tsne_ts_CH = tsne.fit_transform(X_ts_CH)\n",
        "tsne_scaler = StandardScaler()\n",
        "tsne_tr_CH = tsne_scaler.fit_transform(tsne_tr_CH)\n",
        "tsne_v_CH = tsne_scaler.transform(tsne_v_CH)\n",
        "tsne_ts_CH = tsne_scaler.transform(tsne_ts_CH)"
      ],
      "execution_count": 0,
      "outputs": []
    },
    {
      "cell_type": "markdown",
      "metadata": {
        "id": "xQvoASjuqixz",
        "colab_type": "text"
      },
      "source": [
        "Save PCA features and t-SNE represantion to csv"
      ]
    },
    {
      "cell_type": "code",
      "metadata": {
        "id": "XIZzWmA2u8Ma",
        "colab_type": "code",
        "colab": {}
      },
      "source": [
        "labels_tr = train_data.loc[:,'any':'subdural']\n",
        "labels_val = val_data.loc[:,'any':'subdural']\n",
        "labels_ts = testing.loc[:, 'any':'subdural']\n",
        "\n",
        "labels_tr['set']=\"train\"\n",
        "labels_val['set']=\"val\"\n",
        "labels_ts['set']=\"test\"\n",
        "\n",
        "labels = pd.concat([labels_tr, labels_val, labels_ts],axis=0)\n",
        "labels.to_csv(BASE_DIR+'labels.csv')"
      ],
      "execution_count": 0,
      "outputs": []
    },
    {
      "cell_type": "code",
      "metadata": {
        "id": "roK_mMmCn-jr",
        "colab_type": "code",
        "colab": {}
      },
      "source": [
        "X_tr_CH = pd.DataFrame(data=X_tr_CH)\n",
        "X_v_CH = pd.DataFrame(data=X_v_CH)\n",
        "X_ts_CH = pd.DataFrame(data=X_ts_CH)\n",
        "X_tr_CH.to_csv(BASE_DIR + \"train_pca_CH.csv\")\n",
        "X_v_CH.to_csv(BASE_DIR + \"val_pca_CH.csv\")\n",
        "X_ts_CH.to_csv(BASE_DIR + \"test_pca_CH.csv\")\n",
        "\n",
        "tsne_tr_CH = pd.DataFrame(data=tsne_tr_CH)\n",
        "tsne_v_CH = pd.DataFrame(data=tsne_v_CH)\n",
        "tsne_ts_CH = pd.DataFrame(data=tsne_ts_CH)\n",
        "tsne_tr_CH.to_csv(BASE_DIR + \"train_tsne_CH.csv\")\n",
        "tsne_v_CH.to_csv(BASE_DIR + \"val_tsne_CH.csv\")\n",
        "tsne_ts_CH.to_csv(BASE_DIR + \"test_tsne_CH.csv\")"
      ],
      "execution_count": 0,
      "outputs": []
    },
    {
      "cell_type": "markdown",
      "metadata": {
        "id": "8Hm2jrN64sAD",
        "colab_type": "text"
      },
      "source": [
        "## Full feature extraction"
      ]
    },
    {
      "cell_type": "code",
      "metadata": {
        "id": "dtaQek7h4rQf",
        "colab_type": "code",
        "colab": {}
      },
      "source": [
        "#load all images and their labels\n",
        "X_tr_F, [y1_tr_F, y2_tr_F] = train_dataloader_F.__getitem__(0)\n",
        "X_v_F, [y1_v_F, y2_v_F] = val_dataloader_F.__getitem__(0)\n",
        "X_ts_F, [y1_ts_F, y2_ts_F] = test_dataloader_F.__getitem__(0)\n",
        "scaler = StandardScaler()\n",
        "X_tr_F = scaler.fit_transform([i.flatten() for i in X_tr_F])\n",
        "X_v_F = scaler.transform([i.flatten() for i in X_v_F])\n",
        "X_ts_F = scaler.transform([i.flatten() for i in X_ts_F])\n",
        "pca = PCA(n_components=50)\n",
        "X_tr_F = pca.fit_transform(X_tr_F)\n",
        "X_v_F = pca.transform(X_v_F)\n",
        "X_ts_F = pca.transform(X_ts_F)\n",
        "tsne = TSNE(n_components=2, perplexity=40.0)\n",
        "tsne_tr_F = tsne.fit_transform(X_tr_F)\n",
        "tsne_v_F = tsne.fit_transform(X_v_F)\n",
        "tsne_ts_F = tsne.fit_transform(X_ts_F)\n",
        "tsne_scaler = StandardScaler()\n",
        "tsne_tr_F = tsne_scaler.fit_transform(tsne_tr_F)\n",
        "tsne_v_F = tsne_scaler.transform(tsne_v_F)\n",
        "tsne_ts_F = tsne_scaler.transform(tsne_ts_F)\n",
        "X_tr_F = pd.DataFrame(data=X_tr_F)\n",
        "X_v_F = pd.DataFrame(data=X_v_F)\n",
        "X_ts_F = pd.DataFrame(data=X_ts_F)\n",
        "X_tr_F.to_csv(BASE_DIR + \"train_pca_F.csv\")\n",
        "X_v_F.to_csv(BASE_DIR + \"val_pca_F.csv\")\n",
        "X_ts_F.to_csv(BASE_DIR + \"test_pca_F.csv\")\n",
        "tsne_tr_F = pd.DataFrame(data=tsne_tr_F)\n",
        "tsne_v_F = pd.DataFrame(data=tsne_v_F)\n",
        "tsne_ts_F = pd.DataFrame(data=tsne_ts_F)\n",
        "tsne_tr_F.to_csv(BASE_DIR + \"train_tsne_F.csv\")\n",
        "tsne_v_F.to_csv(BASE_DIR + \"val_tsne_F.csv\")\n",
        "tsne_ts_F.to_csv(BASE_DIR + \"test_tsne_F.csv\")"
      ],
      "execution_count": 0,
      "outputs": []
    },
    {
      "cell_type": "markdown",
      "metadata": {
        "id": "81-L04M4dGN2",
        "colab_type": "text"
      },
      "source": [
        "## Load data\n",
        "After running PCA and t-SNE we cleaned the memory. So we need to reload the data"
      ]
    },
    {
      "cell_type": "code",
      "metadata": {
        "id": "QNWHVxERc0wh",
        "colab_type": "code",
        "colab": {}
      },
      "source": [
        "X_train = pd.read_csv(BASE_DIR + \"train_pca_CH.csv\", index_col=0)\n",
        "X_val = pd.read_csv(BASE_DIR + \"val_pca_CH.csv\", index_col=0)\n",
        "X_test = pd.read_csv(BASE_DIR + \"test_pca_CH.csv\", index_col=0)\n",
        "\n",
        "y = pd.read_csv(BASE_DIR + \"labels.csv\")\n",
        "y_train = y.loc[y.set==\"train\",:].drop([\"set\"],axis=1)\n",
        "y_val = y.loc[y.set==\"val\",:].drop([\"set\"],axis=1)\n",
        "y_test = y.loc[y.set==\"test\",:].drop([\"set\"],axis=1)\n",
        "X_train = pd.concat([X_train, X_val], axis=0)\n",
        "y_train = pd.concat([y_train, y_val], axis=0)"
      ],
      "execution_count": 0,
      "outputs": []
    },
    {
      "cell_type": "code",
      "metadata": {
        "id": "maDGk3nYj7tJ",
        "colab_type": "code",
        "outputId": "8c46d4a7-31ce-411b-d2b4-4ad1574803fd",
        "colab": {
          "base_uri": "https://localhost:8080/",
          "height": 204
        }
      },
      "source": [
        "y_train.head(5)"
      ],
      "execution_count": 0,
      "outputs": [
        {
          "output_type": "execute_result",
          "data": {
            "text/html": [
              "<div>\n",
              "<style scoped>\n",
              "    .dataframe tbody tr th:only-of-type {\n",
              "        vertical-align: middle;\n",
              "    }\n",
              "\n",
              "    .dataframe tbody tr th {\n",
              "        vertical-align: top;\n",
              "    }\n",
              "\n",
              "    .dataframe thead th {\n",
              "        text-align: right;\n",
              "    }\n",
              "</style>\n",
              "<table border=\"1\" class=\"dataframe\">\n",
              "  <thead>\n",
              "    <tr style=\"text-align: right;\">\n",
              "      <th></th>\n",
              "      <th>ID</th>\n",
              "      <th>any</th>\n",
              "      <th>epidural</th>\n",
              "      <th>intraparenchymal</th>\n",
              "      <th>intraventricular</th>\n",
              "      <th>subarachnoid</th>\n",
              "      <th>subdural</th>\n",
              "    </tr>\n",
              "  </thead>\n",
              "  <tbody>\n",
              "    <tr>\n",
              "      <th>0</th>\n",
              "      <td>ID_a2c9f4b53</td>\n",
              "      <td>1</td>\n",
              "      <td>0</td>\n",
              "      <td>0</td>\n",
              "      <td>0</td>\n",
              "      <td>0</td>\n",
              "      <td>1</td>\n",
              "    </tr>\n",
              "    <tr>\n",
              "      <th>1</th>\n",
              "      <td>ID_026337b1a</td>\n",
              "      <td>1</td>\n",
              "      <td>0</td>\n",
              "      <td>0</td>\n",
              "      <td>0</td>\n",
              "      <td>0</td>\n",
              "      <td>1</td>\n",
              "    </tr>\n",
              "    <tr>\n",
              "      <th>2</th>\n",
              "      <td>ID_8137a8650</td>\n",
              "      <td>0</td>\n",
              "      <td>0</td>\n",
              "      <td>0</td>\n",
              "      <td>0</td>\n",
              "      <td>0</td>\n",
              "      <td>0</td>\n",
              "    </tr>\n",
              "    <tr>\n",
              "      <th>3</th>\n",
              "      <td>ID_cfe5c292f</td>\n",
              "      <td>0</td>\n",
              "      <td>0</td>\n",
              "      <td>0</td>\n",
              "      <td>0</td>\n",
              "      <td>0</td>\n",
              "      <td>0</td>\n",
              "    </tr>\n",
              "    <tr>\n",
              "      <th>4</th>\n",
              "      <td>ID_ab0df9757</td>\n",
              "      <td>1</td>\n",
              "      <td>0</td>\n",
              "      <td>0</td>\n",
              "      <td>1</td>\n",
              "      <td>0</td>\n",
              "      <td>0</td>\n",
              "    </tr>\n",
              "  </tbody>\n",
              "</table>\n",
              "</div>"
            ],
            "text/plain": [
              "             ID  any  epidural  ...  intraventricular  subarachnoid  subdural\n",
              "0  ID_a2c9f4b53    1         0  ...                 0             0         1\n",
              "1  ID_026337b1a    1         0  ...                 0             0         1\n",
              "2  ID_8137a8650    0         0  ...                 0             0         0\n",
              "3  ID_cfe5c292f    0         0  ...                 0             0         0\n",
              "4  ID_ab0df9757    1         0  ...                 1             0         0\n",
              "\n",
              "[5 rows x 7 columns]"
            ]
          },
          "metadata": {
            "tags": []
          },
          "execution_count": 126
        }
      ]
    },
    {
      "cell_type": "markdown",
      "metadata": {
        "id": "apYodeYxcu0P",
        "colab_type": "text"
      },
      "source": [
        "## Build MLP"
      ]
    },
    {
      "cell_type": "markdown",
      "metadata": {
        "id": "IMVlO1NCwwg0",
        "colab_type": "text"
      },
      "source": [
        "### Channels"
      ]
    },
    {
      "cell_type": "code",
      "metadata": {
        "id": "sSTGLkw1gIcV",
        "colab_type": "code",
        "colab": {}
      },
      "source": [
        "MLP1 = MLPClassifier(learning_rate='adaptive', hidden_layer_sizes=(50,), validation_fraction=0.1, early_stopping=True)\n",
        "MLP2 = MLPClassifier(learning_rate='adaptive', hidden_layer_sizes=(50,40,), validation_fraction=0.1, early_stopping=True)\n",
        "MLP3 = MLPClassifier(learning_rate='adaptive', hidden_layer_sizes=(50,40,25), validation_fraction=0.1, early_stopping=True)\n",
        "MLP4 = MLPClassifier(learning_rate='adaptive', hidden_layer_sizes=(50,40,25,12), validation_fraction=0.1, early_stopping=True)\n",
        "MLP5 = MLPClassifier(learning_rate='adaptive', hidden_layer_sizes=(50,40,25,12,1), validation_fraction=0.1, early_stopping=True)\n",
        "\n",
        "MLP1_ch = MLP1.fit(X=X_train, y=y_train.loc[:,'any':'subdural'])\n",
        "MLP2_ch = MLP2.fit(X=X_train, y=y_train.loc[:,'any':'subdural'])\n",
        "MLP3_ch = MLP3.fit(X=X_train, y=y_train.loc[:,'any':'subdural'])\n",
        "MLP4_ch = MLP4.fit(X=X_train, y=y_train.loc[:,'any':'subdural'])\n",
        "MLP5_ch = MLP5.fit(X=X_train, y=y_train.loc[:,'any':'subdural'])"
      ],
      "execution_count": 0,
      "outputs": []
    },
    {
      "cell_type": "code",
      "metadata": {
        "id": "tEkON1rVkovr",
        "colab_type": "code",
        "colab": {}
      },
      "source": [
        "from sklearn.metrics import f1_score, roc_curve, precision_score, recall_score, roc_auc_score"
      ],
      "execution_count": 0,
      "outputs": []
    },
    {
      "cell_type": "code",
      "metadata": {
        "id": "XcRbYtT6kvT5",
        "colab_type": "code",
        "outputId": "d151c9fe-be21-43cb-c5e5-f365bce086f3",
        "colab": {
          "base_uri": "https://localhost:8080/",
          "height": 190
        }
      },
      "source": [
        "print(f1_score(y_true = y_test.loc[:,'any':'subdural'],y_pred = MLP1_ch.predict(X=X_test), average='weighted'))\n",
        "print(f1_score(y_true = y_test.loc[:,'any':'subdural'],y_pred = MLP2_ch.predict(X=X_test), average='weighted'))\n",
        "print(f1_score(y_true = y_test.loc[:,'any':'subdural'],y_pred = MLP3_ch.predict(X=X_test), average='weighted'))\n",
        "print(f1_score(y_true = y_test.loc[:,'any':'subdural'],y_pred = MLP4_ch.predict(X=X_test), average='weighted'))\n",
        "print(f1_score(y_true = y_test.loc[:,'any':'subdural'],y_pred = MLP5_ch.predict(X=X_test), average='weighted'))"
      ],
      "execution_count": 0,
      "outputs": [
        {
          "output_type": "stream",
          "text": [
            "0.37252487207335244\n",
            "0.36091026926800623\n",
            "0.31561406190998714\n",
            "0.2708371733422125\n",
            "0.39670522113858936\n"
          ],
          "name": "stdout"
        },
        {
          "output_type": "stream",
          "text": [
            "/usr/local/lib/python3.6/dist-packages/sklearn/metrics/classification.py:1437: UndefinedMetricWarning: F-score is ill-defined and being set to 0.0 in labels with no predicted samples.\n",
            "  'precision', 'predicted', average, warn_for)\n",
            "/usr/local/lib/python3.6/dist-packages/sklearn/metrics/classification.py:1437: UndefinedMetricWarning: F-score is ill-defined and being set to 0.0 in labels with no predicted samples.\n",
            "  'precision', 'predicted', average, warn_for)\n"
          ],
          "name": "stderr"
        }
      ]
    },
    {
      "cell_type": "markdown",
      "metadata": {
        "id": "yGYhR6WUnvgn",
        "colab_type": "text"
      },
      "source": [
        "MLP1 is the best one, plot ROC curve"
      ]
    },
    {
      "cell_type": "code",
      "metadata": {
        "id": "-JP_dWtXmO4A",
        "colab_type": "code",
        "outputId": "621b598f-394d-4841-e90e-8da1ec93d0c9",
        "colab": {
          "base_uri": "https://localhost:8080/",
          "height": 747
        }
      },
      "source": [
        "y_pred = MLP1_ch.predict(X=X_test)\n",
        "fpr_any, tpr_any, _ = roc_curve(y_test['any'], y_pred[:,0])\n",
        "fpr_ep, tpr_ep, _ = roc_curve(y_test['epidural'], y_pred[:,1])\n",
        "fpr_ip, tpr_ip, _ = roc_curve(y_test['intraparenchymal'], y_pred[:,2])\n",
        "fpr_iv, tpr_iv, _ = roc_curve(y_test['intraventricular'], y_pred[:,3])\n",
        "fpr_sa, tpr_sa, _ = roc_curve(y_test['subarachnoid'], y_pred[:,4])\n",
        "fpr_sd, tpr_sd, _ = roc_curve(y_test['subdural'], y_pred[:,5])\n",
        "\n",
        "\n",
        "plt.figure(num=1, figsize=(12,12))\n",
        "plt.plot([0, 1], [0, 1], 'k--')\n",
        "plt.plot(fpr_any, tpr_any, label=\"Any\")\n",
        "plt.plot(fpr_ep, tpr_ep, label=\"Epidural\")\n",
        "plt.plot(fpr_ip, tpr_ip, label=\"Intraparenchymal\")\n",
        "plt.plot(fpr_iv, tpr_iv, label=\"Intraventricular\")\n",
        "plt.plot(fpr_sa, tpr_sa, label=\"Subarachnoid\")\n",
        "plt.plot(fpr_sd, tpr_sd, label=\"Subdural\")\n",
        "plt.xlabel('False positive rate')\n",
        "plt.ylabel('True positive rate')\n",
        "plt.title('ROC curve')\n",
        "plt.legend(loc='best')\n",
        "plt.show()"
      ],
      "execution_count": 0,
      "outputs": [
        {
          "output_type": "display_data",
          "data": {
            "image/png": "[encoded data removed]",
            "text/plain": [
              "<Figure size 864x864 with 1 Axes>"
            ]
          },
          "metadata": {
            "tags": []
          }
        },
        {
          "output_type": "display_data",
          "data": {
            "text/plain": [
              "<Figure size 432x288 with 0 Axes>"
            ]
          },
          "metadata": {
            "tags": []
          }
        }
      ]
    },
    {
      "cell_type": "markdown",
      "metadata": {
        "id": "M21LRBub0-2o",
        "colab_type": "text"
      },
      "source": [
        "Function for printing all metrics for single label"
      ]
    },
    {
      "cell_type": "code",
      "metadata": {
        "id": "pkVAXM8J07de",
        "colab_type": "code",
        "colab": {}
      },
      "source": [
        "def print_score(i, label):\n",
        "  print(\"\\nLabel: {}\" .format(label))\n",
        "  print(\"Accuracy: %8.3f %%\" %(accuracy_score(y_test[label], y_pred[:,i])*100))\n",
        "  print(\"Precision: %8.3f %%\" %(precision_score(y_test[label], y_pred[:,i])*100))\n",
        "  print(\"Recall: %8.3f %%\" %(recall_score(y_test[label], y_pred[:,i])*100))\n",
        "  print(\"Area under ROC curve: %8.3f\" %(roc_auc_score(y_test[label], y_pred[:,i])))"
      ],
      "execution_count": 0,
      "outputs": []
    },
    {
      "cell_type": "code",
      "metadata": {
        "id": "morFvmo0vhcT",
        "colab_type": "code",
        "outputId": "53f25f81-6f4c-4318-f62e-9a24316ca545",
        "colab": {
          "base_uri": "https://localhost:8080/",
          "height": 629
        }
      },
      "source": [
        "I = list(np.arange(0,6))\n",
        "labs = [\"any\", \"epidural\", \"intraparenchymal\", \"intraventricular\", \"subarachnoid\", \"subdural\"]\n",
        "\n",
        "for i, l in zip(I,labs):\n",
        "  print_score(i,l)\n",
        "\n",
        "with open(BASE_DIR + 'MLP_CH_performance.txt', 'w') as f:\n",
        "    with redirect_stdout(f):\n",
        "      for i, l in zip(I,labs):\n",
        "        print_score(i,l)"
      ],
      "execution_count": 0,
      "outputs": [
        {
          "output_type": "stream",
          "text": [
            "\n",
            "Label: any\n",
            "Accuracy:   66.701 %\n",
            "Precision:   62.500 %\n",
            "Recall:   65.217 %\n",
            "Area under ROC curve:    0.666\n",
            "\n",
            "Label: epidural\n",
            "Accuracy:   98.557 %\n",
            "Precision:    0.000 %\n",
            "Recall:    0.000 %\n",
            "Area under ROC curve:    0.497\n",
            "\n",
            "Label: intraparenchymal\n",
            "Accuracy:   82.165 %\n",
            "Precision:   28.846 %\n",
            "Recall:    9.934 %\n",
            "Area under ROC curve:    0.527\n",
            "\n",
            "Label: intraventricular\n",
            "Accuracy:   88.247 %\n",
            "Precision:   27.083 %\n",
            "Recall:   14.130 %\n",
            "Area under ROC curve:    0.551\n",
            "\n",
            "Label: subarachnoid\n",
            "Accuracy:   84.948 %\n",
            "Precision:   22.222 %\n",
            "Recall:    8.264 %\n",
            "Area under ROC curve:    0.521\n",
            "\n",
            "Label: subdural\n",
            "Accuracy:   70.825 %\n",
            "Precision:   28.000 %\n",
            "Recall:   19.355 %\n",
            "Area under ROC curve:    0.525\n"
          ],
          "name": "stdout"
        }
      ]
    },
    {
      "cell_type": "markdown",
      "metadata": {
        "id": "yL9X75Y4w4za",
        "colab_type": "text"
      },
      "source": [
        "### Full"
      ]
    },
    {
      "cell_type": "code",
      "metadata": {
        "id": "Bt5y0gU_w6Vt",
        "colab_type": "code",
        "colab": {}
      },
      "source": [
        "X_train = pd.read_csv(BASE_DIR + \"train_pca_F.csv\", index_col=0)\n",
        "X_val = pd.read_csv(BASE_DIR + \"val_pca_F.csv\", index_col=0)\n",
        "X_test = pd.read_csv(BASE_DIR + \"test_pca_F.csv\", index_col=0)\n",
        "\n",
        "y = pd.read_csv(BASE_DIR + \"labels.csv\")\n",
        "y_train = y.loc[y.set==\"train\",:].drop([\"set\"],axis=1)\n",
        "y_val = y.loc[y.set==\"val\",:].drop([\"set\"],axis=1)\n",
        "y_test = y.loc[y.set==\"test\",:].drop([\"set\"],axis=1)\n",
        "X_train = pd.concat([X_train, X_val], axis=0)\n",
        "y_train = pd.concat([y_train, y_val], axis=0)"
      ],
      "execution_count": 0,
      "outputs": []
    },
    {
      "cell_type": "code",
      "metadata": {
        "id": "Su23koBrxD0x",
        "colab_type": "code",
        "colab": {}
      },
      "source": [
        "MLP1 = MLPClassifier(learning_rate='adaptive', hidden_layer_sizes=(50,), validation_fraction=0.1, early_stopping=True)\n",
        "MLP2 = MLPClassifier(learning_rate='adaptive', hidden_layer_sizes=(50,40,), validation_fraction=0.1, early_stopping=True)\n",
        "MLP3 = MLPClassifier(learning_rate='adaptive', hidden_layer_sizes=(50,40,25), validation_fraction=0.1, early_stopping=True)\n",
        "MLP4 = MLPClassifier(learning_rate='adaptive', hidden_layer_sizes=(50,40,25,12), validation_fraction=0.1, early_stopping=True)\n",
        "MLP5 = MLPClassifier(learning_rate='adaptive', hidden_layer_sizes=(50,40,25,12,1), validation_fraction=0.1, early_stopping=True)\n",
        "\n",
        "MLP1_f = MLP1.fit(X=X_train, y=y_train.loc[:,'any':'subdural'])\n",
        "MLP2_f = MLP2.fit(X=X_train, y=y_train.loc[:,'any':'subdural'])\n",
        "MLP3_f = MLP3.fit(X=X_train, y=y_train.loc[:,'any':'subdural'])\n",
        "MLP4_f = MLP4.fit(X=X_train, y=y_train.loc[:,'any':'subdural'])\n",
        "MLP5_f = MLP5.fit(X=X_train, y=y_train.loc[:,'any':'subdural'])"
      ],
      "execution_count": 0,
      "outputs": []
    },
    {
      "cell_type": "markdown",
      "metadata": {
        "id": "dMDI9VGB16Zz",
        "colab_type": "text"
      },
      "source": [
        "MLP1 is the best"
      ]
    },
    {
      "cell_type": "code",
      "metadata": {
        "id": "BIcmsj9CxMeH",
        "colab_type": "code",
        "outputId": "f3b72585-b24f-47a6-edf9-4581be11b5bd",
        "colab": {
          "base_uri": "https://localhost:8080/",
          "height": 224
        }
      },
      "source": [
        "print(f1_score(y_true = y_test.loc[:,'any':'subdural'],y_pred = MLP1_f.predict(X=X_test), average='weighted'))\n",
        "print(f1_score(y_true = y_test.loc[:,'any':'subdural'],y_pred = MLP2_f.predict(X=X_test), average='weighted'))\n",
        "print(f1_score(y_true = y_test.loc[:,'any':'subdural'],y_pred = MLP3_f.predict(X=X_test), average='weighted'))\n",
        "print(f1_score(y_true = y_test.loc[:,'any':'subdural'],y_pred = MLP4_f.predict(X=X_test), average='weighted'))\n",
        "print(f1_score(y_true = y_test.loc[:,'any':'subdural'],y_pred = MLP5_f.predict(X=X_test), average='weighted'))"
      ],
      "execution_count": 0,
      "outputs": [
        {
          "output_type": "stream",
          "text": [
            "0.38909803764662415\n",
            "0.3621812662759878\n",
            "0.3229191288244508\n",
            "0.2997881063362996\n",
            "0.11693071534380824\n"
          ],
          "name": "stdout"
        },
        {
          "output_type": "stream",
          "text": [
            "/usr/local/lib/python3.6/dist-packages/sklearn/metrics/classification.py:1437: UndefinedMetricWarning: F-score is ill-defined and being set to 0.0 in labels with no predicted samples.\n",
            "  'precision', 'predicted', average, warn_for)\n",
            "/usr/local/lib/python3.6/dist-packages/sklearn/metrics/classification.py:1437: UndefinedMetricWarning: F-score is ill-defined and being set to 0.0 in labels with no predicted samples.\n",
            "  'precision', 'predicted', average, warn_for)\n",
            "/usr/local/lib/python3.6/dist-packages/sklearn/metrics/classification.py:1437: UndefinedMetricWarning: F-score is ill-defined and being set to 0.0 in labels with no predicted samples.\n",
            "  'precision', 'predicted', average, warn_for)\n"
          ],
          "name": "stderr"
        }
      ]
    },
    {
      "cell_type": "code",
      "metadata": {
        "id": "bF5etYlLxXHS",
        "colab_type": "code",
        "outputId": "0f6d9ec1-ce34-467b-d5f3-9a20041191c6",
        "colab": {
          "base_uri": "https://localhost:8080/",
          "height": 730
        }
      },
      "source": [
        "y_pred = MLP1_f.predict(X=X_test)\n",
        "fpr_any, tpr_any, _ = roc_curve(y_test['any'], y_pred[:,0])\n",
        "fpr_ep, tpr_ep, _ = roc_curve(y_test['epidural'], y_pred[:,1])\n",
        "fpr_ip, tpr_ip, _ = roc_curve(y_test['intraparenchymal'], y_pred[:,2])\n",
        "fpr_iv, tpr_iv, _ = roc_curve(y_test['intraventricular'], y_pred[:,3])\n",
        "fpr_sa, tpr_sa, _ = roc_curve(y_test['subarachnoid'], y_pred[:,4])\n",
        "fpr_sd, tpr_sd, _ = roc_curve(y_test['subdural'], y_pred[:,5])\n",
        "\n",
        "\n",
        "plt.figure(num=1, figsize=(12,12))\n",
        "plt.plot([0, 1], [0, 1], 'k--')\n",
        "plt.plot(fpr_any, tpr_any, label=\"Any\")\n",
        "plt.plot(fpr_ep, tpr_ep, label=\"Epidural\")\n",
        "plt.plot(fpr_ip, tpr_ip, label=\"Intraparenchymal\")\n",
        "plt.plot(fpr_iv, tpr_iv, label=\"Intraventricular\")\n",
        "plt.plot(fpr_sa, tpr_sa, label=\"Subarachnoid\")\n",
        "plt.plot(fpr_sd, tpr_sd, label=\"Subdural\")\n",
        "plt.xlabel('False positive rate')\n",
        "plt.ylabel('True positive rate')\n",
        "plt.title('ROC curve')\n",
        "plt.legend(loc='best')\n",
        "plt.show()"
      ],
      "execution_count": 0,
      "outputs": [
        {
          "output_type": "display_data",
          "data": {
            "image/png": "[encoded data removed]",
            "text/plain": [
              "<Figure size 864x864 with 1 Axes>"
            ]
          },
          "metadata": {
            "tags": []
          }
        }
      ]
    },
    {
      "cell_type": "code",
      "metadata": {
        "id": "t4SvnABsxgea",
        "colab_type": "code",
        "outputId": "9abba665-6056-4fd2-ee95-b2570e102b32",
        "colab": {
          "base_uri": "https://localhost:8080/",
          "height": 629
        }
      },
      "source": [
        "for i, l in zip(I,labs):\n",
        "  print_score(i,l)\n",
        "\n",
        "with open(BASE_DIR + 'MLP_F_performance.txt', 'w') as f:\n",
        "    with redirect_stdout(f):\n",
        "      for i, l in zip(I,labs):\n",
        "        print_score(i,l)"
      ],
      "execution_count": 0,
      "outputs": [
        {
          "output_type": "stream",
          "text": [
            "\n",
            "Label: any\n",
            "Accuracy:   67.629 %\n",
            "Precision:   64.748 %\n",
            "Recall:   61.785 %\n",
            "Area under ROC curve:    0.671\n",
            "\n",
            "Label: epidural\n",
            "Accuracy:   98.763 %\n",
            "Precision:    0.000 %\n",
            "Recall:    0.000 %\n",
            "Area under ROC curve:    0.498\n",
            "\n",
            "Label: intraparenchymal\n",
            "Accuracy:   84.948 %\n",
            "Precision:   55.319 %\n",
            "Recall:   17.219 %\n",
            "Area under ROC curve:    0.573\n",
            "\n",
            "Label: intraventricular\n",
            "Accuracy:   88.660 %\n",
            "Precision:   26.316 %\n",
            "Recall:   10.870 %\n",
            "Area under ROC curve:    0.538\n",
            "\n",
            "Label: subarachnoid\n",
            "Accuracy:   85.979 %\n",
            "Precision:   10.526 %\n",
            "Recall:    1.653 %\n",
            "Area under ROC curve:    0.498\n",
            "\n",
            "Label: subdural\n",
            "Accuracy:   77.835 %\n",
            "Precision:   51.087 %\n",
            "Recall:   21.659 %\n",
            "Area under ROC curve:    0.578\n"
          ],
          "name": "stdout"
        }
      ]
    }
  ]
}