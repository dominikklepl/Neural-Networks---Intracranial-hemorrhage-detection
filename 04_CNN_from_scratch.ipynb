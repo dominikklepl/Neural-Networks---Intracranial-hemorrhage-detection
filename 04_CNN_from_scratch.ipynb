{
  "nbformat": 4,
  "nbformat_minor": 0,
  "metadata": {
    "colab": {
      "name": "04_CNN from scratch.ipynb",
      "provenance": [],
      "include_colab_link": true
    },
    "kernelspec": {
      "name": "python3",
      "display_name": "Python 3"
    },
    "accelerator": "GPU"
  },
  "cells": [
    {
      "cell_type": "markdown",
      "metadata": {
        "id": "view-in-github",
        "colab_type": "text"
      },
      "source": [
        "<a href=\"https://colab.research.google.com/github/dominikklepl/Neural-Networks-Intracranial-hemorrhage-detection/blob/master/04_CNN_from_scratch.ipynb\" target=\"_parent\"><img src=\"https://colab.research.google.com/assets/colab-badge.svg\" alt=\"Open In Colab\"/></a>"
      ]
    },
    {
      "cell_type": "markdown",
      "metadata": {
        "id": "bCqsoxkxP9zB",
        "colab_type": "text"
      },
      "source": [
        "# Building CNN from scratch\n",
        "In previous notebook, we built only the classifier part of the model and used pretrainted convolutional layers for automatic feature extraction.\n",
        "\n",
        "We'll just copy paste functions for preprocessing and data generation from previous notebook (\"03 Transfer learning\")"
      ]
    },
    {
      "cell_type": "code",
      "metadata": {
        "id": "wVc8B0wP_49g",
        "colab_type": "code",
        "colab": {}
      },
      "source": [
        "prototyping = False"
      ],
      "execution_count": 0,
      "outputs": []
    },
    {
      "cell_type": "markdown",
      "metadata": {
        "id": "Fc1NeHJZVUfI",
        "colab_type": "text"
      },
      "source": [
        "## Setup and paths to data"
      ]
    },
    {
      "cell_type": "markdown",
      "metadata": {
        "id": "K5ieuRPWhad7",
        "colab_type": "text"
      },
      "source": [
        "Install missing packages"
      ]
    },
    {
      "cell_type": "code",
      "metadata": {
        "id": "jgSMnAEchcQC",
        "colab_type": "code",
        "colab": {}
      },
      "source": [
        "!pip install pydicom"
      ],
      "execution_count": 0,
      "outputs": []
    },
    {
      "cell_type": "markdown",
      "metadata": {
        "id": "AHyl7ejJRHbp",
        "colab_type": "text"
      },
      "source": [
        "Import all required packages"
      ]
    },
    {
      "cell_type": "code",
      "metadata": {
        "id": "6iC6GizdRLOe",
        "colab_type": "code",
        "colab": {}
      },
      "source": [
        "#connect google drive\n",
        "from google.colab import drive\n",
        "\n",
        "#dealing with zip\n",
        "import zipfile\n",
        "\n",
        "#importing labels and working with dataframe\n",
        "import pandas as pd\n",
        "\n",
        "#manipulation with images\n",
        "import pydicom\n",
        "import torch\n",
        "import numpy as np\n",
        "from math import ceil, floor, log\n",
        "import cv2\n",
        "\n",
        "#train-test\n",
        "from sklearn.model_selection import GroupKFold\n",
        "\n",
        "#models\n",
        "%tensorflow_version 1.x\n",
        "import keras.utils\n",
        "import tensorflow as tf\n",
        "print(tf.__version__)\n",
        "from keras.layers import GlobalAveragePooling2D, Dense, Activation, concatenate, Dropout, Conv2D, MaxPooling2D, Input, BatchNormalization, SpatialDropout2D\n",
        "from keras.initializers import glorot_normal, he_normal\n",
        "from keras.regularizers import l2\n",
        "from keras.models import Model, load_model, Sequential\n",
        "from keras.callbacks import ModelCheckpoint, ReduceLROnPlateau, EarlyStopping\n",
        "from keras.optimizers import Adam\n",
        "from tensorflow.nn import sigmoid_cross_entropy_with_logits\n",
        "\n",
        "#save model architecture\n",
        "from contextlib import redirect_stdout\n",
        "\n",
        "#pretrained models\n",
        "from keras_applications.resnet import ResNet50\n",
        "from keras_applications.inception_v3 import InceptionV3\n",
        "\n",
        "#plotting\n",
        "import matplotlib.pyplot as plt\n",
        "import seaborn as sns"
      ],
      "execution_count": 0,
      "outputs": []
    },
    {
      "cell_type": "code",
      "metadata": {
        "id": "WJ5jhXN5R4uc",
        "colab_type": "code",
        "colab": {}
      },
      "source": [
        "#ignore deprecation warnings\n",
        "import warnings\n",
        "warnings.filterwarnings(\"ignore\", category=DeprecationWarning)\n",
        "warnings.filterwarnings(\"ignore\", category=UserWarning)\n",
        "warnings.filterwarnings(\"ignore\", category=FutureWarning)"
      ],
      "execution_count": 0,
      "outputs": []
    },
    {
      "cell_type": "markdown",
      "metadata": {
        "id": "wneWaNJIxllY",
        "colab_type": "text"
      },
      "source": [
        "Check that GPU is available and that keras can use it."
      ]
    },
    {
      "cell_type": "code",
      "metadata": {
        "id": "DGOK4bYJxn6J",
        "colab_type": "code",
        "colab": {}
      },
      "source": [
        "from keras import backend as K\n",
        "K.tensorflow_backend._get_available_gpus()"
      ],
      "execution_count": 0,
      "outputs": []
    },
    {
      "cell_type": "markdown",
      "metadata": {
        "id": "fNASn3sSluA-",
        "colab_type": "text"
      },
      "source": [
        "Set random seed for reproducibility"
      ]
    },
    {
      "cell_type": "code",
      "metadata": {
        "id": "VsH2A1Qhlxep",
        "colab_type": "code",
        "colab": {}
      },
      "source": [
        "np.random.seed(31415)"
      ],
      "execution_count": 0,
      "outputs": []
    },
    {
      "cell_type": "markdown",
      "metadata": {
        "id": "x_9xRxp2XYhR",
        "colab_type": "text"
      },
      "source": [
        "Connect Google Drive. That's where my data is stored."
      ]
    },
    {
      "cell_type": "code",
      "metadata": {
        "id": "AAqMR_oS_3De",
        "colab_type": "code",
        "outputId": "ba8c822d-9803-42d7-bf4f-5dbf545d5248",
        "colab": {
          "base_uri": "https://localhost:8080/",
          "height": 34
        }
      },
      "source": [
        "GDRIVE_PATH = \"/gdrive\"\n",
        "drive.mount(GDRIVE_PATH)"
      ],
      "execution_count": 0,
      "outputs": [
        {
          "output_type": "stream",
          "text": [
            "Drive already mounted at /gdrive; to attempt to forcibly remount, call drive.mount(\"/gdrive\", force_remount=True).\n"
          ],
          "name": "stdout"
        }
      ]
    },
    {
      "cell_type": "markdown",
      "metadata": {
        "id": "4KyezdSiRqxy",
        "colab_type": "text"
      },
      "source": [
        "Set paths to all required data"
      ]
    },
    {
      "cell_type": "code",
      "metadata": {
        "id": "4mwN-s-7Rqeq",
        "colab_type": "code",
        "colab": {}
      },
      "source": [
        "WORK_DIR = \"/content/\"\n",
        "BASE_DIR = GDRIVE_PATH + \"/My Drive/\"\n",
        "ZIP_PATH = BASE_DIR + \"DICOMS/train_images.zip\"\n",
        "DF_PATH = BASE_DIR + \"train_balanced.csv\"\n",
        "MODEL_PATH = BASE_DIR + \"models/\"\n",
        "RESULT_PATH = BASE_DIR + \"results/\" #for saving performance of models\n",
        "IMAGES_PATH = WORK_DIR + \"img\"\n",
        "\n",
        "#if the model and results aren't created already, create them\n",
        "!mkdir /gdrive/My\\ Drive/models\n",
        "!mkdir /gdrive/My\\ Drive/results\n",
        "\n",
        "#also create temporary folder in working directory for unzipping images\n",
        "!mkdir /content/img"
      ],
      "execution_count": 0,
      "outputs": []
    },
    {
      "cell_type": "code",
      "metadata": {
        "id": "Y2wpHxQE7Yta",
        "colab_type": "code",
        "colab": {}
      },
      "source": [
        "#get number of CPU cores\n",
        "import multiprocessing\n",
        "CORES = multiprocessing.cpu_count()\n",
        "print(CORES)"
      ],
      "execution_count": 0,
      "outputs": []
    },
    {
      "cell_type": "markdown",
      "metadata": {
        "id": "HUE6PFH6Va7f",
        "colab_type": "text"
      },
      "source": [
        "Images are saved in a zip file. For easier and faster manipulation, let's extract them to a folder in the working directory that we created before (\"/content/img\")"
      ]
    },
    {
      "cell_type": "code",
      "metadata": {
        "id": "aDrNJugxVZAI",
        "colab_type": "code",
        "colab": {}
      },
      "source": [
        "img_archive = zipfile.ZipFile(ZIP_PATH)\n",
        "%time img_archive.extractall(path=IMAGES_PATH)"
      ],
      "execution_count": 0,
      "outputs": []
    },
    {
      "cell_type": "markdown",
      "metadata": {
        "id": "9QwB9UwVXyyk",
        "colab_type": "text"
      },
      "source": [
        "### Load the csv with labels and metadata"
      ]
    },
    {
      "cell_type": "code",
      "metadata": {
        "id": "9UrkCTAJXyZZ",
        "colab_type": "code",
        "outputId": "61c87221-3516-4405-83ea-1d1c5e1405c7",
        "colab": {
          "base_uri": "https://localhost:8080/",
          "height": 332
        }
      },
      "source": [
        "train_df = pd.read_csv(DF_PATH)\n",
        "train_df.sample(3)"
      ],
      "execution_count": 0,
      "outputs": [
        {
          "output_type": "execute_result",
          "data": {
            "text/html": [
              "<div>\n",
              "<style scoped>\n",
              "    .dataframe tbody tr th:only-of-type {\n",
              "        vertical-align: middle;\n",
              "    }\n",
              "\n",
              "    .dataframe tbody tr th {\n",
              "        vertical-align: top;\n",
              "    }\n",
              "\n",
              "    .dataframe thead th {\n",
              "        text-align: right;\n",
              "    }\n",
              "</style>\n",
              "<table border=\"1\" class=\"dataframe\">\n",
              "  <thead>\n",
              "    <tr style=\"text-align: right;\">\n",
              "      <th></th>\n",
              "      <th>Unnamed: 0</th>\n",
              "      <th>Unnamed: 0.1</th>\n",
              "      <th>index</th>\n",
              "      <th>SOPInstanceUID</th>\n",
              "      <th>Modality</th>\n",
              "      <th>PatientID</th>\n",
              "      <th>StudyInstanceUID</th>\n",
              "      <th>SeriesInstanceUID</th>\n",
              "      <th>StudyID</th>\n",
              "      <th>ImagePositionPatient</th>\n",
              "      <th>ImageOrientationPatient</th>\n",
              "      <th>SamplesPerPixel</th>\n",
              "      <th>PhotometricInterpretation</th>\n",
              "      <th>Rows</th>\n",
              "      <th>Columns</th>\n",
              "      <th>PixelSpacing</th>\n",
              "      <th>BitsAllocated</th>\n",
              "      <th>BitsStored</th>\n",
              "      <th>HighBit</th>\n",
              "      <th>PixelRepresentation</th>\n",
              "      <th>WindowCenter</th>\n",
              "      <th>WindowWidth</th>\n",
              "      <th>RescaleIntercept</th>\n",
              "      <th>RescaleSlope</th>\n",
              "      <th>fname</th>\n",
              "      <th>MultiImagePositionPatient</th>\n",
              "      <th>ImagePositionPatient1</th>\n",
              "      <th>ImagePositionPatient2</th>\n",
              "      <th>MultiImageOrientationPatient</th>\n",
              "      <th>ImageOrientationPatient1</th>\n",
              "      <th>ImageOrientationPatient2</th>\n",
              "      <th>ImageOrientationPatient3</th>\n",
              "      <th>ImageOrientationPatient4</th>\n",
              "      <th>ImageOrientationPatient5</th>\n",
              "      <th>MultiPixelSpacing</th>\n",
              "      <th>PixelSpacing1</th>\n",
              "      <th>img_min</th>\n",
              "      <th>img_max</th>\n",
              "      <th>img_mean</th>\n",
              "      <th>img_std</th>\n",
              "      <th>img_pct_window</th>\n",
              "      <th>MultiWindowCenter</th>\n",
              "      <th>WindowCenter1</th>\n",
              "      <th>MultiWindowWidth</th>\n",
              "      <th>WindowWidth1</th>\n",
              "      <th>any</th>\n",
              "      <th>epidural</th>\n",
              "      <th>intraparenchymal</th>\n",
              "      <th>intraventricular</th>\n",
              "      <th>subarachnoid</th>\n",
              "      <th>subdural</th>\n",
              "      <th>pct_cut</th>\n",
              "      <th>split</th>\n",
              "    </tr>\n",
              "  </thead>\n",
              "  <tbody>\n",
              "    <tr>\n",
              "      <th>139665</th>\n",
              "      <td>139665</td>\n",
              "      <td>139665</td>\n",
              "      <td>312002</td>\n",
              "      <td>ID_779858c27</td>\n",
              "      <td>CT</td>\n",
              "      <td>ID_2ecaabfe</td>\n",
              "      <td>ID_7107642e03</td>\n",
              "      <td>ID_04b1318e8e</td>\n",
              "      <td>NaN</td>\n",
              "      <td>-125.0</td>\n",
              "      <td>1.0</td>\n",
              "      <td>1</td>\n",
              "      <td>MONOCHROME2</td>\n",
              "      <td>512</td>\n",
              "      <td>512</td>\n",
              "      <td>0.488281</td>\n",
              "      <td>16</td>\n",
              "      <td>16</td>\n",
              "      <td>15</td>\n",
              "      <td>1</td>\n",
              "      <td>30.0</td>\n",
              "      <td>80.0</td>\n",
              "      <td>-1024.0</td>\n",
              "      <td>1.0</td>\n",
              "      <td>../input/rsna-intracranial-hemorrhage-detectio...</td>\n",
              "      <td>1</td>\n",
              "      <td>-116.640732</td>\n",
              "      <td>156.931549</td>\n",
              "      <td>1</td>\n",
              "      <td>0.0</td>\n",
              "      <td>0.0</td>\n",
              "      <td>0.0</td>\n",
              "      <td>0.965926</td>\n",
              "      <td>-0.258819</td>\n",
              "      <td>1</td>\n",
              "      <td>0.488281</td>\n",
              "      <td>-2000</td>\n",
              "      <td>2806</td>\n",
              "      <td>-68.513100</td>\n",
              "      <td>1163.294980</td>\n",
              "      <td>0.125107</td>\n",
              "      <td>NaN</td>\n",
              "      <td>NaN</td>\n",
              "      <td>NaN</td>\n",
              "      <td>NaN</td>\n",
              "      <td>0</td>\n",
              "      <td>0</td>\n",
              "      <td>0</td>\n",
              "      <td>0</td>\n",
              "      <td>0</td>\n",
              "      <td>0</td>\n",
              "      <td>(0.1, 0.2]</td>\n",
              "      <td>14</td>\n",
              "    </tr>\n",
              "    <tr>\n",
              "      <th>148871</th>\n",
              "      <td>148871</td>\n",
              "      <td>148871</td>\n",
              "      <td>427720</td>\n",
              "      <td>ID_e96c9e3db</td>\n",
              "      <td>CT</td>\n",
              "      <td>ID_7173bbfa</td>\n",
              "      <td>ID_60d1f23a4a</td>\n",
              "      <td>ID_f8da691279</td>\n",
              "      <td>NaN</td>\n",
              "      <td>-125.0</td>\n",
              "      <td>1.0</td>\n",
              "      <td>1</td>\n",
              "      <td>MONOCHROME2</td>\n",
              "      <td>512</td>\n",
              "      <td>512</td>\n",
              "      <td>0.488281</td>\n",
              "      <td>16</td>\n",
              "      <td>16</td>\n",
              "      <td>15</td>\n",
              "      <td>1</td>\n",
              "      <td>30.0</td>\n",
              "      <td>80.0</td>\n",
              "      <td>-1024.0</td>\n",
              "      <td>1.0</td>\n",
              "      <td>../input/rsna-intracranial-hemorrhage-detectio...</td>\n",
              "      <td>1</td>\n",
              "      <td>-121.289818</td>\n",
              "      <td>132.876526</td>\n",
              "      <td>1</td>\n",
              "      <td>0.0</td>\n",
              "      <td>0.0</td>\n",
              "      <td>0.0</td>\n",
              "      <td>0.945519</td>\n",
              "      <td>-0.325568</td>\n",
              "      <td>1</td>\n",
              "      <td>0.488281</td>\n",
              "      <td>-2000</td>\n",
              "      <td>2815</td>\n",
              "      <td>69.768433</td>\n",
              "      <td>1220.667199</td>\n",
              "      <td>0.245369</td>\n",
              "      <td>NaN</td>\n",
              "      <td>NaN</td>\n",
              "      <td>NaN</td>\n",
              "      <td>NaN</td>\n",
              "      <td>0</td>\n",
              "      <td>0</td>\n",
              "      <td>0</td>\n",
              "      <td>0</td>\n",
              "      <td>0</td>\n",
              "      <td>0</td>\n",
              "      <td>(0.2, 0.3]</td>\n",
              "      <td>15</td>\n",
              "    </tr>\n",
              "    <tr>\n",
              "      <th>40455</th>\n",
              "      <td>40455</td>\n",
              "      <td>40455</td>\n",
              "      <td>281098</td>\n",
              "      <td>ID_194db803f</td>\n",
              "      <td>CT</td>\n",
              "      <td>ID_77de44ad</td>\n",
              "      <td>ID_d621130e3d</td>\n",
              "      <td>ID_b555440e84</td>\n",
              "      <td>NaN</td>\n",
              "      <td>-123.0</td>\n",
              "      <td>1.0</td>\n",
              "      <td>1</td>\n",
              "      <td>MONOCHROME2</td>\n",
              "      <td>512</td>\n",
              "      <td>512</td>\n",
              "      <td>0.488281</td>\n",
              "      <td>16</td>\n",
              "      <td>12</td>\n",
              "      <td>11</td>\n",
              "      <td>0</td>\n",
              "      <td>40.0</td>\n",
              "      <td>80.0</td>\n",
              "      <td>-1024.0</td>\n",
              "      <td>1.0</td>\n",
              "      <td>../input/rsna-intracranial-hemorrhage-detectio...</td>\n",
              "      <td>1</td>\n",
              "      <td>-50.001010</td>\n",
              "      <td>180.051520</td>\n",
              "      <td>1</td>\n",
              "      <td>0.0</td>\n",
              "      <td>0.0</td>\n",
              "      <td>0.0</td>\n",
              "      <td>0.978148</td>\n",
              "      <td>-0.207912</td>\n",
              "      <td>1</td>\n",
              "      <td>0.488281</td>\n",
              "      <td>0</td>\n",
              "      <td>2610</td>\n",
              "      <td>491.905163</td>\n",
              "      <td>580.444349</td>\n",
              "      <td>0.304535</td>\n",
              "      <td>1.0</td>\n",
              "      <td>40.0</td>\n",
              "      <td>1.0</td>\n",
              "      <td>80.0</td>\n",
              "      <td>1</td>\n",
              "      <td>0</td>\n",
              "      <td>0</td>\n",
              "      <td>0</td>\n",
              "      <td>0</td>\n",
              "      <td>1</td>\n",
              "      <td>(0.3, 1.0]</td>\n",
              "      <td>5</td>\n",
              "    </tr>\n",
              "  </tbody>\n",
              "</table>\n",
              "</div>"
            ],
            "text/plain": [
              "        Unnamed: 0  Unnamed: 0.1   index  ... subdural     pct_cut split\n",
              "139665      139665        139665  312002  ...        0  (0.1, 0.2]    14\n",
              "148871      148871        148871  427720  ...        0  (0.2, 0.3]    15\n",
              "40455        40455         40455  281098  ...        1  (0.3, 1.0]     5\n",
              "\n",
              "[3 rows x 53 columns]"
            ]
          },
          "metadata": {
            "tags": []
          },
          "execution_count": 11
        }
      ]
    },
    {
      "cell_type": "markdown",
      "metadata": {
        "id": "NYdHHbORadqN",
        "colab_type": "text"
      },
      "source": [
        "Some of the columns are useless at this point, let's keep just those that we actually need. Also some of the columns have too long name, yes SOPInstanceUID I'm talking about you so we'll rename them."
      ]
    },
    {
      "cell_type": "code",
      "metadata": {
        "id": "BqW9VJAoamXZ",
        "colab_type": "code",
        "colab": {}
      },
      "source": [
        "train = train_df[['SOPInstanceUID',\n",
        "                  'PatientID',\n",
        "                  'any',\n",
        "                  'epidural',\n",
        "                  'intraparenchymal',\n",
        "                  'intraventricular',\n",
        "                  'subarachnoid',\n",
        "                  'subdural']].copy()\n",
        "train.rename(columns={'SOPInstanceUID': 'ID',\n",
        "                      'PatientID': 'Patient'},\n",
        "              inplace=True)\n",
        "#shuffle rows\n",
        "train = train.sample(frac=1)"
      ],
      "execution_count": 0,
      "outputs": []
    },
    {
      "cell_type": "code",
      "metadata": {
        "id": "sbkJiWhT_seU",
        "colab_type": "code",
        "colab": {}
      },
      "source": [
        "if prototyping:\n",
        "  train = train.sample(200)\n",
        "  train = train.reset_index(drop=True)"
      ],
      "execution_count": 0,
      "outputs": []
    },
    {
      "cell_type": "code",
      "metadata": {
        "id": "VFws-IEliua2",
        "colab_type": "code",
        "outputId": "a0a2732b-3bd9-45a4-8d58-68c559e500a1",
        "colab": {
          "base_uri": "https://localhost:8080/",
          "height": 204
        }
      },
      "source": [
        "train.head(5)"
      ],
      "execution_count": 0,
      "outputs": [
        {
          "output_type": "execute_result",
          "data": {
            "text/html": [
              "<div>\n",
              "<style scoped>\n",
              "    .dataframe tbody tr th:only-of-type {\n",
              "        vertical-align: middle;\n",
              "    }\n",
              "\n",
              "    .dataframe tbody tr th {\n",
              "        vertical-align: top;\n",
              "    }\n",
              "\n",
              "    .dataframe thead th {\n",
              "        text-align: right;\n",
              "    }\n",
              "</style>\n",
              "<table border=\"1\" class=\"dataframe\">\n",
              "  <thead>\n",
              "    <tr style=\"text-align: right;\">\n",
              "      <th></th>\n",
              "      <th>ID</th>\n",
              "      <th>Patient</th>\n",
              "      <th>any</th>\n",
              "      <th>epidural</th>\n",
              "      <th>intraparenchymal</th>\n",
              "      <th>intraventricular</th>\n",
              "      <th>subarachnoid</th>\n",
              "      <th>subdural</th>\n",
              "    </tr>\n",
              "  </thead>\n",
              "  <tbody>\n",
              "    <tr>\n",
              "      <th>3804</th>\n",
              "      <td>ID_071852ae9</td>\n",
              "      <td>ID_907b01cd</td>\n",
              "      <td>1</td>\n",
              "      <td>0</td>\n",
              "      <td>0</td>\n",
              "      <td>0</td>\n",
              "      <td>1</td>\n",
              "      <td>0</td>\n",
              "    </tr>\n",
              "    <tr>\n",
              "      <th>51053</th>\n",
              "      <td>ID_2ec274695</td>\n",
              "      <td>ID_33e26eaf</td>\n",
              "      <td>1</td>\n",
              "      <td>0</td>\n",
              "      <td>0</td>\n",
              "      <td>1</td>\n",
              "      <td>0</td>\n",
              "      <td>0</td>\n",
              "    </tr>\n",
              "    <tr>\n",
              "      <th>102426</th>\n",
              "      <td>ID_692f3dfb6</td>\n",
              "      <td>ID_f380901e</td>\n",
              "      <td>0</td>\n",
              "      <td>0</td>\n",
              "      <td>0</td>\n",
              "      <td>0</td>\n",
              "      <td>0</td>\n",
              "      <td>0</td>\n",
              "    </tr>\n",
              "    <tr>\n",
              "      <th>153411</th>\n",
              "      <td>ID_862a087e3</td>\n",
              "      <td>ID_acd4a315</td>\n",
              "      <td>0</td>\n",
              "      <td>0</td>\n",
              "      <td>0</td>\n",
              "      <td>0</td>\n",
              "      <td>0</td>\n",
              "      <td>0</td>\n",
              "    </tr>\n",
              "    <tr>\n",
              "      <th>167291</th>\n",
              "      <td>ID_2f642523e</td>\n",
              "      <td>ID_0df59147</td>\n",
              "      <td>0</td>\n",
              "      <td>0</td>\n",
              "      <td>0</td>\n",
              "      <td>0</td>\n",
              "      <td>0</td>\n",
              "      <td>0</td>\n",
              "    </tr>\n",
              "  </tbody>\n",
              "</table>\n",
              "</div>"
            ],
            "text/plain": [
              "                  ID      Patient  ...  subarachnoid  subdural\n",
              "3804    ID_071852ae9  ID_907b01cd  ...             1         0\n",
              "51053   ID_2ec274695  ID_33e26eaf  ...             0         0\n",
              "102426  ID_692f3dfb6  ID_f380901e  ...             0         0\n",
              "153411  ID_862a087e3  ID_acd4a315  ...             0         0\n",
              "167291  ID_2f642523e  ID_0df59147  ...             0         0\n",
              "\n",
              "[5 rows x 8 columns]"
            ]
          },
          "metadata": {
            "tags": []
          },
          "execution_count": 14
        }
      ]
    },
    {
      "cell_type": "markdown",
      "metadata": {
        "id": "MSi-wdBbxWkr",
        "colab_type": "text"
      },
      "source": [
        "### Load bins for uniform transform"
      ]
    },
    {
      "cell_type": "code",
      "metadata": {
        "id": "pcHBPvr7xWDU",
        "colab_type": "code",
        "colab": {}
      },
      "source": [
        "bins = torch.load(BASE_DIR+\"bins.pt\").numpy()"
      ],
      "execution_count": 0,
      "outputs": []
    },
    {
      "cell_type": "markdown",
      "metadata": {
        "id": "ctj4nBrbThpT",
        "colab_type": "text"
      },
      "source": [
        "## Data processing functions\n",
        "Before we can start building awesome neural networks, we need a few helper functions for constructing data (i.e. images) in form that's acceptable for the models to learn from.\n",
        "\n",
        "First, functions for reading DICOM and applying intercept and slope."
      ]
    },
    {
      "cell_type": "code",
      "metadata": {
        "id": "qzN-9sVgeYny",
        "colab_type": "code",
        "colab": {}
      },
      "source": [
        "#correcting dcm with wrong meta-data (explained in preprocessing notebook)\n",
        "def correct_dcm(dcm):\n",
        "    x = dcm.pixel_array + 1000\n",
        "    px_mode = 4096\n",
        "    x[x>=px_mode] = x[x>=px_mode] - px_mode\n",
        "    dcm.PixelData = x.tobytes()\n",
        "    dcm.RescaleIntercept = -1000\n",
        "\n",
        "#transform dicom to HU by applying intercept and slope\n",
        "def rescale_dcm(dcm):\n",
        "  if (dcm.BitsStored == 12) and (dcm.PixelRepresentation == 0) and (int(dcm.RescaleIntercept) > -100):\n",
        "    correct_dcm(dcm)\n",
        "  return dcm.pixel_array * dcm.RescaleSlope + dcm.RescaleIntercept"
      ],
      "execution_count": 0,
      "outputs": []
    },
    {
      "cell_type": "markdown",
      "metadata": {
        "id": "5s6f3kDaw_At",
        "colab_type": "text"
      },
      "source": [
        "### Use full scale but apply uniform distribution"
      ]
    },
    {
      "cell_type": "code",
      "metadata": {
        "id": "d0FPSzjDqVbZ",
        "colab_type": "code",
        "colab": {}
      },
      "source": [
        "def to_full(dcm, bins):\n",
        "  ys = np.linspace(0., 1., len(bins))\n",
        "  x = dcm.flatten()\n",
        "  x = np.interp(x, bins, ys)\n",
        "  x = x.reshape(dcm.shape).clip(0.,1.) * 2**16\n",
        "  x = x.astype(np.uint16)\n",
        "  x[x<np.median(x)]=0\n",
        "  x = np.stack((x,)*3, axis=-1)\n",
        "  return x"
      ],
      "execution_count": 0,
      "outputs": []
    },
    {
      "cell_type": "code",
      "metadata": {
        "id": "MyrYCyH6t3HE",
        "colab_type": "code",
        "outputId": "5571bc3d-e768-4c4d-ec14-93d413c3fb0a",
        "colab": {
          "base_uri": "https://localhost:8080/",
          "height": 286
        }
      },
      "source": [
        "#test it\n",
        "dcm = pydicom.dcmread(IMAGES_PATH+\"/\"+train.ID[0]+\".dcm\")\n",
        "dcm = rescale_dcm(dcm)\n",
        "x = to_full(dcm, bins)\n",
        "plt.imshow(x[:,:,0], cmap=plt.cm.bone)"
      ],
      "execution_count": 0,
      "outputs": [
        {
          "output_type": "execute_result",
          "data": {
            "text/plain": [
              "<matplotlib.image.AxesImage at 0x7f11f46e1d68>"
            ]
          },
          "metadata": {
            "tags": []
          },
          "execution_count": 18
        },
        {
          "output_type": "display_data",
          "data": {
            "image/png": "[encoded data removed]",
            "text/plain": [
              "<Figure size 432x288 with 1 Axes>"
            ]
          },
          "metadata": {
            "tags": []
          }
        }
      ]
    },
    {
      "cell_type": "markdown",
      "metadata": {
        "id": "24YQ6mt2gsRT",
        "colab_type": "text"
      },
      "source": [
        "### Getting channels and save them as color channels"
      ]
    },
    {
      "cell_type": "code",
      "metadata": {
        "id": "3ZsYW4pbgxb8",
        "colab_type": "code",
        "colab": {}
      },
      "source": [
        "def window_image(img, window_center, window_width, U=1.0, eps=(1.0 / 255.0)):\n",
        "    ue = np.log((U / eps) - 1.0)\n",
        "    W = (2 / window_width) * ue\n",
        "    b = ((-2 * window_center) / window_width) * ue\n",
        "    z = W * img + b\n",
        "    img = U / (1 + np.power(np.e, -1.0 * z))\n",
        "    img = (img - np.min(img)) / (np.max(img) - np.min(img))\n",
        "    return img\n",
        "\n",
        "def to_channels(dcm):\n",
        "    brain_img = window_image(dcm, 40, 80)\n",
        "    subdural_img = window_image(dcm, 80, 200)\n",
        "    soft_img = window_image(dcm, 40, 380)\n",
        "    bsb_img = np.array([brain_img, subdural_img, soft_img]).transpose(1,2,0)\n",
        "    return bsb_img"
      ],
      "execution_count": 0,
      "outputs": []
    },
    {
      "cell_type": "code",
      "metadata": {
        "id": "jgUSlI3hUCzq",
        "colab_type": "code",
        "colab": {}
      },
      "source": [
        "#Finally function for loading a single image and resizing it to the input size.\n",
        "def read_img(ID, resize, preprocess):\n",
        "    path = IMAGES_PATH+'/'+ID+'.dcm'\n",
        "    dcm = pydicom.dcmread(path)\n",
        "    dcm = rescale_dcm(dcm)\n",
        "\n",
        "    if preprocess is \"CH\":\n",
        "      try: img = to_channels(dcm)\n",
        "      except: img = np.zeros(resize)\n",
        "    if preprocess is \"F\":\n",
        "      try: img = to_full(dcm, bins)\n",
        "      except: img = np.zeros(resize)\n",
        "\n",
        "    img = cv2.resize(img, resize[:2], interpolation=cv2.INTER_CUBIC) #resize\n",
        "    img = (img - np.min(img))/(np.max(img)-np.min(img)) #min-max normalize\n",
        "    return img"
      ],
      "execution_count": 0,
      "outputs": []
    },
    {
      "cell_type": "code",
      "metadata": {
        "id": "leZ6duPAfTQC",
        "colab_type": "code",
        "outputId": "f3f51377-4092-4a2c-b9c4-40d70a1ac30b",
        "colab": {
          "base_uri": "https://localhost:8080/",
          "height": 354
        }
      },
      "source": [
        "%time img_ch = read_img(train.ID[2], (250, 250, 3), preprocess=\"CH\")\n",
        "%time img_f = read_img(train.ID[2], (250, 250, 3), preprocess=\"F\")\n",
        "\n",
        "#some sanity checks\n",
        "plt.imshow(img_ch)\n",
        "print(img_ch.shape)"
      ],
      "execution_count": 0,
      "outputs": [
        {
          "output_type": "stream",
          "text": [
            "CPU times: user 70.8 ms, sys: 205 µs, total: 71 ms\n",
            "Wall time: 113 ms\n",
            "CPU times: user 15.4 ms, sys: 1.08 ms, total: 16.5 ms\n",
            "Wall time: 16.6 ms\n",
            "(250, 250, 3)\n"
          ],
          "name": "stdout"
        },
        {
          "output_type": "display_data",
          "data": {
            "image/png": "[encoded data removed]",
            "text/plain": [
              "<Figure size 432x288 with 1 Axes>"
            ]
          },
          "metadata": {
            "tags": []
          }
        }
      ]
    },
    {
      "cell_type": "code",
      "metadata": {
        "id": "VXSwicCIzbE6",
        "colab_type": "code",
        "outputId": "571cc45b-fe6d-4d19-8cd5-fc7d871c9e7d",
        "colab": {
          "base_uri": "https://localhost:8080/",
          "height": 286
        }
      },
      "source": [
        "plt.imshow(img_f)"
      ],
      "execution_count": 0,
      "outputs": [
        {
          "output_type": "execute_result",
          "data": {
            "text/plain": [
              "<matplotlib.image.AxesImage at 0x7f11f41919e8>"
            ]
          },
          "metadata": {
            "tags": []
          },
          "execution_count": 22
        },
        {
          "output_type": "display_data",
          "data": {
            "image/png": "[encoded data removed]",
            "text/plain": [
              "<Figure size 432x288 with 1 Axes>"
            ]
          },
          "metadata": {
            "tags": []
          }
        }
      ]
    },
    {
      "cell_type": "markdown",
      "metadata": {
        "id": "JRXDvpH0hUB0",
        "colab_type": "text"
      },
      "source": [
        "### Data generator\n",
        "This function prepares each batch for feeding to neural network. First, it gets random IDs and associated labels. Then shuffles them, to reduce bias. Finally, the images, using the IDs are loaded using the _read function defined above.\n",
        "\n",
        "The function is generalized for both training and testing data.\n",
        "\n",
        "It is derived from keras.sequence so it should be enabled for multiprocessing."
      ]
    },
    {
      "cell_type": "markdown",
      "metadata": {
        "id": "lazYV0FW5VDi",
        "colab_type": "text"
      },
      "source": [
        "#### Full-preprocessing DataGenerator"
      ]
    },
    {
      "cell_type": "code",
      "metadata": {
        "id": "gN15CiG35bEH",
        "colab_type": "code",
        "colab": {}
      },
      "source": [
        "class DataGenerator_Full(keras.utils.Sequence):\n",
        "\n",
        "    def __init__(self, IDs, labels=None, batch_size=30, img_size=(299, 299, 3), num_classes=5, *args, **kwargs):\n",
        "        self.IDs = IDs\n",
        "        self.labels = labels.loc[:, 'any':'subdural']\n",
        "        self.batch_size = batch_size\n",
        "        self.img_size = img_size\n",
        "        self.num_classes = num_classes\n",
        "        self.on_epoch_end()\n",
        "\n",
        "#define number of steps per epoch\n",
        "    def __len__(self):\n",
        "        return int(ceil(len(self.indices) / self.batch_size))\n",
        "\n",
        "    def __getitem__(self, index):\n",
        "        #indices = self.indices[index*self.batch_size:(index+1)*self.batch_size]\n",
        "        IDs_batch = self.IDs[index*self.batch_size:(index+1)*self.batch_size]\n",
        "        if self.labels is not None:\n",
        "          X, y_any, y_subtype = self.__data_generation(IDs_batch)\n",
        "          return X, [y_any, y_subtype]\n",
        "        else:\n",
        "            X = self.__data_generation(IDs_batch)\n",
        "            return X\n",
        "        \n",
        "    def on_epoch_end(self):\n",
        "        if self.labels is not None: #during training we shuffle the images\n",
        "            self.indices = np.arange(len(self.IDs))\n",
        "            np.random.shuffle(self.indices)\n",
        "        else:\n",
        "            self.indices = np.arange(len(self.IDs))\n",
        "\n",
        "    def __data_generation(self, IDs_batch):\n",
        "        X = np.empty((self.batch_size, *self.img_size))\n",
        "        if self.labels is not None: # training\n",
        "          y_subtype = np.empty((self.batch_size, self.num_classes), dtype=np.float32)\n",
        "          y_any = np.empty((self.batch_size, 1), dtype=np.float32)\n",
        "          for i, ID in enumerate(IDs_batch):\n",
        "            X[i,] = read_img(ID, self.img_size, preprocess=\"F\")\n",
        "            y_any[i], y_subtype[i] = self.__get_target(ID)\n",
        "            return X, y_any, y_subtype\n",
        "        else: # testing\n",
        "            for i, ID in enumerate(IDs_batch):\n",
        "                X[i,] = read_img(ID, self.img_size, preprocess=\"F\")\n",
        "            return X\n",
        "\n",
        "    def __get_target(self, ID):\n",
        "        y_any = self.labels.loc[ID, \"any\"]\n",
        "        y_subtype = self.labels.drop(\"any\", axis=1).loc[ID].values\n",
        "        return y_any, y_subtype"
      ],
      "execution_count": 0,
      "outputs": []
    },
    {
      "cell_type": "markdown",
      "metadata": {
        "id": "8eVlpe8H5bqQ",
        "colab_type": "text"
      },
      "source": [
        "#### Channels-preprocessing DataGenerator"
      ]
    },
    {
      "cell_type": "code",
      "metadata": {
        "id": "6wEHR1byhydD",
        "colab_type": "code",
        "colab": {}
      },
      "source": [
        "class DataGenerator_Channels(keras.utils.Sequence):\n",
        "\n",
        "    def __init__(self, IDs, labels=None, batch_size=30, img_size=(299, 299, 3), num_classes=5, *args, **kwargs):\n",
        "        self.IDs = IDs\n",
        "        self.labels = labels.loc[:, 'any':'subdural']\n",
        "        self.batch_size = batch_size\n",
        "        self.img_size = img_size\n",
        "        self.num_classes = num_classes\n",
        "        self.on_epoch_end()\n",
        "\n",
        "#define number of steps per epoch\n",
        "    def __len__(self):\n",
        "        return int(ceil(len(self.indices) / self.batch_size))\n",
        "\n",
        "    def __getitem__(self, index):\n",
        "        #indices = self.indices[index*self.batch_size:(index+1)*self.batch_size]\n",
        "        IDs_batch = self.IDs[index*self.batch_size:(index+1)*self.batch_size]\n",
        "        if self.labels is not None:\n",
        "          X, y_any, y_subtype = self.__data_generation(IDs_batch)\n",
        "          return X, [y_any, y_subtype]\n",
        "        else:\n",
        "            X = self.__data_generation(IDs_batch)\n",
        "            return X\n",
        "        \n",
        "    def on_epoch_end(self):\n",
        "        if self.labels is not None: #during training we shuffle the images\n",
        "            self.indices = np.arange(len(self.IDs))\n",
        "            np.random.shuffle(self.indices)\n",
        "        else:\n",
        "            self.indices = np.arange(len(self.IDs))\n",
        "\n",
        "    def __data_generation(self, IDs_batch):\n",
        "        X = np.empty((self.batch_size, *self.img_size))\n",
        "        if self.labels is not None: # training\n",
        "          y_subtype = np.empty((self.batch_size, self.num_classes), dtype=np.float32)\n",
        "          y_any = np.empty((self.batch_size, 1), dtype=np.float32)\n",
        "          for i, ID in enumerate(IDs_batch):\n",
        "            X[i,] = read_img(ID, self.img_size, preprocess=\"CH\")\n",
        "            y_any[i], y_subtype[i] = self.__get_target(ID)\n",
        "            return X, y_any, y_subtype\n",
        "        else: # testing\n",
        "            for i, ID in enumerate(IDs_batch):\n",
        "                X[i,] = read_img(ID, self.img_size, preprocess=\"CH\")\n",
        "            return X\n",
        "\n",
        "    def __get_target(self, ID):\n",
        "        y_any = self.labels.loc[ID, \"any\"]\n",
        "        y_subtype = self.labels.drop(\"any\", axis=1).loc[ID].values\n",
        "        return y_any, y_subtype"
      ],
      "execution_count": 0,
      "outputs": []
    },
    {
      "cell_type": "markdown",
      "metadata": {
        "id": "FKT-ULVD8BXS",
        "colab_type": "text"
      },
      "source": [
        "## Train-test split\n",
        "We'll save 10% of images for testing."
      ]
    },
    {
      "cell_type": "code",
      "metadata": {
        "id": "uvesRwH3esiE",
        "colab_type": "code",
        "colab": {}
      },
      "source": [
        "group_kfold = GroupKFold(n_splits=10)\n",
        "\n",
        "for tr, ts in group_kfold.split(train, groups=train.Patient):\n",
        "  training = train.iloc[tr]\n",
        "  testing = train.iloc[ts]\n",
        "\n",
        "testing = testing.set_index('ID', drop=False)\n",
        "print(training.shape)\n",
        "print(testing.shape)"
      ],
      "execution_count": 0,
      "outputs": []
    },
    {
      "cell_type": "markdown",
      "metadata": {
        "id": "TnMyp7JLfY7A",
        "colab_type": "text"
      },
      "source": [
        "### Train-validation split"
      ]
    },
    {
      "cell_type": "code",
      "metadata": {
        "id": "pJKR7Aam8Di7",
        "colab_type": "code",
        "colab": {}
      },
      "source": [
        "tr_val_folds = GroupKFold(n_splits=20)\n",
        "\n",
        "for tr, ts in tr_val_folds.split(training, groups=training.Patient):\n",
        "  train_data = training.iloc[tr]\n",
        "  val_data = training.iloc[ts]\n",
        "\n",
        "train_data = train_data.set_index('ID', drop=False)\n",
        "val_data = val_data.set_index('ID', drop=False)\n",
        "print(train_data.shape)\n",
        "print(val_data.shape)"
      ],
      "execution_count": 0,
      "outputs": []
    },
    {
      "cell_type": "markdown",
      "metadata": {
        "id": "X7ZU9CYw9h1g",
        "colab_type": "text"
      },
      "source": [
        "### Data generators"
      ]
    },
    {
      "cell_type": "code",
      "metadata": {
        "id": "swizCnvL-59_",
        "colab_type": "code",
        "colab": {}
      },
      "source": [
        "train_dataloader_CH = DataGenerator_Channels(IDs=train_data.ID,\n",
        "                                 labels=train_data.loc[:,'any':'subdural'],\n",
        "                                 batch_size=30,\n",
        "                                 img_size=(299,299,3),\n",
        "                                 num_classes=5)\n",
        "val_dataloader_CH = DataGenerator_Channels(IDs=val_data.ID,\n",
        "                               labels=val_data.loc[:,'any':'subdural'],\n",
        "                               batch_size=5,\n",
        "                               img_size=(299,299,3),\n",
        "                               num_classes=5)\n",
        "\n",
        "train_dataloader_F = DataGenerator_Full(IDs=train_data.ID,\n",
        "                                 labels=train_data.loc[:,'any':'subdural'],\n",
        "                                 batch_size=30,\n",
        "                                 img_size=(299,299,3),\n",
        "                                 num_classes=5)\n",
        "val_dataloader_F = DataGenerator_Full(IDs=val_data.ID,\n",
        "                               labels=val_data.loc[:,'any':'subdural'],\n",
        "                               batch_size=5,\n",
        "                               img_size=(299,299,3),\n",
        "                               num_classes=5)"
      ],
      "execution_count": 0,
      "outputs": []
    },
    {
      "cell_type": "code",
      "metadata": {
        "id": "K3gZYtM-RClm",
        "colab_type": "code",
        "colab": {}
      },
      "source": [
        "#sanity check of datagenerator\n",
        "%time X, [y1, y2] = train_dataloader_CH.__getitem__(0)"
      ],
      "execution_count": 0,
      "outputs": []
    },
    {
      "cell_type": "code",
      "metadata": {
        "id": "S6ek2caERIvN",
        "colab_type": "code",
        "colab": {}
      },
      "source": [
        "print(X.shape)\n",
        "print(y1.shape)\n",
        "print(y2.shape)"
      ],
      "execution_count": 0,
      "outputs": []
    },
    {
      "cell_type": "markdown",
      "metadata": {
        "id": "UolSriHKaGf6",
        "colab_type": "text"
      },
      "source": [
        "## Loss function"
      ]
    },
    {
      "cell_type": "code",
      "metadata": {
        "id": "clUntp2baIgY",
        "colab_type": "code",
        "colab": {}
      },
      "source": [
        "def np_multilabel_loss(y_true, y_pred, class_weights=np.array([1., 1., 1., 1., 1.])):\n",
        "    y_pred = np.where(y_pred > 1-(1e-07), 1-1e-07, y_pred)\n",
        "    y_pred = np.where(y_pred < 1e-07, 1e-07, y_pred)\n",
        "    single_class_cross_entropies = - np.mean(y_true * np.log(y_pred) + (1-y_true) * np.log(1-y_pred), axis=0)\n",
        "    \n",
        "    print(single_class_cross_entropies)\n",
        "    if class_weights is None:\n",
        "        loss = np.mean(single_class_cross_entropies)\n",
        "    else:\n",
        "        loss = np.sum(class_weights*single_class_cross_entropies)\n",
        "    return loss"
      ],
      "execution_count": 0,
      "outputs": []
    },
    {
      "cell_type": "markdown",
      "metadata": {
        "id": "M7V55DaYnDwP",
        "colab_type": "text"
      },
      "source": [
        "## Define CNN architecture"
      ]
    },
    {
      "cell_type": "code",
      "metadata": {
        "id": "PcP4Kv1sjeWU",
        "colab_type": "code",
        "colab": {}
      },
      "source": [
        "reduce_lr = ReduceLROnPlateau(monitor='val_loss',factor=0.5,patience=2,min_lr=1e-8,mode=\"min\")\n",
        "        \n",
        "e_stopping = EarlyStopping(monitor=\"val_loss\",min_delta=0.01,patience=4,mode=\"min\")\n",
        "\n",
        "def build_model_1():\n",
        "  inputs = Input(shape=(299,299,3))\n",
        "  x = Conv2D(50, kernel_size=(3,3) ,activation='relu')(inputs)\n",
        "  x = SpatialDropout2D(rate=0.3, data_format='channels_last')(x)\n",
        "  x = BatchNormalization(axis=-1)(x)\n",
        "  x = MaxPooling2D(pool_size=(2, 2))(x)\n",
        "  x = Conv2D(25, kernel_size=(3,3) ,activation='relu')(x)\n",
        "  x = SpatialDropout2D(rate=0.3, data_format='channels_last')(x)\n",
        "  x = BatchNormalization(axis=-1)(x)\n",
        "  x = MaxPooling2D(pool_size=(2, 2))(x)\n",
        "  x = Conv2D(13, kernel_size=(3,3) ,activation='relu')(x)\n",
        "  x = GlobalAveragePooling2D()(x)\n",
        "  x = Dropout(0.3)(x)\n",
        "  x = Dense(100, activation='relu')(x)\n",
        "  x = Dropout(0.3)(x)\n",
        "  any_logits = Dense(1, kernel_initializer=he_normal(seed=11))(x)\n",
        "  any_pred = Activation(\"sigmoid\", name=\"any_predictions\")(any_logits)\n",
        "  x = concatenate([any_pred, x])\n",
        "  sub_pred = Dense(5, name=\"subtype_pred\",\n",
        "                   kernel_initializer=he_normal(seed=12),\n",
        "                   activation=\"sigmoid\")(x) \n",
        "  model = Model(inputs=inputs, outputs=[any_pred, sub_pred])\n",
        "  model.compile(optimizer=Adam(1e-3),\n",
        "                loss=['binary_crossentropy', np_multilabel_loss],\n",
        "                loss_weights = [0.4, 0.6],\n",
        "                metrics={\"any_predictions\":\"binary_accuracy\",\n",
        "                         \"subtype_pred\": \"categorical_accuracy\"})\n",
        "  return model\n",
        "\n",
        "def build_model_2():\n",
        "  inputs = Input(shape=(299,299,3))\n",
        "  x = Conv2D(50, kernel_size=(3,3) ,activation='relu')(inputs)\n",
        "  x = SpatialDropout2D(rate=0.3, data_format='channels_last')(x)\n",
        "  x = BatchNormalization(axis=-1)(x)\n",
        "  x = MaxPooling2D(pool_size=(2, 2))(x)\n",
        "  x = Conv2D(25, kernel_size=(3,3) ,activation='relu')(x)\n",
        "  x = SpatialDropout2D(rate=0.3, data_format='channels_last')(x)\n",
        "  x = BatchNormalization(axis=-1)(x)\n",
        "  x = MaxPooling2D(pool_size=(2, 2))(x)\n",
        "  x = Conv2D(13, kernel_size=(3,3) ,activation='relu')(x)\n",
        "  x = Conv2D(7, kernel_size=(3,3) ,activation='relu')(x)\n",
        "  x = Conv2D(4, kernel_size=(3,3) ,activation='relu')(x)\n",
        "  x = GlobalAveragePooling2D()(x)\n",
        "  x = Dropout(0.3)(x)\n",
        "  x = Dense(100, activation='relu')(x)\n",
        "  x = Dropout(0.3)(x)\n",
        "  any_logits = Dense(1, kernel_initializer=he_normal(seed=11))(x)\n",
        "  any_pred = Activation(\"sigmoid\", name=\"any_predictions\")(any_logits)\n",
        "  x = concatenate([any_pred, x])\n",
        "  sub_pred = Dense(5, name=\"subtype_pred\",\n",
        "                   kernel_initializer=he_normal(seed=12),\n",
        "                   activation=\"sigmoid\")(x) \n",
        "  model = Model(inputs=inputs, outputs=[any_pred, sub_pred])\n",
        "  model.compile(optimizer=Adam(1e-3),\n",
        "                loss=['binary_crossentropy', np_multilabel_loss],\n",
        "                loss_weights = [0.4, 0.6],\n",
        "                metrics={\"any_predictions\":\"binary_accuracy\",\n",
        "                         \"subtype_pred\": \"categorical_accuracy\"})\n",
        "  return model\n",
        "\n",
        "\n",
        "def build_model_3():\n",
        "  inputs = Input(shape=(299,299,3))\n",
        "  x = Conv2D(100, kernel_size=(3,3) ,activation='relu')(inputs)\n",
        "  x = BatchNormalization(axis=-1)(x)\n",
        "  x = MaxPooling2D(pool_size=(2, 2))(x)\n",
        "  x = Conv2D(50, kernel_size=(3,3) ,activation='relu')(x)\n",
        "  x = SpatialDropout2D(rate=0.3, data_format='channels_last')(x)\n",
        "  x = BatchNormalization(axis=-1)(x)\n",
        "  x = MaxPooling2D(pool_size=(2, 2))(x)\n",
        "  x = Conv2D(30, kernel_size=(3,3) ,activation='relu')(x)\n",
        "  x = SpatialDropout2D(rate=0.3, data_format='channels_last')(x)\n",
        "  x = BatchNormalization(axis=-1)(x)\n",
        "  x = MaxPooling2D(pool_size=(2, 2))(x)\n",
        "  x = Conv2D(20, kernel_size=(2,2) ,activation='relu')(x)\n",
        "  x = SpatialDropout2D(rate=0.3, data_format='channels_last')(x)\n",
        "  x = Conv2D(10, kernel_size=(2,2) ,activation='relu')(x)\n",
        "  x = SpatialDropout2D(rate=0.3, data_format='channels_last')(x)\n",
        "  x = Conv2D(5, kernel_size=(2,2) ,activation='relu')(x)\n",
        "  x = GlobalAveragePooling2D()(x)\n",
        "  x = Dropout(0.3)(x)\n",
        "  x = Dense(100, activation='relu')(x)\n",
        "  x = Dropout(0.3)(x)\n",
        "  any_logits = Dense(1, kernel_initializer=he_normal(seed=11))(x)\n",
        "  any_pred = Activation(\"sigmoid\", name=\"any_predictions\")(any_logits)\n",
        "  x = concatenate([any_pred, x])\n",
        "  sub_pred = Dense(5, name=\"subtype_pred\",\n",
        "                   kernel_initializer=he_normal(seed=12),\n",
        "                   activation=\"sigmoid\")(x) \n",
        "  model = Model(inputs=inputs, outputs=[any_pred, sub_pred])\n",
        "  model.compile(optimizer=Adam(1e-3),\n",
        "                loss=['binary_crossentropy', np_multilabel_loss],\n",
        "                loss_weights = [0.4, 0.6],\n",
        "                metrics={\"any_predictions\":\"binary_accuracy\",\n",
        "                         \"subtype_pred\": \"categorical_accuracy\"})\n",
        "  return model"
      ],
      "execution_count": 0,
      "outputs": []
    },
    {
      "cell_type": "markdown",
      "metadata": {
        "id": "-XPR41D3jtfz",
        "colab_type": "text"
      },
      "source": [
        "## Fit models with channel images"
      ]
    },
    {
      "cell_type": "code",
      "metadata": {
        "id": "q6ra8RWvuh3m",
        "colab_type": "code",
        "colab": {}
      },
      "source": [
        "EPOCHS = 5"
      ],
      "execution_count": 0,
      "outputs": []
    },
    {
      "cell_type": "code",
      "metadata": {
        "id": "czi9USjPjxyB",
        "colab_type": "code",
        "colab": {}
      },
      "source": [
        "model_CH_1 = build_model_1()\n",
        "history_CH_1 = model_CH_1.fit_generator(generator=train_dataloader_CH,\n",
        "                              validation_data=val_dataloader_CH,\n",
        "                              epochs=EPOCHS,\n",
        "                              callbacks=[reduce_lr, e_stopping])\n",
        "\n",
        "model_CH_2 = build_model_2()\n",
        "history_CH_2 = model_CH_2.fit_generator(generator=train_dataloader_CH,\n",
        "                              validation_data=val_dataloader_CH,\n",
        "                              epochs=EPOCHS,\n",
        "                              callbacks=[reduce_lr, e_stopping])\n",
        "\n",
        "model_CH_3 = build_model_3()\n",
        "history_CH_3 = model_CH_3.fit_generator(generator=train_dataloader_CH,\n",
        "                              validation_data=val_dataloader_CH,\n",
        "                              epochs=EPOCHS,\n",
        "                              callbacks=[reduce_lr, e_stopping])"
      ],
      "execution_count": 0,
      "outputs": []
    },
    {
      "cell_type": "code",
      "metadata": {
        "id": "IbRJyYf3sSng",
        "colab_type": "code",
        "colab": {}
      },
      "source": [
        "losses_ch = {\"M1\": min(history_CH_1.history['loss']),\n",
        "             \"M2\": min(history_CH_2.history['loss']),\n",
        "             \"M3\": min(history_CH_3.history['loss'])\n",
        "}\n",
        "\n",
        "best_ch = min(losses_ch.keys(), key=(lambda k: losses_ch[k]))\n",
        "print(best_ch)"
      ],
      "execution_count": 0,
      "outputs": []
    },
    {
      "cell_type": "markdown",
      "metadata": {
        "id": "8MLy10WEoVEQ",
        "colab_type": "text"
      },
      "source": [
        "Save history to csv for later and also the model architecture and learned weights.\n",
        "\n"
      ]
    },
    {
      "cell_type": "code",
      "metadata": {
        "id": "798qWVoGmQym",
        "colab_type": "code",
        "colab": {}
      },
      "source": [
        "if best_ch is 'M1':\n",
        "  channels_history = pd.DataFrame.from_dict(history_CH_1.history)\n",
        "  channels_history['epoch']=history_CH_1.epoch\n",
        "  channels_history = channels_history.set_index('epoch')\n",
        "  channels_history.head(5)\n",
        "\n",
        "  #save history to csv\n",
        "  channels_history.to_csv(RESULT_PATH + 'history_CNN_channels.csv')\n",
        "\n",
        "  #save weights\n",
        "  model_CH_1.save_weights(MODEL_PATH + \"CNN_channels.h5\")\n",
        "\n",
        "  with open(MODEL_PATH + 'CNN_channels_summary.txt', 'w') as f:\n",
        "      with redirect_stdout(f):\n",
        "          model_CH_1.summary()\n",
        "\n",
        "  test_dataloader_CH = DataGenerator_Channels(IDs=testing.ID,\n",
        "                                labels=testing.loc[:,'any':'subdural'],\n",
        "                                batch_size=5,\n",
        "                                img_size=(299,299,3),\n",
        "                                num_classes=5)\n",
        "  CH_test_pred_any, CH_test_pred_sub = model_CH_1.predict(test_dataloader_CH)\n",
        "  any_pred = pd.DataFrame(CH_test_pred_any)\n",
        "  sub_pred = pd.DataFrame(CH_test_pred_sub)\n",
        "  ID = pd.DataFrame(testing.ID.values)\n",
        "  channels_pred = pd.concat([ID,any_pred, sub_pred], axis=1)\n",
        "  channels_pred.columns = [\"ID\", \"any\", 'epidural', 'intraparenchymal', 'intraventricular', 'subarachnoid', 'subdural']\n",
        "  channels_pred.to_csv(RESULT_PATH + \"CNN_channels_preds.csv\")\n",
        "  fig, ax = plt.subplots(2,1, figsize=(20,10))\n",
        "  sns.distplot(CH_test_pred_any[:,0], ax=ax[0], color=\"Purple\")\n",
        "  sns.distplot(CH_test_pred_sub[:,0], ax=ax[1])\n",
        "  sns.distplot(CH_test_pred_sub[:,1], ax=ax[1])\n",
        "  sns.distplot(CH_test_pred_sub[:,2], ax=ax[1])\n",
        "  sns.distplot(CH_test_pred_sub[:,3], ax=ax[1])\n",
        "  sns.distplot(CH_test_pred_sub[:,4], ax=ax[1])\n",
        "  ax[0].set_title(\"Predicted probability of hemorrhage occurence in dev batch\")\n",
        "  ax[1].set_title(\"Predicted probability of hemorrhage subtypes in dev batch\")\n",
        "  fig.savefig(RESULT_PATH + 'CNN_channels_dist.png')\n",
        "\n",
        "if best_ch is 'M2':\n",
        "  channels_history = pd.DataFrame.from_dict(history_CH_2.history)\n",
        "  channels_history['epoch']=history_CH_2.epoch\n",
        "  channels_history = channels_history.set_index('epoch')\n",
        "\n",
        "  #save history to csv\n",
        "  channels_history.to_csv(RESULT_PATH + 'history_CNN_channels.csv')\n",
        "\n",
        "  #save weights\n",
        "  model_CH_2.save_weights(MODEL_PATH + \"CNN_channels.h5\")\n",
        "\n",
        "  with open(MODEL_PATH + 'CNN_channels_summary.txt', 'w') as f:\n",
        "      with redirect_stdout(f):\n",
        "          model_CH_2.summary()\n",
        "\n",
        "  test_dataloader_CH = DataGenerator_Channels(IDs=testing.ID,\n",
        "                                labels=testing.loc[:,'any':'subdural'],\n",
        "                                batch_size=5,\n",
        "                                img_size=(299,299,3),\n",
        "                                num_classes=5)\n",
        "  CH_test_pred_any, CH_test_pred_sub = model_CH_2.predict(test_dataloader_CH)\n",
        "  any_pred = pd.DataFrame(CH_test_pred_any)\n",
        "  sub_pred = pd.DataFrame(CH_test_pred_sub)\n",
        "  ID = pd.DataFrame(testing.ID.values)\n",
        "  channels_pred = pd.concat([ID,any_pred, sub_pred], axis=1)\n",
        "  channels_pred.columns = [\"ID\", \"any\", 'epidural', 'intraparenchymal', 'intraventricular', 'subarachnoid', 'subdural']\n",
        "  channels_pred.to_csv(RESULT_PATH + \"CNN_channels_preds.csv\")\n",
        "  fig, ax = plt.subplots(2,1, figsize=(20,10))\n",
        "  sns.distplot(CH_test_pred_any[:,0], ax=ax[0], color=\"Purple\")\n",
        "  sns.distplot(CH_test_pred_sub[:,0], ax=ax[1])\n",
        "  sns.distplot(CH_test_pred_sub[:,1], ax=ax[1])\n",
        "  sns.distplot(CH_test_pred_sub[:,2], ax=ax[1])\n",
        "  sns.distplot(CH_test_pred_sub[:,3], ax=ax[1])\n",
        "  sns.distplot(CH_test_pred_sub[:,4], ax=ax[1])\n",
        "  ax[0].set_title(\"Predicted probability of hemorrhage occurence in dev batch\")\n",
        "  ax[1].set_title(\"Predicted probability of hemorrhage subtypes in dev batch\")\n",
        "  fig.savefig(RESULT_PATH + 'CNN_channels_dist.png')\n",
        "\n",
        "if best_ch is 'M3':\n",
        "  channels_history = pd.DataFrame.from_dict(history_CH_3.history)\n",
        "  channels_history['epoch']=history_CH_3.epoch\n",
        "  channels_history = channels_history.set_index('epoch')\n",
        "  channels_history.head(5)\n",
        "\n",
        "  #save history to csv\n",
        "  channels_history.to_csv(RESULT_PATH + 'history_CNN_channels.csv')\n",
        "\n",
        "  #save weights\n",
        "  model_CH_3.save_weights(MODEL_PATH + \"CNN_channels.h5\")\n",
        "\n",
        "  with open(MODEL_PATH + 'CNN_channels_summary.txt', 'w') as f:\n",
        "      with redirect_stdout(f):\n",
        "          model_CH_3.summary()\n",
        "\n",
        "  test_dataloader_CH = DataGenerator_Channels(IDs=testing.ID,\n",
        "                                labels=testing.loc[:,'any':'subdural'],\n",
        "                                batch_size=5,\n",
        "                                img_size=(299,299,3),\n",
        "                                num_classes=5)\n",
        "  CH_test_pred_any, CH_test_pred_sub = model_CH_3.predict(test_dataloader_CH)\n",
        "  any_pred = pd.DataFrame(CH_test_pred_any)\n",
        "  sub_pred = pd.DataFrame(CH_test_pred_sub)\n",
        "  ID = pd.DataFrame(testing.ID.values)\n",
        "  channels_pred = pd.concat([ID,any_pred, sub_pred], axis=1)\n",
        "  channels_pred.columns = [\"ID\", \"any\", 'epidural', 'intraparenchymal', 'intraventricular', 'subarachnoid', 'subdural']\n",
        "  channels_pred.to_csv(RESULT_PATH + \"CNN_channels_preds.csv\")\n",
        "  fig, ax = plt.subplots(2,1, figsize=(20,10))\n",
        "  sns.distplot(CH_test_pred_any[:,0], ax=ax[0], color=\"Purple\")\n",
        "  sns.distplot(CH_test_pred_sub[:,0], ax=ax[1])\n",
        "  sns.distplot(CH_test_pred_sub[:,1], ax=ax[1])\n",
        "  sns.distplot(CH_test_pred_sub[:,2], ax=ax[1])\n",
        "  sns.distplot(CH_test_pred_sub[:,3], ax=ax[1])\n",
        "  sns.distplot(CH_test_pred_sub[:,4], ax=ax[1])\n",
        "  ax[0].set_title(\"Predicted probability of hemorrhage occurence in dev batch\")\n",
        "  ax[1].set_title(\"Predicted probability of hemorrhage subtypes in dev batch\")\n",
        "  fig.savefig(RESULT_PATH + 'CNN_channels_dist.png')"
      ],
      "execution_count": 0,
      "outputs": []
    },
    {
      "cell_type": "markdown",
      "metadata": {
        "id": "Sdreji7Fv11C",
        "colab_type": "text"
      },
      "source": [
        "## Fit models with full images"
      ]
    },
    {
      "cell_type": "code",
      "metadata": {
        "id": "X780p5lADOMy",
        "colab_type": "code",
        "colab": {}
      },
      "source": [
        "model_F_1 = build_model_1()\n",
        "history_F_1 = model_F_1.fit_generator(generator=train_dataloader_F,\n",
        "                              validation_data=val_dataloader_F,\n",
        "                              epochs=EPOCHS,\n",
        "                              callbacks=[reduce_lr, e_stopping])\n",
        "\n",
        "model_F_2 = build_model_2()\n",
        "history_F_2 = model_F_2.fit_generator(generator=train_dataloader_F,\n",
        "                              validation_data=val_dataloader_F,\n",
        "                              epochs=EPOCHS,\n",
        "                              callbacks=[reduce_lr, e_stopping])\n",
        "\n",
        "model_F_3 = build_model_3()\n",
        "history_F_3 = model_F_3.fit_generator(generator=train_dataloader_F,\n",
        "                              validation_data=val_dataloader_F,\n",
        "                              epochs=EPOCHS,\n",
        "                              callbacks=[reduce_lr, e_stopping])"
      ],
      "execution_count": 0,
      "outputs": []
    },
    {
      "cell_type": "markdown",
      "metadata": {
        "id": "ZLVb4gpbzIH4",
        "colab_type": "text"
      },
      "source": [
        "### Select the best model to save its output"
      ]
    },
    {
      "cell_type": "code",
      "metadata": {
        "id": "Usbcg_dizHbe",
        "colab_type": "code",
        "colab": {}
      },
      "source": [
        "losses_f = {\"M1\": min(history_F_1.history['loss']),\n",
        "             \"M2\": min(history_F_2.history['loss']),\n",
        "             \"M3\": min(history_F_3.history['loss'])\n",
        "}\n",
        "\n",
        "best_f = min(losses_f.keys(), key=(lambda k: losses_f[k]))\n",
        "print(best_f)"
      ],
      "execution_count": 0,
      "outputs": []
    },
    {
      "cell_type": "markdown",
      "metadata": {
        "id": "9ht2cpeFoZ6f",
        "colab_type": "text"
      },
      "source": [
        "Save history for later and also the model architecture and learned weights"
      ]
    },
    {
      "cell_type": "code",
      "metadata": {
        "id": "aQddBd1kyj0N",
        "colab_type": "code",
        "colab": {}
      },
      "source": [
        "if best_f is 'M1':\n",
        "  full_history = pd.DataFrame.from_dict(history_F_1.history)\n",
        "  full_history['epoch']=history_F_1.epoch\n",
        "  full_history = full_history.set_index('epoch')\n",
        "  full_history.head(5)\n",
        "\n",
        "  #save history to csv\n",
        "  full_history.to_csv(RESULT_PATH + 'history_CNN_full.csv')\n",
        "\n",
        "  #save weights\n",
        "  model_F_1.save_weights(MODEL_PATH + \"CNN_full.h5\")\n",
        "\n",
        "  with open(MODEL_PATH + 'CNN_full_summary.txt', 'w') as f:\n",
        "      with redirect_stdout(f):\n",
        "          model_F_1.summary()\n",
        "\n",
        "  test_dataloader_F = DataGenerator_Full(IDs=testing.ID,\n",
        "                                labels=testing.loc[:,'any':'subdural'],\n",
        "                                batch_size=5,\n",
        "                                img_size=(299,299,3),\n",
        "                                num_classes=5)\n",
        "  F_test_pred_any, F_test_pred_sub = model_F_1.predict(test_dataloader_F)\n",
        "  any_pred = pd.DataFrame(F_test_pred_any)\n",
        "  sub_pred = pd.DataFrame(F_test_pred_sub)\n",
        "  ID = pd.DataFrame(testing.ID.values)\n",
        "  full_pred = pd.concat([ID,any_pred, sub_pred], axis=1)\n",
        "  full_pred.columns = [\"ID\", \"any\", 'epidural', 'intraparenchymal', 'intraventricular', 'subarachnoid', 'subdural']\n",
        "  full_pred.to_csv(RESULT_PATH + \"CNN_full_preds.csv\")\n",
        "  fig, ax = plt.subplots(2,1, figsize=(20,10))\n",
        "  sns.distplot(CH_test_pred_any[:,0], ax=ax[0], color=\"Purple\")\n",
        "  sns.distplot(CH_test_pred_sub[:,0], ax=ax[1])\n",
        "  sns.distplot(CH_test_pred_sub[:,1], ax=ax[1])\n",
        "  sns.distplot(CH_test_pred_sub[:,2], ax=ax[1])\n",
        "  sns.distplot(CH_test_pred_sub[:,3], ax=ax[1])\n",
        "  sns.distplot(CH_test_pred_sub[:,4], ax=ax[1])\n",
        "  ax[0].set_title(\"Predicted probability of hemorrhage occurence in dev batch\")\n",
        "  ax[1].set_title(\"Predicted probability of hemorrhage subtypes in dev batch\")\n",
        "  fig.savefig(RESULT_PATH + 'CNN_full_dist.png')\n",
        "\n",
        "if best_f is 'M2':\n",
        "  full_history = pd.DataFrame.from_dict(history_F_2.history)\n",
        "  full_history['epoch']=history_F_2.epoch\n",
        "  full_history = full_history.set_index('epoch')\n",
        "\n",
        "  #save history to csv\n",
        "  full_history.to_csv(RESULT_PATH + 'history_CNN_full.csv')\n",
        "\n",
        "  #save weights\n",
        "  model_F_2.save_weights(MODEL_PATH + \"CNN_full.h5\")\n",
        "\n",
        "  with open(MODEL_PATH + 'CNN_full_summary.txt', 'w') as f:\n",
        "      with redirect_stdout(f):\n",
        "          model_F_2.summary()\n",
        "\n",
        "  test_dataloader_F = DataGenerator_Full(IDs=testing.ID,\n",
        "                                labels=testing.loc[:,'any':'subdural'],\n",
        "                                batch_size=5,\n",
        "                                img_size=(299,299,3),\n",
        "                                num_classes=5)\n",
        "  F_test_pred_any, F_test_pred_sub = model_F_2.predict(test_dataloader_F)\n",
        "  any_pred = pd.DataFrame(F_test_pred_any)\n",
        "  sub_pred = pd.DataFrame(F_test_pred_sub)\n",
        "  ID = pd.DataFrame(testing.ID.values)\n",
        "  full_pred = pd.concat([ID,any_pred, sub_pred], axis=1)\n",
        "  full_pred.columns = [\"ID\", \"any\", 'epidural', 'intraparenchymal', 'intraventricular', 'subarachnoid', 'subdural']\n",
        "  full_pred.to_csv(RESULT_PATH + \"CNN_full_preds.csv\")\n",
        "  fig, ax = plt.subplots(2,1, figsize=(20,10))\n",
        "  sns.distplot(CH_test_pred_any[:,0], ax=ax[0], color=\"Purple\")\n",
        "  sns.distplot(CH_test_pred_sub[:,0], ax=ax[1])\n",
        "  sns.distplot(CH_test_pred_sub[:,1], ax=ax[1])\n",
        "  sns.distplot(CH_test_pred_sub[:,2], ax=ax[1])\n",
        "  sns.distplot(CH_test_pred_sub[:,3], ax=ax[1])\n",
        "  sns.distplot(CH_test_pred_sub[:,4], ax=ax[1])\n",
        "  ax[0].set_title(\"Predicted probability of hemorrhage occurence in dev batch\")\n",
        "  ax[1].set_title(\"Predicted probability of hemorrhage subtypes in dev batch\")\n",
        "  fig.savefig(RESULT_PATH + 'CNN_full_dist.png')\n",
        "\n",
        "if best_f is 'M3':\n",
        "  full_history = pd.DataFrame.from_dict(history_F_3.history)\n",
        "  full_history['epoch']=history_F_3.epoch\n",
        "  full_history = full_history.set_index('epoch')\n",
        "  full_history.head(5)\n",
        "\n",
        "  #save history to csv\n",
        "  full_history.to_csv(RESULT_PATH + 'history_CNN_full.csv')\n",
        "\n",
        "  #save weights\n",
        "  model_F_3.save_weights(MODEL_PATH + \"CNN_full.h5\")\n",
        "\n",
        "  with open(MODEL_PATH + 'CNN_full_summary.txt', 'w') as f:\n",
        "      with redirect_stdout(f):\n",
        "          model_F_3.summary()\n",
        "\n",
        "  test_dataloader_F = DataGenerator_Full(IDs=testing.ID,\n",
        "                                labels=testing.loc[:,'any':'subdural'],\n",
        "                                batch_size=5,\n",
        "                                img_size=(299,299,3),\n",
        "                                num_classes=5)\n",
        "  F_test_pred_any, F_test_pred_sub = model_F_3.predict(test_dataloader_F)\n",
        "  any_pred = pd.DataFrame(F_test_pred_any)\n",
        "  sub_pred = pd.DataFrame(F_test_pred_sub)\n",
        "  ID = pd.DataFrame(testing.ID.values)\n",
        "  full_pred = pd.concat([ID,any_pred, sub_pred], axis=1)\n",
        "  full_pred.columns = [\"ID\", \"any\", 'epidural', 'intraparenchymal', 'intraventricular', 'subarachnoid', 'subdural']\n",
        "  full_pred.to_csv(RESULT_PATH + \"CNN_full_preds.csv\")\n",
        "  fig, ax = plt.subplots(2,1, figsize=(20,10))\n",
        "  sns.distplot(CH_test_pred_any[:,0], ax=ax[0], color=\"Purple\")\n",
        "  sns.distplot(CH_test_pred_sub[:,0], ax=ax[1])\n",
        "  sns.distplot(CH_test_pred_sub[:,1], ax=ax[1])\n",
        "  sns.distplot(CH_test_pred_sub[:,2], ax=ax[1])\n",
        "  sns.distplot(CH_test_pred_sub[:,3], ax=ax[1])\n",
        "  sns.distplot(CH_test_pred_sub[:,4], ax=ax[1])\n",
        "  ax[0].set_title(\"Predicted probability of hemorrhage occurence in dev batch\")\n",
        "  ax[1].set_title(\"Predicted probability of hemorrhage subtypes in dev batch\")\n",
        "  fig.savefig(RESULT_PATH + 'CNN_full_dist.png')"
      ],
      "execution_count": 0,
      "outputs": []
    }
  ]
}