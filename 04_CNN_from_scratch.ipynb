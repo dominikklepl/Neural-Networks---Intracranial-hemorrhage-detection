{
  "nbformat": 4,
  "nbformat_minor": 0,
  "metadata": {
    "colab": {
      "name": "04_CNN from scratch.ipynb",
      "provenance": [],
      "include_colab_link": true
    },
    "kernelspec": {
      "name": "python3",
      "display_name": "Python 3"
    },
    "accelerator": "GPU"
  },
  "cells": [
    {
      "cell_type": "markdown",
      "metadata": {
        "id": "view-in-github",
        "colab_type": "text"
      },
      "source": [
        "<a href=\"https://colab.research.google.com/github/dominikklepl/Neural-Networks-Intracranial-hemorrhage-detection/blob/master/04_CNN_from_scratch.ipynb\" target=\"_parent\"><img src=\"https://colab.research.google.com/assets/colab-badge.svg\" alt=\"Open In Colab\"/></a>"
      ]
    },
    {
      "cell_type": "markdown",
      "metadata": {
        "id": "bCqsoxkxP9zB",
        "colab_type": "text"
      },
      "source": [
        "# Building CNN from scratch\n",
        "In previous notebook, we built only the classifier part of the model and used pretrainted convolutional layers for automatic feature extraction.\n",
        "\n",
        "We'll just copy paste functions for preprocessing and data generation from previous notebook (\"03 Transfer learning\")"
      ]
    },
    {
      "cell_type": "code",
      "metadata": {
        "id": "wVc8B0wP_49g",
        "colab_type": "code",
        "colab": {}
      },
      "source": [
        "prototyping = True"
      ],
      "execution_count": 0,
      "outputs": []
    },
    {
      "cell_type": "markdown",
      "metadata": {
        "id": "Fc1NeHJZVUfI",
        "colab_type": "text"
      },
      "source": [
        "## Setup and paths to data"
      ]
    },
    {
      "cell_type": "markdown",
      "metadata": {
        "id": "K5ieuRPWhad7",
        "colab_type": "text"
      },
      "source": [
        "Install missing packages"
      ]
    },
    {
      "cell_type": "code",
      "metadata": {
        "id": "jgSMnAEchcQC",
        "colab_type": "code",
        "outputId": "fa7bf591-8fa1-4788-ff72-e138ee7a8e6c",
        "colab": {
          "base_uri": "https://localhost:8080/",
          "height": 122
        }
      },
      "source": [
        "!pip install pydicom"
      ],
      "execution_count": 2,
      "outputs": [
        {
          "output_type": "stream",
          "text": [
            "Collecting pydicom\n",
            "\u001b[?25l  Downloading https://files.pythonhosted.org/packages/fc/d5/da1fdf3b967e324ee47a7ad9553c9b94c1193b6b98afd9eeda0efb76b9f7/pydicom-1.3.0-py2.py3-none-any.whl (7.1MB)\n",
            "\u001b[K     |████████████████████████████████| 7.1MB 2.7MB/s \n",
            "\u001b[?25hInstalling collected packages: pydicom\n",
            "Successfully installed pydicom-1.3.0\n"
          ],
          "name": "stdout"
        }
      ]
    },
    {
      "cell_type": "markdown",
      "metadata": {
        "id": "AHyl7ejJRHbp",
        "colab_type": "text"
      },
      "source": [
        "Import all required packages"
      ]
    },
    {
      "cell_type": "code",
      "metadata": {
        "id": "6iC6GizdRLOe",
        "colab_type": "code",
        "outputId": "5b2881f0-1179-4240-8d54-10767ca9651f",
        "colab": {
          "base_uri": "https://localhost:8080/",
          "height": 34
        }
      },
      "source": [
        "#connect google drive\n",
        "from google.colab import drive\n",
        "\n",
        "#dealing with zip\n",
        "import zipfile\n",
        "\n",
        "#importing labels and working with dataframe\n",
        "import pandas as pd\n",
        "\n",
        "#manipulation with images\n",
        "import pydicom\n",
        "import torch\n",
        "import numpy as np\n",
        "from math import ceil, floor, log\n",
        "import cv2\n",
        "\n",
        "#train-test\n",
        "from sklearn.model_selection import GroupKFold\n",
        "\n",
        "#models\n",
        "%tensorflow_version 1.x\n",
        "import keras.utils\n",
        "import tensorflow as tf\n",
        "print(tf.__version__)\n",
        "from keras.layers import GlobalAveragePooling2D, Dense, Activation, concatenate, Dropout, Conv2D, MaxPooling2D, Input, BatchNormalization, SpatialDropout2D\n",
        "from keras.initializers import glorot_normal, he_normal\n",
        "from keras.regularizers import l2\n",
        "from keras.models import Model, load_model, Sequential\n",
        "from keras.callbacks import ModelCheckpoint, ReduceLROnPlateau, EarlyStopping\n",
        "from keras.optimizers import Adam\n",
        "from tensorflow.nn import sigmoid_cross_entropy_with_logits\n",
        "\n",
        "#save model architecture\n",
        "from contextlib import redirect_stdout\n",
        "\n",
        "#pretrained models\n",
        "from keras_applications.resnet import ResNet50\n",
        "from keras_applications.inception_v3 import InceptionV3\n",
        "\n",
        "#plotting\n",
        "import matplotlib.pyplot as plt\n",
        "import seaborn as sns"
      ],
      "execution_count": 114,
      "outputs": [
        {
          "output_type": "stream",
          "text": [
            "1.15.0\n"
          ],
          "name": "stdout"
        }
      ]
    },
    {
      "cell_type": "code",
      "metadata": {
        "id": "WJ5jhXN5R4uc",
        "colab_type": "code",
        "colab": {}
      },
      "source": [
        "#ignore deprecation warnings\n",
        "import warnings\n",
        "warnings.filterwarnings(\"ignore\", category=DeprecationWarning)\n",
        "warnings.filterwarnings(\"ignore\", category=UserWarning)\n",
        "warnings.filterwarnings(\"ignore\", category=FutureWarning)"
      ],
      "execution_count": 0,
      "outputs": []
    },
    {
      "cell_type": "markdown",
      "metadata": {
        "id": "wneWaNJIxllY",
        "colab_type": "text"
      },
      "source": [
        "Check that GPU is available and that keras can use it."
      ]
    },
    {
      "cell_type": "code",
      "metadata": {
        "id": "DGOK4bYJxn6J",
        "colab_type": "code",
        "outputId": "2ff63a25-f17e-4030-cac2-73605d6939b1",
        "colab": {
          "base_uri": "https://localhost:8080/",
          "height": 190
        }
      },
      "source": [
        "from keras import backend as K\n",
        "K.tensorflow_backend._get_available_gpus()"
      ],
      "execution_count": 5,
      "outputs": [
        {
          "output_type": "stream",
          "text": [
            "WARNING:tensorflow:From /usr/local/lib/python3.6/dist-packages/keras/backend/tensorflow_backend.py:190: The name tf.get_default_session is deprecated. Please use tf.compat.v1.get_default_session instead.\n",
            "\n",
            "WARNING:tensorflow:From /usr/local/lib/python3.6/dist-packages/keras/backend/tensorflow_backend.py:197: The name tf.ConfigProto is deprecated. Please use tf.compat.v1.ConfigProto instead.\n",
            "\n",
            "WARNING:tensorflow:From /usr/local/lib/python3.6/dist-packages/keras/backend/tensorflow_backend.py:203: The name tf.Session is deprecated. Please use tf.compat.v1.Session instead.\n",
            "\n",
            "WARNING:tensorflow:From /usr/local/lib/python3.6/dist-packages/keras/backend/tensorflow_backend.py:207: The name tf.global_variables is deprecated. Please use tf.compat.v1.global_variables instead.\n",
            "\n"
          ],
          "name": "stdout"
        },
        {
          "output_type": "execute_result",
          "data": {
            "text/plain": [
              "['/job:localhost/replica:0/task:0/device:GPU:0']"
            ]
          },
          "metadata": {
            "tags": []
          },
          "execution_count": 5
        }
      ]
    },
    {
      "cell_type": "markdown",
      "metadata": {
        "id": "fNASn3sSluA-",
        "colab_type": "text"
      },
      "source": [
        "Set random seed for reproducibility"
      ]
    },
    {
      "cell_type": "code",
      "metadata": {
        "id": "VsH2A1Qhlxep",
        "colab_type": "code",
        "colab": {}
      },
      "source": [
        "np.random.seed(31415)"
      ],
      "execution_count": 0,
      "outputs": []
    },
    {
      "cell_type": "markdown",
      "metadata": {
        "id": "x_9xRxp2XYhR",
        "colab_type": "text"
      },
      "source": [
        "Connect Google Drive. That's where my data is stored."
      ]
    },
    {
      "cell_type": "code",
      "metadata": {
        "id": "AAqMR_oS_3De",
        "colab_type": "code",
        "outputId": "6204a90d-65be-4eb3-aa51-a2d109e4e9b2",
        "colab": {
          "base_uri": "https://localhost:8080/",
          "height": 122
        }
      },
      "source": [
        "GDRIVE_PATH = \"/gdrive\"\n",
        "drive.mount(GDRIVE_PATH)"
      ],
      "execution_count": 7,
      "outputs": [
        {
          "output_type": "stream",
          "text": [
            "Go to this URL in a browser: https://accounts.google.com/o/oauth2/auth?client_id=947318989803-6bn6qk8qdgf4n4g3pfee6491hc0brc4i.apps.googleusercontent.com&redirect_uri=urn%3Aietf%3Awg%3Aoauth%3A2.0%3Aoob&scope=email%20https%3A%2F%2Fwww.googleapis.com%2Fauth%2Fdocs.test%20https%3A%2F%2Fwww.googleapis.com%2Fauth%2Fdrive%20https%3A%2F%2Fwww.googleapis.com%2Fauth%2Fdrive.photos.readonly%20https%3A%2F%2Fwww.googleapis.com%2Fauth%2Fpeopleapi.readonly&response_type=code\n",
            "\n",
            "Enter your authorization code:\n",
            "··········\n",
            "Mounted at /gdrive\n"
          ],
          "name": "stdout"
        }
      ]
    },
    {
      "cell_type": "markdown",
      "metadata": {
        "id": "4KyezdSiRqxy",
        "colab_type": "text"
      },
      "source": [
        "Set paths to all required data"
      ]
    },
    {
      "cell_type": "code",
      "metadata": {
        "id": "4mwN-s-7Rqeq",
        "colab_type": "code",
        "outputId": "7d00db85-bab3-45b3-a4b8-2c5ff68394e5",
        "colab": {
          "base_uri": "https://localhost:8080/",
          "height": 51
        }
      },
      "source": [
        "WORK_DIR = \"/content/\"\n",
        "BASE_DIR = GDRIVE_PATH + \"/My Drive/\"\n",
        "ZIP_PATH = BASE_DIR + \"DICOMS/train_images.zip\"\n",
        "DF_PATH = BASE_DIR + \"train_balanced.csv\"\n",
        "MODEL_PATH = BASE_DIR + \"models/\"\n",
        "RESULT_PATH = BASE_DIR + \"results/\" #for saving performance of models\n",
        "IMAGES_PATH = WORK_DIR + \"img\"\n",
        "\n",
        "#if the model and results aren't created already, create them\n",
        "!mkdir /gdrive/My\\ Drive/models\n",
        "!mkdir /gdrive/My\\ Drive/results\n",
        "\n",
        "#also create temporary folder in working directory for unzipping images\n",
        "!mkdir /content/img"
      ],
      "execution_count": 8,
      "outputs": [
        {
          "output_type": "stream",
          "text": [
            "mkdir: cannot create directory ‘/gdrive/My Drive/models’: File exists\n",
            "mkdir: cannot create directory ‘/gdrive/My Drive/results’: File exists\n"
          ],
          "name": "stdout"
        }
      ]
    },
    {
      "cell_type": "code",
      "metadata": {
        "id": "Y2wpHxQE7Yta",
        "colab_type": "code",
        "outputId": "e2c7a180-854d-4caf-ca9e-b2fcbc34d6fe",
        "colab": {
          "base_uri": "https://localhost:8080/",
          "height": 34
        }
      },
      "source": [
        "#get number of CPU cores\n",
        "import multiprocessing\n",
        "CORES = multiprocessing.cpu_count()\n",
        "print(CORES)"
      ],
      "execution_count": 9,
      "outputs": [
        {
          "output_type": "stream",
          "text": [
            "2\n"
          ],
          "name": "stdout"
        }
      ]
    },
    {
      "cell_type": "markdown",
      "metadata": {
        "id": "HUE6PFH6Va7f",
        "colab_type": "text"
      },
      "source": [
        "Images are saved in a zip file. For easier and faster manipulation, let's extract them to a folder in the working directory that we created before (\"/content/img\")"
      ]
    },
    {
      "cell_type": "code",
      "metadata": {
        "id": "aDrNJugxVZAI",
        "colab_type": "code",
        "colab": {
          "base_uri": "https://localhost:8080/",
          "height": 51
        },
        "outputId": "dcf6cbd9-be40-467b-8da6-1fc7f6033590"
      },
      "source": [
        "img_archive = zipfile.ZipFile(ZIP_PATH)\n",
        "%time img_archive.extractall(path=IMAGES_PATH)"
      ],
      "execution_count": 10,
      "outputs": [
        {
          "output_type": "stream",
          "text": [
            "CPU times: user 14min 53s, sys: 2min 47s, total: 17min 41s\n",
            "Wall time: 23min 51s\n"
          ],
          "name": "stdout"
        }
      ]
    },
    {
      "cell_type": "markdown",
      "metadata": {
        "id": "9QwB9UwVXyyk",
        "colab_type": "text"
      },
      "source": [
        "### Load the csv with labels and metadata"
      ]
    },
    {
      "cell_type": "code",
      "metadata": {
        "id": "9UrkCTAJXyZZ",
        "colab_type": "code",
        "colab": {
          "base_uri": "https://localhost:8080/",
          "height": 332
        },
        "outputId": "c5d01613-332f-4757-acdc-71a21f70b1bf"
      },
      "source": [
        "train_df = pd.read_csv(DF_PATH)\n",
        "train_df.sample(3)"
      ],
      "execution_count": 11,
      "outputs": [
        {
          "output_type": "execute_result",
          "data": {
            "text/html": [
              "<div>\n",
              "<style scoped>\n",
              "    .dataframe tbody tr th:only-of-type {\n",
              "        vertical-align: middle;\n",
              "    }\n",
              "\n",
              "    .dataframe tbody tr th {\n",
              "        vertical-align: top;\n",
              "    }\n",
              "\n",
              "    .dataframe thead th {\n",
              "        text-align: right;\n",
              "    }\n",
              "</style>\n",
              "<table border=\"1\" class=\"dataframe\">\n",
              "  <thead>\n",
              "    <tr style=\"text-align: right;\">\n",
              "      <th></th>\n",
              "      <th>Unnamed: 0</th>\n",
              "      <th>Unnamed: 0.1</th>\n",
              "      <th>index</th>\n",
              "      <th>SOPInstanceUID</th>\n",
              "      <th>Modality</th>\n",
              "      <th>PatientID</th>\n",
              "      <th>StudyInstanceUID</th>\n",
              "      <th>SeriesInstanceUID</th>\n",
              "      <th>StudyID</th>\n",
              "      <th>ImagePositionPatient</th>\n",
              "      <th>ImageOrientationPatient</th>\n",
              "      <th>SamplesPerPixel</th>\n",
              "      <th>PhotometricInterpretation</th>\n",
              "      <th>Rows</th>\n",
              "      <th>Columns</th>\n",
              "      <th>PixelSpacing</th>\n",
              "      <th>BitsAllocated</th>\n",
              "      <th>BitsStored</th>\n",
              "      <th>HighBit</th>\n",
              "      <th>PixelRepresentation</th>\n",
              "      <th>WindowCenter</th>\n",
              "      <th>WindowWidth</th>\n",
              "      <th>RescaleIntercept</th>\n",
              "      <th>RescaleSlope</th>\n",
              "      <th>fname</th>\n",
              "      <th>MultiImagePositionPatient</th>\n",
              "      <th>ImagePositionPatient1</th>\n",
              "      <th>ImagePositionPatient2</th>\n",
              "      <th>MultiImageOrientationPatient</th>\n",
              "      <th>ImageOrientationPatient1</th>\n",
              "      <th>ImageOrientationPatient2</th>\n",
              "      <th>ImageOrientationPatient3</th>\n",
              "      <th>ImageOrientationPatient4</th>\n",
              "      <th>ImageOrientationPatient5</th>\n",
              "      <th>MultiPixelSpacing</th>\n",
              "      <th>PixelSpacing1</th>\n",
              "      <th>img_min</th>\n",
              "      <th>img_max</th>\n",
              "      <th>img_mean</th>\n",
              "      <th>img_std</th>\n",
              "      <th>img_pct_window</th>\n",
              "      <th>MultiWindowCenter</th>\n",
              "      <th>WindowCenter1</th>\n",
              "      <th>MultiWindowWidth</th>\n",
              "      <th>WindowWidth1</th>\n",
              "      <th>any</th>\n",
              "      <th>epidural</th>\n",
              "      <th>intraparenchymal</th>\n",
              "      <th>intraventricular</th>\n",
              "      <th>subarachnoid</th>\n",
              "      <th>subdural</th>\n",
              "      <th>pct_cut</th>\n",
              "      <th>split</th>\n",
              "    </tr>\n",
              "  </thead>\n",
              "  <tbody>\n",
              "    <tr>\n",
              "      <th>139665</th>\n",
              "      <td>139665</td>\n",
              "      <td>139665</td>\n",
              "      <td>312002</td>\n",
              "      <td>ID_779858c27</td>\n",
              "      <td>CT</td>\n",
              "      <td>ID_2ecaabfe</td>\n",
              "      <td>ID_7107642e03</td>\n",
              "      <td>ID_04b1318e8e</td>\n",
              "      <td>NaN</td>\n",
              "      <td>-125.0</td>\n",
              "      <td>1.0</td>\n",
              "      <td>1</td>\n",
              "      <td>MONOCHROME2</td>\n",
              "      <td>512</td>\n",
              "      <td>512</td>\n",
              "      <td>0.488281</td>\n",
              "      <td>16</td>\n",
              "      <td>16</td>\n",
              "      <td>15</td>\n",
              "      <td>1</td>\n",
              "      <td>30.0</td>\n",
              "      <td>80.0</td>\n",
              "      <td>-1024.0</td>\n",
              "      <td>1.0</td>\n",
              "      <td>../input/rsna-intracranial-hemorrhage-detectio...</td>\n",
              "      <td>1</td>\n",
              "      <td>-116.640732</td>\n",
              "      <td>156.931549</td>\n",
              "      <td>1</td>\n",
              "      <td>0.0</td>\n",
              "      <td>0.0</td>\n",
              "      <td>0.0</td>\n",
              "      <td>0.965926</td>\n",
              "      <td>-0.258819</td>\n",
              "      <td>1</td>\n",
              "      <td>0.488281</td>\n",
              "      <td>-2000</td>\n",
              "      <td>2806</td>\n",
              "      <td>-68.513100</td>\n",
              "      <td>1163.294980</td>\n",
              "      <td>0.125107</td>\n",
              "      <td>NaN</td>\n",
              "      <td>NaN</td>\n",
              "      <td>NaN</td>\n",
              "      <td>NaN</td>\n",
              "      <td>0</td>\n",
              "      <td>0</td>\n",
              "      <td>0</td>\n",
              "      <td>0</td>\n",
              "      <td>0</td>\n",
              "      <td>0</td>\n",
              "      <td>(0.1, 0.2]</td>\n",
              "      <td>14</td>\n",
              "    </tr>\n",
              "    <tr>\n",
              "      <th>148871</th>\n",
              "      <td>148871</td>\n",
              "      <td>148871</td>\n",
              "      <td>427720</td>\n",
              "      <td>ID_e96c9e3db</td>\n",
              "      <td>CT</td>\n",
              "      <td>ID_7173bbfa</td>\n",
              "      <td>ID_60d1f23a4a</td>\n",
              "      <td>ID_f8da691279</td>\n",
              "      <td>NaN</td>\n",
              "      <td>-125.0</td>\n",
              "      <td>1.0</td>\n",
              "      <td>1</td>\n",
              "      <td>MONOCHROME2</td>\n",
              "      <td>512</td>\n",
              "      <td>512</td>\n",
              "      <td>0.488281</td>\n",
              "      <td>16</td>\n",
              "      <td>16</td>\n",
              "      <td>15</td>\n",
              "      <td>1</td>\n",
              "      <td>30.0</td>\n",
              "      <td>80.0</td>\n",
              "      <td>-1024.0</td>\n",
              "      <td>1.0</td>\n",
              "      <td>../input/rsna-intracranial-hemorrhage-detectio...</td>\n",
              "      <td>1</td>\n",
              "      <td>-121.289818</td>\n",
              "      <td>132.876526</td>\n",
              "      <td>1</td>\n",
              "      <td>0.0</td>\n",
              "      <td>0.0</td>\n",
              "      <td>0.0</td>\n",
              "      <td>0.945519</td>\n",
              "      <td>-0.325568</td>\n",
              "      <td>1</td>\n",
              "      <td>0.488281</td>\n",
              "      <td>-2000</td>\n",
              "      <td>2815</td>\n",
              "      <td>69.768433</td>\n",
              "      <td>1220.667199</td>\n",
              "      <td>0.245369</td>\n",
              "      <td>NaN</td>\n",
              "      <td>NaN</td>\n",
              "      <td>NaN</td>\n",
              "      <td>NaN</td>\n",
              "      <td>0</td>\n",
              "      <td>0</td>\n",
              "      <td>0</td>\n",
              "      <td>0</td>\n",
              "      <td>0</td>\n",
              "      <td>0</td>\n",
              "      <td>(0.2, 0.3]</td>\n",
              "      <td>15</td>\n",
              "    </tr>\n",
              "    <tr>\n",
              "      <th>40455</th>\n",
              "      <td>40455</td>\n",
              "      <td>40455</td>\n",
              "      <td>281098</td>\n",
              "      <td>ID_194db803f</td>\n",
              "      <td>CT</td>\n",
              "      <td>ID_77de44ad</td>\n",
              "      <td>ID_d621130e3d</td>\n",
              "      <td>ID_b555440e84</td>\n",
              "      <td>NaN</td>\n",
              "      <td>-123.0</td>\n",
              "      <td>1.0</td>\n",
              "      <td>1</td>\n",
              "      <td>MONOCHROME2</td>\n",
              "      <td>512</td>\n",
              "      <td>512</td>\n",
              "      <td>0.488281</td>\n",
              "      <td>16</td>\n",
              "      <td>12</td>\n",
              "      <td>11</td>\n",
              "      <td>0</td>\n",
              "      <td>40.0</td>\n",
              "      <td>80.0</td>\n",
              "      <td>-1024.0</td>\n",
              "      <td>1.0</td>\n",
              "      <td>../input/rsna-intracranial-hemorrhage-detectio...</td>\n",
              "      <td>1</td>\n",
              "      <td>-50.001010</td>\n",
              "      <td>180.051520</td>\n",
              "      <td>1</td>\n",
              "      <td>0.0</td>\n",
              "      <td>0.0</td>\n",
              "      <td>0.0</td>\n",
              "      <td>0.978148</td>\n",
              "      <td>-0.207912</td>\n",
              "      <td>1</td>\n",
              "      <td>0.488281</td>\n",
              "      <td>0</td>\n",
              "      <td>2610</td>\n",
              "      <td>491.905163</td>\n",
              "      <td>580.444349</td>\n",
              "      <td>0.304535</td>\n",
              "      <td>1.0</td>\n",
              "      <td>40.0</td>\n",
              "      <td>1.0</td>\n",
              "      <td>80.0</td>\n",
              "      <td>1</td>\n",
              "      <td>0</td>\n",
              "      <td>0</td>\n",
              "      <td>0</td>\n",
              "      <td>0</td>\n",
              "      <td>1</td>\n",
              "      <td>(0.3, 1.0]</td>\n",
              "      <td>5</td>\n",
              "    </tr>\n",
              "  </tbody>\n",
              "</table>\n",
              "</div>"
            ],
            "text/plain": [
              "        Unnamed: 0  Unnamed: 0.1   index  ... subdural     pct_cut split\n",
              "139665      139665        139665  312002  ...        0  (0.1, 0.2]    14\n",
              "148871      148871        148871  427720  ...        0  (0.2, 0.3]    15\n",
              "40455        40455         40455  281098  ...        1  (0.3, 1.0]     5\n",
              "\n",
              "[3 rows x 53 columns]"
            ]
          },
          "metadata": {
            "tags": []
          },
          "execution_count": 11
        }
      ]
    },
    {
      "cell_type": "markdown",
      "metadata": {
        "id": "NYdHHbORadqN",
        "colab_type": "text"
      },
      "source": [
        "Some of the columns are useless at this point, let's keep just those that we actually need. Also some of the columns have too long name, yes SOPInstanceUID I'm talking about you so we'll rename them."
      ]
    },
    {
      "cell_type": "code",
      "metadata": {
        "id": "BqW9VJAoamXZ",
        "colab_type": "code",
        "colab": {}
      },
      "source": [
        "train = train_df[['SOPInstanceUID',\n",
        "                  'PatientID',\n",
        "                  'any',\n",
        "                  'epidural',\n",
        "                  'intraparenchymal',\n",
        "                  'intraventricular',\n",
        "                  'subarachnoid',\n",
        "                  'subdural']].copy()\n",
        "train.rename(columns={'SOPInstanceUID': 'ID',\n",
        "                      'PatientID': 'Patient'},\n",
        "              inplace=True)\n",
        "#shuffle rows\n",
        "train = train.sample(frac=1)"
      ],
      "execution_count": 0,
      "outputs": []
    },
    {
      "cell_type": "code",
      "metadata": {
        "id": "sbkJiWhT_seU",
        "colab_type": "code",
        "colab": {}
      },
      "source": [
        "if prototyping:\n",
        "  train = train.sample(200)\n",
        "  train = train.reset_index(drop=True)"
      ],
      "execution_count": 0,
      "outputs": []
    },
    {
      "cell_type": "code",
      "metadata": {
        "id": "VFws-IEliua2",
        "colab_type": "code",
        "colab": {
          "base_uri": "https://localhost:8080/",
          "height": 204
        },
        "outputId": "a2784e4d-4e25-495c-b356-6f1e1cba7e84"
      },
      "source": [
        "train.head(5)"
      ],
      "execution_count": 14,
      "outputs": [
        {
          "output_type": "execute_result",
          "data": {
            "text/html": [
              "<div>\n",
              "<style scoped>\n",
              "    .dataframe tbody tr th:only-of-type {\n",
              "        vertical-align: middle;\n",
              "    }\n",
              "\n",
              "    .dataframe tbody tr th {\n",
              "        vertical-align: top;\n",
              "    }\n",
              "\n",
              "    .dataframe thead th {\n",
              "        text-align: right;\n",
              "    }\n",
              "</style>\n",
              "<table border=\"1\" class=\"dataframe\">\n",
              "  <thead>\n",
              "    <tr style=\"text-align: right;\">\n",
              "      <th></th>\n",
              "      <th>ID</th>\n",
              "      <th>Patient</th>\n",
              "      <th>any</th>\n",
              "      <th>epidural</th>\n",
              "      <th>intraparenchymal</th>\n",
              "      <th>intraventricular</th>\n",
              "      <th>subarachnoid</th>\n",
              "      <th>subdural</th>\n",
              "    </tr>\n",
              "  </thead>\n",
              "  <tbody>\n",
              "    <tr>\n",
              "      <th>0</th>\n",
              "      <td>ID_ae38b47b6</td>\n",
              "      <td>ID_54af5c13</td>\n",
              "      <td>0</td>\n",
              "      <td>0</td>\n",
              "      <td>0</td>\n",
              "      <td>0</td>\n",
              "      <td>0</td>\n",
              "      <td>0</td>\n",
              "    </tr>\n",
              "    <tr>\n",
              "      <th>1</th>\n",
              "      <td>ID_edbfa46a7</td>\n",
              "      <td>ID_e261aa75</td>\n",
              "      <td>0</td>\n",
              "      <td>0</td>\n",
              "      <td>0</td>\n",
              "      <td>0</td>\n",
              "      <td>0</td>\n",
              "      <td>0</td>\n",
              "    </tr>\n",
              "    <tr>\n",
              "      <th>2</th>\n",
              "      <td>ID_618cf0281</td>\n",
              "      <td>ID_0e7a9e19</td>\n",
              "      <td>0</td>\n",
              "      <td>0</td>\n",
              "      <td>0</td>\n",
              "      <td>0</td>\n",
              "      <td>0</td>\n",
              "      <td>0</td>\n",
              "    </tr>\n",
              "    <tr>\n",
              "      <th>3</th>\n",
              "      <td>ID_9195e0f2d</td>\n",
              "      <td>ID_53242bf4</td>\n",
              "      <td>0</td>\n",
              "      <td>0</td>\n",
              "      <td>0</td>\n",
              "      <td>0</td>\n",
              "      <td>0</td>\n",
              "      <td>0</td>\n",
              "    </tr>\n",
              "    <tr>\n",
              "      <th>4</th>\n",
              "      <td>ID_fb9bccf69</td>\n",
              "      <td>ID_1d71b66e</td>\n",
              "      <td>0</td>\n",
              "      <td>0</td>\n",
              "      <td>0</td>\n",
              "      <td>0</td>\n",
              "      <td>0</td>\n",
              "      <td>0</td>\n",
              "    </tr>\n",
              "  </tbody>\n",
              "</table>\n",
              "</div>"
            ],
            "text/plain": [
              "             ID      Patient  any  ...  intraventricular  subarachnoid  subdural\n",
              "0  ID_ae38b47b6  ID_54af5c13    0  ...                 0             0         0\n",
              "1  ID_edbfa46a7  ID_e261aa75    0  ...                 0             0         0\n",
              "2  ID_618cf0281  ID_0e7a9e19    0  ...                 0             0         0\n",
              "3  ID_9195e0f2d  ID_53242bf4    0  ...                 0             0         0\n",
              "4  ID_fb9bccf69  ID_1d71b66e    0  ...                 0             0         0\n",
              "\n",
              "[5 rows x 8 columns]"
            ]
          },
          "metadata": {
            "tags": []
          },
          "execution_count": 14
        }
      ]
    },
    {
      "cell_type": "markdown",
      "metadata": {
        "id": "MSi-wdBbxWkr",
        "colab_type": "text"
      },
      "source": [
        "### Load bins for uniform transform"
      ]
    },
    {
      "cell_type": "code",
      "metadata": {
        "id": "pcHBPvr7xWDU",
        "colab_type": "code",
        "colab": {}
      },
      "source": [
        "bins = torch.load(BASE_DIR+\"bins.pt\").numpy()"
      ],
      "execution_count": 0,
      "outputs": []
    },
    {
      "cell_type": "markdown",
      "metadata": {
        "id": "ctj4nBrbThpT",
        "colab_type": "text"
      },
      "source": [
        "## Data processing functions\n",
        "Before we can start building awesome neural networks, we need a few helper functions for constructing data (i.e. images) in form that's acceptable for the models to learn from.\n",
        "\n",
        "First, functions for reading DICOM and applying intercept and slope."
      ]
    },
    {
      "cell_type": "code",
      "metadata": {
        "id": "qzN-9sVgeYny",
        "colab_type": "code",
        "colab": {}
      },
      "source": [
        "#correcting dcm with wrong meta-data (explained in preprocessing notebook)\n",
        "def correct_dcm(dcm):\n",
        "    x = dcm.pixel_array + 1000\n",
        "    px_mode = 4096\n",
        "    x[x>=px_mode] = x[x>=px_mode] - px_mode\n",
        "    dcm.PixelData = x.tobytes()\n",
        "    dcm.RescaleIntercept = -1000\n",
        "\n",
        "#transform dicom to HU by applying intercept and slope\n",
        "def rescale_dcm(dcm):\n",
        "  if (dcm.BitsStored == 12) and (dcm.PixelRepresentation == 0) and (int(dcm.RescaleIntercept) > -100):\n",
        "    correct_dcm(dcm)\n",
        "  return dcm.pixel_array * dcm.RescaleSlope + dcm.RescaleIntercept"
      ],
      "execution_count": 0,
      "outputs": []
    },
    {
      "cell_type": "markdown",
      "metadata": {
        "id": "5s6f3kDaw_At",
        "colab_type": "text"
      },
      "source": [
        "### Use full scale but apply uniform distribution"
      ]
    },
    {
      "cell_type": "code",
      "metadata": {
        "id": "d0FPSzjDqVbZ",
        "colab_type": "code",
        "colab": {}
      },
      "source": [
        "def to_full(dcm, bins):\n",
        "  ys = np.linspace(0., 1., len(bins))\n",
        "  x = dcm.flatten()\n",
        "  x = np.interp(x, bins, ys)\n",
        "  x = x.reshape(dcm.shape).clip(0.,1.) * 2**16\n",
        "  x = x.astype(np.uint16)\n",
        "  x[x<np.median(x)]=0\n",
        "  x = np.stack((x,)*3, axis=-1)\n",
        "  return x"
      ],
      "execution_count": 0,
      "outputs": []
    },
    {
      "cell_type": "code",
      "metadata": {
        "id": "MyrYCyH6t3HE",
        "colab_type": "code",
        "colab": {
          "base_uri": "https://localhost:8080/",
          "height": 286
        },
        "outputId": "11c15432-954d-4b15-84e0-2902cffa00cd"
      },
      "source": [
        "#test it\n",
        "dcm = pydicom.dcmread(IMAGES_PATH+\"/\"+train.ID[0]+\".dcm\")\n",
        "dcm = rescale_dcm(dcm)\n",
        "x = to_full(dcm, bins)\n",
        "plt.imshow(x[:,:,0], cmap=plt.cm.bone)"
      ],
      "execution_count": 18,
      "outputs": [
        {
          "output_type": "execute_result",
          "data": {
            "text/plain": [
              "<matplotlib.image.AxesImage at 0x7fd694d6a7f0>"
            ]
          },
          "metadata": {
            "tags": []
          },
          "execution_count": 18
        },
        {
          "output_type": "display_data",
          "data": {
            "image/png": "[encoded data removed]",
            "text/plain": [
              "<Figure size 432x288 with 1 Axes>"
            ]
          },
          "metadata": {
            "tags": []
          }
        }
      ]
    },
    {
      "cell_type": "markdown",
      "metadata": {
        "id": "24YQ6mt2gsRT",
        "colab_type": "text"
      },
      "source": [
        "### Getting channels and save them as color channels"
      ]
    },
    {
      "cell_type": "code",
      "metadata": {
        "id": "3ZsYW4pbgxb8",
        "colab_type": "code",
        "colab": {}
      },
      "source": [
        "def window_image(img, window_center, window_width, U=1.0, eps=(1.0 / 255.0)):\n",
        "    ue = np.log((U / eps) - 1.0)\n",
        "    W = (2 / window_width) * ue\n",
        "    b = ((-2 * window_center) / window_width) * ue\n",
        "    z = W * img + b\n",
        "    img = U / (1 + np.power(np.e, -1.0 * z))\n",
        "    img = (img - np.min(img)) / (np.max(img) - np.min(img))\n",
        "    return img\n",
        "\n",
        "def to_channels(dcm):\n",
        "    brain_img = window_image(dcm, 40, 80)\n",
        "    subdural_img = window_image(dcm, 80, 200)\n",
        "    soft_img = window_image(dcm, 40, 380)\n",
        "    bsb_img = np.array([brain_img, subdural_img, soft_img]).transpose(1,2,0)\n",
        "    return bsb_img"
      ],
      "execution_count": 0,
      "outputs": []
    },
    {
      "cell_type": "code",
      "metadata": {
        "id": "jgUSlI3hUCzq",
        "colab_type": "code",
        "colab": {}
      },
      "source": [
        "#Finally function for loading a single image and resizing it to the input size.\n",
        "def read_img(ID, resize, preprocess):\n",
        "    path = IMAGES_PATH+'/'+ID+'.dcm'\n",
        "    dcm = pydicom.dcmread(path)\n",
        "    dcm = rescale_dcm(dcm)\n",
        "\n",
        "    if preprocess is \"CH\":\n",
        "      try: img = to_channels(dcm)\n",
        "      except: img = np.zeros(resize)\n",
        "    if preprocess is \"F\":\n",
        "      try: img = to_full(dcm, bins)\n",
        "      except: img = np.zeros(resize)\n",
        "\n",
        "    img = cv2.resize(img, resize[:2], interpolation=cv2.INTER_CUBIC) #resize\n",
        "    img = (img - np.min(img))/(np.max(img)-np.min(img)) #min-max normalize\n",
        "    return img"
      ],
      "execution_count": 0,
      "outputs": []
    },
    {
      "cell_type": "code",
      "metadata": {
        "id": "leZ6duPAfTQC",
        "colab_type": "code",
        "colab": {
          "base_uri": "https://localhost:8080/",
          "height": 354
        },
        "outputId": "68752a87-541d-4a38-f662-1979c5a0ac2b"
      },
      "source": [
        "%time img_ch = read_img(train.ID[2], (250, 250, 3), preprocess=\"CH\")\n",
        "%time img_f = read_img(train.ID[2], (250, 250, 3), preprocess=\"F\")\n",
        "\n",
        "#some sanity checks\n",
        "plt.imshow(img_ch)\n",
        "print(img_ch.shape)"
      ],
      "execution_count": 21,
      "outputs": [
        {
          "output_type": "stream",
          "text": [
            "CPU times: user 73.4 ms, sys: 4.15 ms, total: 77.5 ms\n",
            "Wall time: 135 ms\n",
            "CPU times: user 16.4 ms, sys: 69 µs, total: 16.5 ms\n",
            "Wall time: 16.4 ms\n",
            "(250, 250, 3)\n"
          ],
          "name": "stdout"
        },
        {
          "output_type": "display_data",
          "data": {
            "image/png": "[encoded data removed]",
            "text/plain": [
              "<Figure size 432x288 with 1 Axes>"
            ]
          },
          "metadata": {
            "tags": []
          }
        }
      ]
    },
    {
      "cell_type": "code",
      "metadata": {
        "id": "VXSwicCIzbE6",
        "colab_type": "code",
        "colab": {
          "base_uri": "https://localhost:8080/",
          "height": 286
        },
        "outputId": "c1e4f32c-f383-4260-e700-8f6ac3457f2b"
      },
      "source": [
        "plt.imshow(img_f)"
      ],
      "execution_count": 22,
      "outputs": [
        {
          "output_type": "execute_result",
          "data": {
            "text/plain": [
              "<matplotlib.image.AxesImage at 0x7fd6947d1588>"
            ]
          },
          "metadata": {
            "tags": []
          },
          "execution_count": 22
        },
        {
          "output_type": "display_data",
          "data": {
            "image/png": "[encoded data removed]",
            "text/plain": [
              "<Figure size 432x288 with 1 Axes>"
            ]
          },
          "metadata": {
            "tags": []
          }
        }
      ]
    },
    {
      "cell_type": "markdown",
      "metadata": {
        "id": "JRXDvpH0hUB0",
        "colab_type": "text"
      },
      "source": [
        "### Data generator\n",
        "This function prepares each batch for feeding to neural network. First, it gets random IDs and associated labels. Then shuffles them, to reduce bias. Finally, the images, using the IDs are loaded using the _read function defined above.\n",
        "\n",
        "The function is generalized for both training and testing data.\n",
        "\n",
        "It is derived from keras.sequence so it should be enabled for multiprocessing."
      ]
    },
    {
      "cell_type": "markdown",
      "metadata": {
        "id": "lazYV0FW5VDi",
        "colab_type": "text"
      },
      "source": [
        "#### Full-preprocessing DataGenerator"
      ]
    },
    {
      "cell_type": "code",
      "metadata": {
        "id": "gN15CiG35bEH",
        "colab_type": "code",
        "colab": {}
      },
      "source": [
        "class DataGenerator_Full(keras.utils.Sequence):\n",
        "\n",
        "    def __init__(self, IDs, labels=None, batch_size=30, img_size=(299, 299, 3), num_classes=5, *args, **kwargs):\n",
        "        self.IDs = IDs\n",
        "        self.labels = labels.loc[:, 'any':'subdural']\n",
        "        self.batch_size = batch_size\n",
        "        self.img_size = img_size\n",
        "        self.num_classes = num_classes\n",
        "        self.on_epoch_end()\n",
        "\n",
        "#define number of steps per epoch\n",
        "    def __len__(self):\n",
        "        return int(ceil(len(self.indices) / self.batch_size))\n",
        "\n",
        "    def __getitem__(self, index):\n",
        "        #indices = self.indices[index*self.batch_size:(index+1)*self.batch_size]\n",
        "        IDs_batch = self.IDs[index*self.batch_size:(index+1)*self.batch_size]\n",
        "        if self.labels is not None:\n",
        "          X, y_any, y_subtype = self.__data_generation(IDs_batch)\n",
        "          return X, [y_any, y_subtype]\n",
        "        else:\n",
        "            X = self.__data_generation(IDs_batch)\n",
        "            return X\n",
        "        \n",
        "    def on_epoch_end(self):\n",
        "        if self.labels is not None: #during training we shuffle the images\n",
        "            self.indices = np.arange(len(self.IDs))\n",
        "            np.random.shuffle(self.indices)\n",
        "        else:\n",
        "            self.indices = np.arange(len(self.IDs))\n",
        "\n",
        "    def __data_generation(self, IDs_batch):\n",
        "        X = np.empty((self.batch_size, *self.img_size))\n",
        "        if self.labels is not None: # training\n",
        "          y_subtype = np.empty((self.batch_size, self.num_classes), dtype=np.float32)\n",
        "          y_any = np.empty((self.batch_size, 1), dtype=np.float32)\n",
        "          for i, ID in enumerate(IDs_batch):\n",
        "            X[i,] = read_img(ID, self.img_size, preprocess=\"F\")\n",
        "            y_any[i], y_subtype[i] = self.__get_target(ID)\n",
        "            return X, y_any, y_subtype\n",
        "        else: # testing\n",
        "            for i, ID in enumerate(IDs_batch):\n",
        "                X[i,] = read_img(ID, self.img_size, preprocess=\"F\")\n",
        "            return X\n",
        "\n",
        "    def __get_target(self, ID):\n",
        "        y_any = self.labels.loc[ID, \"any\"]\n",
        "        y_subtype = self.labels.drop(\"any\", axis=1).loc[ID].values\n",
        "        return y_any, y_subtype"
      ],
      "execution_count": 0,
      "outputs": []
    },
    {
      "cell_type": "markdown",
      "metadata": {
        "id": "8eVlpe8H5bqQ",
        "colab_type": "text"
      },
      "source": [
        "#### Channels-preprocessing DataGenerator"
      ]
    },
    {
      "cell_type": "code",
      "metadata": {
        "id": "6wEHR1byhydD",
        "colab_type": "code",
        "colab": {}
      },
      "source": [
        "class DataGenerator_Channels(keras.utils.Sequence):\n",
        "\n",
        "    def __init__(self, IDs, labels=None, batch_size=30, img_size=(299, 299, 3), num_classes=5, *args, **kwargs):\n",
        "        self.IDs = IDs\n",
        "        self.labels = labels.loc[:, 'any':'subdural']\n",
        "        self.batch_size = batch_size\n",
        "        self.img_size = img_size\n",
        "        self.num_classes = num_classes\n",
        "        self.on_epoch_end()\n",
        "\n",
        "#define number of steps per epoch\n",
        "    def __len__(self):\n",
        "        return int(ceil(len(self.indices) / self.batch_size))\n",
        "\n",
        "    def __getitem__(self, index):\n",
        "        #indices = self.indices[index*self.batch_size:(index+1)*self.batch_size]\n",
        "        IDs_batch = self.IDs[index*self.batch_size:(index+1)*self.batch_size]\n",
        "        if self.labels is not None:\n",
        "          X, y_any, y_subtype = self.__data_generation(IDs_batch)\n",
        "          return X, [y_any, y_subtype]\n",
        "        else:\n",
        "            X = self.__data_generation(IDs_batch)\n",
        "            return X\n",
        "        \n",
        "    def on_epoch_end(self):\n",
        "        if self.labels is not None: #during training we shuffle the images\n",
        "            self.indices = np.arange(len(self.IDs))\n",
        "            np.random.shuffle(self.indices)\n",
        "        else:\n",
        "            self.indices = np.arange(len(self.IDs))\n",
        "\n",
        "    def __data_generation(self, IDs_batch):\n",
        "        X = np.empty((self.batch_size, *self.img_size))\n",
        "        if self.labels is not None: # training\n",
        "          y_subtype = np.empty((self.batch_size, self.num_classes), dtype=np.float32)\n",
        "          y_any = np.empty((self.batch_size, 1), dtype=np.float32)\n",
        "          for i, ID in enumerate(IDs_batch):\n",
        "            X[i,] = read_img(ID, self.img_size, preprocess=\"CH\")\n",
        "            y_any[i], y_subtype[i] = self.__get_target(ID)\n",
        "            return X, y_any, y_subtype\n",
        "        else: # testing\n",
        "            for i, ID in enumerate(IDs_batch):\n",
        "                X[i,] = read_img(ID, self.img_size, preprocess=\"CH\")\n",
        "            return X\n",
        "\n",
        "    def __get_target(self, ID):\n",
        "        y_any = self.labels.loc[ID, \"any\"]\n",
        "        y_subtype = self.labels.drop(\"any\", axis=1).loc[ID].values\n",
        "        return y_any, y_subtype"
      ],
      "execution_count": 0,
      "outputs": []
    },
    {
      "cell_type": "markdown",
      "metadata": {
        "id": "FKT-ULVD8BXS",
        "colab_type": "text"
      },
      "source": [
        "## Train-test split\n",
        "We'll save 10% of images for testing."
      ]
    },
    {
      "cell_type": "code",
      "metadata": {
        "id": "uvesRwH3esiE",
        "colab_type": "code",
        "colab": {
          "base_uri": "https://localhost:8080/",
          "height": 51
        },
        "outputId": "ceeef13d-11f9-47f0-b11c-823aa4b8ed12"
      },
      "source": [
        "group_kfold = GroupKFold(n_splits=10)\n",
        "\n",
        "for tr, ts in group_kfold.split(train, groups=train.Patient):\n",
        "  training = train.iloc[tr]\n",
        "  testing = train.iloc[ts]\n",
        "\n",
        "testing = testing.set_index('ID', drop=False)\n",
        "print(training.shape)\n",
        "print(testing.shape)"
      ],
      "execution_count": 27,
      "outputs": [
        {
          "output_type": "stream",
          "text": [
            "(180, 8)\n",
            "(20, 8)\n"
          ],
          "name": "stdout"
        }
      ]
    },
    {
      "cell_type": "markdown",
      "metadata": {
        "id": "TnMyp7JLfY7A",
        "colab_type": "text"
      },
      "source": [
        "### Train-validation split"
      ]
    },
    {
      "cell_type": "code",
      "metadata": {
        "id": "pJKR7Aam8Di7",
        "colab_type": "code",
        "colab": {
          "base_uri": "https://localhost:8080/",
          "height": 51
        },
        "outputId": "89c0a703-5479-497a-c3d1-2b0ee2c3de2d"
      },
      "source": [
        "tr_val_folds = GroupKFold(n_splits=20)\n",
        "\n",
        "for tr, ts in tr_val_folds.split(training, groups=training.Patient):\n",
        "  train_data = training.iloc[tr]\n",
        "  val_data = training.iloc[ts]\n",
        "\n",
        "train_data = train_data.set_index('ID', drop=False)\n",
        "val_data = val_data.set_index('ID', drop=False)\n",
        "print(train_data.shape)\n",
        "print(val_data.shape)"
      ],
      "execution_count": 28,
      "outputs": [
        {
          "output_type": "stream",
          "text": [
            "(171, 8)\n",
            "(9, 8)\n"
          ],
          "name": "stdout"
        }
      ]
    },
    {
      "cell_type": "markdown",
      "metadata": {
        "id": "X7ZU9CYw9h1g",
        "colab_type": "text"
      },
      "source": [
        "### Data generators"
      ]
    },
    {
      "cell_type": "code",
      "metadata": {
        "id": "swizCnvL-59_",
        "colab_type": "code",
        "colab": {}
      },
      "source": [
        "train_dataloader_CH = DataGenerator_Channels(IDs=train_data.ID,\n",
        "                                 labels=train_data.loc[:,'any':'subdural'],\n",
        "                                 batch_size=30,\n",
        "                                 img_size=(299,299,3),\n",
        "                                 num_classes=5)\n",
        "val_dataloader_CH = DataGenerator_Channels(IDs=val_data.ID,\n",
        "                               labels=val_data.loc[:,'any':'subdural'],\n",
        "                               batch_size=5,\n",
        "                               img_size=(299,299,3),\n",
        "                               num_classes=5)\n",
        "\n",
        "train_dataloader_F = DataGenerator_Full(IDs=train_data.ID,\n",
        "                                 labels=train_data.loc[:,'any':'subdural'],\n",
        "                                 batch_size=30,\n",
        "                                 img_size=(299,299,3),\n",
        "                                 num_classes=5)\n",
        "val_dataloader_F = DataGenerator_Full(IDs=val_data.ID,\n",
        "                               labels=val_data.loc[:,'any':'subdural'],\n",
        "                               batch_size=5,\n",
        "                               img_size=(299,299,3),\n",
        "                               num_classes=5)"
      ],
      "execution_count": 0,
      "outputs": []
    },
    {
      "cell_type": "code",
      "metadata": {
        "id": "K3gZYtM-RClm",
        "colab_type": "code",
        "colab": {
          "base_uri": "https://localhost:8080/",
          "height": 51
        },
        "outputId": "1da64bae-f910-4a7c-ed94-0e806952b00c"
      },
      "source": [
        "#sanity check of datagenerator\n",
        "%time X, [y1, y2] = train_dataloader_CH.__getitem__(0)"
      ],
      "execution_count": 31,
      "outputs": [
        {
          "output_type": "stream",
          "text": [
            "CPU times: user 77.5 ms, sys: 3.98 ms, total: 81.5 ms\n",
            "Wall time: 87.2 ms\n"
          ],
          "name": "stdout"
        }
      ]
    },
    {
      "cell_type": "code",
      "metadata": {
        "id": "S6ek2caERIvN",
        "colab_type": "code",
        "colab": {}
      },
      "source": [
        "print(X.shape)\n",
        "print(y1.shape)\n",
        "print(y2.shape)"
      ],
      "execution_count": 0,
      "outputs": []
    },
    {
      "cell_type": "markdown",
      "metadata": {
        "id": "M7V55DaYnDwP",
        "colab_type": "text"
      },
      "source": [
        "## Define CNN architecture"
      ]
    },
    {
      "cell_type": "code",
      "metadata": {
        "id": "PcP4Kv1sjeWU",
        "colab_type": "code",
        "colab": {}
      },
      "source": [
        "reduce_lr = ReduceLROnPlateau(monitor='val_loss',factor=0.5,patience=2,min_lr=1e-8,mode=\"min\")\n",
        "        \n",
        "e_stopping = EarlyStopping(monitor=\"val_loss\",min_delta=0.01,patience=5,mode=\"min\")\n",
        "\n",
        "def build_model_1():\n",
        "  inputs = Input(shape=(299,299,3))\n",
        "  x = Conv2D(50, kernel_size=(3,3) ,activation='relu')(inputs)\n",
        "  x = SpatialDropout2D(rate=0.3, data_format='channels_last')(x)\n",
        "  x = BatchNormalization(axis=-1)(x)\n",
        "  x = MaxPooling2D(pool_size=(2, 2))(x)\n",
        "  x = Conv2D(25, kernel_size=(3,3) ,activation='relu')(x)\n",
        "  x = SpatialDropout2D(rate=0.3, data_format='channels_last')(x)\n",
        "  x = BatchNormalization(axis=-1)(x)\n",
        "  x = MaxPooling2D(pool_size=(2, 2))(x)\n",
        "  x = Conv2D(13, kernel_size=(3,3) ,activation='relu')(x)\n",
        "  x = GlobalAveragePooling2D()(x)\n",
        "  x = Dropout(0.3)(x)\n",
        "  x = Dense(100, activation='relu')(x)\n",
        "  x = Dropout(0.3)(x)\n",
        "  any_logits = Dense(1, kernel_initializer=he_normal(seed=11))(x)\n",
        "  any_pred = Activation(\"sigmoid\", name=\"any_predictions\")(any_logits)\n",
        "  x = concatenate([any_pred, x])\n",
        "  sub_pred = Dense(5, name=\"subtype_pred\",\n",
        "                   kernel_initializer=he_normal(seed=12),\n",
        "                   activation=\"sigmoid\")(x) \n",
        "  model = Model(inputs=inputs, outputs=[any_pred, sub_pred])\n",
        "  model.compile(optimizer=Adam(1e-3),\n",
        "                loss=['binary_crossentropy', 'categorical_crossentropy'],\n",
        "                loss_weights = [1., 0.],\n",
        "                metrics={\"any_predictions\":\"binary_accuracy\",\n",
        "                         \"subtype_pred\": \"categorical_accuracy\"})\n",
        "  return model\n",
        "\n",
        "def build_model_2():\n",
        "  inputs = Input(shape=(299,299,3))\n",
        "  x = Conv2D(50, kernel_size=(3,3) ,activation='relu')(inputs)\n",
        "  x = SpatialDropout2D(rate=0.3, data_format='channels_last')(x)\n",
        "  x = BatchNormalization(axis=-1)(x)\n",
        "  x = MaxPooling2D(pool_size=(2, 2))(x)\n",
        "  x = Conv2D(25, kernel_size=(3,3) ,activation='relu')(x)\n",
        "  x = SpatialDropout2D(rate=0.3, data_format='channels_last')(x)\n",
        "  x = BatchNormalization(axis=-1)(x)\n",
        "  x = MaxPooling2D(pool_size=(2, 2))(x)\n",
        "  x = Conv2D(13, kernel_size=(3,3) ,activation='relu')(x)\n",
        "  x = Conv2D(7, kernel_size=(3,3) ,activation='relu')(x)\n",
        "  x = Conv2D(4, kernel_size=(3,3) ,activation='relu')(x)\n",
        "  x = GlobalAveragePooling2D()(x)\n",
        "  x = Dropout(0.3)(x)\n",
        "  x = Dense(100, activation='relu')(x)\n",
        "  x = Dropout(0.3)(x)\n",
        "  any_logits = Dense(1, kernel_initializer=he_normal(seed=11))(x)\n",
        "  any_pred = Activation(\"sigmoid\", name=\"any_predictions\")(any_logits)\n",
        "  x = concatenate([any_pred, x])\n",
        "  sub_pred = Dense(5, name=\"subtype_pred\",\n",
        "                   kernel_initializer=he_normal(seed=12),\n",
        "                   activation=\"sigmoid\")(x) \n",
        "  model = Model(inputs=inputs, outputs=[any_pred, sub_pred])\n",
        "  model.compile(optimizer=Adam(1e-3),\n",
        "                loss=['binary_crossentropy', 'categorical_crossentropy'],\n",
        "                loss_weights = [1., 0.],\n",
        "                metrics={\"any_predictions\":\"binary_accuracy\",\n",
        "                         \"subtype_pred\": \"categorical_accuracy\"})\n",
        "  return model\n",
        "\n",
        "\n",
        "def build_model_3():\n",
        "  inputs = Input(shape=(299,299,3))\n",
        "  x = Conv2D(100, kernel_size=(3,3) ,activation='relu')(inputs)\n",
        "  x = BatchNormalization(axis=-1)(x)\n",
        "  x = MaxPooling2D(pool_size=(2, 2))(x)\n",
        "  x = Conv2D(50, kernel_size=(3,3) ,activation='relu')(x)\n",
        "  x = SpatialDropout2D(rate=0.3, data_format='channels_last')(x)\n",
        "  x = BatchNormalization(axis=-1)(x)\n",
        "  x = MaxPooling2D(pool_size=(2, 2))(x)\n",
        "  x = Conv2D(30, kernel_size=(3,3) ,activation='relu')(x)\n",
        "  x = SpatialDropout2D(rate=0.3, data_format='channels_last')(x)\n",
        "  x = BatchNormalization(axis=-1)(x)\n",
        "  x = MaxPooling2D(pool_size=(2, 2))(x)\n",
        "  x = Conv2D(20, kernel_size=(2,2) ,activation='relu')(x)\n",
        "  x = SpatialDropout2D(rate=0.3, data_format='channels_last')(x)\n",
        "  x = Conv2D(10, kernel_size=(2,2) ,activation='relu')(x)\n",
        "  x = SpatialDropout2D(rate=0.3, data_format='channels_last')(x)\n",
        "  x = Conv2D(5, kernel_size=(2,2) ,activation='relu')(x)\n",
        "  x = GlobalAveragePooling2D()(x)\n",
        "  x = Dropout(0.3)(x)\n",
        "  x = Dense(100, activation='relu')(x)\n",
        "  x = Dropout(0.3)(x)\n",
        "  any_logits = Dense(1, kernel_initializer=he_normal(seed=11))(x)\n",
        "  any_pred = Activation(\"sigmoid\", name=\"any_predictions\")(any_logits)\n",
        "  x = concatenate([any_pred, x])\n",
        "  sub_pred = Dense(5, name=\"subtype_pred\",\n",
        "                   kernel_initializer=he_normal(seed=12),\n",
        "                   activation=\"sigmoid\")(x) \n",
        "  model = Model(inputs=inputs, outputs=[any_pred, sub_pred])\n",
        "  model.compile(optimizer=Adam(1e-3),\n",
        "                loss=['binary_crossentropy', 'categorical_crossentropy'],\n",
        "                loss_weights = [1., 0.],\n",
        "                metrics={\"any_predictions\":\"binary_accuracy\",\n",
        "                         \"subtype_pred\": \"categorical_accuracy\"})\n",
        "  return model"
      ],
      "execution_count": 0,
      "outputs": []
    },
    {
      "cell_type": "markdown",
      "metadata": {
        "id": "-XPR41D3jtfz",
        "colab_type": "text"
      },
      "source": [
        "## Fit models with channel images"
      ]
    },
    {
      "cell_type": "code",
      "metadata": {
        "id": "q6ra8RWvuh3m",
        "colab_type": "code",
        "colab": {}
      },
      "source": [
        "EPOCHS = 50"
      ],
      "execution_count": 0,
      "outputs": []
    },
    {
      "cell_type": "code",
      "metadata": {
        "id": "czi9USjPjxyB",
        "colab_type": "code",
        "colab": {
          "base_uri": "https://localhost:8080/",
          "height": 683
        },
        "outputId": "a8725157-78db-4ae8-f8c7-a97e6997dfa1"
      },
      "source": [
        "model_CH_1 = build_model_1()\n",
        "history_CH_1 = model_CH_1.fit_generator(generator=train_dataloader_CH,\n",
        "                              validation_data=val_dataloader_CH,\n",
        "                              epochs=EPOCHS,\n",
        "                              callbacks=[reduce_lr, e_stopping])\n",
        "\n",
        "model_CH_2 = build_model_2()\n",
        "history_CH_2 = model_CH_2.fit_generator(generator=train_dataloader_CH,\n",
        "                              validation_data=val_dataloader_CH,\n",
        "                              epochs=EPOCHS,\n",
        "                              callbacks=[reduce_lr, e_stopping])\n",
        "\n",
        "model_CH_3 = build_model_3()\n",
        "history_CH_3 = model_CH_3.fit_generator(generator=train_dataloader_CH,\n",
        "                              validation_data=val_dataloader_CH,\n",
        "                              epochs=EPOCHS,\n",
        "                              callbacks=[reduce_lr, e_stopping])"
      ],
      "execution_count": 144,
      "outputs": [
        {
          "output_type": "stream",
          "text": [
            "Epoch 1/50\n",
            "6/6 [==============================] - 7s 1s/step - loss: 0.6928 - any_predictions_loss: 0.6928 - subtype_pred_loss: 1469473573157209340635225910736322560.0000 - any_predictions_binary_accuracy: 0.6667 - subtype_pred_categorical_accuracy: 0.1944 - val_loss: nan - val_any_predictions_loss: 0.6917 - val_subtype_pred_loss: nan - val_any_predictions_binary_accuracy: 0.8000 - val_subtype_pred_categorical_accuracy: 0.4000\n",
            "Epoch 2/50\n",
            "6/6 [==============================] - 1s 129ms/step - loss: 0.6899 - any_predictions_loss: 0.6899 - subtype_pred_loss: 1469424868826229976178322616495374336.0000 - any_predictions_binary_accuracy: 0.9833 - subtype_pred_categorical_accuracy: 0.2000 - val_loss: 0.6903 - val_any_predictions_loss: 0.6903 - val_subtype_pred_loss: 1.5747 - val_any_predictions_binary_accuracy: 0.8000 - val_subtype_pred_categorical_accuracy: 0.4000\n",
            "Epoch 3/50\n",
            "6/6 [==============================] - 1s 145ms/step - loss: 0.6874 - any_predictions_loss: 0.6874 - subtype_pred_loss: 3719540754834368098767732736000.0000 - any_predictions_binary_accuracy: 0.9833 - subtype_pred_categorical_accuracy: 0.2222 - val_loss: nan - val_any_predictions_loss: 0.6887 - val_subtype_pred_loss: nan - val_any_predictions_binary_accuracy: 0.8000 - val_subtype_pred_categorical_accuracy: 0.4000\n",
            "Epoch 4/50\n",
            "6/6 [==============================] - 1s 143ms/step - loss: 0.6847 - any_predictions_loss: 0.6847 - subtype_pred_loss: 3719505897473236252259830988800.0000 - any_predictions_binary_accuracy: 0.9833 - subtype_pred_categorical_accuracy: 0.2222 - val_loss: 0.6869 - val_any_predictions_loss: 0.6869 - val_subtype_pred_loss: 1.5747 - val_any_predictions_binary_accuracy: 0.8000 - val_subtype_pred_categorical_accuracy: 0.4000\n",
            "Epoch 5/50\n",
            "6/6 [==============================] - 1s 143ms/step - loss: 0.6819 - any_predictions_loss: 0.6819 - subtype_pred_loss: 3719479704080477559994410074112.0000 - any_predictions_binary_accuracy: 0.9833 - subtype_pred_categorical_accuracy: 0.2222 - val_loss: nan - val_any_predictions_loss: 0.6852 - val_subtype_pred_loss: nan - val_any_predictions_binary_accuracy: 0.8000 - val_subtype_pred_categorical_accuracy: 0.4000\n",
            "Epoch 6/50\n",
            "6/6 [==============================] - 1s 146ms/step - loss: 0.6791 - any_predictions_loss: 0.6791 - subtype_pred_loss: 3719442630355342336066416803840.0000 - any_predictions_binary_accuracy: 0.9833 - subtype_pred_categorical_accuracy: 0.2222 - val_loss: 0.6834 - val_any_predictions_loss: 0.6834 - val_subtype_pred_loss: 1.5747 - val_any_predictions_binary_accuracy: 0.8000 - val_subtype_pred_categorical_accuracy: 0.4000\n",
            "Epoch 7/50\n",
            "6/6 [==============================] - 1s 148ms/step - loss: 0.6762 - any_predictions_loss: 0.6762 - subtype_pred_loss: 3719416235474947791962737999872.0000 - any_predictions_binary_accuracy: 0.9833 - subtype_pred_categorical_accuracy: 0.2222 - val_loss: nan - val_any_predictions_loss: 0.6817 - val_subtype_pred_loss: nan - val_any_predictions_binary_accuracy: 0.8000 - val_subtype_pred_categorical_accuracy: 0.4000\n",
            "Epoch 1/50\n",
            "6/6 [==============================] - 8s 1s/step - loss: 0.6920 - any_predictions_loss: 0.6920 - subtype_pred_loss: 1469454553026142451717361224401289216.0000 - any_predictions_binary_accuracy: 0.8111 - subtype_pred_categorical_accuracy: 0.2000 - val_loss: nan - val_any_predictions_loss: 0.6914 - val_subtype_pred_loss: nan - val_any_predictions_binary_accuracy: 0.8000 - val_subtype_pred_categorical_accuracy: 0.4000\n",
            "Epoch 2/50\n",
            "6/6 [==============================] - 1s 131ms/step - loss: 0.6891 - any_predictions_loss: 0.6891 - subtype_pred_loss: 1469423913487712598462800169623617536.0000 - any_predictions_binary_accuracy: 0.9833 - subtype_pred_categorical_accuracy: 0.2000 - val_loss: 0.6896 - val_any_predictions_loss: 0.6896 - val_subtype_pred_loss: 1.5747 - val_any_predictions_binary_accuracy: 0.8000 - val_subtype_pred_categorical_accuracy: 0.4000\n",
            "Epoch 3/50\n",
            "6/6 [==============================] - 1s 140ms/step - loss: 0.6862 - any_predictions_loss: 0.6862 - subtype_pred_loss: 16828969339237487069973538930688.0000 - any_predictions_binary_accuracy: 0.9833 - subtype_pred_categorical_accuracy: 0.2111 - val_loss: nan - val_any_predictions_loss: 0.6878 - val_subtype_pred_loss: nan - val_any_predictions_binary_accuracy: 0.8000 - val_subtype_pred_categorical_accuracy: 0.4000\n",
            "Epoch 4/50\n",
            "6/6 [==============================] - 1s 148ms/step - loss: 0.6833 - any_predictions_loss: 0.6833 - subtype_pred_loss: 16828776717056896640258244870144.0000 - any_predictions_binary_accuracy: 0.9833 - subtype_pred_categorical_accuracy: 0.2111 - val_loss: 0.6860 - val_any_predictions_loss: 0.6860 - val_subtype_pred_loss: 1.5747 - val_any_predictions_binary_accuracy: 0.8000 - val_subtype_pred_categorical_accuracy: 0.4000\n",
            "Epoch 5/50\n",
            "6/6 [==============================] - 1s 150ms/step - loss: 0.6805 - any_predictions_loss: 0.6805 - subtype_pred_loss: 16828597594547955571502316781568.0000 - any_predictions_binary_accuracy: 0.9833 - subtype_pred_categorical_accuracy: 0.2111 - val_loss: nan - val_any_predictions_loss: 0.6843 - val_subtype_pred_loss: nan - val_any_predictions_binary_accuracy: 0.8000 - val_subtype_pred_categorical_accuracy: 0.4000\n",
            "Epoch 6/50\n",
            "6/6 [==============================] - 1s 156ms/step - loss: 0.6776 - any_predictions_loss: 0.6776 - subtype_pred_loss: 16828407390219004371045372133376.0000 - any_predictions_binary_accuracy: 0.9833 - subtype_pred_categorical_accuracy: 0.2111 - val_loss: 0.6825 - val_any_predictions_loss: 0.6825 - val_subtype_pred_loss: 1.5747 - val_any_predictions_binary_accuracy: 0.8000 - val_subtype_pred_categorical_accuracy: 0.4000\n",
            "Epoch 7/50\n",
            "6/6 [==============================] - 1s 157ms/step - loss: 0.6748 - any_predictions_loss: 0.6748 - subtype_pred_loss: 16828229073660611213242102972416.0000 - any_predictions_binary_accuracy: 0.9833 - subtype_pred_categorical_accuracy: 0.2111 - val_loss: nan - val_any_predictions_loss: 0.6808 - val_subtype_pred_loss: nan - val_any_predictions_binary_accuracy: 0.8000 - val_subtype_pred_categorical_accuracy: 0.4000\n",
            "Epoch 1/50\n",
            "6/6 [==============================] - 9s 1s/step - loss: 0.6928 - any_predictions_loss: 0.6928 - subtype_pred_loss: 1469450428691084029036907672052432896.0000 - any_predictions_binary_accuracy: 0.6556 - subtype_pred_categorical_accuracy: 0.2000 - val_loss: nan - val_any_predictions_loss: 0.6915 - val_subtype_pred_loss: nan - val_any_predictions_binary_accuracy: 0.8000 - val_subtype_pred_categorical_accuracy: 0.4000\n",
            "Epoch 2/50\n",
            "6/6 [==============================] - 1s 176ms/step - loss: 0.6896 - any_predictions_loss: 0.6896 - subtype_pred_loss: 1469435829991618047643652795045773312.0000 - any_predictions_binary_accuracy: 0.9833 - subtype_pred_categorical_accuracy: 0.2056 - val_loss: nan - val_any_predictions_loss: 0.6901 - val_subtype_pred_loss: nan - val_any_predictions_binary_accuracy: 0.8000 - val_subtype_pred_categorical_accuracy: 0.0000e+00\n",
            "Epoch 3/50\n",
            "6/6 [==============================] - 1s 175ms/step - loss: 0.6877 - any_predictions_loss: 0.6877 - subtype_pred_loss: 1469380285080019851085960856037490688.0000 - any_predictions_binary_accuracy: 0.9833 - subtype_pred_categorical_accuracy: 0.2000 - val_loss: nan - val_any_predictions_loss: 0.6893 - val_subtype_pred_loss: nan - val_any_predictions_binary_accuracy: 0.8000 - val_subtype_pred_categorical_accuracy: 0.4000\n",
            "Epoch 4/50\n",
            "6/6 [==============================] - 1s 184ms/step - loss: 0.6864 - any_predictions_loss: 0.6864 - subtype_pred_loss: 2938709865008875014757624108084625408.0000 - any_predictions_binary_accuracy: 0.9833 - subtype_pred_categorical_accuracy: 0.1944 - val_loss: nan - val_any_predictions_loss: 0.6885 - val_subtype_pred_loss: nan - val_any_predictions_binary_accuracy: 0.8000 - val_subtype_pred_categorical_accuracy: 0.0000e+00\n",
            "Epoch 5/50\n",
            "6/6 [==============================] - 1s 188ms/step - loss: 0.6853 - any_predictions_loss: 0.6853 - subtype_pred_loss: 2938671371166438079417473467213152256.0000 - any_predictions_binary_accuracy: 0.9833 - subtype_pred_categorical_accuracy: 0.1889 - val_loss: nan - val_any_predictions_loss: 0.6880 - val_subtype_pred_loss: nan - val_any_predictions_binary_accuracy: 0.8000 - val_subtype_pred_categorical_accuracy: 0.4000\n"
          ],
          "name": "stdout"
        }
      ]
    },
    {
      "cell_type": "code",
      "metadata": {
        "id": "IbRJyYf3sSng",
        "colab_type": "code",
        "colab": {
          "base_uri": "https://localhost:8080/",
          "height": 34
        },
        "outputId": "f414a4a4-dd76-4d2e-bca9-de9dcaa8ca63"
      },
      "source": [
        "losses_ch = {\"M1\": min(history_CH_1.history['loss']),\n",
        "             \"M2\": min(history_CH_2.history['loss']),\n",
        "             \"M3\": min(history_CH_3.history['loss'])\n",
        "}\n",
        "\n",
        "best_ch = min(losses_ch.keys(), key=(lambda k: losses_ch[k]))"
      ],
      "execution_count": 154,
      "outputs": [
        {
          "output_type": "execute_result",
          "data": {
            "text/plain": [
              "0.685310939947764"
            ]
          },
          "metadata": {
            "tags": []
          },
          "execution_count": 154
        }
      ]
    },
    {
      "cell_type": "markdown",
      "metadata": {
        "id": "8MLy10WEoVEQ",
        "colab_type": "text"
      },
      "source": [
        "Save history to csv for later and also the model architecture and learned weights.\n",
        "\n"
      ]
    },
    {
      "cell_type": "code",
      "metadata": {
        "id": "798qWVoGmQym",
        "colab_type": "code",
        "colab": {}
      },
      "source": [
        "if best_ch is 'M1':\n",
        "  channels_history = pd.DataFrame.from_dict(history_CH_1.history)\n",
        "  channels_history['epoch']=history_CH_1.epoch\n",
        "  channels_history = channels_history.set_index('epoch')\n",
        "  channels_history.head(5)\n",
        "\n",
        "  #save history to csv\n",
        "  channels_history.to_csv(RESULT_PATH + 'history_CNN_channels.csv')\n",
        "\n",
        "  #save weights\n",
        "  model_CH_1.save_weights(MODEL_PATH + \"CNN_channels.h5\")\n",
        "\n",
        "  with open(MODEL_PATH + 'CNN_channels_summary.txt', 'w') as f:\n",
        "      with redirect_stdout(f):\n",
        "          model_CH_1.summary()\n",
        "\n",
        "  test_dataloader_CH = DataGenerator_Channels(IDs=testing.ID,\n",
        "                                labels=testing.loc[:,'any':'subdural'],\n",
        "                                batch_size=5,\n",
        "                                img_size=(299,299,3),\n",
        "                                num_classes=5)\n",
        "  CH_test_pred_any, CH_test_pred_sub = model_CH_1.predict(test_dataloader_CH)\n",
        "  any_pred = pd.DataFrame(CH_test_pred_any)\n",
        "  sub_pred = pd.DataFrame(CH_test_pred_sub)\n",
        "  ID = pd.DataFrame(testing.ID.values)\n",
        "  channels_pred = pd.concat([ID,any_pred, sub_pred], axis=1)\n",
        "  channels_pred.columns = [\"ID\", \"any\", 'epidural', 'intraparenchymal', 'intraventricular', 'subarachnoid', 'subdural']\n",
        "  channels_pred.to_csv(RESULT_PATH + \"CNN_channels_preds.csv\")\n",
        "  fig, ax = plt.subplots(2,1, figsize=(20,10))\n",
        "  sns.distplot(CH_test_pred_any[:,0], ax=ax[0], color=\"Purple\")\n",
        "  sns.distplot(CH_test_pred_sub[:,0], ax=ax[1])\n",
        "  sns.distplot(CH_test_pred_sub[:,1], ax=ax[1])\n",
        "  sns.distplot(CH_test_pred_sub[:,2], ax=ax[1])\n",
        "  sns.distplot(CH_test_pred_sub[:,3], ax=ax[1])\n",
        "  sns.distplot(CH_test_pred_sub[:,4], ax=ax[1])\n",
        "  ax[0].set_title(\"Predicted probability of hemorrhage occurence in dev batch\")\n",
        "  ax[1].set_title(\"Predicted probability of hemorrhage subtypes in dev batch\")\n",
        "  fig.savefig(RESULT_PATH + 'CNN_channels_dist.png')\n",
        "\n",
        "if best_ch is 'M2':\n",
        "  channels_history = pd.DataFrame.from_dict(history_CH_2.history)\n",
        "  channels_history['epoch']=history_CH_2.epoch\n",
        "  channels_history = channels_history.set_index('epoch')\n",
        "\n",
        "  #save history to csv\n",
        "  channels_history.to_csv(RESULT_PATH + 'history_CNN_channels.csv')\n",
        "\n",
        "  #save weights\n",
        "  model_CH_2.save_weights(MODEL_PATH + \"CNN_channels.h5\")\n",
        "\n",
        "  with open(MODEL_PATH + 'CNN_channels_summary.txt', 'w') as f:\n",
        "      with redirect_stdout(f):\n",
        "          model_CH_2.summary()\n",
        "\n",
        "  test_dataloader_CH = DataGenerator_Channels(IDs=testing.ID,\n",
        "                                labels=testing.loc[:,'any':'subdural'],\n",
        "                                batch_size=5,\n",
        "                                img_size=(299,299,3),\n",
        "                                num_classes=5)\n",
        "  CH_test_pred_any, CH_test_pred_sub = model_CH_2.predict(test_dataloader_CH)\n",
        "  any_pred = pd.DataFrame(CH_test_pred_any)\n",
        "  sub_pred = pd.DataFrame(CH_test_pred_sub)\n",
        "  ID = pd.DataFrame(testing.ID.values)\n",
        "  channels_pred = pd.concat([ID,any_pred, sub_pred], axis=1)\n",
        "  channels_pred.columns = [\"ID\", \"any\", 'epidural', 'intraparenchymal', 'intraventricular', 'subarachnoid', 'subdural']\n",
        "  channels_pred.to_csv(RESULT_PATH + \"CNN_channels_preds.csv\")\n",
        "  fig, ax = plt.subplots(2,1, figsize=(20,10))\n",
        "  sns.distplot(CH_test_pred_any[:,0], ax=ax[0], color=\"Purple\")\n",
        "  sns.distplot(CH_test_pred_sub[:,0], ax=ax[1])\n",
        "  sns.distplot(CH_test_pred_sub[:,1], ax=ax[1])\n",
        "  sns.distplot(CH_test_pred_sub[:,2], ax=ax[1])\n",
        "  sns.distplot(CH_test_pred_sub[:,3], ax=ax[1])\n",
        "  sns.distplot(CH_test_pred_sub[:,4], ax=ax[1])\n",
        "  ax[0].set_title(\"Predicted probability of hemorrhage occurence in dev batch\")\n",
        "  ax[1].set_title(\"Predicted probability of hemorrhage subtypes in dev batch\")\n",
        "  fig.savefig(RESULT_PATH + 'CNN_channels_dist.png')\n",
        "\n",
        "if best_ch is 'M3':\n",
        "  channels_history = pd.DataFrame.from_dict(history_CH_3.history)\n",
        "  channels_history['epoch']=history_CH_3.epoch\n",
        "  channels_history = channels_history.set_index('epoch')\n",
        "  channels_history.head(5)\n",
        "\n",
        "  #save history to csv\n",
        "  channels_history.to_csv(RESULT_PATH + 'history_CNN_channels.csv')\n",
        "\n",
        "  #save weights\n",
        "  model_CH_3.save_weights(MODEL_PATH + \"CNN_channels.h5\")\n",
        "\n",
        "  with open(MODEL_PATH + 'CNN_channels_summary.txt', 'w') as f:\n",
        "      with redirect_stdout(f):\n",
        "          model_CH_3.summary()\n",
        "\n",
        "  test_dataloader_CH = DataGenerator_Channels(IDs=testing.ID,\n",
        "                                labels=testing.loc[:,'any':'subdural'],\n",
        "                                batch_size=5,\n",
        "                                img_size=(299,299,3),\n",
        "                                num_classes=5)\n",
        "  CH_test_pred_any, CH_test_pred_sub = model_CH_3.predict(test_dataloader_CH)\n",
        "  any_pred = pd.DataFrame(CH_test_pred_any)\n",
        "  sub_pred = pd.DataFrame(CH_test_pred_sub)\n",
        "  ID = pd.DataFrame(testing.ID.values)\n",
        "  channels_pred = pd.concat([ID,any_pred, sub_pred], axis=1)\n",
        "  channels_pred.columns = [\"ID\", \"any\", 'epidural', 'intraparenchymal', 'intraventricular', 'subarachnoid', 'subdural']\n",
        "  channels_pred.to_csv(RESULT_PATH + \"CNN_channels_preds.csv\")\n",
        "  fig, ax = plt.subplots(2,1, figsize=(20,10))\n",
        "  sns.distplot(CH_test_pred_any[:,0], ax=ax[0], color=\"Purple\")\n",
        "  sns.distplot(CH_test_pred_sub[:,0], ax=ax[1])\n",
        "  sns.distplot(CH_test_pred_sub[:,1], ax=ax[1])\n",
        "  sns.distplot(CH_test_pred_sub[:,2], ax=ax[1])\n",
        "  sns.distplot(CH_test_pred_sub[:,3], ax=ax[1])\n",
        "  sns.distplot(CH_test_pred_sub[:,4], ax=ax[1])\n",
        "  ax[0].set_title(\"Predicted probability of hemorrhage occurence in dev batch\")\n",
        "  ax[1].set_title(\"Predicted probability of hemorrhage subtypes in dev batch\")\n",
        "  fig.savefig(RESULT_PATH + 'CNN_channels_dist.png')"
      ],
      "execution_count": 0,
      "outputs": []
    },
    {
      "cell_type": "markdown",
      "metadata": {
        "id": "Sdreji7Fv11C",
        "colab_type": "text"
      },
      "source": [
        "## Fit models with full images"
      ]
    },
    {
      "cell_type": "code",
      "metadata": {
        "id": "X780p5lADOMy",
        "colab_type": "code",
        "colab": {
          "base_uri": "https://localhost:8080/",
          "height": 785
        },
        "outputId": "a852cb40-68db-40a7-e931-90b8e6cedb0b"
      },
      "source": [
        "model_F_1 = build_model_1()\n",
        "history_F_1 = model_F_1.fit_generator(generator=train_dataloader_F,\n",
        "                              validation_data=val_dataloader_F,\n",
        "                              epochs=EPOCHS,\n",
        "                              callbacks=[reduce_lr, e_stopping])\n",
        "\n",
        "model_F_2 = build_model_2()\n",
        "history_F_2 = model_F_2.fit_generator(generator=train_dataloader_F,\n",
        "                              validation_data=val_dataloader_F,\n",
        "                              epochs=EPOCHS,\n",
        "                              callbacks=[reduce_lr, e_stopping])\n",
        "\n",
        "model_F_3 = build_model_3()\n",
        "history_F_3 = model_F_3.fit_generator(generator=train_dataloader_F,\n",
        "                              validation_data=val_dataloader_F,\n",
        "                              epochs=EPOCHS,\n",
        "                              callbacks=[reduce_lr, e_stopping])"
      ],
      "execution_count": 157,
      "outputs": [
        {
          "output_type": "stream",
          "text": [
            "Epoch 1/50\n",
            "6/6 [==============================] - 8s 1s/step - loss: 0.6928 - any_predictions_loss: 0.6928 - subtype_pred_loss: 1469477049345629218007606515204096000.0000 - any_predictions_binary_accuracy: 0.6556 - subtype_pred_categorical_accuracy: 0.2000 - val_loss: 0.6959 - val_any_predictions_loss: 0.6959 - val_subtype_pred_loss: 0.0000e+00 - val_any_predictions_binary_accuracy: 0.0000e+00 - val_subtype_pred_categorical_accuracy: 0.0000e+00\n",
            "Epoch 2/50\n",
            "6/6 [==============================] - 1s 131ms/step - loss: 0.6896 - any_predictions_loss: 0.6896 - subtype_pred_loss: 1469413143000753888624663886192181248.0000 - any_predictions_binary_accuracy: 0.9833 - subtype_pred_categorical_accuracy: 0.2000 - val_loss: 0.6901 - val_any_predictions_loss: 0.6901 - val_subtype_pred_loss: 1.5769 - val_any_predictions_binary_accuracy: 0.8000 - val_subtype_pred_categorical_accuracy: 0.4000\n",
            "Epoch 3/50\n",
            "6/6 [==============================] - 1s 136ms/step - loss: 0.6872 - any_predictions_loss: 0.6872 - subtype_pred_loss: 1469383775631889272466893362522226688.0000 - any_predictions_binary_accuracy: 0.9833 - subtype_pred_categorical_accuracy: 0.2000 - val_loss: 0.6885 - val_any_predictions_loss: 0.6885 - val_subtype_pred_loss: 0.0000e+00 - val_any_predictions_binary_accuracy: 0.8000 - val_subtype_pred_categorical_accuracy: 0.0000e+00\n",
            "Epoch 4/50\n",
            "6/6 [==============================] - 1s 131ms/step - loss: 0.6846 - any_predictions_loss: 0.6846 - subtype_pred_loss: 1469318385825423903239591930741391360.0000 - any_predictions_binary_accuracy: 0.9833 - subtype_pred_categorical_accuracy: 0.2000 - val_loss: 0.6868 - val_any_predictions_loss: 0.6868 - val_subtype_pred_loss: 1.5769 - val_any_predictions_binary_accuracy: 0.8000 - val_subtype_pred_categorical_accuracy: 0.4000\n",
            "Epoch 5/50\n",
            "6/6 [==============================] - 1s 130ms/step - loss: 0.6818 - any_predictions_loss: 0.6818 - subtype_pred_loss: 1469289119461303880935806643224969216.0000 - any_predictions_binary_accuracy: 0.9833 - subtype_pred_categorical_accuracy: 0.2000 - val_loss: 0.6851 - val_any_predictions_loss: 0.6851 - val_subtype_pred_loss: 0.0000e+00 - val_any_predictions_binary_accuracy: 0.8000 - val_subtype_pred_categorical_accuracy: 0.0000e+00\n",
            "Epoch 6/50\n",
            "6/6 [==============================] - 1s 133ms/step - loss: 0.6790 - any_predictions_loss: 0.6790 - subtype_pred_loss: 1469219821029018545776142616505614336.0000 - any_predictions_binary_accuracy: 0.9833 - subtype_pred_categorical_accuracy: 0.2000 - val_loss: 0.6834 - val_any_predictions_loss: 0.6834 - val_subtype_pred_loss: 1.5769 - val_any_predictions_binary_accuracy: 0.8000 - val_subtype_pred_categorical_accuracy: 0.4000\n",
            "Epoch 7/50\n",
            "6/6 [==============================] - 1s 133ms/step - loss: 0.6762 - any_predictions_loss: 0.6762 - subtype_pred_loss: 1469180317076471049260080139524374528.0000 - any_predictions_binary_accuracy: 0.9833 - subtype_pred_categorical_accuracy: 0.2000 - val_loss: 0.6817 - val_any_predictions_loss: 0.6817 - val_subtype_pred_loss: 0.0000e+00 - val_any_predictions_binary_accuracy: 0.8000 - val_subtype_pred_categorical_accuracy: 0.0000e+00\n",
            "Epoch 8/50\n",
            "6/6 [==============================] - 1s 130ms/step - loss: 0.6734 - any_predictions_loss: 0.6734 - subtype_pred_loss: 1469110279207932047380755474689294336.0000 - any_predictions_binary_accuracy: 0.9833 - subtype_pred_categorical_accuracy: 0.2000 - val_loss: 0.6800 - val_any_predictions_loss: 0.6800 - val_subtype_pred_loss: 1.5769 - val_any_predictions_binary_accuracy: 0.8000 - val_subtype_pred_categorical_accuracy: 0.4000\n",
            "Epoch 9/50\n",
            "6/6 [==============================] - 1s 132ms/step - loss: 0.6706 - any_predictions_loss: 0.6706 - subtype_pred_loss: 1469074996114908479907316064749355008.0000 - any_predictions_binary_accuracy: 0.9833 - subtype_pred_categorical_accuracy: 0.2000 - val_loss: 0.6783 - val_any_predictions_loss: 0.6783 - val_subtype_pred_loss: 0.0000e+00 - val_any_predictions_binary_accuracy: 0.8000 - val_subtype_pred_categorical_accuracy: 0.0000e+00\n",
            "Epoch 10/50\n",
            "6/6 [==============================] - 1s 129ms/step - loss: 0.6678 - any_predictions_loss: 0.6678 - subtype_pred_loss: 1469004958245563429098946587346862080.0000 - any_predictions_binary_accuracy: 0.9833 - subtype_pred_categorical_accuracy: 0.2000 - val_loss: 0.6766 - val_any_predictions_loss: 0.6766 - val_subtype_pred_loss: 1.5769 - val_any_predictions_binary_accuracy: 0.8000 - val_subtype_pred_categorical_accuracy: 0.4000\n",
            "Epoch 1/50\n",
            "6/6 [==============================] - 9s 1s/step - loss: -348937307328375313320116224.0000 - any_predictions_loss: -348937307328375313320116224.0000 - subtype_pred_loss: 1469454553088805008318084443505950720.0000 - any_predictions_binary_accuracy: 0.6667 - subtype_pred_categorical_accuracy: 0.2000 - val_loss: 0.6916 - val_any_predictions_loss: 0.6916 - val_subtype_pred_loss: 1.5769 - val_any_predictions_binary_accuracy: 0.8000 - val_subtype_pred_categorical_accuracy: 0.4000\n",
            "Epoch 2/50\n",
            "6/6 [==============================] - 1s 131ms/step - loss: 0.6907 - any_predictions_loss: 0.6907 - subtype_pred_loss: 1469443255104594334020919900067856384.0000 - any_predictions_binary_accuracy: 0.9833 - subtype_pred_categorical_accuracy: 0.1944 - val_loss: 0.6916 - val_any_predictions_loss: 0.6916 - val_subtype_pred_loss: 1.5769 - val_any_predictions_binary_accuracy: 0.8000 - val_subtype_pred_categorical_accuracy: 0.4000\n",
            "Epoch 3/50\n",
            "6/6 [==============================] - 1s 133ms/step - loss: 0.6907 - any_predictions_loss: 0.6907 - subtype_pred_loss: 1469443255104594334020919900067856384.0000 - any_predictions_binary_accuracy: 0.9833 - subtype_pred_categorical_accuracy: 0.1944 - val_loss: 0.6916 - val_any_predictions_loss: 0.6916 - val_subtype_pred_loss: 1.5769 - val_any_predictions_binary_accuracy: 0.8000 - val_subtype_pred_categorical_accuracy: 0.4000\n",
            "Epoch 4/50\n",
            "6/6 [==============================] - 1s 131ms/step - loss: 0.6907 - any_predictions_loss: 0.6907 - subtype_pred_loss: 1469441395318500881087304744755527680.0000 - any_predictions_binary_accuracy: 0.9833 - subtype_pred_categorical_accuracy: 0.2000 - val_loss: 0.6916 - val_any_predictions_loss: 0.6916 - val_subtype_pred_loss: 1.5769 - val_any_predictions_binary_accuracy: 0.8000 - val_subtype_pred_categorical_accuracy: 0.4000\n",
            "Epoch 5/50\n",
            "6/6 [==============================] - 1s 136ms/step - loss: 0.6907 - any_predictions_loss: 0.6907 - subtype_pred_loss: 1469441395318500881087304744755527680.0000 - any_predictions_binary_accuracy: 0.9833 - subtype_pred_categorical_accuracy: 0.2000 - val_loss: 0.6916 - val_any_predictions_loss: 0.6916 - val_subtype_pred_loss: 1.5769 - val_any_predictions_binary_accuracy: 0.8000 - val_subtype_pred_categorical_accuracy: 0.4000\n",
            "Epoch 6/50\n",
            "6/6 [==============================] - 1s 132ms/step - loss: 0.6907 - any_predictions_loss: 0.6907 - subtype_pred_loss: 1469443255104594334020919900067856384.0000 - any_predictions_binary_accuracy: 0.9833 - subtype_pred_categorical_accuracy: 0.1944 - val_loss: 0.6916 - val_any_predictions_loss: 0.6916 - val_subtype_pred_loss: 1.5769 - val_any_predictions_binary_accuracy: 0.8000 - val_subtype_pred_categorical_accuracy: 0.4000\n",
            "Epoch 1/50\n",
            "6/6 [==============================] - 10s 2s/step - loss: 0.6928 - any_predictions_loss: 0.6928 - subtype_pred_loss: 1469463633396522590966812951615373312.0000 - any_predictions_binary_accuracy: 0.6556 - subtype_pred_categorical_accuracy: 0.2000 - val_loss: 0.6917 - val_any_predictions_loss: 0.6917 - val_subtype_pred_loss: 0.0000e+00 - val_any_predictions_binary_accuracy: 0.8000 - val_subtype_pred_categorical_accuracy: 0.0000e+00\n",
            "Epoch 2/50\n",
            "6/6 [==============================] - 1s 173ms/step - loss: 0.6899 - any_predictions_loss: 0.6899 - subtype_pred_loss: 1469438078813465739152447939702423552.0000 - any_predictions_binary_accuracy: 0.9833 - subtype_pred_categorical_accuracy: 0.1944 - val_loss: 0.6903 - val_any_predictions_loss: 0.6903 - val_subtype_pred_loss: 1.5769 - val_any_predictions_binary_accuracy: 0.8000 - val_subtype_pred_categorical_accuracy: 0.4000\n",
            "Epoch 3/50\n",
            "6/6 [==============================] - 1s 175ms/step - loss: 0.6898 - any_predictions_loss: 0.6898 - subtype_pred_loss: 1469378066669305910040875095054876672.0000 - any_predictions_binary_accuracy: 0.8222 - subtype_pred_categorical_accuracy: 0.2000 - val_loss: 0.6888 - val_any_predictions_loss: 0.6888 - val_subtype_pred_loss: 0.0000e+00 - val_any_predictions_binary_accuracy: 0.8000 - val_subtype_pred_categorical_accuracy: 0.0000e+00\n",
            "Epoch 4/50\n",
            "6/6 [==============================] - 1s 175ms/step - loss: 0.6852 - any_predictions_loss: 0.6852 - subtype_pred_loss: 1469349016230620480176961889241137152.0000 - any_predictions_binary_accuracy: 0.9833 - subtype_pred_categorical_accuracy: 0.2000 - val_loss: 0.6874 - val_any_predictions_loss: 0.6874 - val_subtype_pred_loss: 1.5769 - val_any_predictions_binary_accuracy: 0.8000 - val_subtype_pred_categorical_accuracy: 0.4000\n",
            "Epoch 5/50\n",
            "6/6 [==============================] - 1s 172ms/step - loss: 0.6827 - any_predictions_loss: 0.6827 - subtype_pred_loss: 1469291241969343063791212101921406976.0000 - any_predictions_binary_accuracy: 0.9833 - subtype_pred_categorical_accuracy: 0.1944 - val_loss: 0.6858 - val_any_predictions_loss: 0.6858 - val_subtype_pred_loss: 0.0000e+00 - val_any_predictions_binary_accuracy: 0.8000 - val_subtype_pred_categorical_accuracy: 0.0000e+00\n",
            "Epoch 6/50\n",
            "6/6 [==============================] - 1s 175ms/step - loss: 0.6801 - any_predictions_loss: 0.6801 - subtype_pred_loss: 1469258599795324183408653533592944640.0000 - any_predictions_binary_accuracy: 0.9833 - subtype_pred_categorical_accuracy: 0.1944 - val_loss: 0.6841 - val_any_predictions_loss: 0.6841 - val_subtype_pred_loss: 1.5769 - val_any_predictions_binary_accuracy: 0.8000 - val_subtype_pred_categorical_accuracy: 0.4000\n"
          ],
          "name": "stdout"
        }
      ]
    },
    {
      "cell_type": "markdown",
      "metadata": {
        "id": "ZLVb4gpbzIH4",
        "colab_type": "text"
      },
      "source": [
        "### Select the best model to save its output"
      ]
    },
    {
      "cell_type": "code",
      "metadata": {
        "id": "Usbcg_dizHbe",
        "colab_type": "code",
        "colab": {}
      },
      "source": [
        "losses_f = {\"M1\": min(history_F_1.history['loss']),\n",
        "             \"M2\": min(history_F_2.history['loss']),\n",
        "             \"M3\": min(history_F_3.history['loss'])\n",
        "}\n",
        "\n",
        "best_f = min(losses_f.keys(), key=(lambda k: losses_f[k]))"
      ],
      "execution_count": 0,
      "outputs": []
    },
    {
      "cell_type": "markdown",
      "metadata": {
        "id": "9ht2cpeFoZ6f",
        "colab_type": "text"
      },
      "source": [
        "Save history for later and also the model architecture and learned weights"
      ]
    },
    {
      "cell_type": "code",
      "metadata": {
        "id": "aQddBd1kyj0N",
        "colab_type": "code",
        "colab": {}
      },
      "source": [
        "if best_f is 'M1':\n",
        "  full_history = pd.DataFrame.from_dict(history_F_1.history)\n",
        "  full_history['epoch']=history_F_1.epoch\n",
        "  full_history = full_history.set_index('epoch')\n",
        "  full_history.head(5)\n",
        "\n",
        "  #save history to csv\n",
        "  full_history.to_csv(RESULT_PATH + 'history_CNN_full.csv')\n",
        "\n",
        "  #save weights\n",
        "  model_F_1.save_weights(MODEL_PATH + \"CNN_full.h5\")\n",
        "\n",
        "  with open(MODEL_PATH + 'CNN_full_summary.txt', 'w') as f:\n",
        "      with redirect_stdout(f):\n",
        "          model_F_1.summary()\n",
        "\n",
        "  test_dataloader_F = DataGenerator_Full(IDs=testing.ID,\n",
        "                                labels=testing.loc[:,'any':'subdural'],\n",
        "                                batch_size=5,\n",
        "                                img_size=(299,299,3),\n",
        "                                num_classes=5)\n",
        "  F_test_pred_any, F_test_pred_sub = model_F_1.predict(test_dataloader_F)\n",
        "  any_pred = pd.DataFrame(F_test_pred_any)\n",
        "  sub_pred = pd.DataFrame(F_test_pred_sub)\n",
        "  ID = pd.DataFrame(testing.ID.values)\n",
        "  full_pred = pd.concat([ID,any_pred, sub_pred], axis=1)\n",
        "  full_pred.columns = [\"ID\", \"any\", 'epidural', 'intraparenchymal', 'intraventricular', 'subarachnoid', 'subdural']\n",
        "  full_pred.to_csv(RESULT_PATH + \"CNN_full_preds.csv\")\n",
        "  fig, ax = plt.subplots(2,1, figsize=(20,10))\n",
        "  sns.distplot(CH_test_pred_any[:,0], ax=ax[0], color=\"Purple\")\n",
        "  sns.distplot(CH_test_pred_sub[:,0], ax=ax[1])\n",
        "  sns.distplot(CH_test_pred_sub[:,1], ax=ax[1])\n",
        "  sns.distplot(CH_test_pred_sub[:,2], ax=ax[1])\n",
        "  sns.distplot(CH_test_pred_sub[:,3], ax=ax[1])\n",
        "  sns.distplot(CH_test_pred_sub[:,4], ax=ax[1])\n",
        "  ax[0].set_title(\"Predicted probability of hemorrhage occurence in dev batch\")\n",
        "  ax[1].set_title(\"Predicted probability of hemorrhage subtypes in dev batch\")\n",
        "  fig.savefig(RESULT_PATH + 'CNN_full_dist.png')\n",
        "\n",
        "if best_f is 'M2':\n",
        "  full_history = pd.DataFrame.from_dict(history_F_2.history)\n",
        "  full_history['epoch']=history_F_2.epoch\n",
        "  full_history = full_history.set_index('epoch')\n",
        "\n",
        "  #save history to csv\n",
        "  full_history.to_csv(RESULT_PATH + 'history_CNN_full.csv')\n",
        "\n",
        "  #save weights\n",
        "  model_F_2.save_weights(MODEL_PATH + \"CNN_full.h5\")\n",
        "\n",
        "  with open(MODEL_PATH + 'CNN_full_summary.txt', 'w') as f:\n",
        "      with redirect_stdout(f):\n",
        "          model_F_2.summary()\n",
        "\n",
        "  test_dataloader_F = DataGenerator_Full(IDs=testing.ID,\n",
        "                                labels=testing.loc[:,'any':'subdural'],\n",
        "                                batch_size=5,\n",
        "                                img_size=(299,299,3),\n",
        "                                num_classes=5)\n",
        "  F_test_pred_any, F_test_pred_sub = model_F_2.predict(test_dataloader_F)\n",
        "  any_pred = pd.DataFrame(F_test_pred_any)\n",
        "  sub_pred = pd.DataFrame(F_test_pred_sub)\n",
        "  ID = pd.DataFrame(testing.ID.values)\n",
        "  full_pred = pd.concat([ID,any_pred, sub_pred], axis=1)\n",
        "  full_pred.columns = [\"ID\", \"any\", 'epidural', 'intraparenchymal', 'intraventricular', 'subarachnoid', 'subdural']\n",
        "  full_pred.to_csv(RESULT_PATH + \"CNN_full_preds.csv\")\n",
        "  fig, ax = plt.subplots(2,1, figsize=(20,10))\n",
        "  sns.distplot(CH_test_pred_any[:,0], ax=ax[0], color=\"Purple\")\n",
        "  sns.distplot(CH_test_pred_sub[:,0], ax=ax[1])\n",
        "  sns.distplot(CH_test_pred_sub[:,1], ax=ax[1])\n",
        "  sns.distplot(CH_test_pred_sub[:,2], ax=ax[1])\n",
        "  sns.distplot(CH_test_pred_sub[:,3], ax=ax[1])\n",
        "  sns.distplot(CH_test_pred_sub[:,4], ax=ax[1])\n",
        "  ax[0].set_title(\"Predicted probability of hemorrhage occurence in dev batch\")\n",
        "  ax[1].set_title(\"Predicted probability of hemorrhage subtypes in dev batch\")\n",
        "  fig.savefig(RESULT_PATH + 'CNN_full_dist.png')\n",
        "\n",
        "if best_f is 'M3':\n",
        "  full_history = pd.DataFrame.from_dict(history_F_3.history)\n",
        "  full_history['epoch']=history_F_3.epoch\n",
        "  full_history = full_history.set_index('epoch')\n",
        "  full_history.head(5)\n",
        "\n",
        "  #save history to csv\n",
        "  full_history.to_csv(RESULT_PATH + 'history_CNN_full.csv')\n",
        "\n",
        "  #save weights\n",
        "  model_F_3.save_weights(MODEL_PATH + \"CNN_full.h5\")\n",
        "\n",
        "  with open(MODEL_PATH + 'CNN_full_summary.txt', 'w') as f:\n",
        "      with redirect_stdout(f):\n",
        "          model_F_3.summary()\n",
        "\n",
        "  test_dataloader_F = DataGenerator_Full(IDs=testing.ID,\n",
        "                                labels=testing.loc[:,'any':'subdural'],\n",
        "                                batch_size=5,\n",
        "                                img_size=(299,299,3),\n",
        "                                num_classes=5)\n",
        "  F_test_pred_any, F_test_pred_sub = model_F_3.predict(test_dataloader_F)\n",
        "  any_pred = pd.DataFrame(F_test_pred_any)\n",
        "  sub_pred = pd.DataFrame(F_test_pred_sub)\n",
        "  ID = pd.DataFrame(testing.ID.values)\n",
        "  full_pred = pd.concat([ID,any_pred, sub_pred], axis=1)\n",
        "  full_pred.columns = [\"ID\", \"any\", 'epidural', 'intraparenchymal', 'intraventricular', 'subarachnoid', 'subdural']\n",
        "  full_pred.to_csv(RESULT_PATH + \"CNN_full_preds.csv\")\n",
        "  fig, ax = plt.subplots(2,1, figsize=(20,10))\n",
        "  sns.distplot(CH_test_pred_any[:,0], ax=ax[0], color=\"Purple\")\n",
        "  sns.distplot(CH_test_pred_sub[:,0], ax=ax[1])\n",
        "  sns.distplot(CH_test_pred_sub[:,1], ax=ax[1])\n",
        "  sns.distplot(CH_test_pred_sub[:,2], ax=ax[1])\n",
        "  sns.distplot(CH_test_pred_sub[:,3], ax=ax[1])\n",
        "  sns.distplot(CH_test_pred_sub[:,4], ax=ax[1])\n",
        "  ax[0].set_title(\"Predicted probability of hemorrhage occurence in dev batch\")\n",
        "  ax[1].set_title(\"Predicted probability of hemorrhage subtypes in dev batch\")\n",
        "  fig.savefig(RESULT_PATH + 'CNN_full_dist.png')"
      ],
      "execution_count": 0,
      "outputs": []
    }
  ]
}