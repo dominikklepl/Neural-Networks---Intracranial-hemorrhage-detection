{
  "nbformat": 4,
  "nbformat_minor": 0,
  "metadata": {
    "colab": {
      "name": "04_CNN_from_scratch.ipynb",
      "provenance": [],
      "include_colab_link": true
    },
    "kernelspec": {
      "name": "python3",
      "display_name": "Python 3"
    },
    "accelerator": "GPU"
  },
  "cells": [
    {
      "cell_type": "markdown",
      "metadata": {
        "id": "view-in-github",
        "colab_type": "text"
      },
      "source": [
        "<a href=\"https://colab.research.google.com/github/dominikklepl/Neural-Networks-Intracranial-hemorrhage-detection/blob/master/04_CNN_from_scratch.ipynb\" target=\"_parent\"><img src=\"https://colab.research.google.com/assets/colab-badge.svg\" alt=\"Open In Colab\"/></a>"
      ]
    },
    {
      "cell_type": "markdown",
      "metadata": {
        "id": "bCqsoxkxP9zB",
        "colab_type": "text"
      },
      "source": [
        "# Building CNN from scratch\n",
        "In previous notebook, we built only the classifier part of the model and used pretrainted convolutional layers for automatic feature extraction.\n",
        "\n",
        "We'll just copy paste functions for preprocessing and data generation from previous notebook (\"03 Transfer learning\")"
      ]
    },
    {
      "cell_type": "code",
      "metadata": {
        "id": "wVc8B0wP_49g",
        "colab_type": "code",
        "colab": {}
      },
      "source": [
        "prototyping = False"
      ],
      "execution_count": 0,
      "outputs": []
    },
    {
      "cell_type": "markdown",
      "metadata": {
        "id": "Fc1NeHJZVUfI",
        "colab_type": "text"
      },
      "source": [
        "## Setup and paths to data"
      ]
    },
    {
      "cell_type": "markdown",
      "metadata": {
        "id": "K5ieuRPWhad7",
        "colab_type": "text"
      },
      "source": [
        "Install missing packages"
      ]
    },
    {
      "cell_type": "code",
      "metadata": {
        "id": "jgSMnAEchcQC",
        "colab_type": "code",
        "outputId": "583272bc-af97-46b3-baca-989d8cd44d76",
        "colab": {
          "base_uri": "https://localhost:8080/",
          "height": 122
        }
      },
      "source": [
        "!pip install pydicom"
      ],
      "execution_count": 2,
      "outputs": [
        {
          "output_type": "stream",
          "text": [
            "Collecting pydicom\n",
            "\u001b[?25l  Downloading https://files.pythonhosted.org/packages/fc/d5/da1fdf3b967e324ee47a7ad9553c9b94c1193b6b98afd9eeda0efb76b9f7/pydicom-1.3.0-py2.py3-none-any.whl (7.1MB)\n",
            "\u001b[K     |████████████████████████████████| 7.1MB 8.8MB/s \n",
            "\u001b[?25hInstalling collected packages: pydicom\n",
            "Successfully installed pydicom-1.3.0\n"
          ],
          "name": "stdout"
        }
      ]
    },
    {
      "cell_type": "markdown",
      "metadata": {
        "id": "AHyl7ejJRHbp",
        "colab_type": "text"
      },
      "source": [
        "Import all required packages"
      ]
    },
    {
      "cell_type": "code",
      "metadata": {
        "id": "6iC6GizdRLOe",
        "colab_type": "code",
        "outputId": "ec833b4a-b57f-4b81-92e5-8a94693898e2",
        "colab": {
          "base_uri": "https://localhost:8080/",
          "height": 51
        }
      },
      "source": [
        "#connect google drive\n",
        "from google.colab import drive\n",
        "\n",
        "#dealing with zip\n",
        "import zipfile\n",
        "\n",
        "#importing labels and working with dataframe\n",
        "import pandas as pd\n",
        "\n",
        "#manipulation with images\n",
        "import pydicom\n",
        "import torch\n",
        "import numpy as np\n",
        "from math import ceil, floor, log\n",
        "import cv2\n",
        "\n",
        "#train-test\n",
        "from sklearn.model_selection import GroupKFold\n",
        "\n",
        "#models\n",
        "%tensorflow_version 1.x\n",
        "import keras.utils\n",
        "import tensorflow as tf\n",
        "print(tf.__version__)\n",
        "from keras.layers import GlobalAveragePooling2D, Dense, Activation, concatenate, Dropout, Conv2D, MaxPooling2D, Input, BatchNormalization, SpatialDropout2D\n",
        "from keras.initializers import glorot_normal, he_normal\n",
        "from keras.regularizers import l2\n",
        "from keras.models import Model, load_model, Sequential\n",
        "from keras.callbacks import ModelCheckpoint, ReduceLROnPlateau, EarlyStopping\n",
        "from keras.optimizers import Adam\n",
        "from tensorflow.nn import sigmoid_cross_entropy_with_logits\n",
        "\n",
        "#save model architecture\n",
        "from contextlib import redirect_stdout\n",
        "\n",
        "#plotting\n",
        "import matplotlib.pyplot as plt\n",
        "import seaborn as sns"
      ],
      "execution_count": 3,
      "outputs": [
        {
          "output_type": "stream",
          "text": [
            "Using TensorFlow backend.\n"
          ],
          "name": "stderr"
        },
        {
          "output_type": "stream",
          "text": [
            "1.15.0\n"
          ],
          "name": "stdout"
        }
      ]
    },
    {
      "cell_type": "code",
      "metadata": {
        "id": "WJ5jhXN5R4uc",
        "colab_type": "code",
        "colab": {}
      },
      "source": [
        "#ignore deprecation warnings\n",
        "import warnings\n",
        "warnings.filterwarnings(\"ignore\", category=DeprecationWarning)\n",
        "warnings.filterwarnings(\"ignore\", category=UserWarning)\n",
        "warnings.filterwarnings(\"ignore\", category=FutureWarning)"
      ],
      "execution_count": 0,
      "outputs": []
    },
    {
      "cell_type": "markdown",
      "metadata": {
        "id": "wneWaNJIxllY",
        "colab_type": "text"
      },
      "source": [
        "Check that GPU is available and that keras can use it."
      ]
    },
    {
      "cell_type": "code",
      "metadata": {
        "id": "DGOK4bYJxn6J",
        "colab_type": "code",
        "outputId": "3fe28578-78d6-4c86-e23e-b36d3be9923f",
        "colab": {
          "base_uri": "https://localhost:8080/",
          "height": 190
        }
      },
      "source": [
        "from keras import backend as K\n",
        "K.tensorflow_backend._get_available_gpus()"
      ],
      "execution_count": 5,
      "outputs": [
        {
          "output_type": "stream",
          "text": [
            "WARNING:tensorflow:From /usr/local/lib/python3.6/dist-packages/keras/backend/tensorflow_backend.py:190: The name tf.get_default_session is deprecated. Please use tf.compat.v1.get_default_session instead.\n",
            "\n",
            "WARNING:tensorflow:From /usr/local/lib/python3.6/dist-packages/keras/backend/tensorflow_backend.py:197: The name tf.ConfigProto is deprecated. Please use tf.compat.v1.ConfigProto instead.\n",
            "\n",
            "WARNING:tensorflow:From /usr/local/lib/python3.6/dist-packages/keras/backend/tensorflow_backend.py:203: The name tf.Session is deprecated. Please use tf.compat.v1.Session instead.\n",
            "\n",
            "WARNING:tensorflow:From /usr/local/lib/python3.6/dist-packages/keras/backend/tensorflow_backend.py:207: The name tf.global_variables is deprecated. Please use tf.compat.v1.global_variables instead.\n",
            "\n"
          ],
          "name": "stdout"
        },
        {
          "output_type": "execute_result",
          "data": {
            "text/plain": [
              "['/job:localhost/replica:0/task:0/device:GPU:0']"
            ]
          },
          "metadata": {
            "tags": []
          },
          "execution_count": 5
        }
      ]
    },
    {
      "cell_type": "markdown",
      "metadata": {
        "id": "fNASn3sSluA-",
        "colab_type": "text"
      },
      "source": [
        "Set random seed for reproducibility"
      ]
    },
    {
      "cell_type": "code",
      "metadata": {
        "id": "VsH2A1Qhlxep",
        "colab_type": "code",
        "colab": {}
      },
      "source": [
        "np.random.seed(31415)"
      ],
      "execution_count": 0,
      "outputs": []
    },
    {
      "cell_type": "markdown",
      "metadata": {
        "id": "x_9xRxp2XYhR",
        "colab_type": "text"
      },
      "source": [
        "Connect Google Drive. That's where my data is stored."
      ]
    },
    {
      "cell_type": "code",
      "metadata": {
        "id": "AAqMR_oS_3De",
        "colab_type": "code",
        "outputId": "3cd4cc79-ec0a-438a-b631-6b1869e4664d",
        "colab": {
          "base_uri": "https://localhost:8080/",
          "height": 122
        }
      },
      "source": [
        "GDRIVE_PATH = \"/gdrive\"\n",
        "drive.mount(GDRIVE_PATH)"
      ],
      "execution_count": 7,
      "outputs": [
        {
          "output_type": "stream",
          "text": [
            "Go to this URL in a browser: https://accounts.google.com/o/oauth2/auth?client_id=947318989803-6bn6qk8qdgf4n4g3pfee6491hc0brc4i.apps.googleusercontent.com&redirect_uri=urn%3Aietf%3Awg%3Aoauth%3A2.0%3Aoob&scope=email%20https%3A%2F%2Fwww.googleapis.com%2Fauth%2Fdocs.test%20https%3A%2F%2Fwww.googleapis.com%2Fauth%2Fdrive%20https%3A%2F%2Fwww.googleapis.com%2Fauth%2Fdrive.photos.readonly%20https%3A%2F%2Fwww.googleapis.com%2Fauth%2Fpeopleapi.readonly&response_type=code\n",
            "\n",
            "Enter your authorization code:\n",
            "··········\n",
            "Mounted at /gdrive\n"
          ],
          "name": "stdout"
        }
      ]
    },
    {
      "cell_type": "markdown",
      "metadata": {
        "id": "4KyezdSiRqxy",
        "colab_type": "text"
      },
      "source": [
        "Set paths to all required data"
      ]
    },
    {
      "cell_type": "code",
      "metadata": {
        "id": "4mwN-s-7Rqeq",
        "colab_type": "code",
        "outputId": "4ca84170-11f0-4bd6-a7c4-a72759946b1b",
        "colab": {
          "base_uri": "https://localhost:8080/",
          "height": 51
        }
      },
      "source": [
        "WORK_DIR = \"/content/\"\n",
        "BASE_DIR = GDRIVE_PATH + \"/My Drive/\"\n",
        "ZIP_PATH = BASE_DIR + \"DICOMS/train_images.zip\"\n",
        "DF_PATH = BASE_DIR + \"train_balanced.csv\"\n",
        "MODEL_PATH = BASE_DIR + \"models/\"\n",
        "RESULT_PATH = BASE_DIR + \"results/\" #for saving performance of models\n",
        "IMAGES_PATH = WORK_DIR + \"img\"\n",
        "\n",
        "#if the model and results aren't created already, create them\n",
        "!mkdir /gdrive/My\\ Drive/models\n",
        "!mkdir /gdrive/My\\ Drive/results\n",
        "\n",
        "#also create temporary folder in working directory for unzipping images\n",
        "!mkdir /content/img"
      ],
      "execution_count": 8,
      "outputs": [
        {
          "output_type": "stream",
          "text": [
            "mkdir: cannot create directory ‘/gdrive/My Drive/models’: File exists\n",
            "mkdir: cannot create directory ‘/gdrive/My Drive/results’: File exists\n"
          ],
          "name": "stdout"
        }
      ]
    },
    {
      "cell_type": "code",
      "metadata": {
        "id": "Y2wpHxQE7Yta",
        "colab_type": "code",
        "outputId": "6263dfd4-0070-4b07-bce9-1de9a632882d",
        "colab": {
          "base_uri": "https://localhost:8080/",
          "height": 34
        }
      },
      "source": [
        "#get number of CPU cores\n",
        "import multiprocessing\n",
        "CORES = multiprocessing.cpu_count()\n",
        "print(CORES)"
      ],
      "execution_count": 9,
      "outputs": [
        {
          "output_type": "stream",
          "text": [
            "2\n"
          ],
          "name": "stdout"
        }
      ]
    },
    {
      "cell_type": "markdown",
      "metadata": {
        "id": "HUE6PFH6Va7f",
        "colab_type": "text"
      },
      "source": [
        "Images are saved in a zip file. For easier and faster manipulation, let's extract them to a folder in the working directory that we created before (\"/content/img\")"
      ]
    },
    {
      "cell_type": "code",
      "metadata": {
        "id": "aDrNJugxVZAI",
        "colab_type": "code",
        "outputId": "2b24b38f-a2c3-48ea-bb9c-92ce48abc6cf",
        "colab": {
          "base_uri": "https://localhost:8080/",
          "height": 51
        }
      },
      "source": [
        "img_archive = zipfile.ZipFile(ZIP_PATH)\n",
        "%time img_archive.extractall(path=IMAGES_PATH)"
      ],
      "execution_count": 10,
      "outputs": [
        {
          "output_type": "stream",
          "text": [
            "CPU times: user 13min 2s, sys: 2min 25s, total: 15min 27s\n",
            "Wall time: 21min 21s\n"
          ],
          "name": "stdout"
        }
      ]
    },
    {
      "cell_type": "markdown",
      "metadata": {
        "id": "9QwB9UwVXyyk",
        "colab_type": "text"
      },
      "source": [
        "### Load the csv with labels and metadata"
      ]
    },
    {
      "cell_type": "code",
      "metadata": {
        "id": "9UrkCTAJXyZZ",
        "colab_type": "code",
        "colab": {
          "base_uri": "https://localhost:8080/",
          "height": 332
        },
        "outputId": "e96b22ae-fe9b-4dc9-bbc9-3bea17361bf9"
      },
      "source": [
        "train_df = pd.read_csv(DF_PATH)\n",
        "train_df.sample(3)"
      ],
      "execution_count": 11,
      "outputs": [
        {
          "output_type": "execute_result",
          "data": {
            "text/html": [
              "<div>\n",
              "<style scoped>\n",
              "    .dataframe tbody tr th:only-of-type {\n",
              "        vertical-align: middle;\n",
              "    }\n",
              "\n",
              "    .dataframe tbody tr th {\n",
              "        vertical-align: top;\n",
              "    }\n",
              "\n",
              "    .dataframe thead th {\n",
              "        text-align: right;\n",
              "    }\n",
              "</style>\n",
              "<table border=\"1\" class=\"dataframe\">\n",
              "  <thead>\n",
              "    <tr style=\"text-align: right;\">\n",
              "      <th></th>\n",
              "      <th>Unnamed: 0</th>\n",
              "      <th>Unnamed: 0.1</th>\n",
              "      <th>index</th>\n",
              "      <th>SOPInstanceUID</th>\n",
              "      <th>Modality</th>\n",
              "      <th>PatientID</th>\n",
              "      <th>StudyInstanceUID</th>\n",
              "      <th>SeriesInstanceUID</th>\n",
              "      <th>StudyID</th>\n",
              "      <th>ImagePositionPatient</th>\n",
              "      <th>ImageOrientationPatient</th>\n",
              "      <th>SamplesPerPixel</th>\n",
              "      <th>PhotometricInterpretation</th>\n",
              "      <th>Rows</th>\n",
              "      <th>Columns</th>\n",
              "      <th>PixelSpacing</th>\n",
              "      <th>BitsAllocated</th>\n",
              "      <th>BitsStored</th>\n",
              "      <th>HighBit</th>\n",
              "      <th>PixelRepresentation</th>\n",
              "      <th>WindowCenter</th>\n",
              "      <th>WindowWidth</th>\n",
              "      <th>RescaleIntercept</th>\n",
              "      <th>RescaleSlope</th>\n",
              "      <th>fname</th>\n",
              "      <th>MultiImagePositionPatient</th>\n",
              "      <th>ImagePositionPatient1</th>\n",
              "      <th>ImagePositionPatient2</th>\n",
              "      <th>MultiImageOrientationPatient</th>\n",
              "      <th>ImageOrientationPatient1</th>\n",
              "      <th>ImageOrientationPatient2</th>\n",
              "      <th>ImageOrientationPatient3</th>\n",
              "      <th>ImageOrientationPatient4</th>\n",
              "      <th>ImageOrientationPatient5</th>\n",
              "      <th>MultiPixelSpacing</th>\n",
              "      <th>PixelSpacing1</th>\n",
              "      <th>img_min</th>\n",
              "      <th>img_max</th>\n",
              "      <th>img_mean</th>\n",
              "      <th>img_std</th>\n",
              "      <th>img_pct_window</th>\n",
              "      <th>MultiWindowCenter</th>\n",
              "      <th>WindowCenter1</th>\n",
              "      <th>MultiWindowWidth</th>\n",
              "      <th>WindowWidth1</th>\n",
              "      <th>any</th>\n",
              "      <th>epidural</th>\n",
              "      <th>intraparenchymal</th>\n",
              "      <th>intraventricular</th>\n",
              "      <th>subarachnoid</th>\n",
              "      <th>subdural</th>\n",
              "      <th>pct_cut</th>\n",
              "      <th>split</th>\n",
              "    </tr>\n",
              "  </thead>\n",
              "  <tbody>\n",
              "    <tr>\n",
              "      <th>139665</th>\n",
              "      <td>139665</td>\n",
              "      <td>139665</td>\n",
              "      <td>312002</td>\n",
              "      <td>ID_779858c27</td>\n",
              "      <td>CT</td>\n",
              "      <td>ID_2ecaabfe</td>\n",
              "      <td>ID_7107642e03</td>\n",
              "      <td>ID_04b1318e8e</td>\n",
              "      <td>NaN</td>\n",
              "      <td>-125.0</td>\n",
              "      <td>1.0</td>\n",
              "      <td>1</td>\n",
              "      <td>MONOCHROME2</td>\n",
              "      <td>512</td>\n",
              "      <td>512</td>\n",
              "      <td>0.488281</td>\n",
              "      <td>16</td>\n",
              "      <td>16</td>\n",
              "      <td>15</td>\n",
              "      <td>1</td>\n",
              "      <td>30.0</td>\n",
              "      <td>80.0</td>\n",
              "      <td>-1024.0</td>\n",
              "      <td>1.0</td>\n",
              "      <td>../input/rsna-intracranial-hemorrhage-detectio...</td>\n",
              "      <td>1</td>\n",
              "      <td>-116.640732</td>\n",
              "      <td>156.931549</td>\n",
              "      <td>1</td>\n",
              "      <td>0.0</td>\n",
              "      <td>0.0</td>\n",
              "      <td>0.0</td>\n",
              "      <td>0.965926</td>\n",
              "      <td>-0.258819</td>\n",
              "      <td>1</td>\n",
              "      <td>0.488281</td>\n",
              "      <td>-2000</td>\n",
              "      <td>2806</td>\n",
              "      <td>-68.513100</td>\n",
              "      <td>1163.294980</td>\n",
              "      <td>0.125107</td>\n",
              "      <td>NaN</td>\n",
              "      <td>NaN</td>\n",
              "      <td>NaN</td>\n",
              "      <td>NaN</td>\n",
              "      <td>0</td>\n",
              "      <td>0</td>\n",
              "      <td>0</td>\n",
              "      <td>0</td>\n",
              "      <td>0</td>\n",
              "      <td>0</td>\n",
              "      <td>(0.1, 0.2]</td>\n",
              "      <td>14</td>\n",
              "    </tr>\n",
              "    <tr>\n",
              "      <th>148871</th>\n",
              "      <td>148871</td>\n",
              "      <td>148871</td>\n",
              "      <td>427720</td>\n",
              "      <td>ID_e96c9e3db</td>\n",
              "      <td>CT</td>\n",
              "      <td>ID_7173bbfa</td>\n",
              "      <td>ID_60d1f23a4a</td>\n",
              "      <td>ID_f8da691279</td>\n",
              "      <td>NaN</td>\n",
              "      <td>-125.0</td>\n",
              "      <td>1.0</td>\n",
              "      <td>1</td>\n",
              "      <td>MONOCHROME2</td>\n",
              "      <td>512</td>\n",
              "      <td>512</td>\n",
              "      <td>0.488281</td>\n",
              "      <td>16</td>\n",
              "      <td>16</td>\n",
              "      <td>15</td>\n",
              "      <td>1</td>\n",
              "      <td>30.0</td>\n",
              "      <td>80.0</td>\n",
              "      <td>-1024.0</td>\n",
              "      <td>1.0</td>\n",
              "      <td>../input/rsna-intracranial-hemorrhage-detectio...</td>\n",
              "      <td>1</td>\n",
              "      <td>-121.289818</td>\n",
              "      <td>132.876526</td>\n",
              "      <td>1</td>\n",
              "      <td>0.0</td>\n",
              "      <td>0.0</td>\n",
              "      <td>0.0</td>\n",
              "      <td>0.945519</td>\n",
              "      <td>-0.325568</td>\n",
              "      <td>1</td>\n",
              "      <td>0.488281</td>\n",
              "      <td>-2000</td>\n",
              "      <td>2815</td>\n",
              "      <td>69.768433</td>\n",
              "      <td>1220.667199</td>\n",
              "      <td>0.245369</td>\n",
              "      <td>NaN</td>\n",
              "      <td>NaN</td>\n",
              "      <td>NaN</td>\n",
              "      <td>NaN</td>\n",
              "      <td>0</td>\n",
              "      <td>0</td>\n",
              "      <td>0</td>\n",
              "      <td>0</td>\n",
              "      <td>0</td>\n",
              "      <td>0</td>\n",
              "      <td>(0.2, 0.3]</td>\n",
              "      <td>15</td>\n",
              "    </tr>\n",
              "    <tr>\n",
              "      <th>40455</th>\n",
              "      <td>40455</td>\n",
              "      <td>40455</td>\n",
              "      <td>281098</td>\n",
              "      <td>ID_194db803f</td>\n",
              "      <td>CT</td>\n",
              "      <td>ID_77de44ad</td>\n",
              "      <td>ID_d621130e3d</td>\n",
              "      <td>ID_b555440e84</td>\n",
              "      <td>NaN</td>\n",
              "      <td>-123.0</td>\n",
              "      <td>1.0</td>\n",
              "      <td>1</td>\n",
              "      <td>MONOCHROME2</td>\n",
              "      <td>512</td>\n",
              "      <td>512</td>\n",
              "      <td>0.488281</td>\n",
              "      <td>16</td>\n",
              "      <td>12</td>\n",
              "      <td>11</td>\n",
              "      <td>0</td>\n",
              "      <td>40.0</td>\n",
              "      <td>80.0</td>\n",
              "      <td>-1024.0</td>\n",
              "      <td>1.0</td>\n",
              "      <td>../input/rsna-intracranial-hemorrhage-detectio...</td>\n",
              "      <td>1</td>\n",
              "      <td>-50.001010</td>\n",
              "      <td>180.051520</td>\n",
              "      <td>1</td>\n",
              "      <td>0.0</td>\n",
              "      <td>0.0</td>\n",
              "      <td>0.0</td>\n",
              "      <td>0.978148</td>\n",
              "      <td>-0.207912</td>\n",
              "      <td>1</td>\n",
              "      <td>0.488281</td>\n",
              "      <td>0</td>\n",
              "      <td>2610</td>\n",
              "      <td>491.905163</td>\n",
              "      <td>580.444349</td>\n",
              "      <td>0.304535</td>\n",
              "      <td>1.0</td>\n",
              "      <td>40.0</td>\n",
              "      <td>1.0</td>\n",
              "      <td>80.0</td>\n",
              "      <td>1</td>\n",
              "      <td>0</td>\n",
              "      <td>0</td>\n",
              "      <td>0</td>\n",
              "      <td>0</td>\n",
              "      <td>1</td>\n",
              "      <td>(0.3, 1.0]</td>\n",
              "      <td>5</td>\n",
              "    </tr>\n",
              "  </tbody>\n",
              "</table>\n",
              "</div>"
            ],
            "text/plain": [
              "        Unnamed: 0  Unnamed: 0.1   index  ... subdural     pct_cut split\n",
              "139665      139665        139665  312002  ...        0  (0.1, 0.2]    14\n",
              "148871      148871        148871  427720  ...        0  (0.2, 0.3]    15\n",
              "40455        40455         40455  281098  ...        1  (0.3, 1.0]     5\n",
              "\n",
              "[3 rows x 53 columns]"
            ]
          },
          "metadata": {
            "tags": []
          },
          "execution_count": 11
        }
      ]
    },
    {
      "cell_type": "markdown",
      "metadata": {
        "id": "NYdHHbORadqN",
        "colab_type": "text"
      },
      "source": [
        "Some of the columns are useless at this point, let's keep just those that we actually need. Also some of the columns have too long name, yes SOPInstanceUID I'm talking about you so we'll rename them."
      ]
    },
    {
      "cell_type": "code",
      "metadata": {
        "id": "BqW9VJAoamXZ",
        "colab_type": "code",
        "colab": {}
      },
      "source": [
        "train = train_df[['SOPInstanceUID',\n",
        "                  'PatientID',\n",
        "                  'any',\n",
        "                  'epidural',\n",
        "                  'intraparenchymal',\n",
        "                  'intraventricular',\n",
        "                  'subarachnoid',\n",
        "                  'subdural']].copy()\n",
        "train.rename(columns={'SOPInstanceUID': 'ID',\n",
        "                      'PatientID': 'Patient'},\n",
        "              inplace=True)\n",
        "train = train.sample(frac=1, random_state=1)"
      ],
      "execution_count": 0,
      "outputs": []
    },
    {
      "cell_type": "code",
      "metadata": {
        "id": "sbkJiWhT_seU",
        "colab_type": "code",
        "colab": {}
      },
      "source": [
        "if prototyping:\n",
        "  train = train.sample(200)\n",
        "  train = train.reset_index(drop=True)"
      ],
      "execution_count": 0,
      "outputs": []
    },
    {
      "cell_type": "code",
      "metadata": {
        "id": "VFws-IEliua2",
        "colab_type": "code",
        "colab": {
          "base_uri": "https://localhost:8080/",
          "height": 224
        },
        "outputId": "1e967210-f206-428b-cb86-01cdbce2f7a2"
      },
      "source": [
        "train.head(5)"
      ],
      "execution_count": 14,
      "outputs": [
        {
          "output_type": "execute_result",
          "data": {
            "text/html": [
              "<div>\n",
              "<style scoped>\n",
              "    .dataframe tbody tr th:only-of-type {\n",
              "        vertical-align: middle;\n",
              "    }\n",
              "\n",
              "    .dataframe tbody tr th {\n",
              "        vertical-align: top;\n",
              "    }\n",
              "\n",
              "    .dataframe thead th {\n",
              "        text-align: right;\n",
              "    }\n",
              "</style>\n",
              "<table border=\"1\" class=\"dataframe\">\n",
              "  <thead>\n",
              "    <tr style=\"text-align: right;\">\n",
              "      <th></th>\n",
              "      <th>ID</th>\n",
              "      <th>Patient</th>\n",
              "      <th>any</th>\n",
              "      <th>epidural</th>\n",
              "      <th>intraparenchymal</th>\n",
              "      <th>intraventricular</th>\n",
              "      <th>subarachnoid</th>\n",
              "      <th>subdural</th>\n",
              "    </tr>\n",
              "  </thead>\n",
              "  <tbody>\n",
              "    <tr>\n",
              "      <th>30631</th>\n",
              "      <td>ID_f2e95fbce</td>\n",
              "      <td>ID_b8d82bc8</td>\n",
              "      <td>1</td>\n",
              "      <td>0</td>\n",
              "      <td>0</td>\n",
              "      <td>0</td>\n",
              "      <td>0</td>\n",
              "      <td>1</td>\n",
              "    </tr>\n",
              "    <tr>\n",
              "      <th>121378</th>\n",
              "      <td>ID_97716b96f</td>\n",
              "      <td>ID_55513c6e</td>\n",
              "      <td>0</td>\n",
              "      <td>0</td>\n",
              "      <td>0</td>\n",
              "      <td>0</td>\n",
              "      <td>0</td>\n",
              "      <td>0</td>\n",
              "    </tr>\n",
              "    <tr>\n",
              "      <th>160098</th>\n",
              "      <td>ID_f3e24d19d</td>\n",
              "      <td>ID_0430194e</td>\n",
              "      <td>0</td>\n",
              "      <td>0</td>\n",
              "      <td>0</td>\n",
              "      <td>0</td>\n",
              "      <td>0</td>\n",
              "      <td>0</td>\n",
              "    </tr>\n",
              "    <tr>\n",
              "      <th>65925</th>\n",
              "      <td>ID_21a834970</td>\n",
              "      <td>ID_e7522668</td>\n",
              "      <td>1</td>\n",
              "      <td>0</td>\n",
              "      <td>0</td>\n",
              "      <td>0</td>\n",
              "      <td>0</td>\n",
              "      <td>1</td>\n",
              "    </tr>\n",
              "    <tr>\n",
              "      <th>36787</th>\n",
              "      <td>ID_cfff53a3d</td>\n",
              "      <td>ID_96f7a151</td>\n",
              "      <td>1</td>\n",
              "      <td>0</td>\n",
              "      <td>0</td>\n",
              "      <td>0</td>\n",
              "      <td>0</td>\n",
              "      <td>1</td>\n",
              "    </tr>\n",
              "  </tbody>\n",
              "</table>\n",
              "</div>"
            ],
            "text/plain": [
              "                  ID      Patient  ...  subarachnoid  subdural\n",
              "30631   ID_f2e95fbce  ID_b8d82bc8  ...             0         1\n",
              "121378  ID_97716b96f  ID_55513c6e  ...             0         0\n",
              "160098  ID_f3e24d19d  ID_0430194e  ...             0         0\n",
              "65925   ID_21a834970  ID_e7522668  ...             0         1\n",
              "36787   ID_cfff53a3d  ID_96f7a151  ...             0         1\n",
              "\n",
              "[5 rows x 8 columns]"
            ]
          },
          "metadata": {
            "tags": []
          },
          "execution_count": 14
        }
      ]
    },
    {
      "cell_type": "markdown",
      "metadata": {
        "id": "MSi-wdBbxWkr",
        "colab_type": "text"
      },
      "source": [
        "### Load bins for uniform transform"
      ]
    },
    {
      "cell_type": "code",
      "metadata": {
        "id": "pcHBPvr7xWDU",
        "colab_type": "code",
        "colab": {}
      },
      "source": [
        "bins = torch.load(BASE_DIR+\"bins.pt\").numpy()"
      ],
      "execution_count": 0,
      "outputs": []
    },
    {
      "cell_type": "markdown",
      "metadata": {
        "id": "ctj4nBrbThpT",
        "colab_type": "text"
      },
      "source": [
        "## Data processing functions\n",
        "Before we can start building awesome neural networks, we need a few helper functions for constructing data (i.e. images) in form that's acceptable for the models to learn from.\n",
        "\n",
        "First, functions for reading DICOM and applying intercept and slope."
      ]
    },
    {
      "cell_type": "code",
      "metadata": {
        "id": "qzN-9sVgeYny",
        "colab_type": "code",
        "colab": {}
      },
      "source": [
        "#correcting dcm with wrong meta-data (explained in preprocessing notebook)\n",
        "def correct_dcm(dcm):\n",
        "    x = dcm.pixel_array + 1000\n",
        "    px_mode = 4096\n",
        "    x[x>=px_mode] = x[x>=px_mode] - px_mode\n",
        "    dcm.PixelData = x.tobytes()\n",
        "    dcm.RescaleIntercept = -1000\n",
        "\n",
        "#transform dicom to HU by applying intercept and slope\n",
        "def rescale_dcm(dcm):\n",
        "  if (dcm.BitsStored == 12) and (dcm.PixelRepresentation == 0) and (int(dcm.RescaleIntercept) > -100):\n",
        "    correct_dcm(dcm)\n",
        "  return dcm.pixel_array * dcm.RescaleSlope + dcm.RescaleIntercept"
      ],
      "execution_count": 0,
      "outputs": []
    },
    {
      "cell_type": "markdown",
      "metadata": {
        "id": "5s6f3kDaw_At",
        "colab_type": "text"
      },
      "source": [
        "### Use full scale but apply uniform distribution"
      ]
    },
    {
      "cell_type": "code",
      "metadata": {
        "id": "d0FPSzjDqVbZ",
        "colab_type": "code",
        "colab": {}
      },
      "source": [
        "def to_full(dcm, bins):\n",
        "  ys = np.linspace(0., 1., len(bins))\n",
        "  x = dcm.flatten()\n",
        "  x = np.interp(x, bins, ys)\n",
        "  x = x.reshape(dcm.shape).clip(0.,1.) * 2**16\n",
        "  x = x.astype(np.uint16)\n",
        "  x[x<np.median(x)]=0\n",
        "  x = np.stack((x,)*3, axis=-1)\n",
        "  return x"
      ],
      "execution_count": 0,
      "outputs": []
    },
    {
      "cell_type": "code",
      "metadata": {
        "id": "MyrYCyH6t3HE",
        "colab_type": "code",
        "colab": {
          "base_uri": "https://localhost:8080/",
          "height": 306
        },
        "outputId": "82bc0a3e-0b43-4da2-f23f-127fad174b35"
      },
      "source": [
        "#test it\n",
        "dcm = pydicom.dcmread(IMAGES_PATH+\"/\"+train.ID[0]+\".dcm\")\n",
        "dcm = rescale_dcm(dcm)\n",
        "x = to_full(dcm, bins)\n",
        "plt.imshow(x[:,:,0], cmap=plt.cm.bone)"
      ],
      "execution_count": 18,
      "outputs": [
        {
          "output_type": "execute_result",
          "data": {
            "text/plain": [
              "<matplotlib.image.AxesImage at 0x7f646a5a4f28>"
            ]
          },
          "metadata": {
            "tags": []
          },
          "execution_count": 18
        },
        {
          "output_type": "display_data",
          "data": {
            "image/png": "[encoded data removed]",
            "text/plain": [
              "<Figure size 432x288 with 1 Axes>"
            ]
          },
          "metadata": {
            "tags": []
          }
        }
      ]
    },
    {
      "cell_type": "markdown",
      "metadata": {
        "id": "24YQ6mt2gsRT",
        "colab_type": "text"
      },
      "source": [
        "### Getting channels and save them as color channels"
      ]
    },
    {
      "cell_type": "code",
      "metadata": {
        "id": "3ZsYW4pbgxb8",
        "colab_type": "code",
        "colab": {}
      },
      "source": [
        "def window_image(img, window_center, window_width, U=1.0, eps=(1.0 / 255.0)):\n",
        "    ue = np.log((U / eps) - 1.0)\n",
        "    W = (2 / window_width) * ue\n",
        "    b = ((-2 * window_center) / window_width) * ue\n",
        "    z = W * img + b\n",
        "    img = U / (1 + np.power(np.e, -1.0 * z))\n",
        "    img = (img - np.min(img)) / (np.max(img) - np.min(img))\n",
        "    return img\n",
        "\n",
        "def to_channels(dcm):\n",
        "    brain_img = window_image(dcm, 40, 80)\n",
        "    subdural_img = window_image(dcm, 80, 200)\n",
        "    soft_img = window_image(dcm, 40, 380)\n",
        "    bsb_img = np.array([brain_img, subdural_img, soft_img]).transpose(1,2,0)\n",
        "    return bsb_img"
      ],
      "execution_count": 0,
      "outputs": []
    },
    {
      "cell_type": "code",
      "metadata": {
        "id": "jgUSlI3hUCzq",
        "colab_type": "code",
        "colab": {}
      },
      "source": [
        "#Finally function for loading a single image and resizing it to the input size.\n",
        "def read_img(ID, resize, preprocess):\n",
        "    path = IMAGES_PATH+'/'+ID+'.dcm'\n",
        "    dcm = pydicom.dcmread(path)\n",
        "    dcm = rescale_dcm(dcm)\n",
        "\n",
        "    if preprocess is \"CH\":\n",
        "      try: img = to_channels(dcm)\n",
        "      except: img = np.zeros(resize)\n",
        "    if preprocess is \"F\":\n",
        "      try: img = to_full(dcm, bins)\n",
        "      except: img = np.zeros(resize)\n",
        "\n",
        "    img = cv2.resize(img, resize[:2], interpolation=cv2.INTER_CUBIC) #resize\n",
        "    img = (img - np.min(img))/(np.max(img)-np.min(img)) #min-max normalize\n",
        "    return img"
      ],
      "execution_count": 0,
      "outputs": []
    },
    {
      "cell_type": "code",
      "metadata": {
        "id": "leZ6duPAfTQC",
        "colab_type": "code",
        "colab": {
          "base_uri": "https://localhost:8080/",
          "height": 374
        },
        "outputId": "6dfd2314-023f-4dff-a283-1bd4b2371131"
      },
      "source": [
        "%time img_ch = read_img(train.ID[2], (250, 250, 3), preprocess=\"CH\")\n",
        "%time img_f = read_img(train.ID[2], (250, 250, 3), preprocess=\"F\")\n",
        "\n",
        "#some sanity checks\n",
        "plt.imshow(img_ch)\n",
        "print(img_ch.shape)"
      ],
      "execution_count": 21,
      "outputs": [
        {
          "output_type": "stream",
          "text": [
            "CPU times: user 68.6 ms, sys: 978 µs, total: 69.6 ms\n",
            "Wall time: 121 ms\n",
            "CPU times: user 14.1 ms, sys: 2.02 ms, total: 16.1 ms\n",
            "Wall time: 16.1 ms\n",
            "(250, 250, 3)\n"
          ],
          "name": "stdout"
        },
        {
          "output_type": "display_data",
          "data": {
            "image/png": "[encoded data removed]",
            "text/plain": [
              "<Figure size 432x288 with 1 Axes>"
            ]
          },
          "metadata": {
            "tags": []
          }
        }
      ]
    },
    {
      "cell_type": "code",
      "metadata": {
        "id": "VXSwicCIzbE6",
        "colab_type": "code",
        "colab": {
          "base_uri": "https://localhost:8080/",
          "height": 306
        },
        "outputId": "e496fc95-1012-4fb7-fc43-eb95353f2148"
      },
      "source": [
        "plt.imshow(img_f)"
      ],
      "execution_count": 22,
      "outputs": [
        {
          "output_type": "execute_result",
          "data": {
            "text/plain": [
              "<matplotlib.image.AxesImage at 0x7f646a055be0>"
            ]
          },
          "metadata": {
            "tags": []
          },
          "execution_count": 22
        },
        {
          "output_type": "display_data",
          "data": {
            "image/png": "[encoded data removed]",
            "text/plain": [
              "<Figure size 432x288 with 1 Axes>"
            ]
          },
          "metadata": {
            "tags": []
          }
        }
      ]
    },
    {
      "cell_type": "markdown",
      "metadata": {
        "id": "JRXDvpH0hUB0",
        "colab_type": "text"
      },
      "source": [
        "### Data generator\n",
        "This function prepares each batch for feeding to neural network. First, it gets random IDs and associated labels. Then shuffles them, to reduce bias. Finally, the images, using the IDs are loaded using the _read function defined above.\n",
        "\n",
        "The function is generalized for both training and testing data.\n",
        "\n",
        "It is derived from keras.sequence so it should be enabled for multiprocessing."
      ]
    },
    {
      "cell_type": "markdown",
      "metadata": {
        "id": "lazYV0FW5VDi",
        "colab_type": "text"
      },
      "source": [
        "#### Full-preprocessing DataGenerator"
      ]
    },
    {
      "cell_type": "code",
      "metadata": {
        "id": "gN15CiG35bEH",
        "colab_type": "code",
        "colab": {}
      },
      "source": [
        "class DataGenerator_Full(keras.utils.Sequence):\n",
        "\n",
        "    def __init__(self, IDs, labels=None, batch_size=30, img_size=(299, 299, 3), num_classes=5, steps=100, *args, **kwargs):\n",
        "        self.IDs = IDs\n",
        "        self.labels = labels\n",
        "        self.batch_size = batch_size\n",
        "        self.img_size = img_size\n",
        "        self.num_classes = num_classes\n",
        "        self.on_epoch_end()\n",
        "        self.steps = steps\n",
        "        if self.steps is not None:\n",
        "            self.steps = np.round(self.steps/3) * 3\n",
        "\n",
        "#define number of steps per epoch\n",
        "    def __len__(self):\n",
        "      if self.steps is None:\n",
        "        return np.int(np.ceil(len(self.IDs) / np.float(self.batch_size)))\n",
        "      else:\n",
        "        return 3*np.int(self.steps/3) \n",
        "\n",
        "    def __getitem__(self, index):\n",
        "        IDs_batch = self.IDs[index*self.batch_size:(index+1)*self.batch_size]\n",
        "        if self.labels is not None:\n",
        "          X, y_any, y_subtype = self.__data_generation(IDs_batch)\n",
        "          return X, [y_any, y_subtype]\n",
        "        else:\n",
        "            X = self.__data_generation(IDs_batch)\n",
        "            return X\n",
        "        \n",
        "    def on_epoch_end(self):\n",
        "        if self.labels is not None: #during training we shuffle the images\n",
        "            self.indices = np.arange(len(self.IDs))\n",
        "            np.random.shuffle(self.indices)\n",
        "        else:\n",
        "            self.indices = np.arange(len(self.IDs))\n",
        "\n",
        "    def __data_generation(self, IDs_batch):\n",
        "        X = np.empty((self.batch_size, *self.img_size))\n",
        "        if self.labels is not None: # training\n",
        "          y_subtype = np.empty((self.batch_size, self.num_classes), dtype=np.float32)\n",
        "          y_any = np.empty((self.batch_size, 1), dtype=np.float32)\n",
        "          for i, ID in enumerate(IDs_batch):\n",
        "            X[i,] = read_img(ID, self.img_size, preprocess=\"F\")\n",
        "            y_any[i], y_subtype[i] = self.__get_target(ID)\n",
        "          return X, y_any, y_subtype\n",
        "        else: # testing\n",
        "            for i, ID in enumerate(IDs_batch):\n",
        "                X[i,] = read_img(ID, self.img_size, preprocess=\"F\")\n",
        "            return X\n",
        "\n",
        "    def __get_target(self, ID):\n",
        "        y_any = self.labels.loc[ID, \"any\"]\n",
        "        y_subtype = self.labels.drop(\"any\", axis=1).loc[ID].values\n",
        "        return y_any, y_subtype"
      ],
      "execution_count": 0,
      "outputs": []
    },
    {
      "cell_type": "markdown",
      "metadata": {
        "id": "8eVlpe8H5bqQ",
        "colab_type": "text"
      },
      "source": [
        "#### Channels-preprocessing DataGenerator"
      ]
    },
    {
      "cell_type": "code",
      "metadata": {
        "id": "6wEHR1byhydD",
        "colab_type": "code",
        "colab": {}
      },
      "source": [
        "class DataGenerator_Channels(keras.utils.Sequence):\n",
        "\n",
        "    def __init__(self, IDs, labels=None, batch_size=30, img_size=(299, 299, 3), num_classes=5, steps=100, *args, **kwargs):\n",
        "        self.IDs = IDs\n",
        "        self.labels = labels\n",
        "        self.batch_size = batch_size\n",
        "        self.img_size = img_size\n",
        "        self.num_classes = num_classes\n",
        "        self.on_epoch_end()\n",
        "        \n",
        "        self.steps = steps\n",
        "        if self.steps is not None:\n",
        "            self.steps = np.round(self.steps/3) * 3\n",
        "\n",
        "#define number of steps per epoch\n",
        "    def __len__(self):\n",
        "      if self.steps is None:\n",
        "        return np.int(np.ceil(len(self.IDs) / np.float(self.batch_size)))\n",
        "      else:\n",
        "        return 3*np.int(self.steps/3) \n",
        "\n",
        "    def __getitem__(self, index):\n",
        "        IDs_batch = self.IDs[index*self.batch_size:(index+1)*self.batch_size]\n",
        "        if self.labels is not None:\n",
        "          X, y_any, y_subtype = self.__data_generation(IDs_batch)\n",
        "          return X, [y_any, y_subtype]\n",
        "        else:\n",
        "            X = self.__data_generation(IDs_batch)\n",
        "            return X\n",
        "        \n",
        "    def on_epoch_end(self):\n",
        "        if self.labels is not None: #during training we shuffle the images\n",
        "            self.indices = np.arange(len(self.IDs))\n",
        "            np.random.shuffle(self.indices)\n",
        "        else:\n",
        "            self.indices = np.arange(len(self.IDs))\n",
        "\n",
        "    def __data_generation(self, IDs_batch):\n",
        "        X = np.empty((self.batch_size, *self.img_size))\n",
        "        if self.labels is not None: # training\n",
        "          y_subtype = np.empty((self.batch_size, self.num_classes), dtype=np.float32)\n",
        "          y_any = np.empty((self.batch_size, 1), dtype=np.float32)\n",
        "          for i, ID in enumerate(IDs_batch):\n",
        "            X[i,] = read_img(ID, self.img_size, preprocess=\"CH\")\n",
        "            y_any[i], y_subtype[i] = self.__get_target(ID)\n",
        "          return X, y_any, y_subtype\n",
        "        else: # testing\n",
        "            for i, ID in enumerate(IDs_batch):\n",
        "                X[i,] = read_img(ID, self.img_size, preprocess=\"CH\")\n",
        "            return X\n",
        "\n",
        "    def __get_target(self, ID):\n",
        "        y_any = self.labels.loc[ID, \"any\"]\n",
        "        y_subtype = self.labels.drop(\"any\", axis=1).loc[ID].values\n",
        "        return y_any, y_subtype"
      ],
      "execution_count": 0,
      "outputs": []
    },
    {
      "cell_type": "markdown",
      "metadata": {
        "id": "FKT-ULVD8BXS",
        "colab_type": "text"
      },
      "source": [
        "## Train-test split\n",
        "We'll save 10% of images for testing."
      ]
    },
    {
      "cell_type": "code",
      "metadata": {
        "id": "uvesRwH3esiE",
        "colab_type": "code",
        "colab": {
          "base_uri": "https://localhost:8080/",
          "height": 51
        },
        "outputId": "a97690b2-26e8-400a-ef0e-2abbfcc28da8"
      },
      "source": [
        "group_kfold = GroupKFold(n_splits=10)\n",
        "\n",
        "for tr, ts in group_kfold.split(train, groups=train.Patient):\n",
        "  training = train.iloc[tr]\n",
        "  testing = train.iloc[ts]\n",
        "\n",
        "testing = testing.set_index('ID', drop=False)\n",
        "print(training.shape)\n",
        "print(testing.shape)"
      ],
      "execution_count": 25,
      "outputs": [
        {
          "output_type": "stream",
          "text": [
            "(174674, 8)\n",
            "(19408, 8)\n"
          ],
          "name": "stdout"
        }
      ]
    },
    {
      "cell_type": "markdown",
      "metadata": {
        "id": "TnMyp7JLfY7A",
        "colab_type": "text"
      },
      "source": [
        "### Train-validation split"
      ]
    },
    {
      "cell_type": "code",
      "metadata": {
        "id": "pJKR7Aam8Di7",
        "colab_type": "code",
        "colab": {
          "base_uri": "https://localhost:8080/",
          "height": 71
        },
        "outputId": "5259dd31-04e6-4b26-86b3-49ca7aabdd9a"
      },
      "source": [
        "tr_val_folds = GroupKFold(n_splits=20)\n",
        "\n",
        "for tr, ts in tr_val_folds.split(training, groups=training.Patient):\n",
        "  train_data = training.iloc[tr]\n",
        "  val_data = training.iloc[ts]\n",
        "\n",
        "train_data = train_data.set_index('ID', drop=False)\n",
        "val_data = val_data.set_index('ID', drop=False)\n",
        "print(train_data.shape)\n",
        "print(val_data.shape)"
      ],
      "execution_count": 26,
      "outputs": [
        {
          "output_type": "stream",
          "text": [
            "(165941, 8)\n",
            "(8733, 8)\n"
          ],
          "name": "stdout"
        }
      ]
    },
    {
      "cell_type": "markdown",
      "metadata": {
        "id": "X7ZU9CYw9h1g",
        "colab_type": "text"
      },
      "source": [
        "### Data generators"
      ]
    },
    {
      "cell_type": "code",
      "metadata": {
        "id": "swizCnvL-59_",
        "colab_type": "code",
        "colab": {}
      },
      "source": [
        "train_dataloader_CH = DataGenerator_Channels(IDs=train_data.ID,\n",
        "                                 labels=train_data.loc[:,'any':'subdural'],\n",
        "                                 batch_size=20,\n",
        "                                 img_size=(299,299,3),\n",
        "                                 num_classes=5)\n",
        "val_dataloader_CH = DataGenerator_Channels(IDs=val_data.ID,\n",
        "                               labels=val_data.loc[:,'any':'subdural'],\n",
        "                               batch_size=10,\n",
        "                               img_size=(299,299,3),\n",
        "                               num_classes=5)\n",
        "\n",
        "train_dataloader_F = DataGenerator_Full(IDs=train_data.ID,\n",
        "                                 labels=train_data.loc[:,'any':'subdural'],\n",
        "                                 batch_size=20,\n",
        "                                 img_size=(299,299,3),\n",
        "                                 num_classes=5)\n",
        "val_dataloader_F = DataGenerator_Full(IDs=val_data.ID,\n",
        "                               labels=val_data.loc[:,'any':'subdural'],\n",
        "                               batch_size=10,\n",
        "                               img_size=(299,299,3),\n",
        "                               num_classes=5)"
      ],
      "execution_count": 0,
      "outputs": []
    },
    {
      "cell_type": "code",
      "metadata": {
        "id": "K3gZYtM-RClm",
        "colab_type": "code",
        "colab": {
          "base_uri": "https://localhost:8080/",
          "height": 51
        },
        "outputId": "3354b65e-93d7-4077-9386-52533e5b64be"
      },
      "source": [
        "#sanity check of datagenerator\n",
        "%time X, [y1, y2] = train_dataloader_F.__getitem__(0)"
      ],
      "execution_count": 40,
      "outputs": [
        {
          "output_type": "stream",
          "text": [
            "CPU times: user 364 ms, sys: 20.1 ms, total: 384 ms\n",
            "Wall time: 494 ms\n"
          ],
          "name": "stdout"
        }
      ]
    },
    {
      "cell_type": "code",
      "metadata": {
        "id": "S6ek2caERIvN",
        "colab_type": "code",
        "colab": {
          "base_uri": "https://localhost:8080/",
          "height": 68
        },
        "outputId": "5ed42d4e-66ff-45df-b9bc-2fea02857939"
      },
      "source": [
        "print(X.shape)\n",
        "print(y1.shape)\n",
        "print(y2.shape)"
      ],
      "execution_count": 29,
      "outputs": [
        {
          "output_type": "stream",
          "text": [
            "(20, 299, 299, 3)\n",
            "(20, 1)\n",
            "(20, 5)\n"
          ],
          "name": "stdout"
        }
      ]
    },
    {
      "cell_type": "code",
      "metadata": {
        "id": "e9PMhK7Tjxn9",
        "colab_type": "code",
        "colab": {
          "base_uri": "https://localhost:8080/",
          "height": 357
        },
        "outputId": "05cff372-71db-4f3d-e6c4-75de6a8d32af"
      },
      "source": [
        "y1"
      ],
      "execution_count": 41,
      "outputs": [
        {
          "output_type": "execute_result",
          "data": {
            "text/plain": [
              "array([[0.],\n",
              "       [0.],\n",
              "       [1.],\n",
              "       [1.],\n",
              "       [1.],\n",
              "       [1.],\n",
              "       [0.],\n",
              "       [1.],\n",
              "       [1.],\n",
              "       [0.],\n",
              "       [0.],\n",
              "       [0.],\n",
              "       [0.],\n",
              "       [0.],\n",
              "       [0.],\n",
              "       [1.],\n",
              "       [1.],\n",
              "       [1.],\n",
              "       [0.],\n",
              "       [1.]], dtype=float32)"
            ]
          },
          "metadata": {
            "tags": []
          },
          "execution_count": 41
        }
      ]
    },
    {
      "cell_type": "markdown",
      "metadata": {
        "id": "UolSriHKaGf6",
        "colab_type": "text"
      },
      "source": [
        "## Loss function"
      ]
    },
    {
      "cell_type": "code",
      "metadata": {
        "id": "clUntp2baIgY",
        "colab_type": "code",
        "colab": {}
      },
      "source": [
        "def np_multilabel_loss(y_true, y_pred, class_weights=np.array([1., 1., 1., 1., 1.])):\n",
        "    y_pred = np.where(y_pred > 1-(1e-07), 1-1e-07, y_pred)\n",
        "    y_pred = np.where(y_pred < 1e-07, 1e-07, y_pred)\n",
        "    single_class_cross_entropies = - np.mean(y_true * np.log(y_pred) + (1-y_true) * np.log(1-y_pred), axis=0)\n",
        "    \n",
        "    print(single_class_cross_entropies)\n",
        "    if class_weights is None:\n",
        "        loss = np.mean(single_class_cross_entropies)\n",
        "    else:\n",
        "        loss = np.sum(class_weights*single_class_cross_entropies)\n",
        "    return loss"
      ],
      "execution_count": 0,
      "outputs": []
    },
    {
      "cell_type": "markdown",
      "metadata": {
        "id": "M7V55DaYnDwP",
        "colab_type": "text"
      },
      "source": [
        "## Define CNN architecture"
      ]
    },
    {
      "cell_type": "code",
      "metadata": {
        "id": "PcP4Kv1sjeWU",
        "colab_type": "code",
        "colab": {}
      },
      "source": [
        "reduce_lr = ReduceLROnPlateau(monitor='val_loss',factor=0.5,patience=2,min_lr=1e-8,mode=\"min\")\n",
        "        \n",
        "e_stopping = EarlyStopping(monitor=\"val_loss\",min_delta=0.01,patience=5,mode=\"min\")\n",
        "\n",
        "kernel_init = keras.initializers.glorot_uniform()\n",
        "bias_init = keras.initializers.Constant(value=0.2)\n",
        "\n",
        "def build_model_1():\n",
        "  inputs = Input(shape=(299,299,3))\n",
        "  x = Conv2D(60, kernel_size=(5,5), strides=(2,2),activation='relu', kernel_initializer=kernel_init, bias_initializer=bias_init)(inputs)\n",
        "  x = SpatialDropout2D(rate=0.3, data_format='channels_last')(x)\n",
        "  x = BatchNormalization(axis=-1)(x)\n",
        "  x = MaxPooling2D(pool_size=(3, 3))(x)\n",
        "  x = GlobalAveragePooling2D()(x)\n",
        "  x = Dropout(0.4)(x)\n",
        "  x = Dense(60, activation='relu')(x)\n",
        "  x = Dropout(0.3)(x)\n",
        "  x = Dense(30, activation='relu')(x)\n",
        "  x = Dropout(0.3)(x)\n",
        "  any_logits = Dense(1, kernel_initializer=he_normal(seed=11))(x)\n",
        "  any_pred = Activation(\"sigmoid\", name=\"any_predictions\")(any_logits)\n",
        "  x = concatenate([any_pred, x])\n",
        "  sub_pred = Dense(5, name=\"subtype_pred\",\n",
        "                   kernel_initializer=he_normal(seed=12),\n",
        "                   activation=\"sigmoid\")(x) \n",
        "  model = Model(inputs=inputs, outputs=[any_pred, sub_pred])\n",
        "  model.compile(optimizer=Adam(1e-3),\n",
        "                loss=['binary_crossentropy', 'binary_crossentropy'],\n",
        "                loss_weights = [0.7, 0.3],\n",
        "                metrics={\"any_predictions\":\"binary_accuracy\",\n",
        "                         \"subtype_pred\": \"categorical_accuracy\"})\n",
        "  return model\n",
        "\n",
        "def build_model_2():\n",
        "  inputs = Input(shape=(299,299,3))\n",
        "  x = Conv2D(60, kernel_size=(5,5), strides=(2,2),activation='relu', kernel_initializer=kernel_init, bias_initializer=bias_init)(inputs)\n",
        "  x = SpatialDropout2D(rate=0.3, data_format='channels_last')(x)\n",
        "  x = BatchNormalization(axis=-1)(x)\n",
        "  x = MaxPooling2D(pool_size=(3, 3))(x)\n",
        "  x = Conv2D(50, kernel_size=(3,3), strides=(2,2), activation='relu',kernel_initializer=kernel_init, bias_initializer=bias_init)(x)\n",
        "  x = SpatialDropout2D(rate=0.3, data_format='channels_last')(x)\n",
        "  x = BatchNormalization(axis=-1)(x)\n",
        "  x = MaxPooling2D(pool_size=(2, 2))(x)\n",
        "  x = GlobalAveragePooling2D()(x)\n",
        "  x = Dropout(0.4)(x)\n",
        "  x = Dense(50, activation='relu')(x)\n",
        "  x = Dropout(0.3)(x)\n",
        "  x = Dense(30, activation='relu')(x)\n",
        "  x = Dropout(0.3)(x)\n",
        "  any_logits = Dense(1, kernel_initializer=he_normal(seed=11))(x)\n",
        "  any_pred = Activation(\"sigmoid\", name=\"any_predictions\")(any_logits)\n",
        "  x = concatenate([any_pred, x])\n",
        "  sub_pred = Dense(5, name=\"subtype_pred\",\n",
        "                   kernel_initializer=he_normal(seed=12),\n",
        "                   activation=\"sigmoid\")(x) \n",
        "  model = Model(inputs=inputs, outputs=[any_pred, sub_pred])\n",
        "  model.compile(optimizer=Adam(1e-3),\n",
        "                loss=['binary_crossentropy', 'binary_crossentropy'],\n",
        "                loss_weights = [0.7, 0.3],\n",
        "                metrics={\"any_predictions\":\"binary_accuracy\",\n",
        "                         \"subtype_pred\": \"categorical_accuracy\"})\n",
        "  return model\n",
        "\n",
        "\n",
        "def build_model_3():\n",
        "  inputs = Input(shape=(299,299,3))\n",
        "  x = Conv2D(60, kernel_size=(5,5), strides=(2,2),activation='relu', kernel_initializer=kernel_init, bias_initializer=bias_init)(inputs)\n",
        "  x = SpatialDropout2D(rate=0.3, data_format='channels_last')(x)\n",
        "  x = BatchNormalization(axis=-1)(x)\n",
        "  x = MaxPooling2D(pool_size=(3, 3))(x)\n",
        "  x = Conv2D(100, kernel_size=(3,3), strides=(2,2), activation='relu',kernel_initializer=kernel_init, bias_initializer=bias_init)(x)\n",
        "  x = SpatialDropout2D(rate=0.3, data_format='channels_last')(x)\n",
        "  x = BatchNormalization(axis=-1)(x)\n",
        "  x = MaxPooling2D(pool_size=(2, 2))(x)\n",
        "  x = Conv2D(50, kernel_size=(2,2), strides=(2,2), activation='relu',kernel_initializer=kernel_init, bias_initializer=bias_init)(x)\n",
        "  x = SpatialDropout2D(rate=0.3, data_format='channels_last')(x)\n",
        "  x = BatchNormalization(axis=-1)(x)\n",
        "  x = MaxPooling2D(pool_size=(2, 2))(x)\n",
        "  x = GlobalAveragePooling2D()(x)\n",
        "  x = Dropout(0.4)(x)\n",
        "  x = Dense(50, activation='relu')(x)\n",
        "  x = Dropout(0.3)(x)\n",
        "  x = Dense(30, activation='relu')(x)\n",
        "  x = Dropout(0.3)(x)\n",
        "  any_logits = Dense(1, kernel_initializer=he_normal(seed=11))(x)\n",
        "  any_pred = Activation(\"sigmoid\", name=\"any_predictions\")(any_logits)\n",
        "  x = concatenate([any_pred, x])\n",
        "  sub_pred = Dense(5, name=\"subtype_pred\",\n",
        "                   kernel_initializer=he_normal(seed=12),\n",
        "                   activation=\"sigmoid\")(x) \n",
        "  model = Model(inputs=inputs, outputs=[any_pred, sub_pred])\n",
        "  model.compile(optimizer=Adam(1e-3),\n",
        "                loss=['binary_crossentropy', 'binary_crossentropy'],\n",
        "                loss_weights = [0.7, 0.3],\n",
        "                metrics={\"any_predictions\":\"binary_accuracy\",\n",
        "                         \"subtype_pred\": \"categorical_accuracy\"})\n",
        "  return model"
      ],
      "execution_count": 0,
      "outputs": []
    },
    {
      "cell_type": "markdown",
      "metadata": {
        "id": "-XPR41D3jtfz",
        "colab_type": "text"
      },
      "source": [
        "## Fit models with channel images"
      ]
    },
    {
      "cell_type": "code",
      "metadata": {
        "id": "q6ra8RWvuh3m",
        "colab_type": "code",
        "colab": {}
      },
      "source": [
        "EPOCHS = 30"
      ],
      "execution_count": 0,
      "outputs": []
    },
    {
      "cell_type": "code",
      "metadata": {
        "id": "czi9USjPjxyB",
        "colab_type": "code",
        "colab": {
          "base_uri": "https://localhost:8080/",
          "height": 1000
        },
        "outputId": "75415c28-10c7-4bed-fb6c-13c43caf5718"
      },
      "source": [
        "model_CH_1 = build_model_1()\n",
        "history_CH_1 = model_CH_1.fit_generator(generator=train_dataloader_CH,\n",
        "                              validation_data=val_dataloader_CH,\n",
        "                              epochs=EPOCHS,\n",
        "                              callbacks=[reduce_lr, e_stopping])\n",
        "\n",
        "model_CH_2 = build_model_2()\n",
        "history_CH_2 = model_CH_2.fit_generator(generator=train_dataloader_CH,\n",
        "                              validation_data=val_dataloader_CH,\n",
        "                              epochs=EPOCHS,\n",
        "                              callbacks=[reduce_lr, e_stopping])\n",
        "\n",
        "model_CH_3 = build_model_3()\n",
        "history_CH_3 = model_CH_3.fit_generator(generator=train_dataloader_CH,\n",
        "                              validation_data=val_dataloader_CH,\n",
        "                              epochs=EPOCHS,\n",
        "                              callbacks=[reduce_lr, e_stopping])"
      ],
      "execution_count": 34,
      "outputs": [
        {
          "output_type": "stream",
          "text": [
            "WARNING:tensorflow:From /usr/local/lib/python3.6/dist-packages/keras/backend/tensorflow_backend.py:66: The name tf.get_default_graph is deprecated. Please use tf.compat.v1.get_default_graph instead.\n",
            "\n",
            "WARNING:tensorflow:From /usr/local/lib/python3.6/dist-packages/keras/backend/tensorflow_backend.py:541: The name tf.placeholder is deprecated. Please use tf.compat.v1.placeholder instead.\n",
            "\n",
            "WARNING:tensorflow:From /usr/local/lib/python3.6/dist-packages/keras/backend/tensorflow_backend.py:4432: The name tf.random_uniform is deprecated. Please use tf.random.uniform instead.\n",
            "\n",
            "WARNING:tensorflow:From /usr/local/lib/python3.6/dist-packages/keras/backend/tensorflow_backend.py:148: The name tf.placeholder_with_default is deprecated. Please use tf.compat.v1.placeholder_with_default instead.\n",
            "\n",
            "WARNING:tensorflow:From /usr/local/lib/python3.6/dist-packages/keras/backend/tensorflow_backend.py:3733: calling dropout (from tensorflow.python.ops.nn_ops) with keep_prob is deprecated and will be removed in a future version.\n",
            "Instructions for updating:\n",
            "Please use `rate` instead of `keep_prob`. Rate should be set to `rate = 1 - keep_prob`.\n",
            "WARNING:tensorflow:From /usr/local/lib/python3.6/dist-packages/keras/backend/tensorflow_backend.py:2041: The name tf.nn.fused_batch_norm is deprecated. Please use tf.compat.v1.nn.fused_batch_norm instead.\n",
            "\n",
            "WARNING:tensorflow:From /usr/local/lib/python3.6/dist-packages/keras/backend/tensorflow_backend.py:4267: The name tf.nn.max_pool is deprecated. Please use tf.nn.max_pool2d instead.\n",
            "\n",
            "WARNING:tensorflow:From /usr/local/lib/python3.6/dist-packages/keras/backend/tensorflow_backend.py:4479: The name tf.truncated_normal is deprecated. Please use tf.random.truncated_normal instead.\n",
            "\n",
            "WARNING:tensorflow:From /usr/local/lib/python3.6/dist-packages/keras/optimizers.py:793: The name tf.train.Optimizer is deprecated. Please use tf.compat.v1.train.Optimizer instead.\n",
            "\n",
            "WARNING:tensorflow:From /usr/local/lib/python3.6/dist-packages/keras/backend/tensorflow_backend.py:3657: The name tf.log is deprecated. Please use tf.math.log instead.\n",
            "\n",
            "WARNING:tensorflow:From /usr/local/lib/python3.6/dist-packages/tensorflow_core/python/ops/nn_impl.py:183: where (from tensorflow.python.ops.array_ops) is deprecated and will be removed in a future version.\n",
            "Instructions for updating:\n",
            "Use tf.where in 2.0, which has the same broadcast rule as np.where\n",
            "WARNING:tensorflow:From /usr/local/lib/python3.6/dist-packages/keras/backend/tensorflow_backend.py:1033: The name tf.assign_add is deprecated. Please use tf.compat.v1.assign_add instead.\n",
            "\n",
            "WARNING:tensorflow:From /usr/local/lib/python3.6/dist-packages/keras/backend/tensorflow_backend.py:1020: The name tf.assign is deprecated. Please use tf.compat.v1.assign instead.\n",
            "\n",
            "Epoch 1/30\n",
            "WARNING:tensorflow:From /usr/local/lib/python3.6/dist-packages/keras/backend/tensorflow_backend.py:216: The name tf.is_variable_initialized is deprecated. Please use tf.compat.v1.is_variable_initialized instead.\n",
            "\n",
            "WARNING:tensorflow:From /usr/local/lib/python3.6/dist-packages/keras/backend/tensorflow_backend.py:223: The name tf.variables_initializer is deprecated. Please use tf.compat.v1.variables_initializer instead.\n",
            "\n",
            "21/99 [=====>........................] - ETA: 2:18 - loss: 0.8141 - any_predictions_loss: 0.7913 - subtype_pred_loss: 0.8671 - any_predictions_binary_accuracy: 0.5048 - subtype_pred_categorical_accuracy: 0.1476"
          ],
          "name": "stdout"
        },
        {
          "output_type": "stream",
          "text": [
            "/usr/local/lib/python3.6/dist-packages/ipykernel_launcher.py:6: RuntimeWarning: overflow encountered in power\n",
            "  \n"
          ],
          "name": "stderr"
        },
        {
          "output_type": "stream",
          "text": [
            "99/99 [==============================] - 225s 2s/step - loss: 0.7162 - any_predictions_loss: 0.7492 - subtype_pred_loss: 0.6393 - any_predictions_binary_accuracy: 0.5091 - subtype_pred_categorical_accuracy: 0.1894 - val_loss: 0.6511 - val_any_predictions_loss: 0.6932 - val_subtype_pred_loss: 0.5528 - val_any_predictions_binary_accuracy: 0.5051 - val_subtype_pred_categorical_accuracy: 0.0818\n",
            "Epoch 2/30\n",
            "99/99 [==============================] - 186s 2s/step - loss: 0.6402 - any_predictions_loss: 0.7147 - subtype_pred_loss: 0.4665 - any_predictions_binary_accuracy: 0.5131 - subtype_pred_categorical_accuracy: 0.1843 - val_loss: 0.6271 - val_any_predictions_loss: 0.6947 - val_subtype_pred_loss: 0.4694 - val_any_predictions_binary_accuracy: 0.5040 - val_subtype_pred_categorical_accuracy: 0.0828\n",
            "Epoch 3/30\n",
            "99/99 [==============================] - 186s 2s/step - loss: 0.6284 - any_predictions_loss: 0.7151 - subtype_pred_loss: 0.4261 - any_predictions_binary_accuracy: 0.5091 - subtype_pred_categorical_accuracy: 0.1571 - val_loss: 0.6249 - val_any_predictions_loss: 0.6915 - val_subtype_pred_loss: 0.4694 - val_any_predictions_binary_accuracy: 0.5485 - val_subtype_pred_categorical_accuracy: 0.1535\n",
            "Epoch 4/30\n",
            "99/99 [==============================] - 187s 2s/step - loss: 0.6171 - any_predictions_loss: 0.7042 - subtype_pred_loss: 0.4138 - any_predictions_binary_accuracy: 0.5056 - subtype_pred_categorical_accuracy: 0.1434 - val_loss: 0.6236 - val_any_predictions_loss: 0.6905 - val_subtype_pred_loss: 0.4674 - val_any_predictions_binary_accuracy: 0.5394 - val_subtype_pred_categorical_accuracy: 0.1596\n",
            "Epoch 5/30\n",
            "99/99 [==============================] - 185s 2s/step - loss: 0.6123 - any_predictions_loss: 0.6985 - subtype_pred_loss: 0.4109 - any_predictions_binary_accuracy: 0.5202 - subtype_pred_categorical_accuracy: 0.1338 - val_loss: 0.6162 - val_any_predictions_loss: 0.6916 - val_subtype_pred_loss: 0.4402 - val_any_predictions_binary_accuracy: 0.5101 - val_subtype_pred_categorical_accuracy: 0.1495\n",
            "Epoch 6/30\n",
            "99/99 [==============================] - 187s 2s/step - loss: 0.6097 - any_predictions_loss: 0.7004 - subtype_pred_loss: 0.3981 - any_predictions_binary_accuracy: 0.5035 - subtype_pred_categorical_accuracy: 0.1399 - val_loss: 0.6227 - val_any_predictions_loss: 0.6933 - val_subtype_pred_loss: 0.4581 - val_any_predictions_binary_accuracy: 0.5263 - val_subtype_pred_categorical_accuracy: 0.1535\n",
            "Epoch 7/30\n",
            "99/99 [==============================] - 183s 2s/step - loss: 0.6082 - any_predictions_loss: 0.6974 - subtype_pred_loss: 0.4002 - any_predictions_binary_accuracy: 0.5096 - subtype_pred_categorical_accuracy: 0.1268 - val_loss: 0.6188 - val_any_predictions_loss: 0.6929 - val_subtype_pred_loss: 0.4461 - val_any_predictions_binary_accuracy: 0.5051 - val_subtype_pred_categorical_accuracy: 0.1515\n",
            "Epoch 8/30\n",
            "99/99 [==============================] - 184s 2s/step - loss: 0.6045 - any_predictions_loss: 0.6939 - subtype_pred_loss: 0.3959 - any_predictions_binary_accuracy: 0.5081 - subtype_pred_categorical_accuracy: 0.1389 - val_loss: 0.6235 - val_any_predictions_loss: 0.6932 - val_subtype_pred_loss: 0.4609 - val_any_predictions_binary_accuracy: 0.5364 - val_subtype_pred_categorical_accuracy: 0.1525\n",
            "Epoch 9/30\n",
            "99/99 [==============================] - 184s 2s/step - loss: 0.6051 - any_predictions_loss: 0.6962 - subtype_pred_loss: 0.3926 - any_predictions_binary_accuracy: 0.5005 - subtype_pred_categorical_accuracy: 0.1308 - val_loss: 0.6244 - val_any_predictions_loss: 0.6931 - val_subtype_pred_loss: 0.4641 - val_any_predictions_binary_accuracy: 0.5323 - val_subtype_pred_categorical_accuracy: 0.1535\n",
            "Epoch 10/30\n",
            "99/99 [==============================] - 185s 2s/step - loss: 0.6060 - any_predictions_loss: 0.6977 - subtype_pred_loss: 0.3923 - any_predictions_binary_accuracy: 0.5081 - subtype_pred_categorical_accuracy: 0.1369 - val_loss: 0.6243 - val_any_predictions_loss: 0.6934 - val_subtype_pred_loss: 0.4629 - val_any_predictions_binary_accuracy: 0.4970 - val_subtype_pred_categorical_accuracy: 0.1535\n",
            "Epoch 1/30\n",
            "99/99 [==============================] - 196s 2s/step - loss: 0.7184 - any_predictions_loss: 0.7531 - subtype_pred_loss: 0.6373 - any_predictions_binary_accuracy: 0.4879 - subtype_pred_categorical_accuracy: 0.1712 - val_loss: 0.6405 - val_any_predictions_loss: 0.6962 - val_subtype_pred_loss: 0.5106 - val_any_predictions_binary_accuracy: 0.5071 - val_subtype_pred_categorical_accuracy: 0.1444\n",
            "Epoch 2/30\n",
            "99/99 [==============================] - 178s 2s/step - loss: 0.6402 - any_predictions_loss: 0.7171 - subtype_pred_loss: 0.4608 - any_predictions_binary_accuracy: 0.5141 - subtype_pred_categorical_accuracy: 0.1818 - val_loss: 0.6280 - val_any_predictions_loss: 0.6917 - val_subtype_pred_loss: 0.4795 - val_any_predictions_binary_accuracy: 0.5162 - val_subtype_pred_categorical_accuracy: 0.1263\n",
            "Epoch 3/30\n",
            "99/99 [==============================] - 178s 2s/step - loss: 0.6265 - any_predictions_loss: 0.7094 - subtype_pred_loss: 0.4330 - any_predictions_binary_accuracy: 0.5081 - subtype_pred_categorical_accuracy: 0.1455 - val_loss: 0.6347 - val_any_predictions_loss: 0.6938 - val_subtype_pred_loss: 0.4968 - val_any_predictions_binary_accuracy: 0.5000 - val_subtype_pred_categorical_accuracy: 0.1253\n",
            "Epoch 4/30\n",
            "99/99 [==============================] - 179s 2s/step - loss: 0.6234 - any_predictions_loss: 0.7107 - subtype_pred_loss: 0.4198 - any_predictions_binary_accuracy: 0.4798 - subtype_pred_categorical_accuracy: 0.1354 - val_loss: 0.6226 - val_any_predictions_loss: 0.6935 - val_subtype_pred_loss: 0.4571 - val_any_predictions_binary_accuracy: 0.5091 - val_subtype_pred_categorical_accuracy: 0.1525\n",
            "Epoch 5/30\n",
            "99/99 [==============================] - 185s 2s/step - loss: 0.6103 - any_predictions_loss: 0.6969 - subtype_pred_loss: 0.4081 - any_predictions_binary_accuracy: 0.5182 - subtype_pred_categorical_accuracy: 0.1354 - val_loss: 0.6247 - val_any_predictions_loss: 0.6924 - val_subtype_pred_loss: 0.4668 - val_any_predictions_binary_accuracy: 0.4818 - val_subtype_pred_categorical_accuracy: 0.1535\n",
            "Epoch 6/30\n",
            "99/99 [==============================] - 183s 2s/step - loss: 0.6131 - any_predictions_loss: 0.7009 - subtype_pred_loss: 0.4081 - any_predictions_binary_accuracy: 0.4955 - subtype_pred_categorical_accuracy: 0.1293 - val_loss: 0.6199 - val_any_predictions_loss: 0.6921 - val_subtype_pred_loss: 0.4515 - val_any_predictions_binary_accuracy: 0.5010 - val_subtype_pred_categorical_accuracy: 0.1545\n",
            "Epoch 7/30\n",
            "99/99 [==============================] - 181s 2s/step - loss: 0.6072 - any_predictions_loss: 0.6943 - subtype_pred_loss: 0.4040 - any_predictions_binary_accuracy: 0.5202 - subtype_pred_categorical_accuracy: 0.1318 - val_loss: 0.6148 - val_any_predictions_loss: 0.6925 - val_subtype_pred_loss: 0.4335 - val_any_predictions_binary_accuracy: 0.5040 - val_subtype_pred_categorical_accuracy: 0.1586\n",
            "Epoch 8/30\n",
            "99/99 [==============================] - 180s 2s/step - loss: 0.6058 - any_predictions_loss: 0.6972 - subtype_pred_loss: 0.3925 - any_predictions_binary_accuracy: 0.5061 - subtype_pred_categorical_accuracy: 0.1333 - val_loss: 0.6139 - val_any_predictions_loss: 0.6915 - val_subtype_pred_loss: 0.4328 - val_any_predictions_binary_accuracy: 0.5040 - val_subtype_pred_categorical_accuracy: 0.1556\n",
            "Epoch 9/30\n",
            "99/99 [==============================] - 179s 2s/step - loss: 0.6047 - any_predictions_loss: 0.6969 - subtype_pred_loss: 0.3893 - any_predictions_binary_accuracy: 0.5086 - subtype_pred_categorical_accuracy: 0.1348 - val_loss: 0.6101 - val_any_predictions_loss: 0.6917 - val_subtype_pred_loss: 0.4196 - val_any_predictions_binary_accuracy: 0.5061 - val_subtype_pred_categorical_accuracy: 0.1576\n",
            "Epoch 10/30\n",
            "99/99 [==============================] - 179s 2s/step - loss: 0.6061 - any_predictions_loss: 0.6985 - subtype_pred_loss: 0.3906 - any_predictions_binary_accuracy: 0.4970 - subtype_pred_categorical_accuracy: 0.1293 - val_loss: 0.6101 - val_any_predictions_loss: 0.6904 - val_subtype_pred_loss: 0.4227 - val_any_predictions_binary_accuracy: 0.5677 - val_subtype_pred_categorical_accuracy: 0.1586\n",
            "Epoch 11/30\n",
            "99/99 [==============================] - 175s 2s/step - loss: 0.6014 - any_predictions_loss: 0.6922 - subtype_pred_loss: 0.3896 - any_predictions_binary_accuracy: 0.5152 - subtype_pred_categorical_accuracy: 0.1303 - val_loss: 0.6113 - val_any_predictions_loss: 0.6906 - val_subtype_pred_loss: 0.4260 - val_any_predictions_binary_accuracy: 0.6313 - val_subtype_pred_categorical_accuracy: 0.1556\n",
            "Epoch 12/30\n",
            "99/99 [==============================] - 179s 2s/step - loss: 0.5989 - any_predictions_loss: 0.6880 - subtype_pred_loss: 0.3911 - any_predictions_binary_accuracy: 0.5460 - subtype_pred_categorical_accuracy: 0.1258 - val_loss: 0.6141 - val_any_predictions_loss: 0.6910 - val_subtype_pred_loss: 0.4347 - val_any_predictions_binary_accuracy: 0.5465 - val_subtype_pred_categorical_accuracy: 0.1545\n",
            "Epoch 1/30\n",
            "99/99 [==============================] - 194s 2s/step - loss: 0.7456 - any_predictions_loss: 0.7894 - subtype_pred_loss: 0.6436 - any_predictions_binary_accuracy: 0.5045 - subtype_pred_categorical_accuracy: 0.1768 - val_loss: 0.6566 - val_any_predictions_loss: 0.6943 - val_subtype_pred_loss: 0.5687 - val_any_predictions_binary_accuracy: 0.5040 - val_subtype_pred_categorical_accuracy: 0.1394\n",
            "Epoch 2/30\n",
            "99/99 [==============================] - 177s 2s/step - loss: 0.6666 - any_predictions_loss: 0.7425 - subtype_pred_loss: 0.4893 - any_predictions_binary_accuracy: 0.4970 - subtype_pred_categorical_accuracy: 0.1636 - val_loss: 0.6204 - val_any_predictions_loss: 0.6885 - val_subtype_pred_loss: 0.4615 - val_any_predictions_binary_accuracy: 0.5737 - val_subtype_pred_categorical_accuracy: 0.1586\n",
            "Epoch 3/30\n",
            "99/99 [==============================] - 179s 2s/step - loss: 0.6288 - any_predictions_loss: 0.7066 - subtype_pred_loss: 0.4472 - any_predictions_binary_accuracy: 0.5318 - subtype_pred_categorical_accuracy: 0.1444 - val_loss: 0.6175 - val_any_predictions_loss: 0.6886 - val_subtype_pred_loss: 0.4515 - val_any_predictions_binary_accuracy: 0.5051 - val_subtype_pred_categorical_accuracy: 0.1323\n",
            "Epoch 4/30\n",
            "99/99 [==============================] - 179s 2s/step - loss: 0.6328 - any_predictions_loss: 0.7167 - subtype_pred_loss: 0.4369 - any_predictions_binary_accuracy: 0.5172 - subtype_pred_categorical_accuracy: 0.1394 - val_loss: 0.6295 - val_any_predictions_loss: 0.6921 - val_subtype_pred_loss: 0.4833 - val_any_predictions_binary_accuracy: 0.4990 - val_subtype_pred_categorical_accuracy: 0.0990\n",
            "Epoch 5/30\n",
            "99/99 [==============================] - 179s 2s/step - loss: 0.6210 - any_predictions_loss: 0.7049 - subtype_pred_loss: 0.4254 - any_predictions_binary_accuracy: 0.5071 - subtype_pred_categorical_accuracy: 0.1303 - val_loss: 0.6207 - val_any_predictions_loss: 0.6913 - val_subtype_pred_loss: 0.4560 - val_any_predictions_binary_accuracy: 0.5121 - val_subtype_pred_categorical_accuracy: 0.1525\n",
            "Epoch 6/30\n",
            "99/99 [==============================] - 177s 2s/step - loss: 0.6141 - any_predictions_loss: 0.7002 - subtype_pred_loss: 0.4132 - any_predictions_binary_accuracy: 0.4919 - subtype_pred_categorical_accuracy: 0.1328 - val_loss: 0.6213 - val_any_predictions_loss: 0.6905 - val_subtype_pred_loss: 0.4598 - val_any_predictions_binary_accuracy: 0.6404 - val_subtype_pred_categorical_accuracy: 0.1343\n",
            "Epoch 7/30\n",
            "99/99 [==============================] - 178s 2s/step - loss: 0.6129 - any_predictions_loss: 0.7004 - subtype_pred_loss: 0.4087 - any_predictions_binary_accuracy: 0.5086 - subtype_pred_categorical_accuracy: 0.1237 - val_loss: 0.6158 - val_any_predictions_loss: 0.6902 - val_subtype_pred_loss: 0.4424 - val_any_predictions_binary_accuracy: 0.5515 - val_subtype_pred_categorical_accuracy: 0.1495\n"
          ],
          "name": "stdout"
        }
      ]
    },
    {
      "cell_type": "code",
      "metadata": {
        "id": "IbRJyYf3sSng",
        "colab_type": "code",
        "colab": {
          "base_uri": "https://localhost:8080/",
          "height": 34
        },
        "outputId": "6ffbb1ce-1f40-471c-be64-01511038b62d"
      },
      "source": [
        "losses_ch = {\"M1\": abs(min(history_CH_1.history['val_loss'])),\n",
        "             \"M2\": abs(min(history_CH_2.history['val_loss'])),\n",
        "             \"M3\": abs(min(history_CH_3.history['val_loss']))\n",
        "}\n",
        "\n",
        "best_ch = min(losses_ch.keys(), key=(lambda k: losses_ch[k]))\n",
        "print(best_ch)"
      ],
      "execution_count": 35,
      "outputs": [
        {
          "output_type": "stream",
          "text": [
            "M2\n"
          ],
          "name": "stdout"
        }
      ]
    },
    {
      "cell_type": "markdown",
      "metadata": {
        "id": "8MLy10WEoVEQ",
        "colab_type": "text"
      },
      "source": [
        "Save history to csv for later and also the model architecture and learned weights.\n",
        "\n"
      ]
    },
    {
      "cell_type": "code",
      "metadata": {
        "id": "798qWVoGmQym",
        "colab_type": "code",
        "colab": {
          "base_uri": "https://localhost:8080/",
          "height": 641
        },
        "outputId": "9afefc59-5e91-4c8a-929b-d89ff5107e38"
      },
      "source": [
        "if best_ch is 'M1':\n",
        "  channels_history = pd.DataFrame.from_dict(history_CH_1.history)\n",
        "  channels_history['epoch']=history_CH_1.epoch\n",
        "  channels_history = channels_history.set_index('epoch')\n",
        "  channels_history.head(5)\n",
        "\n",
        "  #save history to csv\n",
        "  channels_history.to_csv(RESULT_PATH + 'history_CNN_channels.csv')\n",
        "\n",
        "  #save weights\n",
        "  model_CH_1.save_weights(MODEL_PATH + \"CNN_channels.h5\")\n",
        "\n",
        "  with open(MODEL_PATH + 'CNN_channels_summary.txt', 'w') as f:\n",
        "      with redirect_stdout(f):\n",
        "          model_CH_1.summary()\n",
        "\n",
        "  test_dataloader_CH = DataGenerator_Channels(IDs=testing.ID,\n",
        "                                batch_size=10,\n",
        "                                img_size=(299,299,3),\n",
        "                                num_classes=5,\n",
        "                                steps=None)\n",
        "  CH_test_pred_any, CH_test_pred_sub = model_CH_1.predict(test_dataloader_CH)\n",
        "  any_pred = pd.DataFrame(CH_test_pred_any)\n",
        "  sub_pred = pd.DataFrame(CH_test_pred_sub)\n",
        "  ID = pd.DataFrame(testing.ID.values)\n",
        "  channels_pred = pd.concat([ID,any_pred, sub_pred], axis=1)\n",
        "  channels_pred.columns = [\"ID\", \"any\", 'epidural', 'intraparenchymal', 'intraventricular', 'subarachnoid', 'subdural']\n",
        "  channels_pred.to_csv(RESULT_PATH + \"CNN_channels_preds.csv\")\n",
        "  fig, ax = plt.subplots(2,1, figsize=(20,10))\n",
        "  sns.distplot(CH_test_pred_any[:,0], ax=ax[0], color=\"Purple\")\n",
        "  sns.distplot(CH_test_pred_sub[:,0], ax=ax[1])\n",
        "  sns.distplot(CH_test_pred_sub[:,1], ax=ax[1])\n",
        "  sns.distplot(CH_test_pred_sub[:,2], ax=ax[1])\n",
        "  sns.distplot(CH_test_pred_sub[:,3], ax=ax[1])\n",
        "  sns.distplot(CH_test_pred_sub[:,4], ax=ax[1])\n",
        "  ax[0].set_title(\"Predicted probability of hemorrhage occurence in dev batch\")\n",
        "  ax[1].set_title(\"Predicted probability of hemorrhage subtypes in dev batch\")\n",
        "  fig.savefig(RESULT_PATH + 'CNN_channels_dist.png')\n",
        "\n",
        "if best_ch is 'M2':\n",
        "  channels_history = pd.DataFrame.from_dict(history_CH_2.history)\n",
        "  channels_history['epoch']=history_CH_2.epoch\n",
        "  channels_history = channels_history.set_index('epoch')\n",
        "\n",
        "  #save history to csv\n",
        "  channels_history.to_csv(RESULT_PATH + 'history_CNN_channels.csv')\n",
        "\n",
        "  #save weights\n",
        "  model_CH_2.save_weights(MODEL_PATH + \"CNN_channels.h5\")\n",
        "\n",
        "  with open(MODEL_PATH + 'CNN_channels_summary.txt', 'w') as f:\n",
        "      with redirect_stdout(f):\n",
        "          model_CH_2.summary()\n",
        "\n",
        "  test_dataloader_CH = DataGenerator_Channels(IDs=testing.ID,\n",
        "                                batch_size=10,\n",
        "                                img_size=(299,299,3),\n",
        "                                num_classes=5,\n",
        "                                steps=None)\n",
        "  CH_test_pred_any, CH_test_pred_sub = model_CH_2.predict(test_dataloader_CH)\n",
        "  any_pred = pd.DataFrame(CH_test_pred_any)\n",
        "  sub_pred = pd.DataFrame(CH_test_pred_sub)\n",
        "  ID = pd.DataFrame(testing.ID.values)\n",
        "  channels_pred = pd.concat([ID,any_pred, sub_pred], axis=1)\n",
        "  channels_pred.columns = [\"ID\", \"any\", 'epidural', 'intraparenchymal', 'intraventricular', 'subarachnoid', 'subdural']\n",
        "  channels_pred.to_csv(RESULT_PATH + \"CNN_channels_preds.csv\")\n",
        "  fig, ax = plt.subplots(2,1, figsize=(20,10))\n",
        "  sns.distplot(CH_test_pred_any[:,0], ax=ax[0], color=\"Purple\")\n",
        "  sns.distplot(CH_test_pred_sub[:,0], ax=ax[1])\n",
        "  sns.distplot(CH_test_pred_sub[:,1], ax=ax[1])\n",
        "  sns.distplot(CH_test_pred_sub[:,2], ax=ax[1])\n",
        "  sns.distplot(CH_test_pred_sub[:,3], ax=ax[1])\n",
        "  sns.distplot(CH_test_pred_sub[:,4], ax=ax[1])\n",
        "  ax[0].set_title(\"Predicted probability of hemorrhage occurence in dev batch\")\n",
        "  ax[1].set_title(\"Predicted probability of hemorrhage subtypes in dev batch\")\n",
        "  fig.savefig(RESULT_PATH + 'CNN_channels_dist.png')\n",
        "\n",
        "if best_ch is 'M3':\n",
        "  channels_history = pd.DataFrame.from_dict(history_CH_3.history)\n",
        "  channels_history['epoch']=history_CH_3.epoch\n",
        "  channels_history = channels_history.set_index('epoch')\n",
        "  channels_history.head(5)\n",
        "\n",
        "  #save history to csv\n",
        "  channels_history.to_csv(RESULT_PATH + 'history_CNN_channels.csv')\n",
        "\n",
        "  #save weights\n",
        "  model_CH_3.save_weights(MODEL_PATH + \"CNN_channels.h5\")\n",
        "\n",
        "  with open(MODEL_PATH + 'CNN_channels_summary.txt', 'w') as f:\n",
        "      with redirect_stdout(f):\n",
        "          model_CH_3.summary()\n",
        "\n",
        "  test_dataloader_CH = DataGenerator_Channels(IDs=testing.ID,\n",
        "                                batch_size=10,\n",
        "                                img_size=(299,299,3),\n",
        "                                num_classes=5,\n",
        "                                steps=None)\n",
        "  CH_test_pred_any, CH_test_pred_sub = model_CH_3.predict(test_dataloader_CH)\n",
        "  any_pred = pd.DataFrame(CH_test_pred_any)\n",
        "  sub_pred = pd.DataFrame(CH_test_pred_sub)\n",
        "  ID = pd.DataFrame(testing.ID.values)\n",
        "  channels_pred = pd.concat([ID,any_pred, sub_pred], axis=1)\n",
        "  channels_pred.columns = [\"ID\", \"any\", 'epidural', 'intraparenchymal', 'intraventricular', 'subarachnoid', 'subdural']\n",
        "  channels_pred.to_csv(RESULT_PATH + \"CNN_channels_preds.csv\")\n",
        "  fig, ax = plt.subplots(2,1, figsize=(20,10))\n",
        "  sns.distplot(CH_test_pred_any[:,0], ax=ax[0], color=\"Purple\")\n",
        "  sns.distplot(CH_test_pred_sub[:,0], ax=ax[1])\n",
        "  sns.distplot(CH_test_pred_sub[:,1], ax=ax[1])\n",
        "  sns.distplot(CH_test_pred_sub[:,2], ax=ax[1])\n",
        "  sns.distplot(CH_test_pred_sub[:,3], ax=ax[1])\n",
        "  sns.distplot(CH_test_pred_sub[:,4], ax=ax[1])\n",
        "  ax[0].set_title(\"Predicted probability of hemorrhage occurence in dev batch\")\n",
        "  ax[1].set_title(\"Predicted probability of hemorrhage subtypes in dev batch\")\n",
        "  fig.savefig(RESULT_PATH + 'CNN_channels_dist.png')"
      ],
      "execution_count": 36,
      "outputs": [
        {
          "output_type": "stream",
          "text": [
            "/usr/local/lib/python3.6/dist-packages/ipykernel_launcher.py:6: RuntimeWarning: overflow encountered in power\n",
            "  \n"
          ],
          "name": "stderr"
        },
        {
          "output_type": "display_data",
          "data": {
            "image/png": "[encoded data removed]",
            "text/plain": [
              "<Figure size 1440x720 with 2 Axes>"
            ]
          },
          "metadata": {
            "tags": []
          }
        }
      ]
    },
    {
      "cell_type": "markdown",
      "metadata": {
        "id": "Sdreji7Fv11C",
        "colab_type": "text"
      },
      "source": [
        "## Fit models with full images"
      ]
    },
    {
      "cell_type": "code",
      "metadata": {
        "id": "X780p5lADOMy",
        "colab_type": "code",
        "colab": {
          "base_uri": "https://localhost:8080/",
          "height": 1000
        },
        "outputId": "1782a48c-e6f0-4d90-e175-f7a6c0f5a4c1"
      },
      "source": [
        "model_F_1 = build_model_1()\n",
        "history_F_1 = model_F_1.fit_generator(generator=train_dataloader_F,\n",
        "                              validation_data=val_dataloader_F,\n",
        "                              epochs=EPOCHS,\n",
        "                              callbacks=[reduce_lr, e_stopping])\n",
        "\n",
        "model_F_2 = build_model_2()\n",
        "history_F_2 = model_F_2.fit_generator(generator=train_dataloader_F,\n",
        "                              validation_data=val_dataloader_F,\n",
        "                              epochs=EPOCHS,\n",
        "                              callbacks=[reduce_lr, e_stopping])\n",
        "\n",
        "model_F_3 = build_model_3()\n",
        "history_F_3 = model_F_3.fit_generator(generator=train_dataloader_F,\n",
        "                              validation_data=val_dataloader_F,\n",
        "                              epochs=EPOCHS,\n",
        "                              callbacks=[reduce_lr, e_stopping])"
      ],
      "execution_count": 42,
      "outputs": [
        {
          "output_type": "stream",
          "text": [
            "Epoch 1/30\n",
            "99/99 [==============================] - 74s 747ms/step - loss: 0.7074 - any_predictions_loss: 0.7605 - subtype_pred_loss: 0.5833 - any_predictions_binary_accuracy: 0.4939 - subtype_pred_categorical_accuracy: 0.1747 - val_loss: 0.6529 - val_any_predictions_loss: 0.6926 - val_subtype_pred_loss: 0.5601 - val_any_predictions_binary_accuracy: 0.5273 - val_subtype_pred_categorical_accuracy: 0.1414\n",
            "Epoch 2/30\n",
            "99/99 [==============================] - 50s 509ms/step - loss: 0.6419 - any_predictions_loss: 0.7214 - subtype_pred_loss: 0.4564 - any_predictions_binary_accuracy: 0.5091 - subtype_pred_categorical_accuracy: 0.1768 - val_loss: 0.6434 - val_any_predictions_loss: 0.6930 - val_subtype_pred_loss: 0.5276 - val_any_predictions_binary_accuracy: 0.5061 - val_subtype_pred_categorical_accuracy: 0.1525\n",
            "Epoch 3/30\n",
            "99/99 [==============================] - 50s 505ms/step - loss: 0.6336 - any_predictions_loss: 0.7186 - subtype_pred_loss: 0.4352 - any_predictions_binary_accuracy: 0.4960 - subtype_pred_categorical_accuracy: 0.1475 - val_loss: 0.6367 - val_any_predictions_loss: 0.6928 - val_subtype_pred_loss: 0.5059 - val_any_predictions_binary_accuracy: 0.4990 - val_subtype_pred_categorical_accuracy: 0.1525\n",
            "Epoch 4/30\n",
            "99/99 [==============================] - 50s 503ms/step - loss: 0.6187 - any_predictions_loss: 0.7074 - subtype_pred_loss: 0.4120 - any_predictions_binary_accuracy: 0.5101 - subtype_pred_categorical_accuracy: 0.1404 - val_loss: 0.6333 - val_any_predictions_loss: 0.6931 - val_subtype_pred_loss: 0.4936 - val_any_predictions_binary_accuracy: 0.4808 - val_subtype_pred_categorical_accuracy: 0.1525\n",
            "Epoch 5/30\n",
            "99/99 [==============================] - 50s 504ms/step - loss: 0.6152 - any_predictions_loss: 0.7047 - subtype_pred_loss: 0.4066 - any_predictions_binary_accuracy: 0.5071 - subtype_pred_categorical_accuracy: 0.1374 - val_loss: 0.6300 - val_any_predictions_loss: 0.6930 - val_subtype_pred_loss: 0.4830 - val_any_predictions_binary_accuracy: 0.5020 - val_subtype_pred_categorical_accuracy: 0.1525\n",
            "Epoch 6/30\n",
            "99/99 [==============================] - 49s 498ms/step - loss: 0.6105 - any_predictions_loss: 0.6996 - subtype_pred_loss: 0.4027 - any_predictions_binary_accuracy: 0.5051 - subtype_pred_categorical_accuracy: 0.1288 - val_loss: 0.6251 - val_any_predictions_loss: 0.6930 - val_subtype_pred_loss: 0.4669 - val_any_predictions_binary_accuracy: 0.5040 - val_subtype_pred_categorical_accuracy: 0.1525\n",
            "Epoch 7/30\n",
            "99/99 [==============================] - 50s 501ms/step - loss: 0.6108 - any_predictions_loss: 0.7024 - subtype_pred_loss: 0.3969 - any_predictions_binary_accuracy: 0.4985 - subtype_pred_categorical_accuracy: 0.1283 - val_loss: 0.6257 - val_any_predictions_loss: 0.6930 - val_subtype_pred_loss: 0.4687 - val_any_predictions_binary_accuracy: 0.5040 - val_subtype_pred_categorical_accuracy: 0.1525\n",
            "Epoch 8/30\n",
            "99/99 [==============================] - 50s 502ms/step - loss: 0.6096 - any_predictions_loss: 0.6996 - subtype_pred_loss: 0.3997 - any_predictions_binary_accuracy: 0.4864 - subtype_pred_categorical_accuracy: 0.1253 - val_loss: 0.6242 - val_any_predictions_loss: 0.6930 - val_subtype_pred_loss: 0.4638 - val_any_predictions_binary_accuracy: 0.5040 - val_subtype_pred_categorical_accuracy: 0.1525\n",
            "Epoch 9/30\n",
            "99/99 [==============================] - 50s 502ms/step - loss: 0.6093 - any_predictions_loss: 0.7000 - subtype_pred_loss: 0.3975 - any_predictions_binary_accuracy: 0.4763 - subtype_pred_categorical_accuracy: 0.1242 - val_loss: 0.6223 - val_any_predictions_loss: 0.6931 - val_subtype_pred_loss: 0.4572 - val_any_predictions_binary_accuracy: 0.5040 - val_subtype_pred_categorical_accuracy: 0.1525\n",
            "Epoch 10/30\n",
            "99/99 [==============================] - 50s 501ms/step - loss: 0.6069 - any_predictions_loss: 0.6986 - subtype_pred_loss: 0.3929 - any_predictions_binary_accuracy: 0.4995 - subtype_pred_categorical_accuracy: 0.1247 - val_loss: 0.6207 - val_any_predictions_loss: 0.6930 - val_subtype_pred_loss: 0.4519 - val_any_predictions_binary_accuracy: 0.5040 - val_subtype_pred_categorical_accuracy: 0.1525\n",
            "Epoch 11/30\n",
            "99/99 [==============================] - 50s 506ms/step - loss: 0.6036 - any_predictions_loss: 0.6964 - subtype_pred_loss: 0.3871 - any_predictions_binary_accuracy: 0.4894 - subtype_pred_categorical_accuracy: 0.1389 - val_loss: 0.6182 - val_any_predictions_loss: 0.6931 - val_subtype_pred_loss: 0.4435 - val_any_predictions_binary_accuracy: 0.5040 - val_subtype_pred_categorical_accuracy: 0.1525\n",
            "Epoch 1/30\n",
            "99/99 [==============================] - 57s 581ms/step - loss: 0.7097 - any_predictions_loss: 0.7406 - subtype_pred_loss: 0.6374 - any_predictions_binary_accuracy: 0.5056 - subtype_pred_categorical_accuracy: 0.2222 - val_loss: 0.6530 - val_any_predictions_loss: 0.6921 - val_subtype_pred_loss: 0.5618 - val_any_predictions_binary_accuracy: 0.5182 - val_subtype_pred_categorical_accuracy: 0.5152\n",
            "Epoch 2/30\n",
            "99/99 [==============================] - 50s 508ms/step - loss: 0.6459 - any_predictions_loss: 0.7179 - subtype_pred_loss: 0.4778 - any_predictions_binary_accuracy: 0.4980 - subtype_pred_categorical_accuracy: 0.1909 - val_loss: 0.6320 - val_any_predictions_loss: 0.6931 - val_subtype_pred_loss: 0.4896 - val_any_predictions_binary_accuracy: 0.5030 - val_subtype_pred_categorical_accuracy: 0.3848\n",
            "Epoch 3/30\n",
            "99/99 [==============================] - 50s 510ms/step - loss: 0.6260 - any_predictions_loss: 0.7103 - subtype_pred_loss: 0.4294 - any_predictions_binary_accuracy: 0.5020 - subtype_pred_categorical_accuracy: 0.1611 - val_loss: 0.6188 - val_any_predictions_loss: 0.6928 - val_subtype_pred_loss: 0.4461 - val_any_predictions_binary_accuracy: 0.5303 - val_subtype_pred_categorical_accuracy: 0.1505\n",
            "Epoch 4/30\n",
            "99/99 [==============================] - 50s 508ms/step - loss: 0.6211 - any_predictions_loss: 0.7100 - subtype_pred_loss: 0.4139 - any_predictions_binary_accuracy: 0.4732 - subtype_pred_categorical_accuracy: 0.1333 - val_loss: 0.6190 - val_any_predictions_loss: 0.6929 - val_subtype_pred_loss: 0.4467 - val_any_predictions_binary_accuracy: 0.5030 - val_subtype_pred_categorical_accuracy: 0.1515\n",
            "Epoch 5/30\n",
            "99/99 [==============================] - 50s 509ms/step - loss: 0.6141 - any_predictions_loss: 0.7025 - subtype_pred_loss: 0.4077 - any_predictions_binary_accuracy: 0.4869 - subtype_pred_categorical_accuracy: 0.1273 - val_loss: 0.6174 - val_any_predictions_loss: 0.6929 - val_subtype_pred_loss: 0.4412 - val_any_predictions_binary_accuracy: 0.5061 - val_subtype_pred_categorical_accuracy: 0.1535\n",
            "Epoch 6/30\n",
            "99/99 [==============================] - 51s 511ms/step - loss: 0.6092 - any_predictions_loss: 0.6988 - subtype_pred_loss: 0.4001 - any_predictions_binary_accuracy: 0.4995 - subtype_pred_categorical_accuracy: 0.1384 - val_loss: 0.6173 - val_any_predictions_loss: 0.6929 - val_subtype_pred_loss: 0.4408 - val_any_predictions_binary_accuracy: 0.5040 - val_subtype_pred_categorical_accuracy: 0.1505\n",
            "Epoch 7/30\n",
            "99/99 [==============================] - 50s 503ms/step - loss: 0.6097 - any_predictions_loss: 0.7003 - subtype_pred_loss: 0.3982 - any_predictions_binary_accuracy: 0.4788 - subtype_pred_categorical_accuracy: 0.1202 - val_loss: 0.6189 - val_any_predictions_loss: 0.6931 - val_subtype_pred_loss: 0.4457 - val_any_predictions_binary_accuracy: 0.5040 - val_subtype_pred_categorical_accuracy: 0.1525\n",
            "Epoch 8/30\n",
            "99/99 [==============================] - 50s 508ms/step - loss: 0.6063 - any_predictions_loss: 0.6967 - subtype_pred_loss: 0.3953 - any_predictions_binary_accuracy: 0.5131 - subtype_pred_categorical_accuracy: 0.1197 - val_loss: 0.6157 - val_any_predictions_loss: 0.6931 - val_subtype_pred_loss: 0.4350 - val_any_predictions_binary_accuracy: 0.5040 - val_subtype_pred_categorical_accuracy: 0.1525\n",
            "Epoch 1/30\n",
            "99/99 [==============================] - 58s 581ms/step - loss: 0.7578 - any_predictions_loss: 0.7908 - subtype_pred_loss: 0.6806 - any_predictions_binary_accuracy: 0.5025 - subtype_pred_categorical_accuracy: 0.1798 - val_loss: 0.6584 - val_any_predictions_loss: 0.6950 - val_subtype_pred_loss: 0.5732 - val_any_predictions_binary_accuracy: 0.4960 - val_subtype_pred_categorical_accuracy: 0.1960\n",
            "Epoch 2/30\n",
            "99/99 [==============================] - 50s 506ms/step - loss: 0.6639 - any_predictions_loss: 0.7348 - subtype_pred_loss: 0.4984 - any_predictions_binary_accuracy: 0.4879 - subtype_pred_categorical_accuracy: 0.1737 - val_loss: 0.6437 - val_any_predictions_loss: 0.6934 - val_subtype_pred_loss: 0.5276 - val_any_predictions_binary_accuracy: 0.4869 - val_subtype_pred_categorical_accuracy: 0.3374\n",
            "Epoch 3/30\n",
            "99/99 [==============================] - 50s 508ms/step - loss: 0.6404 - any_predictions_loss: 0.7239 - subtype_pred_loss: 0.4456 - any_predictions_binary_accuracy: 0.4965 - subtype_pred_categorical_accuracy: 0.1586 - val_loss: 0.6329 - val_any_predictions_loss: 0.6943 - val_subtype_pred_loss: 0.4896 - val_any_predictions_binary_accuracy: 0.5040 - val_subtype_pred_categorical_accuracy: 0.1525\n",
            "Epoch 4/30\n",
            "99/99 [==============================] - 50s 509ms/step - loss: 0.6280 - any_predictions_loss: 0.7160 - subtype_pred_loss: 0.4228 - any_predictions_binary_accuracy: 0.4970 - subtype_pred_categorical_accuracy: 0.1283 - val_loss: 0.6324 - val_any_predictions_loss: 0.6930 - val_subtype_pred_loss: 0.4910 - val_any_predictions_binary_accuracy: 0.5293 - val_subtype_pred_categorical_accuracy: 0.1525\n",
            "Epoch 5/30\n",
            "99/99 [==============================] - 51s 512ms/step - loss: 0.6145 - any_predictions_loss: 0.7002 - subtype_pred_loss: 0.4147 - any_predictions_binary_accuracy: 0.5081 - subtype_pred_categorical_accuracy: 0.1298 - val_loss: 0.6226 - val_any_predictions_loss: 0.6929 - val_subtype_pred_loss: 0.4585 - val_any_predictions_binary_accuracy: 0.5424 - val_subtype_pred_categorical_accuracy: 0.1525\n",
            "Epoch 6/30\n",
            "99/99 [==============================] - 51s 512ms/step - loss: 0.6132 - any_predictions_loss: 0.6990 - subtype_pred_loss: 0.4131 - any_predictions_binary_accuracy: 0.5126 - subtype_pred_categorical_accuracy: 0.1247 - val_loss: 0.6176 - val_any_predictions_loss: 0.6929 - val_subtype_pred_loss: 0.4418 - val_any_predictions_binary_accuracy: 0.5485 - val_subtype_pred_categorical_accuracy: 0.1525\n",
            "Epoch 7/30\n",
            "99/99 [==============================] - 51s 513ms/step - loss: 0.6084 - any_predictions_loss: 0.6955 - subtype_pred_loss: 0.4052 - any_predictions_binary_accuracy: 0.5035 - subtype_pred_categorical_accuracy: 0.1318 - val_loss: 0.6200 - val_any_predictions_loss: 0.6929 - val_subtype_pred_loss: 0.4498 - val_any_predictions_binary_accuracy: 0.5212 - val_subtype_pred_categorical_accuracy: 0.1525\n",
            "Epoch 8/30\n",
            "99/99 [==============================] - 51s 511ms/step - loss: 0.6067 - any_predictions_loss: 0.6962 - subtype_pred_loss: 0.3977 - any_predictions_binary_accuracy: 0.5126 - subtype_pred_categorical_accuracy: 0.1247 - val_loss: 0.6172 - val_any_predictions_loss: 0.6930 - val_subtype_pred_loss: 0.4401 - val_any_predictions_binary_accuracy: 0.5040 - val_subtype_pred_categorical_accuracy: 0.1525\n",
            "Epoch 9/30\n",
            "99/99 [==============================] - 50s 507ms/step - loss: 0.6056 - any_predictions_loss: 0.6944 - subtype_pred_loss: 0.3985 - any_predictions_binary_accuracy: 0.5086 - subtype_pred_categorical_accuracy: 0.1242 - val_loss: 0.6115 - val_any_predictions_loss: 0.6930 - val_subtype_pred_loss: 0.4214 - val_any_predictions_binary_accuracy: 0.4960 - val_subtype_pred_categorical_accuracy: 0.1455\n",
            "Epoch 10/30\n",
            "99/99 [==============================] - 51s 513ms/step - loss: 0.6079 - any_predictions_loss: 0.6985 - subtype_pred_loss: 0.3964 - any_predictions_binary_accuracy: 0.5162 - subtype_pred_categorical_accuracy: 0.1384 - val_loss: 0.6155 - val_any_predictions_loss: 0.6931 - val_subtype_pred_loss: 0.4345 - val_any_predictions_binary_accuracy: 0.5040 - val_subtype_pred_categorical_accuracy: 0.1525\n",
            "Epoch 11/30\n",
            "99/99 [==============================] - 50s 507ms/step - loss: 0.6075 - any_predictions_loss: 0.6990 - subtype_pred_loss: 0.3941 - any_predictions_binary_accuracy: 0.4924 - subtype_pred_categorical_accuracy: 0.1303 - val_loss: 0.6141 - val_any_predictions_loss: 0.6931 - val_subtype_pred_loss: 0.4296 - val_any_predictions_binary_accuracy: 0.4960 - val_subtype_pred_categorical_accuracy: 0.1525\n",
            "Epoch 12/30\n",
            "99/99 [==============================] - 50s 509ms/step - loss: 0.6062 - any_predictions_loss: 0.6975 - subtype_pred_loss: 0.3933 - any_predictions_binary_accuracy: 0.4985 - subtype_pred_categorical_accuracy: 0.1146 - val_loss: 0.6136 - val_any_predictions_loss: 0.6931 - val_subtype_pred_loss: 0.4281 - val_any_predictions_binary_accuracy: 0.5273 - val_subtype_pred_categorical_accuracy: 0.1525\n",
            "Epoch 13/30\n",
            "99/99 [==============================] - 51s 514ms/step - loss: 0.6045 - any_predictions_loss: 0.6957 - subtype_pred_loss: 0.3916 - any_predictions_binary_accuracy: 0.5015 - subtype_pred_categorical_accuracy: 0.1328 - val_loss: 0.6136 - val_any_predictions_loss: 0.6931 - val_subtype_pred_loss: 0.4281 - val_any_predictions_binary_accuracy: 0.5040 - val_subtype_pred_categorical_accuracy: 0.1515\n",
            "Epoch 14/30\n",
            "99/99 [==============================] - 50s 510ms/step - loss: 0.6053 - any_predictions_loss: 0.6967 - subtype_pred_loss: 0.3918 - any_predictions_binary_accuracy: 0.4904 - subtype_pred_categorical_accuracy: 0.1278 - val_loss: 0.6142 - val_any_predictions_loss: 0.6931 - val_subtype_pred_loss: 0.4303 - val_any_predictions_binary_accuracy: 0.5040 - val_subtype_pred_categorical_accuracy: 0.1525\n"
          ],
          "name": "stdout"
        }
      ]
    },
    {
      "cell_type": "markdown",
      "metadata": {
        "id": "ZLVb4gpbzIH4",
        "colab_type": "text"
      },
      "source": [
        "### Select the best model to save its output"
      ]
    },
    {
      "cell_type": "code",
      "metadata": {
        "id": "Usbcg_dizHbe",
        "colab_type": "code",
        "colab": {
          "base_uri": "https://localhost:8080/",
          "height": 34
        },
        "outputId": "0fb28802-2a2f-4252-9c82-374ab62efff7"
      },
      "source": [
        "losses_f = {\"M1\": abs(min(history_F_1.history['val_loss'])),\n",
        "             \"M2\": abs(min(history_F_2.history['val_loss'])),\n",
        "             \"M3\": abs(min(history_F_3.history['val_loss']))\n",
        "}\n",
        "\n",
        "best_f = min(losses_f.keys(), key=(lambda k: losses_f[k]))\n",
        "print(best_f)"
      ],
      "execution_count": 43,
      "outputs": [
        {
          "output_type": "stream",
          "text": [
            "M3\n"
          ],
          "name": "stdout"
        }
      ]
    },
    {
      "cell_type": "markdown",
      "metadata": {
        "id": "9ht2cpeFoZ6f",
        "colab_type": "text"
      },
      "source": [
        "Save history for later and also the model architecture and learned weights"
      ]
    },
    {
      "cell_type": "code",
      "metadata": {
        "id": "aQddBd1kyj0N",
        "colab_type": "code",
        "colab": {
          "base_uri": "https://localhost:8080/",
          "height": 607
        },
        "outputId": "651b609f-92b9-43b4-8a39-17d060898986"
      },
      "source": [
        "if best_f is 'M1':\n",
        "  full_history = pd.DataFrame.from_dict(history_F_1.history)\n",
        "  full_history['epoch']=history_F_1.epoch\n",
        "  full_history = full_history.set_index('epoch')\n",
        "  full_history.head(5)\n",
        "\n",
        "  #save history to csv\n",
        "  full_history.to_csv(RESULT_PATH + 'history_CNN_full.csv')\n",
        "\n",
        "  #save weights\n",
        "  model_F_1.save_weights(MODEL_PATH + \"CNN_full.h5\")\n",
        "\n",
        "  with open(MODEL_PATH + 'CNN_full_summary.txt', 'w') as f:\n",
        "      with redirect_stdout(f):\n",
        "          model_F_1.summary()\n",
        "\n",
        "  test_dataloader_F = DataGenerator_Full(IDs=testing.ID,\n",
        "                                batch_size=5,\n",
        "                                img_size=(299,299,3),\n",
        "                                num_classes=5,\n",
        "                                steps=None)\n",
        "  F_test_pred_any, F_test_pred_sub = model_F_1.predict(test_dataloader_F)\n",
        "  any_pred = pd.DataFrame(F_test_pred_any)\n",
        "  sub_pred = pd.DataFrame(F_test_pred_sub)\n",
        "  ID = pd.DataFrame(testing.ID.values)\n",
        "  full_pred = pd.concat([ID,any_pred, sub_pred], axis=1)\n",
        "  full_pred.columns = [\"ID\", \"any\", 'epidural', 'intraparenchymal', 'intraventricular', 'subarachnoid', 'subdural']\n",
        "  full_pred.to_csv(RESULT_PATH + \"CNN_full_preds.csv\")\n",
        "  fig, ax = plt.subplots(2,1, figsize=(20,10))\n",
        "  sns.distplot(CH_test_pred_any[:,0], ax=ax[0], color=\"Purple\")\n",
        "  sns.distplot(CH_test_pred_sub[:,0], ax=ax[1])\n",
        "  sns.distplot(CH_test_pred_sub[:,1], ax=ax[1])\n",
        "  sns.distplot(CH_test_pred_sub[:,2], ax=ax[1])\n",
        "  sns.distplot(CH_test_pred_sub[:,3], ax=ax[1])\n",
        "  sns.distplot(CH_test_pred_sub[:,4], ax=ax[1])\n",
        "  ax[0].set_title(\"Predicted probability of hemorrhage occurence in dev batch\")\n",
        "  ax[1].set_title(\"Predicted probability of hemorrhage subtypes in dev batch\")\n",
        "  fig.savefig(RESULT_PATH + 'CNN_full_dist.png')\n",
        "\n",
        "if best_f is 'M2':\n",
        "  full_history = pd.DataFrame.from_dict(history_F_2.history)\n",
        "  full_history['epoch']=history_F_2.epoch\n",
        "  full_history = full_history.set_index('epoch')\n",
        "\n",
        "  #save history to csv\n",
        "  full_history.to_csv(RESULT_PATH + 'history_CNN_full.csv')\n",
        "\n",
        "  #save weights\n",
        "  model_F_2.save_weights(MODEL_PATH + \"CNN_full.h5\")\n",
        "\n",
        "  with open(MODEL_PATH + 'CNN_full_summary.txt', 'w') as f:\n",
        "      with redirect_stdout(f):\n",
        "          model_F_2.summary()\n",
        "\n",
        "  test_dataloader_F = DataGenerator_Full(IDs=testing.ID,\n",
        "                                batch_size=5,\n",
        "                                img_size=(299,299,3),\n",
        "                                num_classes=5,\n",
        "                                steps=None)\n",
        "  F_test_pred_any, F_test_pred_sub = model_F_2.predict(test_dataloader_F)\n",
        "  any_pred = pd.DataFrame(F_test_pred_any)\n",
        "  sub_pred = pd.DataFrame(F_test_pred_sub)\n",
        "  ID = pd.DataFrame(testing.ID.values)\n",
        "  full_pred = pd.concat([ID,any_pred, sub_pred], axis=1)\n",
        "  full_pred.columns = [\"ID\", \"any\", 'epidural', 'intraparenchymal', 'intraventricular', 'subarachnoid', 'subdural']\n",
        "  full_pred.to_csv(RESULT_PATH + \"CNN_full_preds.csv\")\n",
        "  fig, ax = plt.subplots(2,1, figsize=(20,10))\n",
        "  sns.distplot(CH_test_pred_any[:,0], ax=ax[0], color=\"Purple\")\n",
        "  sns.distplot(CH_test_pred_sub[:,0], ax=ax[1])\n",
        "  sns.distplot(CH_test_pred_sub[:,1], ax=ax[1])\n",
        "  sns.distplot(CH_test_pred_sub[:,2], ax=ax[1])\n",
        "  sns.distplot(CH_test_pred_sub[:,3], ax=ax[1])\n",
        "  sns.distplot(CH_test_pred_sub[:,4], ax=ax[1])\n",
        "  ax[0].set_title(\"Predicted probability of hemorrhage occurence in dev batch\")\n",
        "  ax[1].set_title(\"Predicted probability of hemorrhage subtypes in dev batch\")\n",
        "  fig.savefig(RESULT_PATH + 'CNN_full_dist.png')\n",
        "\n",
        "if best_f is 'M3':\n",
        "  full_history = pd.DataFrame.from_dict(history_F_3.history)\n",
        "  full_history['epoch']=history_F_3.epoch\n",
        "  full_history = full_history.set_index('epoch')\n",
        "  full_history.head(5)\n",
        "\n",
        "  #save history to csv\n",
        "  full_history.to_csv(RESULT_PATH + 'history_CNN_full.csv')\n",
        "\n",
        "  #save weights\n",
        "  model_F_3.save_weights(MODEL_PATH + \"CNN_full.h5\")\n",
        "\n",
        "  with open(MODEL_PATH + 'CNN_full_summary.txt', 'w') as f:\n",
        "      with redirect_stdout(f):\n",
        "          model_F_3.summary()\n",
        "\n",
        "  test_dataloader_F = DataGenerator_Full(IDs=testing.ID,\n",
        "                                batch_size=5,\n",
        "                                img_size=(299,299,3),\n",
        "                                num_classes=5,\n",
        "                                steps=None)\n",
        "  F_test_pred_any, F_test_pred_sub = model_F_3.predict(test_dataloader_F)\n",
        "  any_pred = pd.DataFrame(F_test_pred_any)\n",
        "  sub_pred = pd.DataFrame(F_test_pred_sub)\n",
        "  ID = pd.DataFrame(testing.ID.values)\n",
        "  full_pred = pd.concat([ID,any_pred, sub_pred], axis=1)\n",
        "  full_pred.columns = [\"ID\", \"any\", 'epidural', 'intraparenchymal', 'intraventricular', 'subarachnoid', 'subdural']\n",
        "  full_pred.to_csv(RESULT_PATH + \"CNN_full_preds.csv\")\n",
        "  fig, ax = plt.subplots(2,1, figsize=(20,10))\n",
        "  sns.distplot(CH_test_pred_any[:,0], ax=ax[0], color=\"Purple\")\n",
        "  sns.distplot(CH_test_pred_sub[:,0], ax=ax[1])\n",
        "  sns.distplot(CH_test_pred_sub[:,1], ax=ax[1])\n",
        "  sns.distplot(CH_test_pred_sub[:,2], ax=ax[1])\n",
        "  sns.distplot(CH_test_pred_sub[:,3], ax=ax[1])\n",
        "  sns.distplot(CH_test_pred_sub[:,4], ax=ax[1])\n",
        "  ax[0].set_title(\"Predicted probability of hemorrhage occurence in dev batch\")\n",
        "  ax[1].set_title(\"Predicted probability of hemorrhage subtypes in dev batch\")\n",
        "  fig.savefig(RESULT_PATH + 'CNN_full_dist.png')"
      ],
      "execution_count": 44,
      "outputs": [
        {
          "output_type": "display_data",
          "data": {
            "image/png": "[encoded data removed]",
            "text/plain": [
              "<Figure size 1440x720 with 2 Axes>"
            ]
          },
          "metadata": {
            "tags": []
          }
        }
      ]
    }
  ]
}