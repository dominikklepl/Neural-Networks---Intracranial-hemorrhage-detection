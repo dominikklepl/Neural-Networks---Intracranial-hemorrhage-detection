{
  "nbformat": 4,
  "nbformat_minor": 0,
  "metadata": {
    "colab": {
      "name": "03_Transfer_learning.ipynb",
      "provenance": [],
      "include_colab_link": true
    },
    "kernelspec": {
      "name": "python3",
      "display_name": "Python 3"
    },
    "accelerator": "GPU"
  },
  "cells": [
    {
      "cell_type": "markdown",
      "metadata": {
        "id": "view-in-github",
        "colab_type": "text"
      },
      "source": [
        "<a href=\"https://colab.research.google.com/github/dominikklepl/Neural-Networks-Intracranial-hemorrhage-detection/blob/master/03_Transfer_learning.ipynb\" target=\"_parent\"><img src=\"https://colab.research.google.com/assets/colab-badge.svg\" alt=\"Open In Colab\"/></a>"
      ]
    },
    {
      "cell_type": "markdown",
      "metadata": {
        "id": "bCqsoxkxP9zB",
        "colab_type": "text"
      },
      "source": [
        "# Transfer learning"
      ]
    },
    {
      "cell_type": "code",
      "metadata": {
        "id": "wVc8B0wP_49g",
        "colab_type": "code",
        "colab": {}
      },
      "source": [
        "prototyping = False"
      ],
      "execution_count": 0,
      "outputs": []
    },
    {
      "cell_type": "markdown",
      "metadata": {
        "id": "Fc1NeHJZVUfI",
        "colab_type": "text"
      },
      "source": [
        "## Setup and paths to data"
      ]
    },
    {
      "cell_type": "markdown",
      "metadata": {
        "id": "K5ieuRPWhad7",
        "colab_type": "text"
      },
      "source": [
        "Install missing packages"
      ]
    },
    {
      "cell_type": "code",
      "metadata": {
        "id": "jgSMnAEchcQC",
        "colab_type": "code",
        "outputId": "48bf5bd3-ce94-41d5-c7e7-cbf950a6f5ee",
        "colab": {
          "base_uri": "https://localhost:8080/",
          "height": 122
        }
      },
      "source": [
        "!pip install pydicom"
      ],
      "execution_count": 2,
      "outputs": [
        {
          "output_type": "stream",
          "text": [
            "Collecting pydicom\n",
            "\u001b[?25l  Downloading https://files.pythonhosted.org/packages/fc/d5/da1fdf3b967e324ee47a7ad9553c9b94c1193b6b98afd9eeda0efb76b9f7/pydicom-1.3.0-py2.py3-none-any.whl (7.1MB)\n",
            "\u001b[K     |████████████████████████████████| 7.1MB 4.8MB/s \n",
            "\u001b[?25hInstalling collected packages: pydicom\n",
            "Successfully installed pydicom-1.3.0\n"
          ],
          "name": "stdout"
        }
      ]
    },
    {
      "cell_type": "markdown",
      "metadata": {
        "id": "AHyl7ejJRHbp",
        "colab_type": "text"
      },
      "source": [
        "Import all required packages"
      ]
    },
    {
      "cell_type": "code",
      "metadata": {
        "id": "6iC6GizdRLOe",
        "colab_type": "code",
        "outputId": "cb4bdd82-47be-41c4-c63f-be9b4f69889a",
        "colab": {
          "base_uri": "https://localhost:8080/",
          "height": 34
        }
      },
      "source": [
        "#connect google drive\n",
        "from google.colab import drive\n",
        "\n",
        "#dealing with zip\n",
        "import zipfile\n",
        "\n",
        "#importing labels and working with dataframe\n",
        "import pandas as pd\n",
        "\n",
        "#manipulation with images\n",
        "import pydicom\n",
        "import torch\n",
        "import numpy as np\n",
        "from math import ceil, floor, log\n",
        "import cv2\n",
        "\n",
        "#train-test\n",
        "from sklearn.model_selection import GroupKFold\n",
        "\n",
        "#models\n",
        "%tensorflow_version 1.x\n",
        "import keras.utils\n",
        "import tensorflow as tf\n",
        "print(tf.__version__)\n",
        "from keras.layers import GlobalAveragePooling2D, Dense, Activation, concatenate, Dropout\n",
        "from keras.initializers import glorot_normal, he_normal\n",
        "from keras.regularizers import l2\n",
        "from keras.models import Model, load_model\n",
        "from keras.callbacks import ModelCheckpoint, ReduceLROnPlateau, EarlyStopping\n",
        "from keras.optimizers import Adam\n",
        "from tensorflow.nn import sigmoid_cross_entropy_with_logits\n",
        "\n",
        "#pretrained models\n",
        "from keras_applications.inception_v3 import InceptionV3\n",
        "\n",
        "#save model architecture\n",
        "from contextlib import redirect_stdout\n",
        "\n",
        "#plotting\n",
        "import matplotlib.pyplot as plt\n",
        "import seaborn as sns\n",
        "np.random.seed(31415)"
      ],
      "execution_count": 70,
      "outputs": [
        {
          "output_type": "stream",
          "text": [
            "1.15.0\n"
          ],
          "name": "stdout"
        }
      ]
    },
    {
      "cell_type": "code",
      "metadata": {
        "id": "WJ5jhXN5R4uc",
        "colab_type": "code",
        "colab": {}
      },
      "source": [
        "#ignore deprecation warnings\n",
        "import warnings\n",
        "warnings.filterwarnings(\"ignore\", category=DeprecationWarning)\n",
        "warnings.filterwarnings(\"ignore\", category=UserWarning)\n",
        "warnings.filterwarnings(\"ignore\", category=FutureWarning)"
      ],
      "execution_count": 0,
      "outputs": []
    },
    {
      "cell_type": "markdown",
      "metadata": {
        "id": "wneWaNJIxllY",
        "colab_type": "text"
      },
      "source": [
        "Check that GPU is available and that keras can use it."
      ]
    },
    {
      "cell_type": "code",
      "metadata": {
        "id": "DGOK4bYJxn6J",
        "colab_type": "code",
        "outputId": "02d196ad-a357-439c-e109-18e49de54851",
        "colab": {
          "base_uri": "https://localhost:8080/",
          "height": 34
        }
      },
      "source": [
        "from keras import backend as K\n",
        "K.tensorflow_backend._get_available_gpus()"
      ],
      "execution_count": 0,
      "outputs": [
        {
          "output_type": "execute_result",
          "data": {
            "text/plain": [
              "['/job:localhost/replica:0/task:0/device:GPU:0']"
            ]
          },
          "metadata": {
            "tags": []
          },
          "execution_count": 4
        }
      ]
    },
    {
      "cell_type": "markdown",
      "metadata": {
        "id": "x_9xRxp2XYhR",
        "colab_type": "text"
      },
      "source": [
        "Connect Google Drive. That's where my data is stored."
      ]
    },
    {
      "cell_type": "code",
      "metadata": {
        "id": "AAqMR_oS_3De",
        "colab_type": "code",
        "outputId": "8532a2c6-0e6e-40e2-e18d-053b55bf9183",
        "colab": {
          "base_uri": "https://localhost:8080/",
          "height": 122
        }
      },
      "source": [
        "GDRIVE_PATH = \"/gdrive\"\n",
        "drive.mount(GDRIVE_PATH)"
      ],
      "execution_count": 4,
      "outputs": [
        {
          "output_type": "stream",
          "text": [
            "Go to this URL in a browser: https://accounts.google.com/o/oauth2/auth?client_id=947318989803-6bn6qk8qdgf4n4g3pfee6491hc0brc4i.apps.googleusercontent.com&redirect_uri=urn%3Aietf%3Awg%3Aoauth%3A2.0%3Aoob&scope=email%20https%3A%2F%2Fwww.googleapis.com%2Fauth%2Fdocs.test%20https%3A%2F%2Fwww.googleapis.com%2Fauth%2Fdrive%20https%3A%2F%2Fwww.googleapis.com%2Fauth%2Fdrive.photos.readonly%20https%3A%2F%2Fwww.googleapis.com%2Fauth%2Fpeopleapi.readonly&response_type=code\n",
            "\n",
            "Enter your authorization code:\n",
            "··········\n",
            "Mounted at /gdrive\n"
          ],
          "name": "stdout"
        }
      ]
    },
    {
      "cell_type": "markdown",
      "metadata": {
        "id": "4KyezdSiRqxy",
        "colab_type": "text"
      },
      "source": [
        "Set paths to all required data"
      ]
    },
    {
      "cell_type": "code",
      "metadata": {
        "id": "4mwN-s-7Rqeq",
        "colab_type": "code",
        "outputId": "79727bce-3c28-4ec5-8072-b3aa3fe989f1",
        "colab": {
          "base_uri": "https://localhost:8080/",
          "height": 68
        }
      },
      "source": [
        "WORK_DIR = \"/content/\"\n",
        "BASE_DIR = GDRIVE_PATH + \"/My Drive/\"\n",
        "ZIP_PATH = BASE_DIR + \"DICOMS/train_images.zip\"\n",
        "DF_PATH = BASE_DIR + \"train_balanced.csv\"\n",
        "MODEL_PATH = BASE_DIR + \"models/\"\n",
        "RESULT_PATH = BASE_DIR + \"results/\" #for saving performance of models\n",
        "IMAGES_PATH = WORK_DIR + \"img\"\n",
        "\n",
        "#if the model and results aren't created already, create them\n",
        "!mkdir /gdrive/My\\ Drive/models\n",
        "!mkdir /gdrive/My\\ Drive/results\n",
        "\n",
        "#also create temporary folder in working directory for unzipping images\n",
        "!mkdir /content/img"
      ],
      "execution_count": 68,
      "outputs": [
        {
          "output_type": "stream",
          "text": [
            "mkdir: cannot create directory ‘/gdrive/My Drive/models’: File exists\n",
            "mkdir: cannot create directory ‘/gdrive/My Drive/results’: File exists\n",
            "mkdir: cannot create directory ‘/content/img’: File exists\n"
          ],
          "name": "stdout"
        }
      ]
    },
    {
      "cell_type": "code",
      "metadata": {
        "id": "Y2wpHxQE7Yta",
        "colab_type": "code",
        "outputId": "de607fd5-f86e-47a7-fce1-77f1f934a8e7",
        "colab": {
          "base_uri": "https://localhost:8080/",
          "height": 34
        }
      },
      "source": [
        "#get number of CPU cores\n",
        "import multiprocessing\n",
        "CORES = multiprocessing.cpu_count()\n",
        "print(CORES)"
      ],
      "execution_count": 6,
      "outputs": [
        {
          "output_type": "stream",
          "text": [
            "2\n"
          ],
          "name": "stdout"
        }
      ]
    },
    {
      "cell_type": "markdown",
      "metadata": {
        "id": "HUE6PFH6Va7f",
        "colab_type": "text"
      },
      "source": [
        "Images are saved in a zip file. For easier and faster manipulation, let's extract them to a folder in the working directory that we created before (\"/content/img\")"
      ]
    },
    {
      "cell_type": "code",
      "metadata": {
        "id": "aDrNJugxVZAI",
        "colab_type": "code",
        "outputId": "341291c2-73de-4fa2-cee1-8b8130f031aa",
        "colab": {
          "base_uri": "https://localhost:8080/",
          "height": 51
        }
      },
      "source": [
        "img_archive = zipfile.ZipFile(ZIP_PATH)\n",
        "%time img_archive.extractall(path=IMAGES_PATH)"
      ],
      "execution_count": 7,
      "outputs": [
        {
          "output_type": "stream",
          "text": [
            "CPU times: user 12min 21s, sys: 2min 21s, total: 14min 43s\n",
            "Wall time: 20min 17s\n"
          ],
          "name": "stdout"
        }
      ]
    },
    {
      "cell_type": "markdown",
      "metadata": {
        "id": "9QwB9UwVXyyk",
        "colab_type": "text"
      },
      "source": [
        "### Load the csv with labels and metadata"
      ]
    },
    {
      "cell_type": "code",
      "metadata": {
        "id": "9UrkCTAJXyZZ",
        "colab_type": "code",
        "outputId": "ec32b149-b80e-4167-a018-12f732ee5f90",
        "colab": {
          "base_uri": "https://localhost:8080/",
          "height": 332
        }
      },
      "source": [
        "train_df = pd.read_csv(DF_PATH)\n",
        "train_df.sample(3)"
      ],
      "execution_count": 9,
      "outputs": [
        {
          "output_type": "execute_result",
          "data": {
            "text/html": [
              "<div>\n",
              "<style scoped>\n",
              "    .dataframe tbody tr th:only-of-type {\n",
              "        vertical-align: middle;\n",
              "    }\n",
              "\n",
              "    .dataframe tbody tr th {\n",
              "        vertical-align: top;\n",
              "    }\n",
              "\n",
              "    .dataframe thead th {\n",
              "        text-align: right;\n",
              "    }\n",
              "</style>\n",
              "<table border=\"1\" class=\"dataframe\">\n",
              "  <thead>\n",
              "    <tr style=\"text-align: right;\">\n",
              "      <th></th>\n",
              "      <th>Unnamed: 0</th>\n",
              "      <th>Unnamed: 0.1</th>\n",
              "      <th>index</th>\n",
              "      <th>SOPInstanceUID</th>\n",
              "      <th>Modality</th>\n",
              "      <th>PatientID</th>\n",
              "      <th>StudyInstanceUID</th>\n",
              "      <th>SeriesInstanceUID</th>\n",
              "      <th>StudyID</th>\n",
              "      <th>ImagePositionPatient</th>\n",
              "      <th>ImageOrientationPatient</th>\n",
              "      <th>SamplesPerPixel</th>\n",
              "      <th>PhotometricInterpretation</th>\n",
              "      <th>Rows</th>\n",
              "      <th>Columns</th>\n",
              "      <th>PixelSpacing</th>\n",
              "      <th>BitsAllocated</th>\n",
              "      <th>BitsStored</th>\n",
              "      <th>HighBit</th>\n",
              "      <th>PixelRepresentation</th>\n",
              "      <th>WindowCenter</th>\n",
              "      <th>WindowWidth</th>\n",
              "      <th>RescaleIntercept</th>\n",
              "      <th>RescaleSlope</th>\n",
              "      <th>fname</th>\n",
              "      <th>MultiImagePositionPatient</th>\n",
              "      <th>ImagePositionPatient1</th>\n",
              "      <th>ImagePositionPatient2</th>\n",
              "      <th>MultiImageOrientationPatient</th>\n",
              "      <th>ImageOrientationPatient1</th>\n",
              "      <th>ImageOrientationPatient2</th>\n",
              "      <th>ImageOrientationPatient3</th>\n",
              "      <th>ImageOrientationPatient4</th>\n",
              "      <th>ImageOrientationPatient5</th>\n",
              "      <th>MultiPixelSpacing</th>\n",
              "      <th>PixelSpacing1</th>\n",
              "      <th>img_min</th>\n",
              "      <th>img_max</th>\n",
              "      <th>img_mean</th>\n",
              "      <th>img_std</th>\n",
              "      <th>img_pct_window</th>\n",
              "      <th>MultiWindowCenter</th>\n",
              "      <th>WindowCenter1</th>\n",
              "      <th>MultiWindowWidth</th>\n",
              "      <th>WindowWidth1</th>\n",
              "      <th>any</th>\n",
              "      <th>epidural</th>\n",
              "      <th>intraparenchymal</th>\n",
              "      <th>intraventricular</th>\n",
              "      <th>subarachnoid</th>\n",
              "      <th>subdural</th>\n",
              "      <th>pct_cut</th>\n",
              "      <th>split</th>\n",
              "    </tr>\n",
              "  </thead>\n",
              "  <tbody>\n",
              "    <tr>\n",
              "      <th>139665</th>\n",
              "      <td>139665</td>\n",
              "      <td>139665</td>\n",
              "      <td>312002</td>\n",
              "      <td>ID_779858c27</td>\n",
              "      <td>CT</td>\n",
              "      <td>ID_2ecaabfe</td>\n",
              "      <td>ID_7107642e03</td>\n",
              "      <td>ID_04b1318e8e</td>\n",
              "      <td>NaN</td>\n",
              "      <td>-125.0</td>\n",
              "      <td>1.0</td>\n",
              "      <td>1</td>\n",
              "      <td>MONOCHROME2</td>\n",
              "      <td>512</td>\n",
              "      <td>512</td>\n",
              "      <td>0.488281</td>\n",
              "      <td>16</td>\n",
              "      <td>16</td>\n",
              "      <td>15</td>\n",
              "      <td>1</td>\n",
              "      <td>30.0</td>\n",
              "      <td>80.0</td>\n",
              "      <td>-1024.0</td>\n",
              "      <td>1.0</td>\n",
              "      <td>../input/rsna-intracranial-hemorrhage-detectio...</td>\n",
              "      <td>1</td>\n",
              "      <td>-116.640732</td>\n",
              "      <td>156.931549</td>\n",
              "      <td>1</td>\n",
              "      <td>0.0</td>\n",
              "      <td>0.0</td>\n",
              "      <td>0.0</td>\n",
              "      <td>0.965926</td>\n",
              "      <td>-0.258819</td>\n",
              "      <td>1</td>\n",
              "      <td>0.488281</td>\n",
              "      <td>-2000</td>\n",
              "      <td>2806</td>\n",
              "      <td>-68.513100</td>\n",
              "      <td>1163.294980</td>\n",
              "      <td>0.125107</td>\n",
              "      <td>NaN</td>\n",
              "      <td>NaN</td>\n",
              "      <td>NaN</td>\n",
              "      <td>NaN</td>\n",
              "      <td>0</td>\n",
              "      <td>0</td>\n",
              "      <td>0</td>\n",
              "      <td>0</td>\n",
              "      <td>0</td>\n",
              "      <td>0</td>\n",
              "      <td>(0.1, 0.2]</td>\n",
              "      <td>14</td>\n",
              "    </tr>\n",
              "    <tr>\n",
              "      <th>148871</th>\n",
              "      <td>148871</td>\n",
              "      <td>148871</td>\n",
              "      <td>427720</td>\n",
              "      <td>ID_e96c9e3db</td>\n",
              "      <td>CT</td>\n",
              "      <td>ID_7173bbfa</td>\n",
              "      <td>ID_60d1f23a4a</td>\n",
              "      <td>ID_f8da691279</td>\n",
              "      <td>NaN</td>\n",
              "      <td>-125.0</td>\n",
              "      <td>1.0</td>\n",
              "      <td>1</td>\n",
              "      <td>MONOCHROME2</td>\n",
              "      <td>512</td>\n",
              "      <td>512</td>\n",
              "      <td>0.488281</td>\n",
              "      <td>16</td>\n",
              "      <td>16</td>\n",
              "      <td>15</td>\n",
              "      <td>1</td>\n",
              "      <td>30.0</td>\n",
              "      <td>80.0</td>\n",
              "      <td>-1024.0</td>\n",
              "      <td>1.0</td>\n",
              "      <td>../input/rsna-intracranial-hemorrhage-detectio...</td>\n",
              "      <td>1</td>\n",
              "      <td>-121.289818</td>\n",
              "      <td>132.876526</td>\n",
              "      <td>1</td>\n",
              "      <td>0.0</td>\n",
              "      <td>0.0</td>\n",
              "      <td>0.0</td>\n",
              "      <td>0.945519</td>\n",
              "      <td>-0.325568</td>\n",
              "      <td>1</td>\n",
              "      <td>0.488281</td>\n",
              "      <td>-2000</td>\n",
              "      <td>2815</td>\n",
              "      <td>69.768433</td>\n",
              "      <td>1220.667199</td>\n",
              "      <td>0.245369</td>\n",
              "      <td>NaN</td>\n",
              "      <td>NaN</td>\n",
              "      <td>NaN</td>\n",
              "      <td>NaN</td>\n",
              "      <td>0</td>\n",
              "      <td>0</td>\n",
              "      <td>0</td>\n",
              "      <td>0</td>\n",
              "      <td>0</td>\n",
              "      <td>0</td>\n",
              "      <td>(0.2, 0.3]</td>\n",
              "      <td>15</td>\n",
              "    </tr>\n",
              "    <tr>\n",
              "      <th>40455</th>\n",
              "      <td>40455</td>\n",
              "      <td>40455</td>\n",
              "      <td>281098</td>\n",
              "      <td>ID_194db803f</td>\n",
              "      <td>CT</td>\n",
              "      <td>ID_77de44ad</td>\n",
              "      <td>ID_d621130e3d</td>\n",
              "      <td>ID_b555440e84</td>\n",
              "      <td>NaN</td>\n",
              "      <td>-123.0</td>\n",
              "      <td>1.0</td>\n",
              "      <td>1</td>\n",
              "      <td>MONOCHROME2</td>\n",
              "      <td>512</td>\n",
              "      <td>512</td>\n",
              "      <td>0.488281</td>\n",
              "      <td>16</td>\n",
              "      <td>12</td>\n",
              "      <td>11</td>\n",
              "      <td>0</td>\n",
              "      <td>40.0</td>\n",
              "      <td>80.0</td>\n",
              "      <td>-1024.0</td>\n",
              "      <td>1.0</td>\n",
              "      <td>../input/rsna-intracranial-hemorrhage-detectio...</td>\n",
              "      <td>1</td>\n",
              "      <td>-50.001010</td>\n",
              "      <td>180.051520</td>\n",
              "      <td>1</td>\n",
              "      <td>0.0</td>\n",
              "      <td>0.0</td>\n",
              "      <td>0.0</td>\n",
              "      <td>0.978148</td>\n",
              "      <td>-0.207912</td>\n",
              "      <td>1</td>\n",
              "      <td>0.488281</td>\n",
              "      <td>0</td>\n",
              "      <td>2610</td>\n",
              "      <td>491.905163</td>\n",
              "      <td>580.444349</td>\n",
              "      <td>0.304535</td>\n",
              "      <td>1.0</td>\n",
              "      <td>40.0</td>\n",
              "      <td>1.0</td>\n",
              "      <td>80.0</td>\n",
              "      <td>1</td>\n",
              "      <td>0</td>\n",
              "      <td>0</td>\n",
              "      <td>0</td>\n",
              "      <td>0</td>\n",
              "      <td>1</td>\n",
              "      <td>(0.3, 1.0]</td>\n",
              "      <td>5</td>\n",
              "    </tr>\n",
              "  </tbody>\n",
              "</table>\n",
              "</div>"
            ],
            "text/plain": [
              "        Unnamed: 0  Unnamed: 0.1   index  ... subdural     pct_cut split\n",
              "139665      139665        139665  312002  ...        0  (0.1, 0.2]    14\n",
              "148871      148871        148871  427720  ...        0  (0.2, 0.3]    15\n",
              "40455        40455         40455  281098  ...        1  (0.3, 1.0]     5\n",
              "\n",
              "[3 rows x 53 columns]"
            ]
          },
          "metadata": {
            "tags": []
          },
          "execution_count": 9
        }
      ]
    },
    {
      "cell_type": "markdown",
      "metadata": {
        "id": "NYdHHbORadqN",
        "colab_type": "text"
      },
      "source": [
        "Some of the columns are useless at this point, let's keep just those that we actually need. Also some of the columns have too long name, yes SOPInstanceUID I'm talking about you so we'll rename them."
      ]
    },
    {
      "cell_type": "code",
      "metadata": {
        "id": "BqW9VJAoamXZ",
        "colab_type": "code",
        "outputId": "0e646517-f471-4354-8067-d73aaf8008f3",
        "colab": {
          "base_uri": "https://localhost:8080/",
          "height": 204
        }
      },
      "source": [
        "train = train_df[['SOPInstanceUID',\n",
        "                  'PatientID',\n",
        "                  'any',\n",
        "                  'epidural',\n",
        "                  'intraparenchymal',\n",
        "                  'intraventricular',\n",
        "                  'subarachnoid',\n",
        "                  'subdural']].copy()\n",
        "train.rename(columns={'SOPInstanceUID': 'ID',\n",
        "                      'PatientID': 'Patient'},\n",
        "              inplace=True)\n",
        "train = train.sample(frac=1, random_state=1)\n",
        "train.head(5)"
      ],
      "execution_count": 40,
      "outputs": [
        {
          "output_type": "execute_result",
          "data": {
            "text/html": [
              "<div>\n",
              "<style scoped>\n",
              "    .dataframe tbody tr th:only-of-type {\n",
              "        vertical-align: middle;\n",
              "    }\n",
              "\n",
              "    .dataframe tbody tr th {\n",
              "        vertical-align: top;\n",
              "    }\n",
              "\n",
              "    .dataframe thead th {\n",
              "        text-align: right;\n",
              "    }\n",
              "</style>\n",
              "<table border=\"1\" class=\"dataframe\">\n",
              "  <thead>\n",
              "    <tr style=\"text-align: right;\">\n",
              "      <th></th>\n",
              "      <th>ID</th>\n",
              "      <th>Patient</th>\n",
              "      <th>any</th>\n",
              "      <th>epidural</th>\n",
              "      <th>intraparenchymal</th>\n",
              "      <th>intraventricular</th>\n",
              "      <th>subarachnoid</th>\n",
              "      <th>subdural</th>\n",
              "    </tr>\n",
              "  </thead>\n",
              "  <tbody>\n",
              "    <tr>\n",
              "      <th>30631</th>\n",
              "      <td>ID_f2e95fbce</td>\n",
              "      <td>ID_b8d82bc8</td>\n",
              "      <td>1</td>\n",
              "      <td>0</td>\n",
              "      <td>0</td>\n",
              "      <td>0</td>\n",
              "      <td>0</td>\n",
              "      <td>1</td>\n",
              "    </tr>\n",
              "    <tr>\n",
              "      <th>121378</th>\n",
              "      <td>ID_97716b96f</td>\n",
              "      <td>ID_55513c6e</td>\n",
              "      <td>0</td>\n",
              "      <td>0</td>\n",
              "      <td>0</td>\n",
              "      <td>0</td>\n",
              "      <td>0</td>\n",
              "      <td>0</td>\n",
              "    </tr>\n",
              "    <tr>\n",
              "      <th>160098</th>\n",
              "      <td>ID_f3e24d19d</td>\n",
              "      <td>ID_0430194e</td>\n",
              "      <td>0</td>\n",
              "      <td>0</td>\n",
              "      <td>0</td>\n",
              "      <td>0</td>\n",
              "      <td>0</td>\n",
              "      <td>0</td>\n",
              "    </tr>\n",
              "    <tr>\n",
              "      <th>65925</th>\n",
              "      <td>ID_21a834970</td>\n",
              "      <td>ID_e7522668</td>\n",
              "      <td>1</td>\n",
              "      <td>0</td>\n",
              "      <td>0</td>\n",
              "      <td>0</td>\n",
              "      <td>0</td>\n",
              "      <td>1</td>\n",
              "    </tr>\n",
              "    <tr>\n",
              "      <th>36787</th>\n",
              "      <td>ID_cfff53a3d</td>\n",
              "      <td>ID_96f7a151</td>\n",
              "      <td>1</td>\n",
              "      <td>0</td>\n",
              "      <td>0</td>\n",
              "      <td>0</td>\n",
              "      <td>0</td>\n",
              "      <td>1</td>\n",
              "    </tr>\n",
              "  </tbody>\n",
              "</table>\n",
              "</div>"
            ],
            "text/plain": [
              "                  ID      Patient  ...  subarachnoid  subdural\n",
              "30631   ID_f2e95fbce  ID_b8d82bc8  ...             0         1\n",
              "121378  ID_97716b96f  ID_55513c6e  ...             0         0\n",
              "160098  ID_f3e24d19d  ID_0430194e  ...             0         0\n",
              "65925   ID_21a834970  ID_e7522668  ...             0         1\n",
              "36787   ID_cfff53a3d  ID_96f7a151  ...             0         1\n",
              "\n",
              "[5 rows x 8 columns]"
            ]
          },
          "metadata": {
            "tags": []
          },
          "execution_count": 40
        }
      ]
    },
    {
      "cell_type": "code",
      "metadata": {
        "id": "sbkJiWhT_seU",
        "colab_type": "code",
        "colab": {}
      },
      "source": [
        "if prototyping:\n",
        "  train = train.sample(200)"
      ],
      "execution_count": 0,
      "outputs": []
    },
    {
      "cell_type": "markdown",
      "metadata": {
        "id": "MSi-wdBbxWkr",
        "colab_type": "text"
      },
      "source": [
        "### Load bins for uniform transform"
      ]
    },
    {
      "cell_type": "code",
      "metadata": {
        "id": "pcHBPvr7xWDU",
        "colab_type": "code",
        "colab": {}
      },
      "source": [
        "bins = torch.load(BASE_DIR+\"bins.pt\").numpy()"
      ],
      "execution_count": 0,
      "outputs": []
    },
    {
      "cell_type": "markdown",
      "metadata": {
        "id": "ctj4nBrbThpT",
        "colab_type": "text"
      },
      "source": [
        "## Data processing functions\n",
        "Before we can start building awesome neural networks, we need a few helper functions for constructing data (i.e. images) in form that's acceptable for the models to learn from.\n",
        "\n",
        "First, functions for reading DICOM and applying intercept and slope."
      ]
    },
    {
      "cell_type": "code",
      "metadata": {
        "id": "qzN-9sVgeYny",
        "colab_type": "code",
        "colab": {}
      },
      "source": [
        "#correcting dcm with wrong meta-data (explained in preprocessing notebook)\n",
        "def correct_dcm(dcm):\n",
        "    x = dcm.pixel_array + 1000\n",
        "    px_mode = 4096\n",
        "    x[x>=px_mode] = x[x>=px_mode] - px_mode\n",
        "    dcm.PixelData = x.tobytes()\n",
        "    dcm.RescaleIntercept = -1000\n",
        "\n",
        "#transform dicom to HU by applying intercept and slope\n",
        "def rescale_dcm(dcm):\n",
        "  if (dcm.BitsStored == 12) and (dcm.PixelRepresentation == 0) and (int(dcm.RescaleIntercept) > -100):\n",
        "    correct_dcm(dcm)\n",
        "  return dcm.pixel_array * dcm.RescaleSlope + dcm.RescaleIntercept"
      ],
      "execution_count": 0,
      "outputs": []
    },
    {
      "cell_type": "markdown",
      "metadata": {
        "id": "5s6f3kDaw_At",
        "colab_type": "text"
      },
      "source": [
        "### Use full scale but apply uniform distribution"
      ]
    },
    {
      "cell_type": "code",
      "metadata": {
        "id": "d0FPSzjDqVbZ",
        "colab_type": "code",
        "colab": {}
      },
      "source": [
        "def to_full(dcm, bins):\n",
        "  ys = np.linspace(0., 1., len(bins))\n",
        "  x = dcm.flatten()\n",
        "  x = np.interp(x, bins, ys)\n",
        "  x = x.reshape(dcm.shape).clip(0.,1.) * 2**16\n",
        "  x = x.astype(np.uint16)\n",
        "  x[x<np.median(x)]=0\n",
        "  x = np.stack((x,)*3, axis=-1)\n",
        "  return x"
      ],
      "execution_count": 0,
      "outputs": []
    },
    {
      "cell_type": "code",
      "metadata": {
        "id": "MyrYCyH6t3HE",
        "colab_type": "code",
        "outputId": "83e1b5e3-3995-44cc-a035-b11c77e373d2",
        "colab": {
          "base_uri": "https://localhost:8080/",
          "height": 286
        }
      },
      "source": [
        "#test it\n",
        "dcm = pydicom.dcmread(IMAGES_PATH+\"/\"+train.ID[0]+\".dcm\")\n",
        "dcm = rescale_dcm(dcm)\n",
        "x = to_full(dcm, bins)\n",
        "plt.imshow(x[:,:,0], cmap=plt.cm.bone)"
      ],
      "execution_count": 14,
      "outputs": [
        {
          "output_type": "execute_result",
          "data": {
            "text/plain": [
              "<matplotlib.image.AxesImage at 0x7f7538541780>"
            ]
          },
          "metadata": {
            "tags": []
          },
          "execution_count": 14
        },
        {
          "output_type": "display_data",
          "data": {
            "image/png": "[encoded data removed]",
            "text/plain": [
              "<Figure size 432x288 with 1 Axes>"
            ]
          },
          "metadata": {
            "tags": []
          }
        }
      ]
    },
    {
      "cell_type": "markdown",
      "metadata": {
        "id": "24YQ6mt2gsRT",
        "colab_type": "text"
      },
      "source": [
        "### Getting channels and save them as color channels"
      ]
    },
    {
      "cell_type": "code",
      "metadata": {
        "id": "3ZsYW4pbgxb8",
        "colab_type": "code",
        "colab": {}
      },
      "source": [
        "def window_image(img, window_center, window_width, U=1.0, eps=(1.0 / 255.0)):\n",
        "    ue = np.log((U / eps) - 1.0)\n",
        "    W = (2 / window_width) * ue\n",
        "    b = ((-2 * window_center) / window_width) * ue\n",
        "    z = W * img + b\n",
        "    img = U / (1 + np.power(np.e, -1.0 * z))\n",
        "    img = (img - np.min(img)) / (np.max(img) - np.min(img))\n",
        "    return img\n",
        "\n",
        "def to_channels(dcm):\n",
        "    brain_img = window_image(dcm, 40, 80)\n",
        "    subdural_img = window_image(dcm, 80, 200)\n",
        "    soft_img = window_image(dcm, 40, 380)\n",
        "    bsb_img = np.array([brain_img, subdural_img, soft_img]).transpose(1,2,0)\n",
        "    return bsb_img"
      ],
      "execution_count": 0,
      "outputs": []
    },
    {
      "cell_type": "code",
      "metadata": {
        "id": "jgUSlI3hUCzq",
        "colab_type": "code",
        "colab": {}
      },
      "source": [
        "#Finally function for loading a single image and resizing it to the input size.\n",
        "def read_img(ID, resize, preprocess):\n",
        "    path = IMAGES_PATH+'/'+ID+'.dcm'\n",
        "    dcm = pydicom.dcmread(path)\n",
        "    dcm = rescale_dcm(dcm)\n",
        "\n",
        "    if preprocess is \"CH\":\n",
        "      try: img = to_channels(dcm)\n",
        "      except: img = np.zeros(resize)\n",
        "    if preprocess is \"F\":\n",
        "      try: img = to_full(dcm, bins)\n",
        "      except: img = np.zeros(resize)\n",
        "\n",
        "    img = cv2.resize(img, resize[:2], interpolation=cv2.INTER_CUBIC) #resize\n",
        "    img = (img - np.min(img))/(np.max(img)-np.min(img)) #min-max normalize\n",
        "    return img"
      ],
      "execution_count": 0,
      "outputs": []
    },
    {
      "cell_type": "code",
      "metadata": {
        "id": "leZ6duPAfTQC",
        "colab_type": "code",
        "outputId": "6d5ca644-da60-453a-8370-81ea476f8d14",
        "colab": {
          "base_uri": "https://localhost:8080/",
          "height": 354
        }
      },
      "source": [
        "%time img_ch = read_img(train.ID[2], (250, 250, 3), preprocess=\"CH\")\n",
        "%time img_f = read_img(train.ID[2], (250, 250, 3), preprocess=\"F\")\n",
        "\n",
        "#some sanity checks\n",
        "plt.imshow(img_ch)\n",
        "print(img_ch.shape)"
      ],
      "execution_count": 17,
      "outputs": [
        {
          "output_type": "stream",
          "text": [
            "CPU times: user 62.2 ms, sys: 5.27 ms, total: 67.5 ms\n",
            "Wall time: 113 ms\n",
            "CPU times: user 17.8 ms, sys: 980 µs, total: 18.8 ms\n",
            "Wall time: 18.8 ms\n",
            "(250, 250, 3)\n"
          ],
          "name": "stdout"
        },
        {
          "output_type": "display_data",
          "data": {
            "image/png": "[encoded data removed]",
            "text/plain": [
              "<Figure size 432x288 with 1 Axes>"
            ]
          },
          "metadata": {
            "tags": []
          }
        }
      ]
    },
    {
      "cell_type": "code",
      "metadata": {
        "id": "VXSwicCIzbE6",
        "colab_type": "code",
        "outputId": "50d36da9-8548-4b06-ad1e-c3a8e46cf3e8",
        "colab": {
          "base_uri": "https://localhost:8080/",
          "height": 286
        }
      },
      "source": [
        "plt.imshow(img_f)"
      ],
      "execution_count": 18,
      "outputs": [
        {
          "output_type": "execute_result",
          "data": {
            "text/plain": [
              "<matplotlib.image.AxesImage at 0x7f7537fb1518>"
            ]
          },
          "metadata": {
            "tags": []
          },
          "execution_count": 18
        },
        {
          "output_type": "display_data",
          "data": {
            "image/png": "[encoded data removed]",
            "text/plain": [
              "<Figure size 432x288 with 1 Axes>"
            ]
          },
          "metadata": {
            "tags": []
          }
        }
      ]
    },
    {
      "cell_type": "markdown",
      "metadata": {
        "id": "JRXDvpH0hUB0",
        "colab_type": "text"
      },
      "source": [
        "### Data generator\n",
        "This function prepares each batch for feeding to neural network. First, it gets random IDs and associated labels. Then shuffles them, to reduce bias. Finally, the images, using the IDs are loaded using the _read function defined above.\n",
        "\n",
        "The function is generalized for both training and testing data.\n",
        "\n",
        "It is derived from keras.sequence so it should be enabled for multiprocessing."
      ]
    },
    {
      "cell_type": "markdown",
      "metadata": {
        "id": "lazYV0FW5VDi",
        "colab_type": "text"
      },
      "source": [
        "#### Full-preprocessing DataGenerator"
      ]
    },
    {
      "cell_type": "code",
      "metadata": {
        "id": "gN15CiG35bEH",
        "colab_type": "code",
        "colab": {}
      },
      "source": [
        "class DataGenerator_Full(keras.utils.Sequence):\n",
        "\n",
        "    def __init__(self, IDs, labels=None, batch_size=30, img_size=(299, 299, 3), num_classes=5, steps=100, *args, **kwargs):\n",
        "        self.IDs = IDs\n",
        "        self.labels = labels\n",
        "        self.batch_size = batch_size\n",
        "        self.img_size = img_size\n",
        "        self.num_classes = num_classes\n",
        "        self.on_epoch_end()\n",
        "        self.steps = steps\n",
        "        if self.steps is not None:\n",
        "            self.steps = np.round(self.steps/3) * 3\n",
        "\n",
        "#define number of steps per epoch\n",
        "    def __len__(self):\n",
        "      if self.steps is None:\n",
        "        return np.int(np.ceil(len(self.IDs) / np.float(self.batch_size)))\n",
        "      else:\n",
        "        return 3*np.int(self.steps/3) \n",
        "\n",
        "    def __getitem__(self, index):\n",
        "        IDs_batch = self.IDs[index*self.batch_size:(index+1)*self.batch_size]\n",
        "        if self.labels is not None:\n",
        "          X, y_any, y_subtype = self.__data_generation(IDs_batch)\n",
        "          return X, [y_any, y_subtype]\n",
        "        else:\n",
        "            X = self.__data_generation(IDs_batch)\n",
        "            return X\n",
        "        \n",
        "    def on_epoch_end(self):\n",
        "        if self.labels is not None: #during training we shuffle the images\n",
        "            self.indices = np.arange(len(self.IDs))\n",
        "            np.random.shuffle(self.indices)\n",
        "        else:\n",
        "            self.indices = np.arange(len(self.IDs))\n",
        "\n",
        "    def __data_generation(self, IDs_batch):\n",
        "        X = np.empty((self.batch_size, *self.img_size))\n",
        "        if self.labels is not None: # training\n",
        "          y_subtype = np.empty((self.batch_size, self.num_classes), dtype=np.float32)\n",
        "          y_any = np.empty((self.batch_size, 1), dtype=np.float32)\n",
        "          for i, ID in enumerate(IDs_batch):\n",
        "            X[i,] = read_img(ID, self.img_size, preprocess=\"F\")\n",
        "            y_any[i], y_subtype[i] = self.__get_target(ID)\n",
        "          return X, y_any, y_subtype\n",
        "        else: # testing\n",
        "            for i, ID in enumerate(IDs_batch):\n",
        "                X[i,] = read_img(ID, self.img_size, preprocess=\"F\")\n",
        "            return X\n",
        "\n",
        "    def __get_target(self, ID):\n",
        "        y_any = self.labels.loc[ID, \"any\"]\n",
        "        y_subtype = self.labels.drop(\"any\", axis=1).loc[ID].values\n",
        "        return y_any, y_subtype"
      ],
      "execution_count": 0,
      "outputs": []
    },
    {
      "cell_type": "markdown",
      "metadata": {
        "id": "8eVlpe8H5bqQ",
        "colab_type": "text"
      },
      "source": [
        "#### Channels-preprocessing DataGenerator"
      ]
    },
    {
      "cell_type": "code",
      "metadata": {
        "id": "nIW1BHwpcU3r",
        "colab_type": "code",
        "colab": {}
      },
      "source": [
        "class DataGenerator_Channels(keras.utils.Sequence):\n",
        "\n",
        "    def __init__(self, IDs, labels=None, batch_size=30, img_size=(299, 299, 3), num_classes=5, steps=100, *args, **kwargs):\n",
        "        self.IDs = IDs\n",
        "        self.labels = labels\n",
        "        self.batch_size = batch_size\n",
        "        self.img_size = img_size\n",
        "        self.num_classes = num_classes\n",
        "        self.on_epoch_end()\n",
        "        \n",
        "        self.steps = steps\n",
        "        if self.steps is not None:\n",
        "            self.steps = np.round(self.steps/3) * 3\n",
        "\n",
        "#define number of steps per epoch\n",
        "    def __len__(self):\n",
        "      if self.steps is None:\n",
        "        return np.int(np.ceil(len(self.IDs) / np.float(self.batch_size)))\n",
        "      else:\n",
        "        return 3*np.int(self.steps/3) \n",
        "\n",
        "    def __getitem__(self, index):\n",
        "        IDs_batch = self.IDs[index*self.batch_size:(index+1)*self.batch_size]\n",
        "        if self.labels is not None:\n",
        "          X, y_any, y_subtype = self.__data_generation(IDs_batch)\n",
        "          return X, [y_any, y_subtype]\n",
        "        else:\n",
        "            X = self.__data_generation(IDs_batch)\n",
        "            return X\n",
        "        \n",
        "    def on_epoch_end(self):\n",
        "        if self.labels is not None: #during training we shuffle the images\n",
        "            self.indices = np.arange(len(self.IDs))\n",
        "            np.random.shuffle(self.indices)\n",
        "        else:\n",
        "            self.indices = np.arange(len(self.IDs))\n",
        "\n",
        "    def __data_generation(self, IDs_batch):\n",
        "        X = np.empty((self.batch_size, *self.img_size))\n",
        "        if self.labels is not None: # training\n",
        "          y_subtype = np.empty((self.batch_size, self.num_classes), dtype=np.float32)\n",
        "          y_any = np.empty((self.batch_size, 1), dtype=np.float32)\n",
        "          for i, ID in enumerate(IDs_batch):\n",
        "            X[i,] = read_img(ID, self.img_size, preprocess=\"CH\")\n",
        "            y_any[i], y_subtype[i] = self.__get_target(ID)\n",
        "          return X, y_any, y_subtype\n",
        "        else: # testing\n",
        "            for i, ID in enumerate(IDs_batch):\n",
        "                X[i,] = read_img(ID, self.img_size, preprocess=\"CH\")\n",
        "            return X\n",
        "\n",
        "    def __get_target(self, ID):\n",
        "        y_any = self.labels.loc[ID, \"any\"]\n",
        "        y_subtype = self.labels.drop(\"any\", axis=1).loc[ID].values\n",
        "        return y_any, y_subtype"
      ],
      "execution_count": 0,
      "outputs": []
    },
    {
      "cell_type": "markdown",
      "metadata": {
        "id": "fi13nw0AyhWM",
        "colab_type": "text"
      },
      "source": [
        "## Loss functions and performance metrics\n",
        "\n",
        "### Multilabel Loss"
      ]
    },
    {
      "cell_type": "code",
      "metadata": {
        "id": "dOlxhFDIymLS",
        "colab_type": "code",
        "colab": {}
      },
      "source": [
        "def np_multilabel_loss(y_true, y_pred, class_weights=np.array([2., 1., 1., 1., 1., 1.])):\n",
        "    y_pred = np.where(y_pred > 1-(1e-07), 1-1e-07, y_pred)\n",
        "    y_pred = np.where(y_pred < 1e-07, 1e-07, y_pred)\n",
        "    single_class_cross_entropies = - np.mean(y_true * np.log(y_pred) + (1-y_true) * np.log(1-y_pred), axis=0)\n",
        "    \n",
        "    print(single_class_cross_entropies)\n",
        "    if class_weights is None:\n",
        "        loss = np.mean(single_class_cross_entropies)\n",
        "    else:\n",
        "        loss = np.sum(class_weights*single_class_cross_entropies)\n",
        "    return loss"
      ],
      "execution_count": 0,
      "outputs": []
    },
    {
      "cell_type": "markdown",
      "metadata": {
        "id": "AxCTICCyc7s7",
        "colab_type": "text"
      },
      "source": [
        "## Define models"
      ]
    },
    {
      "cell_type": "code",
      "metadata": {
        "id": "QY4Wlbxac90y",
        "colab_type": "code",
        "colab": {}
      },
      "source": [
        "class Transfer_network_F:\n",
        "    \n",
        "    def __init__(self, engine, loss_fun, metrics_list, input_dims, train_generator, val_generator,\n",
        "                 epochs, learning_rate=1e-3, num_classes=5, weights='imagenet'):\n",
        "        \n",
        "        self.engine = engine\n",
        "        self.loss_fun = loss_fun\n",
        "        self.metrics_list = metrics_list\n",
        "        self.input_dims = input_dims\n",
        "        self.train_generator = train_generator\n",
        "        self.val_generator = val_generator\n",
        "        self.epochs = epochs\n",
        "        self.learning_rate = learning_rate\n",
        "        self.num_classes = num_classes\n",
        "        self.weights = weights\n",
        "        \n",
        "        #when loss stops decresing, decrease learning rate\n",
        "        self.reduce_lr = ReduceLROnPlateau(monitor='val_loss',\n",
        "                                           factor=0.5,\n",
        "                                           patience=2,\n",
        "                                           min_lr=1e-8,\n",
        "                                           mode=\"min\")\n",
        "        \n",
        "\n",
        "        self.e_stopping = EarlyStopping(monitor=\"val_loss\",\n",
        "                                        min_delta=0.01,\n",
        "                                        patience=4,\n",
        "                                        mode=\"min\",\n",
        "                                        restore_best_weights=True)\n",
        "        \n",
        "    def build_model(self):\n",
        "        transfer = self.engine(include_top=False, weights=self.weights, input_shape=self.input_dims,\n",
        "                             backend = keras.backend, layers = keras.layers,\n",
        "                             models = keras.models, utils = keras.utils)\n",
        "        x = transfer.output\n",
        "        x = GlobalAveragePooling2D()(x)\n",
        "        x = Dropout(0.3)(x)\n",
        "        x = Dense(100, activation=\"relu\")(x)\n",
        "        x = Dropout(0.3)(x)\n",
        "        any_logits = Dense(1, kernel_initializer=he_normal(seed=11))(x)\n",
        "        any_pred = Activation(\"sigmoid\", name=\"any_predictions\")(any_logits)\n",
        "        x = concatenate([any_pred, x])\n",
        "        sub_pred = Dense(self.num_classes,\n",
        "                         name=\"subtype_pred\",\n",
        "                         kernel_initializer=he_normal(seed=12),\n",
        "                         activation=\"sigmoid\")(x) \n",
        "        self.model = Model(inputs=transfer.input, outputs=[any_pred, sub_pred])\n",
        "    \n",
        "    def compile_model(self):\n",
        "      self.model.compile(optimizer=Adam(self.learning_rate),\n",
        "                         loss=['binary_crossentropy', 'binary_crossentropy'],\n",
        "                         loss_weights = [0.7, 0.3],\n",
        "                         metrics=self.metrics_list)\n",
        "    \n",
        "    def learn(self):\n",
        "        return self.model.fit_generator(generator=self.train_generator,\n",
        "                    validation_data=self.val_generator,\n",
        "                    epochs=self.epochs,\n",
        "                    callbacks=[self.reduce_lr, self.e_stopping],\n",
        "                    use_multiprocessing=False,\n",
        "                    workers=CORES)\n",
        "    \n",
        "    def load_weights(self, path):\n",
        "        self.model.load_weights(path)\n",
        "    \n",
        "    def save_weights(self, path):\n",
        "      self.model.save_weights(path)\n",
        "    \n",
        "    def to_json(self, path):\n",
        "      json = self.model.to_json()\n",
        "      with open(path, \"w\") as json_file:\n",
        "        json_file.write(json)\n",
        "    \n",
        "    def summary(self):\n",
        "      self.model.summary()\n",
        "    \n",
        "    def predict(self, data_generator):\n",
        "        predictions = self.model.predict_generator(data_generator, workers=CORES)\n",
        "        return predictions\n",
        "\n",
        "class Transfer_network_CH:\n",
        "    \n",
        "    def __init__(self, engine, loss_fun, metrics_list, input_dims, train_generator, val_generator,\n",
        "                 epochs, learning_rate=1e-3, num_classes=5, weights='imagenet'):\n",
        "        \n",
        "        self.engine = engine\n",
        "        self.loss_fun = loss_fun\n",
        "        self.metrics_list = metrics_list\n",
        "        self.input_dims = input_dims\n",
        "        self.train_generator = train_generator\n",
        "        self.val_generator = val_generator\n",
        "        self.epochs = epochs\n",
        "        self.learning_rate = learning_rate\n",
        "        self.num_classes = num_classes\n",
        "        self.weights = weights\n",
        "\n",
        "        #when loss stops decreasing, decrease learning rate\n",
        "        self.reduce_lr = ReduceLROnPlateau(monitor='val_loss',\n",
        "                                           factor=0.5,\n",
        "                                           patience=2,\n",
        "                                           min_lr=1e-8,\n",
        "                                           mode=\"min\")\n",
        "        \n",
        "\n",
        "        self.e_stopping = EarlyStopping(monitor=\"val_loss\",\n",
        "                                        min_delta=0.01,\n",
        "                                        patience=5,\n",
        "                                        mode=\"min\",\n",
        "                                        restore_best_weights=True)\n",
        "        \n",
        "    def build_model(self):\n",
        "        transfer = self.engine(include_top=False, weights=self.weights, input_shape=self.input_dims,\n",
        "                             backend = keras.backend, layers = keras.layers,\n",
        "                             models = keras.models, utils = keras.utils)\n",
        "        x = transfer.output\n",
        "        x = GlobalAveragePooling2D()(x)\n",
        "        x = Dropout(0.3)(x)\n",
        "        x = Dense(100, activation=\"relu\")(x)\n",
        "        x = Dropout(0.3)(x)\n",
        "        any_logits = Dense(1, kernel_initializer=he_normal(seed=11))(x)\n",
        "        any_pred = Activation(\"sigmoid\", name=\"any_predictions\")(any_logits)\n",
        "        x = concatenate([any_pred, x])\n",
        "        sub_pred = Dense(self.num_classes,\n",
        "                         name=\"subtype_pred\",\n",
        "                         kernel_initializer=he_normal(seed=12),\n",
        "                         activation=\"sigmoid\")(x) \n",
        "        self.model = Model(inputs=transfer.input, outputs=[any_pred, sub_pred])\n",
        "    \n",
        "    def compile_model(self):\n",
        "      self.model.compile(optimizer=Adam(self.learning_rate),\n",
        "                         loss=['binary_crossentropy', 'binary_crossentropy'],\n",
        "                         loss_weights = [0.7, 0.3],\n",
        "                         metrics=self.metrics_list)\n",
        "    \n",
        "    def learn(self):\n",
        "        return self.model.fit_generator(generator=self.train_generator,\n",
        "                    validation_data=self.val_generator,\n",
        "                    epochs=self.epochs,\n",
        "                    callbacks=[self.reduce_lr, self.e_stopping],\n",
        "                    use_multiprocessing=False,\n",
        "                    workers=CORES)\n",
        "    \n",
        "    def load_weights(self, path):\n",
        "        self.model.load_weights(path)\n",
        "    \n",
        "    def save_weights(self, path):\n",
        "      self.model.save_weights(path)\n",
        "    \n",
        "    def to_json(self, path):\n",
        "      json = self.model.to_json()\n",
        "      with open(path, \"w\") as json_file:\n",
        "        json_file.write(json)\n",
        "    \n",
        "    def summary(self):\n",
        "      self.model.summary()\n",
        "    \n",
        "    def predict(self, data_generator):\n",
        "        predictions = self.model.predict_generator(data_generator, workers=CORES)\n",
        "        return predictions"
      ],
      "execution_count": 0,
      "outputs": []
    },
    {
      "cell_type": "markdown",
      "metadata": {
        "id": "FKT-ULVD8BXS",
        "colab_type": "text"
      },
      "source": [
        "## Train-test split"
      ]
    },
    {
      "cell_type": "code",
      "metadata": {
        "id": "pJKR7Aam8Di7",
        "colab_type": "code",
        "colab": {
          "base_uri": "https://localhost:8080/",
          "height": 51
        },
        "outputId": "7bea79b6-6aa2-43c7-a274-69ede8d5f89a"
      },
      "source": [
        "group_kfold = GroupKFold(n_splits=10)\n",
        "\n",
        "for tr, ts in group_kfold.split(train, groups=train.Patient):\n",
        "  training = train.iloc[tr]\n",
        "  testing = train.iloc[ts]\n",
        "\n",
        "testing = testing.set_index('ID', drop=False)\n",
        "print(training.shape)\n",
        "print(testing.shape)\n",
        "testing.to_csv(BASE_DIR + 'testing.csv')"
      ],
      "execution_count": 60,
      "outputs": [
        {
          "output_type": "stream",
          "text": [
            "(174674, 8)\n",
            "(19408, 8)\n"
          ],
          "name": "stdout"
        }
      ]
    },
    {
      "cell_type": "markdown",
      "metadata": {
        "id": "zIG51IHbdJOq",
        "colab_type": "text"
      },
      "source": [
        "## Train-val split"
      ]
    },
    {
      "cell_type": "code",
      "metadata": {
        "id": "t2fqvHxFdLlm",
        "colab_type": "code",
        "colab": {
          "base_uri": "https://localhost:8080/",
          "height": 51
        },
        "outputId": "f4caa7f4-bd6a-4ca6-e253-98a8e7f91ffb"
      },
      "source": [
        "tr_val_folds = GroupKFold(n_splits=15)\n",
        "\n",
        "for tr, ts in tr_val_folds.split(training, groups=training.Patient):\n",
        "  train_data = training.iloc[tr]\n",
        "  val_data = training.iloc[ts]\n",
        "\n",
        "train_data = train_data.set_index('ID', drop=False)\n",
        "val_data = val_data.set_index('ID', drop=False)\n",
        "print(train_data.shape)\n",
        "print(val_data.shape)"
      ],
      "execution_count": 61,
      "outputs": [
        {
          "output_type": "stream",
          "text": [
            "(163030, 8)\n",
            "(11644, 8)\n"
          ],
          "name": "stdout"
        }
      ]
    },
    {
      "cell_type": "markdown",
      "metadata": {
        "id": "X7ZU9CYw9h1g",
        "colab_type": "text"
      },
      "source": [
        "Train model"
      ]
    },
    {
      "cell_type": "code",
      "metadata": {
        "id": "swizCnvL-59_",
        "colab_type": "code",
        "colab": {}
      },
      "source": [
        "train_dataloader_CH = DataGenerator_Channels(IDs=train_data.ID,\n",
        "                                 labels=train_data.loc[:,'any':'subdural'],\n",
        "                                 batch_size=20,\n",
        "                                 img_size=(299,299,3),\n",
        "                                 num_classes=5)\n",
        "val_dataloader_CH = DataGenerator_Channels(IDs=val_data.ID,\n",
        "                               labels=val_data.loc[:,'any':'subdural'],\n",
        "                               batch_size=20,\n",
        "                               img_size=(299,299,3),\n",
        "                               num_classes=5)\n",
        "\n",
        "train_dataloader_F = DataGenerator_Full(IDs=train_data.ID,\n",
        "                                 labels=train_data.loc[:,'any':'subdural'],\n",
        "                                 batch_size=20,\n",
        "                                 img_size=(299,299,3),\n",
        "                                 num_classes=5)\n",
        "val_dataloader_F = DataGenerator_Full(IDs=val_data.ID,\n",
        "                               labels=val_data.loc[:,'any':'subdural'],\n",
        "                               batch_size=20,\n",
        "                               img_size=(299,299,3),\n",
        "                               num_classes=5)"
      ],
      "execution_count": 0,
      "outputs": []
    },
    {
      "cell_type": "code",
      "metadata": {
        "id": "K3gZYtM-RClm",
        "colab_type": "code",
        "colab": {
          "base_uri": "https://localhost:8080/",
          "height": 51
        },
        "outputId": "f6ccc994-8e11-44d1-e694-12ce4e4b4c6e"
      },
      "source": [
        "#sanity check of datagenerator\n",
        "%time X, [y1, y2] = train_dataloader_F.__getitem__(0)"
      ],
      "execution_count": 87,
      "outputs": [
        {
          "output_type": "stream",
          "text": [
            "CPU times: user 367 ms, sys: 45 ms, total: 412 ms\n",
            "Wall time: 578 ms\n"
          ],
          "name": "stdout"
        }
      ]
    },
    {
      "cell_type": "code",
      "metadata": {
        "id": "S6ek2caERIvN",
        "colab_type": "code",
        "colab": {
          "base_uri": "https://localhost:8080/",
          "height": 68
        },
        "outputId": "c8d01751-0ad2-4bed-aeb9-1ddefeca8d49"
      },
      "source": [
        "print(X.shape)\n",
        "print(y1.shape)\n",
        "print(y2.shape)"
      ],
      "execution_count": 47,
      "outputs": [
        {
          "output_type": "stream",
          "text": [
            "(15, 299, 299, 3)\n",
            "(15, 1)\n",
            "(15, 5)\n"
          ],
          "name": "stdout"
        }
      ]
    },
    {
      "cell_type": "code",
      "metadata": {
        "id": "iMMOBbe2jWS9",
        "colab_type": "code",
        "colab": {
          "base_uri": "https://localhost:8080/",
          "height": 357
        },
        "outputId": "fc596c80-6c08-4a35-9298-05dcbb0569c7"
      },
      "source": [
        "y1"
      ],
      "execution_count": 88,
      "outputs": [
        {
          "output_type": "execute_result",
          "data": {
            "text/plain": [
              "array([[1.],\n",
              "       [0.],\n",
              "       [0.],\n",
              "       [1.],\n",
              "       [1.],\n",
              "       [1.],\n",
              "       [0.],\n",
              "       [1.],\n",
              "       [0.],\n",
              "       [0.],\n",
              "       [1.],\n",
              "       [0.],\n",
              "       [0.],\n",
              "       [0.],\n",
              "       [0.],\n",
              "       [1.],\n",
              "       [1.],\n",
              "       [1.],\n",
              "       [0.],\n",
              "       [1.]], dtype=float32)"
            ]
          },
          "metadata": {
            "tags": []
          },
          "execution_count": 88
        }
      ]
    },
    {
      "cell_type": "code",
      "metadata": {
        "id": "x32V90k4drl8",
        "colab_type": "code",
        "colab": {}
      },
      "source": [
        "EPOCHS = 30"
      ],
      "execution_count": 0,
      "outputs": []
    },
    {
      "cell_type": "markdown",
      "metadata": {
        "id": "4NFVs01RfVfw",
        "colab_type": "text"
      },
      "source": [
        "#### Channel model"
      ]
    },
    {
      "cell_type": "code",
      "metadata": {
        "id": "6ZWjrFD59jH5",
        "colab_type": "code",
        "colab": {
          "base_uri": "https://localhost:8080/",
          "height": 445
        },
        "outputId": "87a0e9a6-6d37-494c-c6a5-9f467dfc9e52"
      },
      "source": [
        "model_CH = Transfer_network_CH(engine=InceptionV3, loss_fun=None,\n",
        "                         metrics_list={\"any_predictions\":\"binary_accuracy\",\n",
        "                                       \"subtype_pred\": \"categorical_accuracy\"},\n",
        "                         input_dims=(299,299,3),\n",
        "                         train_generator=train_dataloader_CH,\n",
        "                         val_generator=val_dataloader_CH,\n",
        "                         epochs=EPOCHS,\n",
        "                         learning_rate=1e-3) \n",
        "model_CH.build_model()\n",
        "model_CH.compile_model()\n",
        "history_CH = model_CH.learn()"
      ],
      "execution_count": 78,
      "outputs": [
        {
          "output_type": "stream",
          "text": [
            "Epoch 1/30\n",
            "50/99 [==============>...............] - ETA: 1:33 - loss: 0.5560 - any_predictions_loss: 0.6150 - subtype_pred_loss: 0.4183 - any_predictions_binary_accuracy: 0.6820 - subtype_pred_categorical_accuracy: 0.1350"
          ],
          "name": "stdout"
        },
        {
          "output_type": "stream",
          "text": [
            "/usr/local/lib/python3.6/dist-packages/ipykernel_launcher.py:6: RuntimeWarning: overflow encountered in power\n",
            "  \n"
          ],
          "name": "stderr"
        },
        {
          "output_type": "stream",
          "text": [
            "99/99 [==============================] - 254s 3s/step - loss: 0.5213 - any_predictions_loss: 0.5782 - subtype_pred_loss: 0.3887 - any_predictions_binary_accuracy: 0.7081 - subtype_pred_categorical_accuracy: 0.1495 - val_loss: 0.6004 - val_any_predictions_loss: 0.6716 - val_subtype_pred_loss: 0.4343 - val_any_predictions_binary_accuracy: 0.6778 - val_subtype_pred_categorical_accuracy: 0.1369\n",
            "Epoch 2/30\n",
            "99/99 [==============================] - 200s 2s/step - loss: 0.4322 - any_predictions_loss: 0.4726 - subtype_pred_loss: 0.3377 - any_predictions_binary_accuracy: 0.7939 - subtype_pred_categorical_accuracy: 0.1566 - val_loss: 0.5695 - val_any_predictions_loss: 0.6462 - val_subtype_pred_loss: 0.3905 - val_any_predictions_binary_accuracy: 0.7389 - val_subtype_pred_categorical_accuracy: 0.1359\n",
            "Epoch 3/30\n",
            "99/99 [==============================] - 208s 2s/step - loss: 0.4043 - any_predictions_loss: 0.4369 - subtype_pred_loss: 0.3283 - any_predictions_binary_accuracy: 0.8121 - subtype_pred_categorical_accuracy: 0.1646 - val_loss: 1.1863 - val_any_predictions_loss: 1.4732 - val_subtype_pred_loss: 0.5169 - val_any_predictions_binary_accuracy: 0.6611 - val_subtype_pred_categorical_accuracy: 0.0980\n",
            "Epoch 4/30\n",
            "99/99 [==============================] - 205s 2s/step - loss: 0.3734 - any_predictions_loss: 0.3961 - subtype_pred_loss: 0.3206 - any_predictions_binary_accuracy: 0.8283 - subtype_pred_categorical_accuracy: 0.1591 - val_loss: 0.8801 - val_any_predictions_loss: 1.0841 - val_subtype_pred_loss: 0.4040 - val_any_predictions_binary_accuracy: 0.5894 - val_subtype_pred_categorical_accuracy: 0.1348\n",
            "Epoch 5/30\n",
            "99/99 [==============================] - 198s 2s/step - loss: 0.3360 - any_predictions_loss: 0.3451 - subtype_pred_loss: 0.3147 - any_predictions_binary_accuracy: 0.8576 - subtype_pred_categorical_accuracy: 0.1581 - val_loss: 0.7080 - val_any_predictions_loss: 0.8617 - val_subtype_pred_loss: 0.3495 - val_any_predictions_binary_accuracy: 0.7212 - val_subtype_pred_categorical_accuracy: 0.1505\n",
            "Epoch 6/30\n",
            "99/99 [==============================] - 208s 2s/step - loss: 0.2878 - any_predictions_loss: 0.2820 - subtype_pred_loss: 0.3014 - any_predictions_binary_accuracy: 0.8879 - subtype_pred_categorical_accuracy: 0.1561 - val_loss: 0.3901 - val_any_predictions_loss: 0.4241 - val_subtype_pred_loss: 0.3110 - val_any_predictions_binary_accuracy: 0.8136 - val_subtype_pred_categorical_accuracy: 0.1788\n",
            "Epoch 7/30\n",
            "99/99 [==============================] - 206s 2s/step - loss: 0.2316 - any_predictions_loss: 0.2052 - subtype_pred_loss: 0.2933 - any_predictions_binary_accuracy: 0.9278 - subtype_pred_categorical_accuracy: 0.1646 - val_loss: 0.5189 - val_any_predictions_loss: 0.5846 - val_subtype_pred_loss: 0.3655 - val_any_predictions_binary_accuracy: 0.8116 - val_subtype_pred_categorical_accuracy: 0.1591\n",
            "Epoch 8/30\n",
            "99/99 [==============================] - 206s 2s/step - loss: 0.2113 - any_predictions_loss: 0.1804 - subtype_pred_loss: 0.2832 - any_predictions_binary_accuracy: 0.9389 - subtype_pred_categorical_accuracy: 0.1667 - val_loss: 0.5602 - val_any_predictions_loss: 0.6502 - val_subtype_pred_loss: 0.3503 - val_any_predictions_binary_accuracy: 0.7480 - val_subtype_pred_categorical_accuracy: 0.1540\n",
            "Epoch 9/30\n",
            "99/99 [==============================] - 204s 2s/step - loss: 0.1510 - any_predictions_loss: 0.0980 - subtype_pred_loss: 0.2746 - any_predictions_binary_accuracy: 0.9687 - subtype_pred_categorical_accuracy: 0.1682 - val_loss: 0.5733 - val_any_predictions_loss: 0.6629 - val_subtype_pred_loss: 0.3641 - val_any_predictions_binary_accuracy: 0.8101 - val_subtype_pred_categorical_accuracy: 0.1818\n",
            "Epoch 10/30\n",
            "99/99 [==============================] - 205s 2s/step - loss: 0.1180 - any_predictions_loss: 0.0547 - subtype_pred_loss: 0.2656 - any_predictions_binary_accuracy: 0.9828 - subtype_pred_categorical_accuracy: 0.1737 - val_loss: 0.5577 - val_any_predictions_loss: 0.6473 - val_subtype_pred_loss: 0.3485 - val_any_predictions_binary_accuracy: 0.8152 - val_subtype_pred_categorical_accuracy: 0.1995\n",
            "Epoch 11/30\n",
            "99/99 [==============================] - 204s 2s/step - loss: 0.0950 - any_predictions_loss: 0.0252 - subtype_pred_loss: 0.2578 - any_predictions_binary_accuracy: 0.9949 - subtype_pred_categorical_accuracy: 0.1793 - val_loss: 0.7524 - val_any_predictions_loss: 0.8880 - val_subtype_pred_loss: 0.4361 - val_any_predictions_binary_accuracy: 0.8025 - val_subtype_pred_categorical_accuracy: 0.1914\n"
          ],
          "name": "stdout"
        }
      ]
    },
    {
      "cell_type": "markdown",
      "metadata": {
        "id": "eNyJEh7zfX3x",
        "colab_type": "text"
      },
      "source": [
        "Save weights, history and predictions on test set"
      ]
    },
    {
      "cell_type": "code",
      "metadata": {
        "id": "y2LLUE1JfUXV",
        "colab_type": "code",
        "colab": {}
      },
      "source": [
        "channels_history = pd.DataFrame.from_dict(history_CH.history)\n",
        "channels_history['epoch']=history_CH.epoch\n",
        "channels_history = channels_history.set_index('epoch')\n",
        "channels_history.head(5)\n",
        "\n",
        "#save history to csv\n",
        "channels_history.to_csv(RESULT_PATH + 'history_transfer_channels.csv')\n",
        "\n",
        "#save weights\n",
        "model_CH.save_weights(MODEL_PATH + \"transfer_channels.h5\")"
      ],
      "execution_count": 0,
      "outputs": []
    },
    {
      "cell_type": "code",
      "metadata": {
        "id": "E3ht8g6DvJmq",
        "colab_type": "code",
        "colab": {}
      },
      "source": [
        "with open(MODEL_PATH + 'transfer_channels_summary.txt', 'w') as f:\n",
        "    with redirect_stdout(f):\n",
        "        model_CH.summary()"
      ],
      "execution_count": 0,
      "outputs": []
    },
    {
      "cell_type": "code",
      "metadata": {
        "id": "oRjMuwmwf6FW",
        "colab_type": "code",
        "colab": {
          "base_uri": "https://localhost:8080/",
          "height": 641
        },
        "outputId": "99a1dba4-fbf5-4748-8da8-10bff88d9aa9"
      },
      "source": [
        "test_dataloader_CH = DataGenerator_Channels(IDs=testing.ID,\n",
        "                               batch_size=20,\n",
        "                               img_size=(299,299,3),\n",
        "                               num_classes=5,\n",
        "                               steps=None)\n",
        "CH_test_pred_any, CH_test_pred_sub = model_CH.predict(test_dataloader_CH)\n",
        "any_pred = pd.DataFrame(CH_test_pred_any)\n",
        "sub_pred = pd.DataFrame(CH_test_pred_sub)\n",
        "ID = pd.DataFrame(testing.ID.values)\n",
        "channels_pred = pd.concat([ID,any_pred, sub_pred], axis=1)\n",
        "channels_pred.columns = [\"ID\", \"any\", 'epidural', 'intraparenchymal', 'intraventricular', 'subarachnoid', 'subdural']\n",
        "channels_pred.to_csv(RESULT_PATH + \"transfer_channels_preds.csv\")\n",
        "\n",
        "fig, ax = plt.subplots(2,1, figsize=(20,10))\n",
        "sns.distplot(CH_test_pred_any[:,0], ax=ax[0], color=\"Purple\")\n",
        "sns.distplot(CH_test_pred_sub[:,0], ax=ax[1])\n",
        "sns.distplot(CH_test_pred_sub[:,1], ax=ax[1])\n",
        "sns.distplot(CH_test_pred_sub[:,2], ax=ax[1])\n",
        "sns.distplot(CH_test_pred_sub[:,3], ax=ax[1])\n",
        "sns.distplot(CH_test_pred_sub[:,4], ax=ax[1])\n",
        "ax[0].set_title(\"Predicted probability of hemorrhage occurence in test data\")\n",
        "ax[1].set_title(\"Predicted probability of hemorrhage subtypes in test data\")\n",
        "fig.savefig(RESULT_PATH + 'Transfer_channels_dist.png')"
      ],
      "execution_count": 81,
      "outputs": [
        {
          "output_type": "stream",
          "text": [
            "/usr/local/lib/python3.6/dist-packages/ipykernel_launcher.py:6: RuntimeWarning: overflow encountered in power\n",
            "  \n"
          ],
          "name": "stderr"
        },
        {
          "output_type": "display_data",
          "data": {
            "image/png": "[encoded data removed]",
            "text/plain": [
              "<Figure size 1440x720 with 2 Axes>"
            ]
          },
          "metadata": {
            "tags": []
          }
        }
      ]
    },
    {
      "cell_type": "markdown",
      "metadata": {
        "id": "VCEsn8uPfdyc",
        "colab_type": "text"
      },
      "source": [
        "#### Full model"
      ]
    },
    {
      "cell_type": "code",
      "metadata": {
        "id": "X780p5lADOMy",
        "colab_type": "code",
        "colab": {
          "base_uri": "https://localhost:8080/",
          "height": 479
        },
        "outputId": "a4ee41f6-c45e-4ef4-e30f-67f3038191a4"
      },
      "source": [
        "model_F = Transfer_network_F(engine=InceptionV3, loss_fun=None,\n",
        "                         metrics_list={\"any_predictions\":\"binary_accuracy\",\n",
        "                                       \"subtype_pred\": \"categorical_accuracy\"},\n",
        "                         input_dims=(299,299,3),\n",
        "                         train_generator=train_dataloader_F,\n",
        "                         val_generator=val_dataloader_F,\n",
        "                         epochs=EPOCHS,\n",
        "                         learning_rate=1e-3) \n",
        "model_F.build_model()\n",
        "model_F.compile_model()\n",
        "history_F = model_F.learn()"
      ],
      "execution_count": 89,
      "outputs": [
        {
          "output_type": "stream",
          "text": [
            "Epoch 1/30\n",
            "99/99 [==============================] - 121s 1s/step - loss: 0.5512 - any_predictions_loss: 0.6184 - subtype_pred_loss: 0.3946 - any_predictions_binary_accuracy: 0.6561 - subtype_pred_categorical_accuracy: 0.1253 - val_loss: 0.9185 - val_any_predictions_loss: 1.0635 - val_subtype_pred_loss: 0.5801 - val_any_predictions_binary_accuracy: 0.5167 - val_subtype_pred_categorical_accuracy: 0.1646\n",
            "Epoch 2/30\n",
            "99/99 [==============================] - 67s 676ms/step - loss: 0.5018 - any_predictions_loss: 0.5591 - subtype_pred_loss: 0.3681 - any_predictions_binary_accuracy: 0.7293 - subtype_pred_categorical_accuracy: 0.1212 - val_loss: 2.0312 - val_any_predictions_loss: 2.6009 - val_subtype_pred_loss: 0.7019 - val_any_predictions_binary_accuracy: 0.6399 - val_subtype_pred_categorical_accuracy: 0.0828\n",
            "Epoch 3/30\n",
            "99/99 [==============================] - 67s 674ms/step - loss: 0.4653 - any_predictions_loss: 0.5125 - subtype_pred_loss: 0.3551 - any_predictions_binary_accuracy: 0.7646 - subtype_pred_categorical_accuracy: 0.1364 - val_loss: 1.0135 - val_any_predictions_loss: 1.1885 - val_subtype_pred_loss: 0.6050 - val_any_predictions_binary_accuracy: 0.5884 - val_subtype_pred_categorical_accuracy: 0.1323\n",
            "Epoch 4/30\n",
            "99/99 [==============================] - 65s 653ms/step - loss: 0.4065 - any_predictions_loss: 0.4389 - subtype_pred_loss: 0.3310 - any_predictions_binary_accuracy: 0.7985 - subtype_pred_categorical_accuracy: 0.1434 - val_loss: 0.8752 - val_any_predictions_loss: 1.0318 - val_subtype_pred_loss: 0.5098 - val_any_predictions_binary_accuracy: 0.5929 - val_subtype_pred_categorical_accuracy: 0.1465\n",
            "Epoch 5/30\n",
            "99/99 [==============================] - 67s 674ms/step - loss: 0.3596 - any_predictions_loss: 0.3760 - subtype_pred_loss: 0.3215 - any_predictions_binary_accuracy: 0.8409 - subtype_pred_categorical_accuracy: 0.1394 - val_loss: 0.7351 - val_any_predictions_loss: 0.8399 - val_subtype_pred_loss: 0.4906 - val_any_predictions_binary_accuracy: 0.5278 - val_subtype_pred_categorical_accuracy: 0.1338\n",
            "Epoch 6/30\n",
            "99/99 [==============================] - 66s 665ms/step - loss: 0.3325 - any_predictions_loss: 0.3396 - subtype_pred_loss: 0.3159 - any_predictions_binary_accuracy: 0.8601 - subtype_pred_categorical_accuracy: 0.1520 - val_loss: 0.6872 - val_any_predictions_loss: 0.8223 - val_subtype_pred_loss: 0.3720 - val_any_predictions_binary_accuracy: 0.7566 - val_subtype_pred_categorical_accuracy: 0.1056\n",
            "Epoch 7/30\n",
            "99/99 [==============================] - 66s 669ms/step - loss: 0.2870 - any_predictions_loss: 0.2786 - subtype_pred_loss: 0.3066 - any_predictions_binary_accuracy: 0.8939 - subtype_pred_categorical_accuracy: 0.1444 - val_loss: 0.6873 - val_any_predictions_loss: 0.8369 - val_subtype_pred_loss: 0.3383 - val_any_predictions_binary_accuracy: 0.7076 - val_subtype_pred_categorical_accuracy: 0.1672\n",
            "Epoch 8/30\n",
            "99/99 [==============================] - 66s 666ms/step - loss: 0.2577 - any_predictions_loss: 0.2395 - subtype_pred_loss: 0.3002 - any_predictions_binary_accuracy: 0.9051 - subtype_pred_categorical_accuracy: 0.1571 - val_loss: 0.5706 - val_any_predictions_loss: 0.6603 - val_subtype_pred_loss: 0.3614 - val_any_predictions_binary_accuracy: 0.7545 - val_subtype_pred_categorical_accuracy: 0.1409\n",
            "Epoch 9/30\n",
            "99/99 [==============================] - 65s 661ms/step - loss: 0.2146 - any_predictions_loss: 0.1804 - subtype_pred_loss: 0.2942 - any_predictions_binary_accuracy: 0.9333 - subtype_pred_categorical_accuracy: 0.1429 - val_loss: 0.5575 - val_any_predictions_loss: 0.6451 - val_subtype_pred_loss: 0.3531 - val_any_predictions_binary_accuracy: 0.7854 - val_subtype_pred_categorical_accuracy: 0.1480\n",
            "Epoch 10/30\n",
            "99/99 [==============================] - 66s 668ms/step - loss: 0.1824 - any_predictions_loss: 0.1361 - subtype_pred_loss: 0.2906 - any_predictions_binary_accuracy: 0.9520 - subtype_pred_categorical_accuracy: 0.1434 - val_loss: 0.6326 - val_any_predictions_loss: 0.7514 - val_subtype_pred_loss: 0.3555 - val_any_predictions_binary_accuracy: 0.7667 - val_subtype_pred_categorical_accuracy: 0.1535\n",
            "Epoch 11/30\n",
            "99/99 [==============================] - 66s 671ms/step - loss: 0.1807 - any_predictions_loss: 0.1364 - subtype_pred_loss: 0.2842 - any_predictions_binary_accuracy: 0.9500 - subtype_pred_categorical_accuracy: 0.1510 - val_loss: 1.2083 - val_any_predictions_loss: 1.5074 - val_subtype_pred_loss: 0.5103 - val_any_predictions_binary_accuracy: 0.7076 - val_subtype_pred_categorical_accuracy: 0.2056\n",
            "Epoch 12/30\n",
            "99/99 [==============================] - 66s 671ms/step - loss: 0.1330 - any_predictions_loss: 0.0728 - subtype_pred_loss: 0.2734 - any_predictions_binary_accuracy: 0.9753 - subtype_pred_categorical_accuracy: 0.1505 - val_loss: 0.6936 - val_any_predictions_loss: 0.8416 - val_subtype_pred_loss: 0.3482 - val_any_predictions_binary_accuracy: 0.7687 - val_subtype_pred_categorical_accuracy: 0.1631\n",
            "Epoch 13/30\n",
            "99/99 [==============================] - 66s 670ms/step - loss: 0.0954 - any_predictions_loss: 0.0237 - subtype_pred_loss: 0.2625 - any_predictions_binary_accuracy: 0.9944 - subtype_pred_categorical_accuracy: 0.1621 - val_loss: 0.7026 - val_any_predictions_loss: 0.8452 - val_subtype_pred_loss: 0.3699 - val_any_predictions_binary_accuracy: 0.7828 - val_subtype_pred_categorical_accuracy: 0.1758\n"
          ],
          "name": "stdout"
        }
      ]
    },
    {
      "cell_type": "markdown",
      "metadata": {
        "id": "cbTc4J_LfgOO",
        "colab_type": "text"
      },
      "source": [
        "Save weights, history and predictions on test set"
      ]
    },
    {
      "cell_type": "code",
      "metadata": {
        "id": "znU87aRaeKlw",
        "colab_type": "code",
        "colab": {}
      },
      "source": [
        "full_history = pd.DataFrame.from_dict(history_F.history)\n",
        "full_history['epoch']=history_F.epoch\n",
        "full_history = full_history.set_index('epoch')\n",
        "full_history.head(5)\n",
        "\n",
        "#save history to csv\n",
        "full_history.to_csv(RESULT_PATH + 'history_transfer_full.csv')\n",
        "\n",
        "#save weights\n",
        "model_F.save_weights(MODEL_PATH + \"transfer_full.h5\")\n",
        "\n",
        "with open(MODEL_PATH + 'transfer_full_summary.txt', 'w') as f:\n",
        "    with redirect_stdout(f):\n",
        "        model_F.summary()"
      ],
      "execution_count": 0,
      "outputs": []
    },
    {
      "cell_type": "code",
      "metadata": {
        "id": "rCx3NX9hfNxE",
        "colab_type": "code",
        "colab": {
          "base_uri": "https://localhost:8080/",
          "height": 607
        },
        "outputId": "a1aa1c9b-8c2b-4457-937a-23a9e9af3340"
      },
      "source": [
        "test_dataloader_F = DataGenerator_Full(IDs=testing.ID,\n",
        "                               batch_size=10,\n",
        "                               img_size=(299,299,3),\n",
        "                               num_classes=5,\n",
        "                               steps=None)\n",
        "F_test_pred_any, F_test_pred_sub = model_F.predict(test_dataloader_F)\n",
        "any_pred = pd.DataFrame(F_test_pred_any)\n",
        "sub_pred = pd.DataFrame(F_test_pred_sub)\n",
        "ID = pd.DataFrame(testing.ID.values)\n",
        "full_pred = pd.concat([ID,any_pred, sub_pred], axis=1)\n",
        "full_pred.columns = [\"ID\", \"any\", 'epidural', 'intraparenchymal', 'intraventricular', 'subarachnoid', 'subdural']\n",
        "full_pred.to_csv(RESULT_PATH + \"transfer_full_preds.csv\")\n",
        "\n",
        "fig, ax = plt.subplots(2,1, figsize=(20,10))\n",
        "sns.distplot(F_test_pred_any[:,0], ax=ax[0], color=\"Purple\")\n",
        "sns.distplot(F_test_pred_sub[:,0], ax=ax[1])\n",
        "sns.distplot(F_test_pred_sub[:,1], ax=ax[1])\n",
        "sns.distplot(F_test_pred_sub[:,2], ax=ax[1])\n",
        "sns.distplot(F_test_pred_sub[:,3], ax=ax[1])\n",
        "sns.distplot(F_test_pred_sub[:,4], ax=ax[1])\n",
        "ax[0].set_title(\"Predicted probability of hemorrhage occurence in test data\")\n",
        "ax[1].set_title(\"Predicted probability of hemorrhage subtypes in test data\")\n",
        "fig.savefig(RESULT_PATH + 'Transfer_full_dist.png')"
      ],
      "execution_count": 91,
      "outputs": [
        {
          "output_type": "display_data",
          "data": {
            "image/png": "[encoded data removed]",
            "text/plain": [
              "<Figure size 1440x720 with 2 Axes>"
            ]
          },
          "metadata": {
            "tags": []
          }
        }
      ]
    }
  ]
}